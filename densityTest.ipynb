{
 "cells": [
  {
   "cell_type": "code",
   "execution_count": 62,
   "metadata": {
    "collapsed": false
   },
   "outputs": [
    {
     "name": "stdout",
     "output_type": "stream",
     "text": [
      "Populating the interactive namespace from numpy and matplotlib\n"
     ]
    },
    {
     "name": "stderr",
     "output_type": "stream",
     "text": [
      "WARNING: pylab import has clobbered these variables: ['gamma']\n",
      "`%matplotlib` prevents importing * from pylab and numpy\n"
     ]
    }
   ],
   "source": [
    "%pylab inline\n",
    "\n",
    "from __future__ import division\n",
    "\n",
    "import numpy as np\n",
    "import matplotlib.pyplot as plt\n",
    "from scipy.spatial.distance import cdist\n",
    "from matplotlib import animation\n",
    "from matplotlib.collections import PatchCollection\n",
    "\n",
    "from ipywidgets import interact, HTML, FloatSlider\n",
    "from IPython.display import clear_output, display\n",
    "\n",
    "import numba as nb"
   ]
  },
  {
   "cell_type": "code",
   "execution_count": 63,
   "metadata": {
    "collapsed": true
   },
   "outputs": [],
   "source": [
    "RJupiter = 6.99e9                 # radius of Jupiter, cm\n",
    "mJupiter = 1.898e30               # mass of Jupiter, grams\n",
    "v = 1e5                           # damping coefficient\n",
    "gamma = 2                         # polytrope index\n",
    "G = 6.67e-8                       # dyne*cm^2/g^2\n",
    "rhoC = 5                          # g/cm^3, central density\n",
    "K = 2.6e12                        # dyne*cm^4/g^2\n",
    "alpha = np.sqrt(K/(2*np.pi*G))    # distribution constant\n",
    "h = 5.5e8                           # smoothing length, 5.5e8 gives nice clumping\n",
    "                                  # 5.5e9 gives collapse to center\n",
    "N1 = 250                          # Particles in planet 1"
   ]
  },
  {
   "cell_type": "code",
   "execution_count": 64,
   "metadata": {
    "collapsed": true
   },
   "outputs": [],
   "source": [
    "### --- Distribution Case 1 --- ###\n",
    "# xyDistribution = np.array(([1.0e8, 1.0e8], \n",
    "#                            [-1.0e8, -1.0e8])) \n",
    "# nParticles = len(xyDistribution)\n",
    "\n",
    "### --- Distribution Case 1.5 --- ###\n",
    "xyDistribution = np.array(([1.0e8, 1.0e8], \n",
    "                           [-1.0e8, -5.0e8],\n",
    "                           [0.0, 1.0e8]))\n",
    "nParticles = len(xyDistribution)\n",
    "\n",
    "### --- Distribution Case 2 --- ###\n",
    "# nParticles = 250\n",
    "# xyDistribution = np.random.normal(0,5e7, size=(nParticles, 2))"
   ]
  },
  {
   "cell_type": "code",
   "execution_count": 65,
   "metadata": {
    "collapsed": true
   },
   "outputs": [],
   "source": [
    "def densityUpdate():\n",
    "    \n",
    "    global xyDistribution\n",
    "    global rhoDistribution\n",
    "    global mDistribution\n",
    "\n",
    "    rhoDistribution = np.zeros_like(rhoDistribution)\n",
    "    # \"Self-density\" contribution\n",
    "    for i in range(0, nParticles):\n",
    "#        rhoDistribution[i] = mDistribution[i]*W(0, h)\n",
    "        \n",
    "        # Density contribution from other particles\n",
    "        for j in range(i, nParticles):\n",
    "            xdist = (xyDistribution[i,0]-xyDistribution[j,0])\n",
    "            ydist = (xyDistribution[i,1]-xyDistribution[j,1])\n",
    "            dist_ij = np.sqrt(xdist**2 + ydist**2)\n",
    "            rho_ij = mDistribution[i]*W(dist_ij, h)\n",
    "            rhoDistribution[i] += rho_ij\n",
    "            rhoDistribution[j] += rho_ij"
   ]
  },
  {
   "cell_type": "code",
   "execution_count": 66,
   "metadata": {
    "collapsed": true
   },
   "outputs": [],
   "source": [
    "def W(dist, h):\n",
    "    '''\n",
    "    Inputs:\n",
    "        dist: a scalar distance between particles i an j\n",
    "        h: smoothing length\n",
    "    '''\n",
    "    if dist < h:\n",
    "        return 2/(np.pi*h**3) * \\\n",
    "               (1/4*(2-dist/h)**3 - (1-dist/h)**3)\n",
    "    elif dist > 2 * h:\n",
    "        return 0\n",
    "    else:\n",
    "        return 1/(np.pi*h**3) * (1/4*(2-dist/h)**3)"
   ]
  },
  {
   "cell_type": "code",
   "execution_count": 67,
   "metadata": {
    "collapsed": false
   },
   "outputs": [
    {
     "name": "stdout",
     "output_type": "stream",
     "text": [
      "[ 6895.82220029  7096.31939442  6858.55879622  7003.51775694  7074.77798872\n",
      "  7088.61570421  6983.15392596  7109.98858638  6970.16915428  6977.92029572\n",
      "  6991.94508552  6782.11721974  7024.7172572   6866.97892275  6949.97158394\n",
      "  7081.15132731  6644.54696818  6977.25933439  7018.7283738   6996.80423018\n",
      "  6867.81917935  7012.09502916  6783.64466384  7014.07308585  7106.04480899\n",
      "  6839.39773478  7095.18943499  6869.68387004  6954.99141997  7094.59421513\n",
      "  7100.22554932  6937.71640055  7104.21703052  6816.21371744  7113.92362698\n",
      "  6776.50479099  6623.51839281  7102.02772995  6795.84050968  6821.80800085\n",
      "  6977.76616759  7097.73926298  7114.57071294  7009.7747133   7103.46714698\n",
      "  6927.44604714  6964.14867594  7076.66162913  6620.23860562  7068.1948798\n",
      "  6842.43070172  7025.71036526  6845.70129208  6977.04873883  6768.5015872\n",
      "  7062.51306855  7007.29380606  7046.59307138  7086.25900876  7085.10800935\n",
      "  7030.09089456  6952.71978386  7030.5248932   7064.57607734  6972.89417568\n",
      "  7056.43035548  7116.0591069   7040.84975908  6959.19600667  6713.94523636\n",
      "  6862.72787292  7082.93886493  6938.73791238  6939.09297344  6582.8363133\n",
      "  7047.17923199  6866.23580313  7111.93558047  6425.14887505  7006.17146476\n",
      "  6857.15823174  6979.00577992  6881.07927096  6712.15012989  7016.35717729\n",
      "  7019.00186748  6998.37204688  6840.99010981  6985.39159845  7066.59652195\n",
      "  6574.45537159  6941.5312587   7118.57310995  6916.94292656  7038.71388396\n",
      "  6905.31715688  7011.88818156  6572.00189912  6533.6542483   6834.4246696\n",
      "  7049.95336747  6824.20969356  6346.37078556  7104.26548213  6790.34013819\n",
      "  7113.29570311  7079.98213162  7006.60244586  7087.51061251  6909.41383616\n",
      "  7011.6495772   7044.31057651  6901.16346597  7020.75659954  6925.862838\n",
      "  7073.24332885  6964.23982418  7117.46582575  6944.39417885  7074.52347022\n",
      "  6825.15171395  7052.59392332  7095.96653143  7024.6965268   7104.04015763\n",
      "  7112.93753922  6931.57040193  6999.4436391   6986.13743612  7004.41658672\n",
      "  7047.06763944  6975.2199221   6791.44297204  6896.97823139  7113.53185303\n",
      "  7112.32250801  7093.34736709  7106.18402032  7108.34523777  7024.19509523\n",
      "  7108.60841025  7001.01029486  7115.2439174   6806.22805652  7063.03167436\n",
      "  7039.72787903  7035.77336923  7117.37354049  6939.0150344   6530.03774754\n",
      "  7006.55866556  6780.45343087  7033.77324343  6877.98557938  6932.28517107\n",
      "  6905.24581966  7097.26843065  7043.43765123  6439.51796435  6882.09099577\n",
      "  6854.2978975   7069.0742721   7091.03438049  7077.52958034  7081.75625682\n",
      "  7003.16918311  7047.32767698  6870.62158941  7071.26865659  6812.01483812\n",
      "  6859.10836096  7081.96136244  6780.94988222  7088.30165189  6938.92516034\n",
      "  6733.81595487  7022.65731617  6723.90428679  6881.74482265  7051.05005164\n",
      "  6945.52776744  6392.8199453   7052.75248861  7013.47957983  7109.6548392\n",
      "  6765.30106953  6728.48743995  6614.80265903  6993.89321776  7107.81199262\n",
      "  7082.8506522   6993.13257319  6853.30365943  6904.80778822  6874.65776998\n",
      "  7064.96114946  6980.55495868  7069.69948589  6985.32600334  7028.92982614\n",
      "  7092.16484658  7110.70823578  7023.87851094  7072.83993519  6978.04022183\n",
      "  6956.07913718  6819.12550454  6918.73971577  6592.60145892  6784.43327612\n",
      "  7003.32468517  7105.42870887  6976.26912109  7070.67516216  7039.26350466\n",
      "  7050.00290068  6818.88020231  6968.01156818  7065.28597097  7104.25592745\n",
      "  7117.85881578  6316.68169328  7057.52944951  6943.03992359  6984.091979\n",
      "  7101.62377136  6884.35317024  7095.80116671  7095.21276043  6899.49352988\n",
      "  6811.06577021  7030.13345133  7074.23018824  7102.43236849  7085.2670247\n",
      "  6988.93871659  6976.36711372  7087.03937816  7080.69663716  6978.67487981\n",
      "  7118.24405291  6901.81787155  6903.9131671   6923.88395143  7058.63875466\n",
      "  6852.17355696  6974.84594919  7099.02564141  7096.54977911  7062.5702306 ]\n"
     ]
    }
   ],
   "source": [
    "velocityDistribution = np.zeros_like(xyDistribution)\n",
    "rhoDistribution = np.zeros(nParticles)\n",
    "mDistribution = np.ones(nParticles)*mJupiter/nParticles\n",
    "densityUpdate()\n",
    "pressureDistribution = K * rhoDistribution ** gamma\n",
    "\n",
    "print rhoDistribution"
   ]
  },
  {
   "cell_type": "code",
   "execution_count": 68,
   "metadata": {
    "collapsed": false
   },
   "outputs": [
    {
     "data": {
      "text/plain": [
       "<matplotlib.colorbar.Colorbar instance at 0x0000000013870048>"
      ]
     },
     "execution_count": 68,
     "metadata": {},
     "output_type": "execute_result"
    },
    {
     "data": {
      "image/png": "[encoded data removed]",
      "text/plain": [
       "<matplotlib.figure.Figure at 0xf0b86d8>"
      ]
     },
     "metadata": {},
     "output_type": "display_data"
    }
   ],
   "source": [
    "plt.figure(figsize=(10,8))\n",
    "plt.scatter(xyDistribution[:,0], xyDistribution[:,1], c=rhoDistribution)\n",
    "plt.xlim(-2e9, 2e9)\n",
    "plt.ylim(-2e9, 2e9)\n",
    "plt.title(\"Initial Postition\")\n",
    "plt.plot()\n",
    "plt.colorbar()"
   ]
  },
  {
   "cell_type": "code",
   "execution_count": null,
   "metadata": {
    "collapsed": true
   },
   "outputs": [],
   "source": []
  }
 ],
 "metadata": {
  "kernelspec": {
   "display_name": "Python 2",
   "language": "python",
   "name": "python2"
  },
  "language_info": {
   "codemirror_mode": {
    "name": "ipython",
    "version": 2
   },
   "file_extension": ".py",
   "mimetype": "text/x-python",
   "name": "python",
   "nbconvert_exporter": "python",
   "pygments_lexer": "ipython2",
   "version": "2.7.10"
  }
 },
 "nbformat": 4,
 "nbformat_minor": 0
}
