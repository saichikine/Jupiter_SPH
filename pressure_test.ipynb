{
 "cells": [
  {
   "cell_type": "markdown",
   "metadata": {},
   "source": [
    "# Pressure Test\n",
    "\n",
    "## Status\n",
    "\n",
    "#### Testing for large smoothing length\n",
    "* Tested two particles, and they move apart, regardless of their starting position\n",
    "* Tested 4 particles in the following configurations, and they move apart\n",
    "    * 3 colinear, and 1 off axis\n",
    "    * Square\n",
    "* Tested 5 paricles, in the following configurations, and they move apart\n",
    "    * Square, with one extra particle in the middle\n",
    "    * Square, with one particle slightly off center\n",
    "        * The particle stays put for a while, but then accelerates suspiciously quickly\n",
    "* dt is unreasonably large right now\n",
    "\n",
    "## Next step\n",
    "* Test more particles\n",
    "\n",
    "#### Did that\n",
    "* Results: Do not take a dot product to get gradP\n",
    "\n",
    "## Notes\n",
    "* W1 inside of gradW is returning a 3D array. It should be returning a 2D array."
   ]
  },
  {
   "cell_type": "markdown",
   "metadata": {},
   "source": [
    "### Imports"
   ]
  },
  {
   "cell_type": "code",
   "execution_count": 126,
   "metadata": {
    "collapsed": false
   },
   "outputs": [
    {
     "name": "stdout",
     "output_type": "stream",
     "text": [
      "Populating the interactive namespace from numpy and matplotlib\n"
     ]
    }
   ],
   "source": [
    "%pylab inline\n",
    "\n",
    "from __future__ import division\n",
    "\n",
    "import numpy as np\n",
    "import matplotlib.pyplot as plt\n",
    "from matplotlib import animation\n",
    "from matplotlib.collections import PatchCollection\n",
    "\n",
    "from ipywidgets import interact, HTML, FloatSlider\n",
    "from IPython.display import clear_output, display\n",
    "\n",
    "import numba as nb"
   ]
  },
  {
   "cell_type": "markdown",
   "metadata": {},
   "source": [
    "### Constants"
   ]
  },
  {
   "cell_type": "code",
   "execution_count": 127,
   "metadata": {
    "collapsed": true
   },
   "outputs": [],
   "source": [
    "G = 6.67e-11\n",
    "\n",
    "dt = 1e7\n",
    "stepN = 6000"
   ]
  },
  {
   "cell_type": "markdown",
   "metadata": {},
   "source": [
    "### Initialize position, velocity, mass, pressure, density, and time"
   ]
  },
  {
   "cell_type": "code",
   "execution_count": 128,
   "metadata": {
    "collapsed": false
   },
   "outputs": [],
   "source": [
    "xyDistribution = [\n",
    "                 [1000.0, 1000.0],\n",
    "                 [1000.0, -1000.0],\n",
    "                 [-1000.0, -1000.0],\n",
    "                 [-1000.0, 1000.0],\n",
    "                 [10.0, 0.0]\n",
    "                 ]\n",
    "\n",
    "xyDistribution=np.array(xyDistribution)\n",
    "\n",
    "nParticles = len(xyDistribution)\n",
    "\n",
    "velocityDistribution = np.zeros_like(xyDistribution, dtype = np.float)\n",
    "\n",
    "mDistribution = np.ones(nParticles, dtype=float) * 100000000.0\n",
    "\n",
    "# Pressure and density based off of what we're seeing in Jupiter\n",
    "pressureDistribution = np.ones(nParticles, dtype=float) * 4e13\n",
    "rhoDistribution = np.ones(nParticles, dtype=float) * 3\n",
    "\n",
    "ParticlePositionHistory = np.zeros((nParticles,2,stepN))\n",
    "ParticleVelocityHistory = np.zeros((nParticles, 2, stepN))\n",
    "\n",
    "timeArray = np.zeros(stepN)\n",
    "for i in range(stepN):\n",
    "    timeArray[i] = i*dt"
   ]
  },
  {
   "cell_type": "code",
   "execution_count": 129,
   "metadata": {
    "collapsed": false
   },
   "outputs": [
    {
     "data": {
      "text/plain": [
       "[]"
      ]
     },
     "execution_count": 129,
     "metadata": {},
     "output_type": "execute_result"
    },
    {
     "data": {
      "image/png": "[encoded data removed]",
      "text/plain": [
       "<matplotlib.figure.Figure at 0xc9570f0>"
      ]
     },
     "metadata": {},
     "output_type": "display_data"
    }
   ],
   "source": [
    "plt.figure(figsize=(10,10))\n",
    "plt.scatter(xyDistribution[:,0], xyDistribution[:,1], c='b')\n",
    "plt.xlim(-2000, 2000)\n",
    "plt.ylim(-2000, 2000)\n",
    "plt.plot()"
   ]
  },
  {
   "cell_type": "markdown",
   "metadata": {},
   "source": [
    "### Define smoothing gradient"
   ]
  },
  {
   "cell_type": "code",
   "execution_count": 130,
   "metadata": {
    "collapsed": false
   },
   "outputs": [
    {
     "name": "stdout",
     "output_type": "stream",
     "text": [
      "[[ -5.88283813e-35  -5.89462738e-35]\n",
      " [ -5.88283813e-35   5.89462738e-35]\n",
      " [  5.90641664e-35   5.89462738e-35]\n",
      " [  5.90641664e-35  -5.89462738e-35]\n",
      " [ -4.71570191e-37   0.00000000e+00]]\n",
      "(5L,)\n",
      "(5L, 2L)\n",
      "(5L,)\n"
     ]
    }
   ],
   "source": [
    "def gradW(xyDistribution, h= 3e9, verbose=False):\n",
    "    '''\n",
    "    TESTS\n",
    "    h works fine\n",
    "    \n",
    "    Are we doing this in cartesian or polar?\n",
    "    h = ~3e9 looks like a good range\n",
    "    Finding W for all pairs (i,j), instead of just j. \n",
    "    I'm flattening W at the end of the function. I might be meant to flatten W\n",
    "        by flattening the |r-rj| by taking their sum\n",
    "    Should I be inputting abs(X) or just X? What is X relative to?\n",
    "    Might need to do final summation wrt axis 2, not axis1\n",
    "    '''\n",
    "    distVect = np.zeros((len(xyDistribution), len(xyDistribution)))\n",
    "    thetaVect = np.zeros_like(distVect)\n",
    "    X = np.zeros_like(distVect)\n",
    "    Y = np.zeros_like(distVect)\n",
    "                  \n",
    "    # Find distance between each j and the other points\n",
    "    for i in range(len(xyDistribution)):\n",
    "        particle_i = xyDistribution[i]\n",
    "        \n",
    "        # Sloppy right now. Can save save computing power later.\n",
    "        dist = np.sqrt((particle_i[0] - xyDistribution[:,0])**2 + (particle_i[1] - xyDistribution[:,1])**2)\n",
    "        theta = np.arctan((particle_i[1] - xyDistribution[:,1])/particle_i[0] - xyDistribution[:,0])\n",
    "        \n",
    "        ### --- OPERATING ON AN ENTIRE ROW --- ###\n",
    "        deltaX = particle_i[0] - xyDistribution[:,0]\n",
    "        deltaY = particle_i[1] - xyDistribution[:,1]\n",
    "        # Store radial distances in a matrix\n",
    "        distVect[:,i] = dist\n",
    "        X[:,i] = deltaX\n",
    "        Y[:,i] = deltaY\n",
    "#        thetaVect[:,i] = np.rad2deg(theta)\n",
    "    \n",
    "#    print distVect\n",
    "#    print thetaVect\n",
    "    \n",
    "    # r < 1\n",
    "    # Vector containing 1's and 0's where the below inequality is satisfied\n",
    "    distVect1 = distVect < h\n",
    "    distVect1 = distVect1.astype(int)\n",
    "    if verbose:\n",
    "        print \"Percent of molecules within 1 smoothing length:\", \\\n",
    "            np.count_nonzero(distVect1) / (len(xyDistribution)**2)\n",
    "            \n",
    "#    print distVect1\n",
    "            \n",
    "    # Matrix containing radii, where only nonzero values are radii < h\n",
    "    R1 = distVect1 * distVect\n",
    "    X1 = distVect1 * X\n",
    "    Y1 = distVect1 * Y\n",
    "#     print R1\n",
    "#     print X1\n",
    "#     print Y1\n",
    "\n",
    "    \n",
    "### --- EVERYTHING ABOVE THIS LINE WORKS ---###\n",
    "\n",
    "    # X and Y components of the smoothing kernel\n",
    "    W1 = np.array(\n",
    "         [distVect1 * 3/ (2*np.pi * h**4) * ( -2*X1 + 3*X1*np.sqrt(R1)/h), \\\n",
    "          distVect1 * 3/ (2*np.pi * h**4) * ( -2*Y1 + 3*Y1*np.sqrt(R1)/h)]\n",
    "                  )\n",
    "    \n",
    "#     print W1\n",
    "\n",
    "#     # r > 2h\n",
    "#     distVect2 = distVect > 2 * h\n",
    "#     distVect2 = distVect2.astype(int)\n",
    "#     if verbose:\n",
    "#         print \"Percent of molecules which do not affect the particle:\", \\\n",
    "#             np.count_nonzero(distVect2) / (len(xyDistribution)**2)\n",
    "    \n",
    "#     # h < r < 2h\n",
    "#     distVect12 = np.logical_not(np.logical_or(distVect1, distVect2))\n",
    "#     if verbose:\n",
    "#         print \"Percent of molecules within 2 smoothing lengths:\", \\\n",
    "#                 np.count_nonzero(distVect12) / (len(xyDistribution)**2)\n",
    "            \n",
    "#     R12 = distVect12 * distVect \n",
    "#     X12 = distVect12 * XVect\n",
    "#     Y12 = distVect12 * YVect\n",
    "#     W12 = np.array(\n",
    "#          [distVect1 / (4*np.pi * h**6) * ( -2*X1 / np.sqrt(R1)), \\\n",
    "#           distVect1 / (4*np.pi * h**6) * ( -2*Y1 / np.sqrt(R1))]\n",
    "#                     )\n",
    "#     W12 = np.nan_to_num(W12)\n",
    "    \n",
    "#     W = W1 + W12\n",
    "#     W = np.nan_to_num(W)\n",
    "#     W = np.sum(W, axis=1)\n",
    "\n",
    "#     print np.min(W12)\n",
    "    \n",
    "#     return W\n",
    "    W1 = np.sum(W1, axis=1).T\n",
    "    return W1\n",
    "\n",
    "z = gradW(xyDistribution)\n",
    "print z\n",
    "print mDistribution.shape\n",
    "print z.shape\n",
    "print gradW(xyDistribution)[:,0].shape"
   ]
  },
  {
   "cell_type": "code",
   "execution_count": 131,
   "metadata": {
    "collapsed": true
   },
   "outputs": [],
   "source": [
    "def gradP():\n",
    "    gradPX = mDistribution*pressureDistribution/rhoDistribution \\\n",
    "        * gradW(xyDistribution)[:,0]\n",
    "        \n",
    "    gradPY = mDistribution*pressureDistribution/rhoDistribution \\\n",
    "        * gradW(xyDistribution)[:,1]\n",
    "    return np.array((gradPX, gradPY)).T"
   ]
  },
  {
   "cell_type": "code",
   "execution_count": 132,
   "metadata": {
    "collapsed": false
   },
   "outputs": [
    {
     "name": "stdout",
     "output_type": "stream",
     "text": [
      "[[ -7.84378417e-14  -7.85950318e-14]\n",
      " [ -7.84378417e-14   7.85950318e-14]\n",
      " [  7.87522219e-14   7.85950318e-14]\n",
      " [  7.87522219e-14  -7.85950318e-14]\n",
      " [ -6.28760254e-16   0.00000000e+00]]\n"
     ]
    }
   ],
   "source": [
    "# print gradW(xyDistribution)\n",
    "print gradP()"
   ]
  },
  {
   "cell_type": "markdown",
   "metadata": {},
   "source": [
    "### Calculate force"
   ]
  },
  {
   "cell_type": "code",
   "execution_count": 133,
   "metadata": {
    "collapsed": true
   },
   "outputs": [],
   "source": [
    "def RK1(f, dt, position, stepN):\n",
    "    \n",
    "    t = 0\n",
    "    for i in range(stepN):\n",
    "        t+=dt\n",
    "        ### --- I might be dividing along the wrong axis --- ###\n",
    "        ParticleVelocityHistory[:,:,i] = -gradP()/rhoDistribution[:,np.newaxis] * dt\n",
    "        position += dt*ParticleVelocityHistory[:,:,i]\n",
    "        ParticlePositionHistory[:,:,i] = position\n",
    "    #print(position)\n",
    "    return position"
   ]
  },
  {
   "cell_type": "code",
   "execution_count": 134,
   "metadata": {
    "collapsed": false
   },
   "outputs": [],
   "source": [
    "numbaRK = nb.autojit(RK1)\n",
    "numbaPressure = nb.autojit(gradP)\n",
    "\n",
    "xyDistribution = RK1(gradP, dt, xyDistribution, stepN)"
   ]
  },
  {
   "cell_type": "code",
   "execution_count": 135,
   "metadata": {
    "collapsed": false
   },
   "outputs": [
    {
     "data": {
      "image/png": "[encoded data removed]",
      "text/plain": [
       "<matplotlib.figure.Figure at 0xb413278>"
      ]
     },
     "metadata": {},
     "output_type": "display_data"
    }
   ],
   "source": [
    "slider = FloatSlider(description='Time', min=0, max=stepN, step=1)\n",
    "\n",
    "def update_plot():\n",
    "    time=slider.value\n",
    "    x = ParticlePositionHistory[:,0,time-1]\n",
    "    y = ParticlePositionHistory[:,1,time-1]\n",
    "    fig = plt.figure()\n",
    "    plt.scatter(x, y)\n",
    "    plt.xlim(-2000,2000)\n",
    "    plt.ylim(-2000, 2000)\n",
    "\n",
    "    clear_output(True)\n",
    "\n",
    "slider.on_trait_change(update_plot, 'value')\n",
    "\n",
    "\n",
    "display(slider)\n",
    "update_plot()"
   ]
  },
  {
   "cell_type": "code",
   "execution_count": 136,
   "metadata": {
    "collapsed": false
   },
   "outputs": [
    {
     "name": "stdout",
     "output_type": "stream",
     "text": [
      "[ -9.74958754e-09  -9.74958754e-09   1.04382820e-08   1.04382820e-08\n",
      "  -1.37738895e-09]\n"
     ]
    }
   ],
   "source": [
    "print gradP()[:,0]/rhoDistribution"
   ]
  },
  {
   "cell_type": "code",
   "execution_count": 137,
   "metadata": {
    "collapsed": false
   },
   "outputs": [
    {
     "name": "stdout",
     "output_type": "stream",
     "text": [
      "[[ -9.74958754e-09  -1.00939378e-08]\n",
      " [ -9.74958754e-09   1.00939378e-08]\n",
      " [  1.04382820e-08   1.00939320e-08]\n",
      " [  1.04382820e-08  -1.00939320e-08]\n",
      " [ -1.37738895e-09   1.24559863e-23]]\n",
      "(5L, 2L)\n",
      "(5L,)\n"
     ]
    }
   ],
   "source": [
    "print gradP()/rhoDistribution[:,np.newaxis]\n",
    "print gradP().shape\n",
    "print rhoDistribution.shape"
   ]
  },
  {
   "cell_type": "code",
   "execution_count": null,
   "metadata": {
    "collapsed": true
   },
   "outputs": [],
   "source": []
  }
 ],
 "metadata": {
  "kernelspec": {
   "display_name": "Python 2",
   "language": "python",
   "name": "python2"
  },
  "language_info": {
   "codemirror_mode": {
    "name": "ipython",
    "version": 2
   },
   "file_extension": ".py",
   "mimetype": "text/x-python",
   "name": "python",
   "nbconvert_exporter": "python",
   "pygments_lexer": "ipython2",
   "version": "2.7.10"
  }
 },
 "nbformat": 4,
 "nbformat_minor": 0
}
