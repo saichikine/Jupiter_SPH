{
 "cells": [
  {
   "cell_type": "markdown",
   "metadata": {},
   "source": [
    "# Pressure Test\n",
    "\n",
    "## Status\n",
    "\n",
    "#### Testing for within 1 smoothing length\n",
    "* Tested two particles, and they move apart, regardless of their starting position\n",
    "* Tested 4 particles in the following configurations, and they move apart\n",
    "    * 3 colinear, and 1 off axis\n",
    "    * Square\n",
    "* Tested 5 paricles, in the following configurations, and they move apart\n",
    "    * Square, with one extra particle in the middle\n",
    "    * Square, with one particle slightly off center\n",
    "        * The particle stays put for a while, but then accelerates suspiciously quickly\n",
    "* dt is unreasonably large right now\n",
    "\n",
    "#### Testing for within 2 smoothing lengths\n",
    "\n",
    "#### Visualizing the acceleration\n",
    "* Haven't done it yet, but color the particles with their acc\n",
    "\n",
    "## Next step\n",
    "* Test more particles\n",
    "\n",
    "#### Did that\n",
    "* Results: Do not take a dot product to get gradP\n",
    "\n",
    "## Notes\n",
    "* W1 inside of gradW is returning a 3D array. It should be returning a 2D array.\n",
    "* Within distVect, there is one entry in each row which is the distance between the particle and itself (ie: 0)\n",
    "* Some distVect returns a boolean, sometimes a 1 or a 0"
   ]
  },
  {
   "cell_type": "markdown",
   "metadata": {},
   "source": [
    "### Imports"
   ]
  },
  {
   "cell_type": "code",
   "execution_count": 94,
   "metadata": {
    "collapsed": false
   },
   "outputs": [
    {
     "name": "stdout",
     "output_type": "stream",
     "text": [
      "Populating the interactive namespace from numpy and matplotlib\n"
     ]
    }
   ],
   "source": [
    "%pylab inline\n",
    "\n",
    "from __future__ import division\n",
    "\n",
    "import numpy as np\n",
    "import matplotlib.pyplot as plt\n",
    "from matplotlib import animation\n",
    "from matplotlib.collections import PatchCollection\n",
    "\n",
    "from ipywidgets import interact, HTML, FloatSlider\n",
    "from IPython.display import clear_output, display\n",
    "\n",
    "import numba as nb"
   ]
  },
  {
   "cell_type": "markdown",
   "metadata": {},
   "source": [
    "### Constants"
   ]
  },
  {
   "cell_type": "code",
   "execution_count": 95,
   "metadata": {
    "collapsed": true
   },
   "outputs": [],
   "source": [
    "dt = 1e8\n",
    "stepN = 6000"
   ]
  },
  {
   "cell_type": "markdown",
   "metadata": {},
   "source": [
    "### Initialize position, velocity, mass, pressure, density, and time"
   ]
  },
  {
   "cell_type": "code",
   "execution_count": 96,
   "metadata": {
    "collapsed": false
   },
   "outputs": [],
   "source": [
    "xyDistribution = [\n",
    "                 [1.0e8, 1.0e8],\n",
    "                 [-1.0e8, -1.0e8]\n",
    "#                 [-1000.0, -1000.0],\n",
    "#                 [-1000.0, 1000.0],\n",
    "#                 [10.0, 0.0]\n",
    "                 ]\n",
    "\n",
    "xyDistribution=np.array(xyDistribution)\n",
    "\n",
    "# nParticles = 50\n",
    "# xyDistribution = np.random.normal(0,100, size=(nParticles, 2))\n",
    "nParticles = len(xyDistribution)\n",
    "\n",
    "velocityDistribution = np.zeros_like(xyDistribution, dtype = np.float)\n",
    "\n",
    "mDistribution = np.ones(nParticles, dtype=float) * 100000000.0\n",
    "\n",
    "# Pressure and density based off of what we're seeing in Jupiter\n",
    "pressureDistribution = np.ones(nParticles, dtype=float) * 4e13\n",
    "rhoDistribution = np.ones(nParticles, dtype=float) * 3\n",
    "\n",
    "ParticlePositionHistory = np.zeros((nParticles,2,stepN))\n",
    "ParticleVelocityHistory = np.zeros((nParticles, 2, stepN))\n",
    "\n",
    "timeArray = np.zeros(stepN)\n",
    "for i in range(stepN):\n",
    "    timeArray[i] = i*dt"
   ]
  },
  {
   "cell_type": "code",
   "execution_count": 97,
   "metadata": {
    "collapsed": false
   },
   "outputs": [
    {
     "data": {
      "text/plain": [
       "[]"
      ]
     },
     "execution_count": 97,
     "metadata": {},
     "output_type": "execute_result"
    },
    {
     "data": {
      "image/png": "[encoded data removed]",
      "text/plain": [
       "<matplotlib.figure.Figure at 0xb502ba8>"
      ]
     },
     "metadata": {},
     "output_type": "display_data"
    }
   ],
   "source": [
    "plt.figure(figsize=(10,10))\n",
    "plt.scatter(xyDistribution[:,0], xyDistribution[:,1], c='b')\n",
    "plt.xlim(-2e9, 2e9)\n",
    "plt.ylim(-2e9, 2e9)\n",
    "plt.plot()"
   ]
  },
  {
   "cell_type": "markdown",
   "metadata": {},
   "source": [
    "### Define smoothing gradient"
   ]
  },
  {
   "cell_type": "code",
   "execution_count": 98,
   "metadata": {
    "collapsed": false
   },
   "outputs": [],
   "source": [
    "# def gradW(xyDistribution, h= 2e8, verbose=False):\n",
    "#     '''\n",
    "#     TESTS\n",
    "#     h = ~3e9 looks like a good range\n",
    "#     Finding W for all pairs (i,j), instead of just j. \n",
    "#     I'm flattening W at the end of the function. I might be meant to flatten W\n",
    "#         by flattening the |r-rj| by taking their sum\n",
    "#     Should I be inputting abs(X) or just X? What is X relative to?\n",
    "#     Might need to do final summation wrt axis 2, not axis1\n",
    "#     '''\n",
    "#     distVect = np.zeros((len(xyDistribution), len(xyDistribution)))\n",
    "#     X = np.zeros_like(distVect)\n",
    "#     Y = np.zeros_like(distVect)\n",
    "                  \n",
    "#     # Find distance between each j and the other points\n",
    "#     for i in range(len(xyDistribution)):\n",
    "#         particle_i = xyDistribution[i]\n",
    "        \n",
    "#         # Sloppy right now. Can save save computing power later.\n",
    "#         dist = np.sqrt((particle_i[0] - xyDistribution[:,0])**2 + (particle_i[1] - xyDistribution[:,1])**2)\n",
    "        \n",
    "#         ### --- OPERATING ON AN ENTIRE ROW --- ###\n",
    "#         deltaX = particle_i[0] - xyDistribution[:,0]\n",
    "#         deltaY = particle_i[1] - xyDistribution[:,1]\n",
    "#         # Store radial distances in a matrix\n",
    "#         distVect[:,i] = dist\n",
    "#         X[:,i] = deltaX\n",
    "#         Y[:,i] = deltaY\n",
    "    \n",
    "    \n",
    "#     # r < 1\n",
    "#     # Vector containing 1's and 0's where the below inequality is satisfied\n",
    "#     distVect1 = distVect < h\n",
    "#     distVect1 = distVect1.astype(int)\n",
    "#     if verbose:\n",
    "#         print \"Percent of molecules within 1 smoothing length:\", \\\n",
    "#             np.count_nonzero(distVect1) / (len(xyDistribution)**2)\n",
    "            \n",
    "            \n",
    "#     # Matrix containing radii, where only nonzero values are radii < h\n",
    "#     R1 = distVect1 * distVect\n",
    "#     X1 = distVect1 * X\n",
    "#     Y1 = distVect1 * Y\n",
    "\n",
    "#     # X and Y components of the smoothing kernel\n",
    "#     W1 = np.array(\n",
    "#          [R1 * 3/ (2*np.pi * h**4) * ( -2*X1 + 3*X1*np.sqrt(R1)/h), \\\n",
    "#           R1 * 3/ (2*np.pi * h**4) * ( -2*Y1 + 3*Y1*np.sqrt(R1)/h)]\n",
    "#                   )\n",
    "\n",
    "# ### --- New, untested W1 array --- ###\n",
    "# #     W1 = np.array(\n",
    "# #                 [3*X1*R1/(4*h)-X1,\n",
    "# #                  3*Y1*R1/(4*h)-Y1]\n",
    "# #                 ) * distVect1/(np.pi*h**5)\n",
    "\n",
    "# ### --- EVERYTHING ABOVE THIS LINE WORKS ---###\n",
    "\n",
    "#     # r > 2h\n",
    "#     distVect2 = distVect > 2 * h\n",
    "#     distVect2 = distVect2.astype(int)\n",
    "#     if verbose:\n",
    "#         print \"Percent of molecules which do not affect the particle:\", \\\n",
    "#             np.count_nonzero(distVect2) / (len(xyDistribution)**2)\n",
    "    \n",
    "# #     # h < r < 2h\n",
    "#     distVect12 = np.logical_not(np.logical_or(distVect1, distVect2))\n",
    "#     if verbose:\n",
    "#         print \"Percent of molecules within 2 smoothing lengths:\", \\\n",
    "#                 np.count_nonzero(distVect12) / (len(xyDistribution)**2)\n",
    "            \n",
    "#     R12 = distVect12 * distVect \n",
    "#     X12 = distVect12 * X\n",
    "#     Y12 = distVect12 * Y\n",
    "# #     W12 = np.array(\n",
    "# #          [R12 / (4*np.pi * h**6) * ( -2*X1 / np.sqrt(R12)), \\\n",
    "# #           R12 / (4*np.pi * h**6) * ( -2*Y1 / np.sqrt(R12))])\n",
    "\n",
    "#     # Use distVect in calculations to eliminate by zeros quickly\n",
    "#     W12 = np.array(\n",
    "#          [distVect12 * ( -3*X12*R12), \\\n",
    "#           distVect12 * ( -3*X12*R12)]) * (4*np.pi * h**5) \n",
    "        \n",
    "# #     print \"\\n R12: \\n\", R12\n",
    "# #     print \"\\n W12: \\n\", W12\n",
    "# #     print \"\\n distVect12: \\n\", distVect12\n",
    "# #     print \"\\n W1: \\n\", W1\n",
    "    \n",
    "#     W = W1 + W12\n",
    "#     W = np.sum(W, axis=1)\n",
    "\n",
    "#     return W\n",
    "\n",
    "\n",
    "\n",
    "# z = gradW(xyDistribution, verbose=True)\n",
    "# print \"z:\", z"
   ]
  },
  {
   "cell_type": "markdown",
   "metadata": {},
   "source": [
    "### Redefining gradW in terms of Gaussian"
   ]
  },
  {
   "cell_type": "code",
   "execution_count": 99,
   "metadata": {
    "collapsed": false
   },
   "outputs": [
    {
     "name": "stdout",
     "output_type": "stream",
     "text": [
      "[[ -1.07696397e-26   1.07696397e-26]\n",
      " [ -1.07696397e-26   1.07696397e-26]]\n"
     ]
    }
   ],
   "source": [
    "def gradW(h= 2e8, verbose=False):\n",
    "    distVect = np.zeros((len(xyDistribution), len(xyDistribution)))\n",
    "    X = np.zeros_like(distVect)\n",
    "    Y = np.zeros_like(distVect)\n",
    "                  \n",
    "    # Find distance between each j and the other points\n",
    "    for i in range(len(xyDistribution)):\n",
    "        particle_i = xyDistribution[i]\n",
    "        \n",
    "        # Sloppy right now. Can save save computing power later.\n",
    "        dist = np.sqrt((particle_i[0] - xyDistribution[:,0])**2 + (particle_i[1] - xyDistribution[:,1])**2)\n",
    "        \n",
    "        ### --- OPERATING ON AN ENTIRE ROW --- ###\n",
    "        deltaX = particle_i[0] - xyDistribution[:,0]\n",
    "        deltaY = particle_i[1] - xyDistribution[:,1]\n",
    "        # Store radial distances in a matrix\n",
    "        distVect[:,i] = dist\n",
    "        X[:,i] = deltaX\n",
    "        Y[:,i] = deltaY\n",
    "        \n",
    "    dWX = -2*X/(h**4 * np.pi) * np.exp(-distVect**2/h**2)\n",
    "    dWY = -2*Y/(h**4 * np.pi) * np.exp(-distVect**2/h**2)\n",
    "    W = np.array((dWX, dWY))\n",
    "    W = np.sum(W, axis=1)\n",
    "    return W\n",
    "\n",
    "z = gradW()\n",
    "print z"
   ]
  },
  {
   "cell_type": "code",
   "execution_count": 100,
   "metadata": {
    "collapsed": true
   },
   "outputs": [],
   "source": [
    "def gradP():\n",
    "    gradPX = mDistribution*pressureDistribution/rhoDistribution \\\n",
    "        * gradW(xyDistribution)[:,0]\n",
    "        \n",
    "    gradPY = mDistribution*pressureDistribution/rhoDistribution \\\n",
    "        * gradW(xyDistribution)[:,1]\n",
    "    return np.array((gradPX, gradPY)).T"
   ]
  },
  {
   "cell_type": "code",
   "execution_count": 101,
   "metadata": {
    "collapsed": false
   },
   "outputs": [
    {
     "name": "stdout",
     "output_type": "stream",
     "text": [
      "[[ -5.69499045e-07   5.69499045e-07]\n",
      " [ -5.69499045e-07   5.69499045e-07]]\n"
     ]
    }
   ],
   "source": [
    "# print gradW(xyDistribution)\n",
    "print gradP()"
   ]
  },
  {
   "cell_type": "markdown",
   "metadata": {},
   "source": [
    "### Calculate force"
   ]
  },
  {
   "cell_type": "code",
   "execution_count": 102,
   "metadata": {
    "collapsed": true
   },
   "outputs": [],
   "source": [
    "def RK1(f, dt, position, stepN):\n",
    "    \n",
    "    t = 0\n",
    "    for i in range(stepN):\n",
    "        t+=dt\n",
    "        ### --- I might be dividing along the wrong axis --- ###\n",
    "        ParticleVelocityHistory[:,:,i] = -gradP()/rhoDistribution[:,np.newaxis] * dt\n",
    "        position += dt*ParticleVelocityHistory[:,:,i]\n",
    "        ParticlePositionHistory[:,:,i] = position\n",
    "    #print(position)\n",
    "    return position"
   ]
  },
  {
   "cell_type": "code",
   "execution_count": 103,
   "metadata": {
    "collapsed": false
   },
   "outputs": [],
   "source": [
    "numbaRK = nb.autojit(RK1)\n",
    "numbaPressure = nb.autojit(gradP)\n",
    "\n",
    "xyDistribution = RK1(gradP, dt, xyDistribution, stepN)"
   ]
  },
  {
   "cell_type": "code",
   "execution_count": 104,
   "metadata": {
    "collapsed": false,
    "scrolled": true
   },
   "outputs": [
    {
     "data": {
      "image/png": "[encoded data removed]",
      "text/plain": [
       "<matplotlib.figure.Figure at 0xd619e80>"
      ]
     },
     "metadata": {},
     "output_type": "display_data"
    }
   ],
   "source": [
    "slider = FloatSlider(description='Time', min=0, max=stepN, step=1)\n",
    "\n",
    "def update_plot():\n",
    "    time=slider.value\n",
    "    x = ParticlePositionHistory[:,0,time-1]\n",
    "    y = ParticlePositionHistory[:,1,time-1]\n",
    "    fig = plt.figure()\n",
    "    plt.scatter(x, y)\n",
    "    plt.xlim(-2e9, 2e9)\n",
    "    plt.ylim(-2e9, 2e9)\n",
    "\n",
    "    clear_output(True)\n",
    "\n",
    "slider.on_trait_change(update_plot, 'value')\n",
    "\n",
    "\n",
    "display(slider)\n",
    "update_plot()"
   ]
  },
  {
   "cell_type": "code",
   "execution_count": 105,
   "metadata": {
    "collapsed": false
   },
   "outputs": [
    {
     "name": "stdout",
     "output_type": "stream",
     "text": [
      "[ -2.33659781e-11  -2.33659781e-11]\n"
     ]
    }
   ],
   "source": [
    "print gradP()[:,0]/rhoDistribution"
   ]
  },
  {
   "cell_type": "code",
   "execution_count": 106,
   "metadata": {
    "collapsed": false
   },
   "outputs": [
    {
     "name": "stdout",
     "output_type": "stream",
     "text": [
      "[[ -2.33659781e-11   2.33659781e-11]\n",
      " [ -2.33659781e-11   2.33659781e-11]]\n",
      "(2L, 2L)\n",
      "(2L,)\n"
     ]
    }
   ],
   "source": [
    "print gradP()/rhoDistribution[:,np.newaxis]\n",
    "print gradP().shape\n",
    "print rhoDistribution.shape"
   ]
  },
  {
   "cell_type": "code",
   "execution_count": null,
   "metadata": {
    "collapsed": true
   },
   "outputs": [],
   "source": []
  }
 ],
 "metadata": {
  "kernelspec": {
   "display_name": "Python 2",
   "language": "python",
   "name": "python2"
  },
  "language_info": {
   "codemirror_mode": {
    "name": "ipython",
    "version": 2
   },
   "file_extension": ".py",
   "mimetype": "text/x-python",
   "name": "python",
   "nbconvert_exporter": "python",
   "pygments_lexer": "ipython2",
   "version": "2.7.10"
  }
 },
 "nbformat": 4,
 "nbformat_minor": 0
}
