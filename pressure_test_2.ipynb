{
 "cells": [
  {
   "cell_type": "markdown",
   "metadata": {},
   "source": [
    "Scrapping the old pressure test and rewriting from scratch\n",
    "\n",
    "### Notes\n",
    "* It looks like the Y matrix values are opposite. I should probably multiply by -1.\n",
    "* gradW should be returning values on the order of e-35\n",
    "* Current values of dt and h are not finalized"
   ]
  },
  {
   "cell_type": "markdown",
   "metadata": {},
   "source": [
    "### Imports"
   ]
  },
  {
   "cell_type": "code",
   "execution_count": 660,
   "metadata": {
    "collapsed": false
   },
   "outputs": [
    {
     "name": "stdout",
     "output_type": "stream",
     "text": [
      "Populating the interactive namespace from numpy and matplotlib\n"
     ]
    }
   ],
   "source": [
    "%pylab inline\n",
    "\n",
    "from __future__ import division\n",
    "\n",
    "import numpy as np\n",
    "import matplotlib.pyplot as plt\n",
    "from scipy.spatial.distance import cdist\n",
    "from matplotlib import animation\n",
    "from matplotlib.collections import PatchCollection\n",
    "\n",
    "from ipywidgets import interact, HTML, FloatSlider\n",
    "from IPython.display import clear_output, display\n",
    "\n",
    "import numba as nb"
   ]
  },
  {
   "cell_type": "markdown",
   "metadata": {},
   "source": [
    "### Constants"
   ]
  },
  {
   "cell_type": "code",
   "execution_count": 661,
   "metadata": {
    "collapsed": true
   },
   "outputs": [],
   "source": [
    "dt = 1e0\n",
    "stepN = 6000"
   ]
  },
  {
   "cell_type": "markdown",
   "metadata": {},
   "source": [
    "### Initialize position, velocity, mass, pressure, density, and time"
   ]
  },
  {
   "cell_type": "code",
   "execution_count": 662,
   "metadata": {
    "collapsed": false
   },
   "outputs": [],
   "source": [
    "### --- Distribution Case 1 --- ###\n",
    "xyDistribution = np.array(([1.0e8, 1.0e8], \n",
    "                           [-1.0e8, -1.0e8]))\n",
    "#                           [-1.0e8, 1.0e8]))\n",
    "nParticles = len(xyDistribution)\n",
    "\n",
    "### --- Distribution Case 2 --- ###\n",
    "# nParticles = 50\n",
    "# xyDistribution = np.random.normal(0,100, size=(nParticles, 2))\n",
    "\n",
    "velocityDistribution = np.zeros_like(xyDistribution, dtype = np.float)\n",
    "\n",
    "mDistribution = np.ones(nParticles, dtype=float) * 2e27\n",
    "\n",
    "# Pressure and density based off of what we're seeing in Jupiter\n",
    "pressureDistribution = np.ones(nParticles, dtype=float) * 4e13\n",
    "rhoDistribution = np.ones(nParticles, dtype=float) * 3\n",
    "\n",
    "ParticlePositionHistory = np.zeros((nParticles,2,stepN))\n",
    "ParticleVelocityHistory = np.zeros((nParticles,2,stepN))\n",
    "\n",
    "\n",
    "timeArray = np.arange(0, stepN*dt, dt)"
   ]
  },
  {
   "cell_type": "code",
   "execution_count": 663,
   "metadata": {
    "collapsed": false
   },
   "outputs": [
    {
     "data": {
      "text/plain": [
       "[]"
      ]
     },
     "execution_count": 663,
     "metadata": {},
     "output_type": "execute_result"
    },
    {
     "data": {
      "image/png": "[encoded data removed]",
      "text/plain": [
       "<matplotlib.figure.Figure at 0x12f61f98>"
      ]
     },
     "metadata": {},
     "output_type": "display_data"
    }
   ],
   "source": [
    "plt.figure(figsize=(10,10))\n",
    "plt.scatter(xyDistribution[:,0], xyDistribution[:,1], c='b')\n",
    "plt.xlim(-2e9, 2e9)\n",
    "plt.ylim(-2e9, 2e9)\n",
    "plt.title(\"Initial Postition\")\n",
    "plt.plot()"
   ]
  },
  {
   "cell_type": "code",
   "execution_count": 664,
   "metadata": {
    "collapsed": false
   },
   "outputs": [
    {
     "name": "stdout",
     "output_type": "stream",
     "text": [
      "True distance:\n",
      "[[  0.00000000e+00   2.82842712e+08]\n",
      " [  2.82842712e+08   0.00000000e+00]]\n",
      "[[ -7.67331746e-36   7.67331746e-36]\n",
      " [ -7.67331746e-36   7.67331746e-36]]\n"
     ]
    }
   ],
   "source": [
    "h = 3e8\n",
    "distMatrix = cdist(xyDistribution, xyDistribution)\n",
    "print \"True distance:\\n\", distMatrix\n",
    "X = np.zeros_like(distMatrix)\n",
    "Y = np.zeros_like(distMatrix)\n",
    "for i in range(nParticles):\n",
    "    particle_i = xyDistribution[i]\n",
    "    \n",
    "    deltaX = particle_i[0] - xyDistribution[:,0]\n",
    "    deltaY = particle_i[1] - xyDistribution[:,1]\n",
    "    X[:,i] = deltaX\n",
    "    Y[:,i] = deltaY\n",
    "    \n",
    "distMatrix1 = distMatrix < h\n",
    "R1 = distMatrix1 * distMatrix\n",
    "X1 = distMatrix1 * X\n",
    "Y1 = distMatrix1 * Y\n",
    "\n",
    "W1 = np.array(\n",
    "              [3*X1*R1/(4*h)-X1,\n",
    "               3*Y1*R1/(4*h)-Y1]\n",
    "              ) * distMatrix1/(np.pi*h**5)\n",
    "\n",
    "W1 = np.sum(W1, axis=1)\n",
    "\n",
    "print W1"
   ]
  },
  {
   "cell_type": "markdown",
   "metadata": {},
   "source": [
    "### Define smoothing gradient"
   ]
  },
  {
   "cell_type": "code",
   "execution_count": 665,
   "metadata": {
    "collapsed": false
   },
   "outputs": [],
   "source": [
    "def gradW(h=2e9, verbose=False):\n",
    "    h = 3e8\n",
    "    distMatrix = cdist(xyDistribution, xyDistribution)\n",
    "    X = np.zeros_like(distMatrix)\n",
    "    Y = np.zeros_like(distMatrix)\n",
    "    for i in range(nParticles):\n",
    "        particle_i = xyDistribution[i]\n",
    "\n",
    "        deltaX = particle_i[0] - xyDistribution[:,0]\n",
    "        deltaY = particle_i[1] - xyDistribution[:,1]\n",
    "        X[:,i] = deltaX\n",
    "        Y[:,i] = deltaY\n",
    "\n",
    "    distMatrix1 = distMatrix < h\n",
    "    R1 = distMatrix1 * distMatrix\n",
    "    X1 = distMatrix1 * X\n",
    "    Y1 = distMatrix1 * Y\n",
    "\n",
    "    W1 = np.array(\n",
    "                  [3*X1*R1/(4*h)-X1,\n",
    "                   3*Y1*R1/(4*h)-Y1]\n",
    "                  ) * distMatrix1/(np.pi*h**5)\n",
    "\n",
    "    W1 = np.sum(W1, axis=1)\n",
    "\n",
    "    return W1.T"
   ]
  },
  {
   "cell_type": "code",
   "execution_count": 666,
   "metadata": {
    "collapsed": false
   },
   "outputs": [
    {
     "name": "stdout",
     "output_type": "stream",
     "text": [
      "[[ -7.67331746e-36  -7.67331746e-36]\n",
      " [  7.67331746e-36   7.67331746e-36]]\n"
     ]
    }
   ],
   "source": [
    "print gradW()"
   ]
  },
  {
   "cell_type": "code",
   "execution_count": 667,
   "metadata": {
    "collapsed": true
   },
   "outputs": [],
   "source": [
    "def gradP():\n",
    "    gradPX = mDistribution*pressureDistribution/rhoDistribution \\\n",
    "        * gradW(xyDistribution)[:,0]\n",
    "        \n",
    "    gradPY = mDistribution*pressureDistribution/rhoDistribution \\\n",
    "        * gradW(xyDistribution)[:,1]\n",
    "    return np.array((gradPX, gradPY)).T"
   ]
  },
  {
   "cell_type": "code",
   "execution_count": 668,
   "metadata": {
    "collapsed": false
   },
   "outputs": [
    {
     "name": "stdout",
     "output_type": "stream",
     "text": [
      "(2L, 2L)\n",
      "(2L, 2L, 6000L)\n",
      "[[ 204621.79894544  204621.79894544]\n",
      " [-204621.79894544 -204621.79894544]]\n"
     ]
    }
   ],
   "source": [
    "print gradP().shape\n",
    "print ParticleVelocityHistory.shape\n",
    "print -gradP()"
   ]
  },
  {
   "cell_type": "markdown",
   "metadata": {},
   "source": [
    "### RK1"
   ]
  },
  {
   "cell_type": "code",
   "execution_count": 669,
   "metadata": {
    "collapsed": false
   },
   "outputs": [],
   "source": [
    "t = 0\n",
    "for i in range(stepN):\n",
    "#    print gradP()\n",
    "    t += 1\n",
    "    ParticlePositionHistory[:,:,i] = xyDistribution\n",
    "    deltaV = -gradP()/rhoDistribution[:,np.newaxis] * dt\n",
    "    velocityDistribution += deltaV\n",
    "    deltaPos = velocityDistribution * dt\n",
    "    xyDistribution += deltaPos\n",
    "#    print \"deltaV at timestep\", t, \"\\n\", deltaV\n",
    "#    print \"deltaPos at timestep\", t, \"\\n\", deltaPos\n",
    "#    print \"velocityDistribution at timestep\", t, \"\\n\", velocityDistribution\n",
    "\n",
    "#     print \"deltaPos:\\n\", deltaPos\n",
    "#     print \"xyDistribution:\\n\", xyDistribution\n",
    "\n",
    "#     ParticleVelocityHistory[:,:,i] = -gradP()/rhoDistribution[:,np.newaxis] * dt\n"
   ]
  },
  {
   "cell_type": "code",
   "execution_count": 670,
   "metadata": {
    "collapsed": false
   },
   "outputs": [
    {
     "name": "stdout",
     "output_type": "stream",
     "text": [
      "[[  1.00408914e+08   1.00408914e+08]\n",
      " [ -1.00408914e+08  -1.00408914e+08]]\n"
     ]
    }
   ],
   "source": [
    "print ParticlePositionHistory[:,:,3]"
   ]
  },
  {
   "cell_type": "code",
   "execution_count": 671,
   "metadata": {
    "collapsed": false
   },
   "outputs": [
    {
     "data": {
      "image/png": "[encoded data removed]",
      "text/plain": [
       "<matplotlib.figure.Figure at 0x134abdd8>"
      ]
     },
     "metadata": {},
     "output_type": "display_data"
    }
   ],
   "source": [
    "slider = FloatSlider(description='Time', min=0, max=stepN, step=1)\n",
    "\n",
    "def update_plot():\n",
    "    time=slider.value\n",
    "    x = ParticlePositionHistory[:,0,time]\n",
    "    y = ParticlePositionHistory[:,1,time]\n",
    "    fig = plt.figure()\n",
    "    plt.scatter(x, y)\n",
    "    plt.xlim(-2e9, 2e9)\n",
    "    plt.ylim(-2e9, 2e9)\n",
    "\n",
    "    clear_output(True)\n",
    "\n",
    "slider.on_trait_change(update_plot, 'value')\n",
    "\n",
    "\n",
    "display(slider)\n",
    "update_plot()"
   ]
  },
  {
   "cell_type": "code",
   "execution_count": null,
   "metadata": {
    "collapsed": true
   },
   "outputs": [],
   "source": []
  }
 ],
 "metadata": {
  "kernelspec": {
   "display_name": "Python 2",
   "language": "python",
   "name": "python2"
  },
  "language_info": {
   "codemirror_mode": {
    "name": "ipython",
    "version": 2
   },
   "file_extension": ".py",
   "mimetype": "text/x-python",
   "name": "python",
   "nbconvert_exporter": "python",
   "pygments_lexer": "ipython2",
   "version": "2.7.10"
  }
 },
 "nbformat": 4,
 "nbformat_minor": 0
}
