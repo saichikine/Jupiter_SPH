{
 "cells": [
  {
   "cell_type": "markdown",
   "metadata": {},
   "source": [
    "# Collision of Two Jovian Planets\n",
    "\n",
    "* Should I be using classes to model the particles?\n",
    "\n",
    "## Roadmap\n",
    "* Initialization\n",
    "    * Initialize position\n",
    "        * Use for loop, and make consecutive rings of points\n",
    "    * Initialize velocity\n",
    "        * Uniform velocity for every particle in planet\n",
    "    * Initialize mass\n",
    "        * Every particle gets the same mass\n",
    "            * For now? Or for always?\n",
    "    * Assign density $\\rho_i$\n",
    "        * Use [equation 4.5] to assign density\n",
    "        * $ \\rho(r) = \\sum_{j=1}^N \\rho_j (r)$\n",
    "    * Choose time scale\n",
    "        * Time must satisfy the CFL condition [equation 4.12]\n",
    "        \n",
    "* Calculate gravitational forces $\\nabla \\Phi_i$\n",
    "    * First pass can use brute force O(N^2) method [equation 3.1]\n",
    "    * Second pass would use trees or FFT\n",
    "    \n",
    "* Calculate pressure $P_i$, given density $\\rho_i$\n",
    "    * For the outer layer, $P = \\frac{R_g}{\\mu} \\rho T $\n",
    "    * More generaly, the 'entire'?? planet can be modeled with $P = K \\rho ^\\gamma$ \n",
    "    * [Equations 4.14 - 4.17] go into more detail\n",
    "\n",
    "* Calculate $\\nabla P_i$\n",
    "    * Can be done by combining [equations 4.3, 4.4, 4.5, and 4.9]\n",
    "        * First: calculate Gaussian kernel\n",
    "        * Second: multiply Gaussian kernel by mass of a specified particle j (this can be done in batch)\n",
    "        * Third: Sum over local $\\rho_j$ to find $\\rho_i$\n",
    "        * Fourth: Sum [ (mass * pressure_j/ density_j) * gradient(kernel) ]\n",
    "    * Smoothing length\n",
    "        * First pass: uniform\n",
    "        * Second pass: locally adaptive\n",
    "\n",
    "* Calculate change in velocity $v_i$ [equation 4.2], given pressure, density, and gravitational forces\n",
    "    * This involves solving an ODE\n",
    "        * First pass: RK4\n",
    "        * If bad: RK1\n",
    "        * And then: Leapfrog\n",
    "        \n",
    "* Calculate change in position $r_i$ [equation], given velocity\n",
    "    * This involves solving an ODE\n",
    "        * First pass: RK4\n",
    "        * If bad: RK1\n",
    "        * And then: Leapfrog\n",
    "        \n",
    "        \n",
    "        \n",
    "### Initialize Libraries"
   ]
  },
  {
   "cell_type": "code",
   "execution_count": 1,
   "metadata": {
    "collapsed": true
   },
   "outputs": [],
   "source": [
    "%matplotlib inline\n",
    "\n",
    "from __future__ import division\n",
    "\n",
    "import numpy as np\n",
    "import matplotlib.pyplot as plt"
   ]
  },
  {
   "cell_type": "markdown",
   "metadata": {},
   "source": [
    "### Initialize Model Constants"
   ]
  },
  {
   "cell_type": "code",
   "execution_count": 3,
   "metadata": {
    "collapsed": false
   },
   "outputs": [],
   "source": [
    "RJupiter = 1e5    # km\n",
    "\n",
    "\n",
    "gamma = 2\n",
    "G = 6.67e-8    # dyne*cm^2/g^2\n",
    "\n",
    "rhoC = 5    # g/cm^3, central density\n",
    "PC = 6.5e13    # dyne/cm^2\n",
    "TC = 22000    # K\n",
    "\n",
    "K = 2.6e12    # dyne*cm^4/g^2\n",
    "\n",
    "alpha = np.sqrt(K/(2*np.pi*G))"
   ]
  },
  {
   "cell_type": "markdown",
   "metadata": {},
   "source": [
    "### Initialize Density"
   ]
  },
  {
   "cell_type": "code",
   "execution_count": null,
   "metadata": {
    "collapsed": true
   },
   "outputs": [],
   "source": [
    "rNum = 100     \n",
    "rspace = np.linspace(0,)\n"
   ]
  },
  {
   "cell_type": "markdown",
   "metadata": {},
   "source": [
    "### Initialize Positions of Planets"
   ]
  },
  {
   "cell_type": "code",
   "execution_count": 19,
   "metadata": {
    "collapsed": false
   },
   "outputs": [
    {
     "data": {
      "text/plain": [
       "<matplotlib.collections.PathCollection at 0xba07a58>"
      ]
     },
     "execution_count": 19,
     "metadata": {},
     "output_type": "execute_result"
    },
    {
     "data": {
      "image/png": "[encoded data removed]",
      "text/plain": [
       "<matplotlib.figure.Figure at 0xb9b3be0>"
      ]
     },
     "metadata": {},
     "output_type": "display_data"
    }
   ],
   "source": [
    "RParticle = 1e2   # km\n",
    "\n",
    "N1 = 100    # Particles in Planet 1\n",
    "N2 = N1     # Particles in Planet 2\n",
    "\n",
    "#position1, position2 = np.zeros((N1, 2)), np.zeros((N2, 2))\n",
    "\n",
    "#rspace1 = np.linspace(0, RJupiter, N1)\n",
    "#thetaspace1 = np.linspace(0, 2*np.pi, N1)\n",
    "\n",
    "# \n",
    "plt.scatter([0, RParticle*np.cos(0), RParticle*np.cos(np.pi/3)],[0, RParticle*np.sin(0), RParticle*np.sin(np.pi/3)])"
   ]
  },
  {
   "cell_type": "markdown",
   "metadata": {},
   "source": [
    "# Notes\n",
    "* Make consecutive rings to initialize position. Use a for loop to loop through radii. Increase theta every ring sampling \n",
    "    * ie: for r in rlist: for theta in range(2*r): ..."
   ]
  },
  {
   "cell_type": "code",
   "execution_count": null,
   "metadata": {
    "collapsed": true
   },
   "outputs": [],
   "source": []
  }
 ],
 "metadata": {
  "kernelspec": {
   "display_name": "Python 2",
   "language": "python",
   "name": "python2"
  },
  "language_info": {
   "codemirror_mode": {
    "name": "ipython",
    "version": 2
   },
   "file_extension": ".py",
   "mimetype": "text/x-python",
   "name": "python",
   "nbconvert_exporter": "python",
   "pygments_lexer": "ipython2",
   "version": "2.7.10"
  }
 },
 "nbformat": 4,
 "nbformat_minor": 0
}
