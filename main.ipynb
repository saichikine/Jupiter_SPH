{
 "cells": [
  {
   "cell_type": "markdown",
   "metadata": {},
   "source": [
    "# Collision of Two Jovian Planets\n",
    "\n",
    "## Roadmap\n",
    "* Initialization <b>DONE!</b>\n",
    "    * Initialize position\n",
    "        * Distribute particles radially using [equation 4.18]~~\n",
    "    * Initialize velocity\n",
    "        * Uniform velocity for every particle in planet\n",
    "    * Initialize density $\\rho_i$\n",
    "        * Using $\\rho = \\rho_c * sin(\\zeta) / \\zeta $\n",
    "    * Calculate mass of each particle\n",
    "        * Use the smoothing function to relate mass to density\n",
    "        * Keep the mass of each particle fixed for the remainder of calculations\n",
    "    * Choose time scale (not done)\n",
    "        * Time must satisfy the CFL condition [equation 4.12] \n",
    "        \n",
    "* Calculate pressure $P_i$, given density $\\rho_i$ <b> Done!</b>\n",
    "    * More generaly, the 'entire'?? planet can be modeled with $P = K \\rho ^\\gamma$ \n",
    "    * [Equations 4.14 - 4.17] go into more detail\n",
    "    \n",
    "* Calculate $\\nabla P_i$ <b> Possibly done! </b>\n",
    "    * Calculate the gradient of the smoothing kernel\n",
    "    * Then use [equation 4.9]\n",
    "\n",
    "* Calculate gravitational forces $\\nabla \\Phi_i$\n",
    "    * First pass can use brute force O(N^2) method [equation 3.1]\n",
    "    * Second pass would use trees or FFT\n",
    "\n",
    "* Calculate change in velocity $v_i$ [equation 4.2], given pressure, density, and gravitational forces\n",
    "    * This involves solving an ODE\n",
    "        * First pass: RK4\n",
    "        * If bad: RK1\n",
    "        * And then: Leapfrog\n",
    "        \n",
    "* Calculate change in position $r_i$ [equation], given velocity\n",
    "    * This involves solving an ODE\n",
    "        * First pass: RK4\n",
    "        * If bad: RK1\n",
    "        * And then: Leapfrog\n",
    "        \n",
    "## Weird Things / Concerning Things / Bugs\n",
    "* When I initalized 100 particles, I ended up with 94 after all of that\n",
    "    * We lose some of them when rounding, but we shouldn't lose 6\n",
    "* The max number of particles is not located at the outermost edge of Jupiter\n",
    "    * This distribution comes from [equation 4.18]. The error might come from the fact that I didn't normalize alpha = 1, rho_c = 1\n",
    "* Time step is 1e-21 for gravitational forces\n",
    "* The smoothing function is returning negative values, but they're in the correct order of magnitude\n",
    "\n",
    "## Notes\n",
    "* Changed number of partitions to 10\n",
    "* True density of Jupiter is ~1.33g/cm^3\n",
    "\n",
    "## Dimensionality of Velocity/Position\n",
    "* position for a sinlge particle [2x1]\n",
    "* position for all the particles [2xn]\n",
    "* velocity for a sinlge particle [2x1]\n",
    "* velocity for all the particles [2xn]\n",
    "\n",
    "* This implies that gradP for all particles is [2xn]\n",
    "* This implies that gravity for all particles is [2xn]\n",
    "\n",
    "## Dimensionality of gradP\n",
    "* gradP for one particle is [2x1]\n",
    "* m, P, and rho for one particle is [1x1]\n",
    "* This implies that gradW for one particle is [2x1]\n",
    "* gradP for all particles is [2xN]\n",
    "* m, P, and rho for all particles are [1xn]\n",
    "* This implies that gradW for all particles is [2xn]\n",
    "\n",
    "## Dimensionality of gradW\n",
    "* gradW for one particle is [2x1]\n",
    "    * One dimension is the x derivative of W, the other is y derivative of W\n",
    "* gradW for all particles is [2xn]\n",
    "    * One dimension is the x derivative of W, the other is y derivative of W\n",
    "    \n",
    "## Dimensionality of density\n",
    "* Density is [1x1]\n",
    "* To calculate density, you calculate rhoJ for every particle\n",
    "* rhoJ is [1x1]\n",
    "* Store rhoJ in a vector to get [1xn]\n",
    "* Get rho by summing over rhoJ\n",
    "\n",
    "## Dimensionality of the X part of gradP\n",
    "* The dimensionality of the X part of gradP for all particles is [1x1]\n",
    "* For a single particle m, P, and rho are [1x1]\n",
    "* For a single particle, the x component of gradW is [1x1]\n",
    "* The dimensionality of the X part of gradP for all particles is [1xn]\n",
    "* For all particles, m, P, and rho are [1xn]\n",
    "* The dimensionality of the X part of gradW for all particles is [1xn]\n",
    "\n",
    "\n",
    "        \n",
    "### Initialize Libraries"
   ]
  },
  {
   "cell_type": "code",
   "execution_count": 425,
   "metadata": {
    "collapsed": false
   },
   "outputs": [],
   "source": [
    "%matplotlib inline\n",
    "\n",
    "from __future__ import division\n",
    "\n",
    "import numpy as np\n",
    "import matplotlib.pyplot as plt\n",
    "from matplotlib import animation\n",
    "from matplotlib.collections import PatchCollection\n",
    "from scipy.spatial.distance import cdist\n",
    "\n",
    "from ipywidgets import interact, HTML, FloatSlider\n",
    "from IPython.display import clear_output, display\n",
    "\n",
    "import numba as nb\n",
    "import time"
   ]
  },
  {
   "cell_type": "markdown",
   "metadata": {},
   "source": [
    "### Initialize Model Constants"
   ]
  },
  {
   "cell_type": "code",
   "execution_count": 426,
   "metadata": {
    "collapsed": false
   },
   "outputs": [],
   "source": [
    "RJupiter = 6.99e9    # cm\n",
    "\n",
    "v = 1e30 #damping coefficient\n",
    "\n",
    "n = 1 # polytropic index\n",
    "gamma = 1+(1/n)\n",
    "G = 6.67e-8    # dyne*cm^2/g^2\n",
    "\n",
    "rhoC = 5    # g/cm^3, central density\n",
    "PC = 6.5e13    # dyne/cm^2\n",
    "TC = 22000    # K\n",
    "\n",
    "K = 2.6e12    # dyne*cm^4/g^2\n",
    "\n",
    "alpha = np.sqrt(K/(2*np.pi*G))"
   ]
  },
  {
   "cell_type": "markdown",
   "metadata": {},
   "source": [
    "### Initialize Positions of Planets"
   ]
  },
  {
   "cell_type": "code",
   "execution_count": 451,
   "metadata": {
    "collapsed": false
   },
   "outputs": [
    {
     "name": "stdout",
     "output_type": "stream",
     "text": [
      "190.0\n"
     ]
    },
    {
     "name": "stderr",
     "output_type": "stream",
     "text": [
      "/Users/saikiranchikine/anaconda/lib/python2.7/site-packages/ipykernel/__main__.py:25: DeprecationWarning: using a non-integer number instead of an integer will result in an error in the future\n"
     ]
    }
   ],
   "source": [
    "N1 = 200    # Particles in Planet 1\n",
    "N2 = N1     # Particles in Planet 2\n",
    "\n",
    "# Equations 4.17\n",
    "# Use partition to give initial positions of particles\n",
    "partitionNum = 5     \n",
    "rSpace = np.linspace(0, RJupiter, partitionNum)\n",
    "zetaSpace = rSpace/alpha\n",
    "\n",
    "# Establish number of particles in each region of delta(zeta)\n",
    "NDistribution = []    \n",
    "for i in range(1,len(zetaSpace)):\n",
    "    zeta2 = zetaSpace[i]\n",
    "    zeta1 = zetaSpace[i-1]\n",
    "    NDistribution.append((np.sin(zeta2) - zeta2*np.cos(zeta2) - np.sin(zeta1) + zeta1*np.cos(zeta1))\\\n",
    "                         *N1/np.pi)\n",
    "    \n",
    "NDistribution = np.array(NDistribution)\n",
    "NDistribution = np.round(NDistribution)\n",
    "\n",
    "print(sum(NDistribution))\n",
    "\n",
    "\n",
    "# Create radial distribution\n",
    "radiusDistribution = []\n",
    "i = 0\n",
    "for N in NDistribution:\n",
    "    radiusDistribution.append(np.random.uniform(rSpace[i], rSpace[i+1], size=N))\n",
    "    i += 1\n",
    "\n",
    "# Flatten radial array\n",
    "radiusDistribution = [item for sublist in radiusDistribution for item in sublist]\n",
    "radiusDistribution = np.array(radiusDistribution)\n",
    "\n",
    "# Create angle distribution\n",
    "thetaDistribution = np.random.uniform(0, 2*np.pi, size=len(radiusDistribution))"
   ]
  },
  {
   "cell_type": "markdown",
   "metadata": {},
   "source": [
    "### Plot Initial Spatial Distribution"
   ]
  },
  {
   "cell_type": "code",
   "execution_count": 428,
   "metadata": {
    "collapsed": false
   },
   "outputs": [
    {
     "data": {
      "image/png": "[encoded data removed]",
      "text/plain": [
       "<matplotlib.figure.Figure at 0x10b80a650>"
      ]
     },
     "metadata": {},
     "output_type": "display_data"
    }
   ],
   "source": [
    "plt.figure(figsize=(10,10))\n",
    "plt.scatter(radiusDistribution*np.cos(thetaDistribution), radiusDistribution*np.sin(thetaDistribution))\n",
    "plt.title(\"Initial Position Distribution of Particles\")\n",
    "plt.show()"
   ]
  },
  {
   "cell_type": "markdown",
   "metadata": {},
   "source": [
    "### Model Initial Densities\n",
    "* Currently modeling density as 4 distinct regions\n",
    "    * Might want to follow up with the smoothing that comes with the density_j summation\n",
    "* Modeling density as a continuous function of r now, using [equation 4.16]"
   ]
  },
  {
   "cell_type": "code",
   "execution_count": 429,
   "metadata": {
    "collapsed": false
   },
   "outputs": [
    {
     "name": "stdout",
     "output_type": "stream",
     "text": [
      "(190,) (190,)\n"
     ]
    }
   ],
   "source": [
    "rhoDistribution = rhoC * np.sin(radiusDistribution/alpha) / (radiusDistribution/alpha)\n",
    "\n",
    "print radiusDistribution.shape, rhoDistribution.shape"
   ]
  },
  {
   "cell_type": "markdown",
   "metadata": {
    "collapsed": true
   },
   "source": [
    "### Plot Initial Densities"
   ]
  },
  {
   "cell_type": "code",
   "execution_count": 430,
   "metadata": {
    "collapsed": false
   },
   "outputs": [
    {
     "data": {
      "image/png": "[encoded data removed]",
      "text/plain": [
       "<matplotlib.figure.Figure at 0x10bad7d50>"
      ]
     },
     "metadata": {},
     "output_type": "display_data"
    }
   ],
   "source": [
    "plt.figure(figsize=(10,8))\n",
    "plt.scatter(radiusDistribution*np.cos(thetaDistribution), radiusDistribution*np.sin(thetaDistribution), c=rhoDistribution)\n",
    "plt.title(\"Initial Density Distribution of Particles\")\n",
    "plt.colorbar()\n",
    "plt.show()"
   ]
  },
  {
   "cell_type": "markdown",
   "metadata": {
    "collapsed": true
   },
   "source": [
    "### Model Initial Pressure Distribution\n",
    "* Currently modeling as simply polytropic\n",
    "    * Might want to find P by solving the ODE [equation 4.14]"
   ]
  },
  {
   "cell_type": "code",
   "execution_count": 431,
   "metadata": {
    "collapsed": false
   },
   "outputs": [
    {
     "data": {
      "image/png": "[encoded data removed]",
      "text/plain": [
       "<matplotlib.figure.Figure at 0x10e6e3e90>"
      ]
     },
     "metadata": {},
     "output_type": "display_data"
    }
   ],
   "source": [
    "pressureDistribution = K * rhoDistribution ** gamma\n",
    "\n",
    "plt.figure(figsize=(10,8))\n",
    "plt.scatter(radiusDistribution*np.cos(thetaDistribution), \\\n",
    "            radiusDistribution*np.sin(thetaDistribution), c=pressureDistribution)\n",
    "plt.title(\"Initial Pressure Distribution of Particles\")\n",
    "plt.colorbar()\n",
    "plt.show()"
   ]
  },
  {
   "cell_type": "markdown",
   "metadata": {},
   "source": [
    "### Helper Function (Convert Polar Coordinates to Cartesian)"
   ]
  },
  {
   "cell_type": "code",
   "execution_count": 432,
   "metadata": {
    "collapsed": true
   },
   "outputs": [],
   "source": [
    "def polar2cart(r, theta):\n",
    "    return np.array([r*np.cos(theta), r*np.sin(theta)]).T\n",
    "\n",
    "xyDistribution = polar2cart(radiusDistribution, thetaDistribution)\n",
    "nParticles = len(xyDistribution)"
   ]
  },
  {
   "cell_type": "markdown",
   "metadata": {},
   "source": [
    "### Find Center of Mass "
   ]
  },
  {
   "cell_type": "code",
   "execution_count": 433,
   "metadata": {
    "collapsed": false
   },
   "outputs": [
    {
     "name": "stdout",
     "output_type": "stream",
     "text": [
      "[  3.58580767e+07   2.00038659e+08]\n"
     ]
    },
    {
     "data": {
      "text/plain": [
       "<matplotlib.collections.PathCollection at 0x10a70e6d0>"
      ]
     },
     "execution_count": 433,
     "metadata": {},
     "output_type": "execute_result"
    },
    {
     "data": {
      "image/png": "[encoded data removed]",
      "text/plain": [
       "<matplotlib.figure.Figure at 0x10a031c10>"
      ]
     },
     "metadata": {},
     "output_type": "display_data"
    }
   ],
   "source": [
    "COM = np.mean(xyDistribution,axis=0)\n",
    "print(COM)\n",
    "\n",
    "plt.figure()\n",
    "plt.scatter(COM[0],[1], c='y')\n",
    "plt.scatter(xyDistribution[:, 0], xyDistribution[:,1], c='b')"
   ]
  },
  {
   "cell_type": "markdown",
   "metadata": {},
   "source": [
    "### Define Smoothing Function\n",
    "\n",
    "\\begin{equation}\n",
    "W(r,h) = \\frac{1}{\\pi h^3} ( 1 - \\frac{3}{2}(r/h)^2 + \\frac{3}{4}(r/h)^3)\n",
    "\\end{equation}\n",
    "\n",
    "\\begin{equation}\n",
    "W(r,h) = \\frac{1}{4 \\pi h^3} ( 2 - (r/h)^3)\n",
    "\\end{equation}"
   ]
  },
  {
   "cell_type": "code",
   "execution_count": 434,
   "metadata": {
    "collapsed": false
   },
   "outputs": [],
   "source": [
    "# MJupiter = 1.89e30    # grams\n",
    "\n",
    "def W(xyDistribution, h= 3e9, verbose=False):\n",
    "    '''\n",
    "    h = ~3e9 looks like a good range\n",
    "    Finding W for all pairs (i,j), instead of just j. \n",
    "    I'm flattening W at the end of the function. I might be meant to flatten W\n",
    "        by flattening the |r-rj| by taking their sum\n",
    "    '''\n",
    "    \n",
    "    distVect = np.zeros((len(xyDistribution), len(xyDistribution)))\n",
    "                  \n",
    "    # Find distance between each j and the other points\n",
    "    for i in range(len(xyDistribution)):\n",
    "        particle_i = xyDistribution[i]\n",
    "        dist = np.sqrt((particle_i[0] - xyDistribution[:,0])**2 + (particle_i[1] - xyDistribution[:,1])**2)\n",
    "        # Store distances in a matrix\n",
    "        distVect[:,i] = dist\n",
    "    \n",
    "    # r < 1\n",
    "    distVect1 = distVect < h\n",
    "    distVect1 = distVect1.astype(int)\n",
    "    if verbose:\n",
    "        print \"Percent of molecules within 1 smoothing length:\", \\\n",
    "            np.count_nonzero(distVect1) / (len(xyDistribution)**2)\n",
    "            \n",
    "    # Matrix containing radii (where only nonzero values are radii < h)\n",
    "    R1 = distVect1 * distVect   \n",
    "    W1 = distVect1 / (np.pi * h**3) * (1 - 3/2*(R1/h)**2 + 3/4*(R1/h)**3)\n",
    "    \n",
    "    if np.min(W1) < 0:\n",
    "        print \"Warning! Negative smoothing kernel detected!\"\n",
    "\n",
    "    # r > 2h\n",
    "    distVect2 = distVect > 2 * h\n",
    "    distVect2 = distVect2.astype(int)\n",
    "    if verbose:\n",
    "        print \"Percent of molecules which do not affect the particle:\", \\\n",
    "            np.count_nonzero(distVect2) / (len(xyDistribution)**2)\n",
    "    \n",
    "    # h < r < 2h\n",
    "    distVect12 = np.logical_not(np.logical_or(distVect1, distVect2))\n",
    "    if verbose:\n",
    "        print \"Percent of molecules within 2 smoothing lengths:\", \\\n",
    "                np.count_nonzero(distVect12) / (len(xyDistribution)**2)\n",
    "            \n",
    "    R12 = distVect12 * distVect \n",
    "    W12 = distVect12 / (4 * np.pi * h**3) * (2 - (R12/h))**3\n",
    "    \n",
    "    if np.min(W12) < 0:\n",
    "        print \"Warning! Negative smoothing kernel detected!\"\n",
    "\n",
    "    W = W1 + W12\n",
    "    W = np.sum(W, axis=1)\n",
    "    \n",
    "    print np.count_nonzero(W)#, np.count_nonzero(distVect)\n",
    "    return W"
   ]
  },
  {
   "cell_type": "markdown",
   "metadata": {},
   "source": [
    "### Calculate Initial Mass Distribution\n",
    "* Calculate using the smoothing equation [equation 4.4]\n",
    "* Assume mass is fixed per particle afterwards\n",
    "* The calculated mass distribution is on the same order of magnitude as Jupiter's true mass, which implies that the smoothing function doesn't have any bugs"
   ]
  },
  {
   "cell_type": "code",
   "execution_count": 435,
   "metadata": {
    "collapsed": false
   },
   "outputs": [
    {
     "name": "stdout",
     "output_type": "stream",
     "text": [
      "190\n",
      "The percent error of the calculated mass of Jupiter with respect to its true mass is 0.0348 %\n"
     ]
    },
    {
     "data": {
      "image/png": "[encoded data removed]",
      "text/plain": [
       "<matplotlib.figure.Figure at 0x10507fb10>"
      ]
     },
     "metadata": {},
     "output_type": "display_data"
    },
    {
     "data": {
      "image/png": "[encoded data removed]",
      "text/plain": [
       "<matplotlib.figure.Figure at 0x10aaad1d0>"
      ]
     },
     "metadata": {},
     "output_type": "display_data"
    }
   ],
   "source": [
    "mDistribution = rhoDistribution/W(xyDistribution)\n",
    "trueJupiterMass = 1.89e30    #g\n",
    "\n",
    "massPercentError  = (trueJupiterMass- np.sum(mDistribution))/trueJupiterMass\n",
    "print \"The percent error of the calculated mass of Jupiter with respect to its true mass is\", \\\n",
    "            \"%.4f\" % massPercentError, \"%\"\n",
    "\n",
    "plt.figure(figsize=(10,8))\n",
    "plt.scatter(radiusDistribution*np.cos(thetaDistribution), \\\n",
    "            radiusDistribution*np.sin(thetaDistribution), c=mDistribution)\n",
    "plt.title(\"Initial Mass Distribution of Particles\")\n",
    "plt.colorbar()\n",
    "plt.show()\n",
    "\n",
    "plt.figure()\n",
    "plt.hist(mDistribution)\n",
    "plt.title(\"Mass Distribution\")\n",
    "plt.show()"
   ]
  },
  {
   "cell_type": "markdown",
   "metadata": {},
   "source": [
    "### Model Initial Velocities"
   ]
  },
  {
   "cell_type": "code",
   "execution_count": 436,
   "metadata": {
    "collapsed": true
   },
   "outputs": [],
   "source": [
    "velocityDistribution = np.zeros_like(xyDistribution)"
   ]
  },
  {
   "cell_type": "markdown",
   "metadata": {},
   "source": [
    "### Plot XYDistribution one more time"
   ]
  },
  {
   "cell_type": "code",
   "execution_count": 437,
   "metadata": {
    "collapsed": false
   },
   "outputs": [
    {
     "data": {
      "text/plain": [
       "(-20000000000.0, 20000000000.0)"
      ]
     },
     "execution_count": 437,
     "metadata": {},
     "output_type": "execute_result"
    },
    {
     "data": {
      "image/png": "[encoded data removed]",
      "text/plain": [
       "<matplotlib.figure.Figure at 0x10a9b4e10>"
      ]
     },
     "metadata": {},
     "output_type": "display_data"
    }
   ],
   "source": [
    "plt.figure(figsize=(10, 10))\n",
    "plt.scatter(xyDistribution[:, 0], xyDistribution[:,1])\n",
    "plt.xlim(-2e10, 2e10)\n",
    "plt.ylim(-2e10, 2e10)"
   ]
  },
  {
   "cell_type": "markdown",
   "metadata": {},
   "source": [
    "### Define Gradient of Smoothing Function\n",
    "\n",
    "\\begin{equation}\n",
    "\\nabla W(r,h) = \\frac{1}{\\pi h^3} \\left( -3(r/h) + \\frac{9}{4}(r/h)^2 \\right)\n",
    "\\end{equation}\n",
    "\n",
    "\\begin{equation}\n",
    "\\nabla W(r,h) = -\\frac{3}{4 \\pi h^3} (r/h)^2\n",
    "\\end{equation}\n",
    "\n",
    "\\begin{equation}\n",
    "\\frac{d}{dx} W(x,h) = \\frac{1}{4 \\pi h^5} \\left( -3xr \\right)\n",
    "\\end{equation}"
   ]
  },
  {
   "cell_type": "code",
   "execution_count": 438,
   "metadata": {
    "collapsed": false
   },
   "outputs": [
    {
     "name": "stdout",
     "output_type": "stream",
     "text": [
      "[[  1.15824180e-28   2.04407117e-29]\n",
      " [ -1.41116082e-28  -2.92280567e-28]\n",
      " [  5.89162480e-28   6.39997996e-28]\n",
      " [ -4.84979789e-28  -3.20745083e-28]\n",
      " [ -4.99595132e-28  -3.58124738e-28]\n",
      " [ -3.54239635e-28  -3.46737098e-28]\n",
      " [ -2.88716869e-28   3.72837359e-28]\n",
      " [ -2.68199071e-28  -7.49414258e-28]\n",
      " [ -5.43189299e-28  -1.22432979e-28]\n",
      " [ -4.71956760e-28   1.05365676e-28]\n",
      " [ -9.82431954e-28  -1.03964748e-27]\n",
      " [  4.61475721e-28   4.42628123e-28]\n",
      " [  2.65134938e-28  -1.27757794e-28]\n",
      " [ -2.27289426e-28   7.82160664e-28]\n",
      " [ -4.48203998e-28  -7.92093350e-28]\n",
      " [ -8.68860313e-28   6.62117934e-29]\n",
      " [ -6.62846684e-28   2.79860708e-30]\n",
      " [ -2.96674771e-28   3.44329305e-28]\n",
      " [  2.74064725e-28   5.06418955e-28]\n",
      " [ -1.68998608e-29   6.93389175e-28]\n",
      " [ -2.92397177e-28   5.41630351e-28]\n",
      " [  5.38333110e-28   7.80508613e-28]\n",
      " [ -1.39030078e-28   4.85111123e-28]\n",
      " [ -6.73321791e-28  -6.46396935e-28]\n",
      " [ -2.25310300e-28   3.91900644e-28]\n",
      " [  7.01500561e-29   1.60577008e-27]\n",
      " [ -6.38431536e-28  -9.06765963e-28]\n",
      " [ -7.26893942e-30   2.70922746e-28]\n",
      " [ -6.06286628e-28   1.42697681e-28]\n",
      " [ -2.92679781e-28   3.21940035e-28]\n",
      " [ -7.91380378e-28   7.56177069e-28]\n",
      " [  3.52086067e-28   7.07556613e-29]\n",
      " [ -1.01704472e-28   8.80694546e-28]\n",
      " [  5.37949611e-28  -5.07660225e-28]\n",
      " [  2.37607650e-28  -4.23305035e-28]\n",
      " [  1.02580596e-27  -5.13745610e-28]\n",
      " [ -2.94833396e-28  -5.59909061e-29]\n",
      " [ -6.49696875e-28   6.49467750e-30]\n",
      " [ -1.84002496e-27   1.02682147e-27]\n",
      " [ -9.06527033e-28   4.24485541e-28]\n",
      " [  5.26129299e-28   3.12650816e-28]\n",
      " [  1.02798859e-28  -6.99955923e-28]\n",
      " [  9.03328656e-28   5.17066084e-28]\n",
      " [ -6.35374632e-28   6.31111251e-29]\n",
      " [ -5.32562204e-28  -1.37654592e-28]\n",
      " [  8.84868415e-28  -9.04955812e-28]\n",
      " [ -1.01948809e-28   8.72129690e-28]\n",
      " [  3.49563937e-28  -1.80715557e-28]\n",
      " [ -4.59626880e-28  -1.29491287e-27]\n",
      " [  8.82597468e-28  -6.66503183e-28]\n",
      " [  1.48306174e-27   3.79632244e-28]\n",
      " [  1.19532941e-27   3.11010949e-28]\n",
      " [  1.23479806e-27   8.76202870e-28]\n",
      " [  3.55012930e-28   1.00336246e-28]\n",
      " [  4.07773517e-28  -2.49383503e-28]\n",
      " [ -8.66203125e-28  -8.55227448e-28]\n",
      " [  1.97283926e-27   4.41548046e-28]\n",
      " [ -1.78118982e-28   8.70766156e-29]\n",
      " [ -1.29482982e-27  -1.06537889e-27]\n",
      " [  1.18356446e-27  -8.42916018e-28]\n",
      " [ -9.53279858e-28   1.10374174e-27]\n",
      " [ -1.12265245e-27   5.94508120e-29]\n",
      " [  9.33423746e-28   1.50406271e-28]\n",
      " [  6.71189700e-28   3.88714986e-29]\n",
      " [  6.56634500e-28   5.14930516e-28]\n",
      " [  5.80972595e-28   6.83808969e-28]\n",
      " [  1.19525104e-29   6.59087750e-28]\n",
      " [ -4.26111651e-28   1.17410023e-28]\n",
      " [  1.41298907e-27   2.83115390e-28]\n",
      " [ -3.02121786e-28   1.47211199e-28]\n",
      " [ -9.68556477e-28  -6.33192469e-28]\n",
      " [ -7.71600187e-28   4.13561384e-28]\n",
      " [ -2.10745819e-28  -1.28647782e-28]\n",
      " [  3.36913851e-28  -1.07088274e-27]\n",
      " [ -1.39741638e-27  -5.74775597e-28]\n",
      " [  1.72406145e-28   4.27897989e-29]\n",
      " [ -6.77819743e-28  -1.04842310e-27]\n",
      " [  1.12917384e-27  -8.38111710e-29]\n",
      " [  3.03556805e-29  -1.43438185e-28]\n",
      " [ -4.73360934e-28  -9.90504268e-28]\n",
      " [  1.90798531e-28   1.04019637e-27]\n",
      " [  3.29167648e-28  -1.62180667e-28]\n",
      " [  3.60943635e-28   8.79495341e-30]\n",
      " [  2.82785074e-29  -5.88161456e-28]\n",
      " [ -2.10989905e-27   7.64630720e-28]\n",
      " [ -5.41408809e-28   6.09706958e-28]\n",
      " [  1.87596810e-28  -8.98058457e-28]\n",
      " [ -1.99330548e-28   2.71366150e-28]\n",
      " [ -3.24608518e-28   1.20412735e-27]\n",
      " [ -8.46241776e-28   5.96094117e-28]\n",
      " [ -7.46029190e-28  -3.82378605e-28]\n",
      " [ -1.14652773e-27   1.85390852e-29]\n",
      " [ -6.11587549e-28  -6.70590254e-28]\n",
      " [  5.93287149e-29   6.97143359e-28]\n",
      " [  9.60548036e-28  -4.80577770e-28]\n",
      " [ -1.02654384e-27  -8.14167491e-29]\n",
      " [  7.16560476e-29   1.81093477e-28]\n",
      " [ -7.28082947e-28  -3.36381690e-28]\n",
      " [  1.17367026e-27  -1.71303884e-28]\n",
      " [  3.11066249e-28  -1.66975294e-27]\n",
      " [  9.00271143e-28   9.19033876e-28]\n",
      " [ -1.19576948e-27  -9.88069413e-28]\n",
      " [  7.85140782e-28  -2.60669545e-28]\n",
      " [  1.01589481e-27  -1.43279966e-27]\n",
      " [  5.57800477e-28  -1.20322630e-27]\n",
      " [  4.06506815e-28   4.76512585e-28]\n",
      " [  2.37449958e-28   2.93845277e-29]\n",
      " [  1.07431294e-27  -5.05113570e-28]\n",
      " [ -4.08583096e-29  -9.13867470e-28]\n",
      " [ -5.88529599e-28   6.15034828e-28]\n",
      " [ -2.81108021e-28   5.26082343e-29]\n",
      " [  8.63452440e-29  -8.04133304e-28]\n",
      " [  8.29623989e-28   6.39976601e-28]\n",
      " [  2.46696632e-28  -3.01892684e-28]\n",
      " [  7.67462476e-28   6.62742541e-28]\n",
      " [  4.93024825e-28  -6.47675983e-29]\n",
      " [  1.23690860e-28  -4.29792041e-28]\n",
      " [  2.10423844e-27   1.98349923e-28]\n",
      " [ -1.52225441e-28  -8.87527681e-28]\n",
      " [ -3.04473508e-28  -3.03844025e-28]\n",
      " [  1.51812872e-27  -3.73434880e-28]\n",
      " [  1.98278011e-28  -3.14203103e-28]\n",
      " [  4.75363211e-28   2.21614090e-28]\n",
      " [ -5.81374550e-28  -4.50031567e-28]\n",
      " [ -3.48661817e-28  -7.57866174e-28]\n",
      " [ -1.25759820e-27   2.85774091e-29]\n",
      " [  1.60551942e-28   2.41122391e-28]\n",
      " [  8.06475347e-28  -1.70714689e-28]\n",
      " [ -5.66171925e-30   2.78633465e-28]\n",
      " [  5.67412817e-29   7.84580597e-28]\n",
      " [ -1.41151449e-27   1.62826684e-28]\n",
      " [ -4.19938367e-28   3.91441756e-28]\n",
      " [ -6.55359373e-28  -5.17218831e-28]\n",
      " [  3.43493036e-28   9.78588420e-28]\n",
      " [  2.19159806e-28   7.97859734e-28]\n",
      " [  8.80397082e-28  -5.32248931e-28]\n",
      " [  7.36556493e-28   3.45513946e-28]\n",
      " [  4.81234583e-28   4.23283026e-29]\n",
      " [ -3.10685440e-28  -3.78848126e-28]\n",
      " [  4.17571821e-28  -8.10047082e-28]\n",
      " [  3.48911299e-28   6.14808221e-28]\n",
      " [ -8.83637372e-28  -6.98843569e-29]\n",
      " [  1.42890191e-28  -3.44256518e-29]\n",
      " [  6.82884921e-28   1.22330756e-28]\n",
      " [  7.00208433e-29  -7.00127992e-28]\n",
      " [  1.37658273e-28   7.21086947e-28]\n",
      " [  2.90390080e-28   4.88777873e-28]\n",
      " [ -8.58561390e-28   7.44963144e-28]\n",
      " [  4.31360110e-28  -1.13115279e-29]\n",
      " [ -4.43230584e-28   1.60221266e-27]\n",
      " [  6.58126313e-28  -2.01717658e-29]\n",
      " [  1.07088212e-28   4.47463436e-28]\n",
      " [ -3.51221667e-28  -3.52616093e-28]\n",
      " [  2.90451714e-28  -9.63590287e-28]\n",
      " [  5.80814878e-28  -5.32144884e-28]\n",
      " [  5.63008984e-28   1.98152678e-28]\n",
      " [ -3.77938995e-28   9.69176675e-28]\n",
      " [ -1.11400465e-27  -4.39303337e-28]\n",
      " [  2.02452191e-28  -7.67039391e-29]\n",
      " [  3.74603203e-28   1.74490630e-27]\n",
      " [  1.04639392e-27  -1.99507577e-28]\n",
      " [  5.19147236e-28   7.09302442e-28]\n",
      " [  2.97366587e-29  -1.40671728e-27]\n",
      " [ -3.15364074e-28  -6.50061527e-29]\n",
      " [ -7.62926917e-28   1.77056889e-28]\n",
      " [  3.63480218e-28  -4.90592846e-28]\n",
      " [  3.24402881e-28  -4.91966194e-29]\n",
      " [ -3.27364649e-28   2.52176736e-28]\n",
      " [ -1.05205953e-28  -1.11894894e-28]\n",
      " [ -9.06195359e-28   5.57352872e-28]\n",
      " [ -6.38482886e-29  -3.71044953e-28]\n",
      " [ -2.38009334e-28   5.49460306e-28]\n",
      " [ -7.69122978e-28   2.35452529e-28]\n",
      " [  1.39609828e-27  -5.06253444e-28]\n",
      " [ -1.16082470e-27  -1.45929387e-28]\n",
      " [ -9.55531089e-29  -2.35757733e-28]\n",
      " [ -2.13002787e-28  -8.52333372e-28]\n",
      " [ -5.48453842e-28  -5.57304745e-29]\n",
      " [  3.78560543e-28   3.23299896e-28]\n",
      " [  9.04783071e-28  -6.83766276e-28]\n",
      " [ -9.39113137e-28  -4.30849997e-28]\n",
      " [ -5.76859072e-28  -1.17473784e-28]\n",
      " [ -8.25557863e-28  -3.60123106e-28]\n",
      " [  9.41248111e-28   4.64653670e-28]\n",
      " [  6.25418490e-28  -1.46186988e-28]\n",
      " [  1.17017589e-27   3.21172111e-28]\n",
      " [ -8.47456156e-29   6.15745660e-28]\n",
      " [ -1.09360929e-27  -1.68833633e-28]\n",
      " [  7.97774451e-28   4.26735840e-28]\n",
      " [ -5.83825649e-28   8.10625901e-28]]\n"
     ]
    },
    {
     "name": "stderr",
     "output_type": "stream",
     "text": [
      "/Users/saikiranchikine/anaconda/lib/python2.7/site-packages/ipykernel/__main__.py:39: RuntimeWarning: invalid value encountered in true_divide\n",
      "/Users/saikiranchikine/anaconda/lib/python2.7/site-packages/ipykernel/__main__.py:40: RuntimeWarning: invalid value encountered in true_divide\n"
     ]
    }
   ],
   "source": [
    "def gradW(h=1e9, verbose=False):\n",
    "    \n",
    "    # Initialize radial distance, x distance, and y distance\n",
    "    distMatrix = cdist(xyDistribution, xyDistribution)\n",
    "    X = np.zeros_like(distMatrix)\n",
    "    Y = np.zeros_like(distMatrix)\n",
    "    \n",
    "    # Calculate distances between particle i and all other particles\n",
    "    for i in range(nParticles):\n",
    "        particle_i = xyDistribution[i]\n",
    "\n",
    "        deltaX = particle_i[0] - xyDistribution[:,0]\n",
    "        deltaY = particle_i[1] - xyDistribution[:,1]\n",
    "        X[:,i] = deltaX\n",
    "        Y[:,i] = deltaY\n",
    "\n",
    "    # Look at particles within 1 smoothing length\n",
    "    distMatrix1 = distMatrix < h\n",
    "    R1 = distMatrix1 * distMatrix\n",
    "    X1 = distMatrix1 * X\n",
    "    Y1 = distMatrix1 * Y\n",
    "\n",
    "    W1 = np.array(\n",
    "                  [9*X1*R1/(4*h**3)-3*X1/(h**2),\n",
    "                   9*Y1*R1/(4*h**3)-3*Y1/(h**2)]\n",
    "                  ) * distMatrix1*10/(7*np.pi*h**2)\n",
    "    W1 = np.sum(W1, axis=1)\n",
    "\n",
    "    # Look at particles outside of 2 smoothing lengths\n",
    "    distMatrix2 = distMatrix > 2*h\n",
    "    \n",
    "    # Look at particles h < r < 2h\n",
    "    distMatrix12 = np.logical_not(np.logical_or(distMatrix1, distMatrix2))\n",
    "    R12 = distMatrix12 * distMatrix\n",
    "    X12 = distMatrix12 * X\n",
    "    Y12 = distMatrix12 * Y\n",
    "    \n",
    "    # nan_to_num to take care of dividing by zero errors\n",
    "    W12X = np.nan_to_num(-3*X12*(2*h-R12)**2/(4*h**3*R12)* distMatrix12*10/(7*np.pi*h**2))\n",
    "    W12Y = np.nan_to_num(-3*Y12*(2*h-R12)**2/(4*h**3*R12)* distMatrix12*10/(7*np.pi*h**2))\n",
    "    W12 = np.array([W12X, W12Y])\n",
    "    W12 = np.sum(W12, axis=1)  \n",
    "    \n",
    "    ### --- Debugging --- ###\n",
    "#     print \"distMatrix1:\\n\", distMatrix1\n",
    "#     print \"distMatrix2:\\n\", distMatrix2\n",
    "#     print \"distMatrix12:\\n\", distMatrix12\n",
    "#     print \"distMatrix:\\n\", distMatrix\n",
    "#     print \"W1:\\n\", W1\n",
    "#     print \"X12:\\n\", X12\n",
    "#     print \"Num:\\n\", -3*X12*(2*h-R12)**2\n",
    "#     print \"Den:\\n\", (4*h**3*R12)\n",
    "#     print \"Num/Den:\\n\", -3*X12*(2*h-R12)**2/(4*h**3*R12)* distMatrix12*10/(7*np.pi*h**2)\n",
    "#     print \"W12X:\\n\", np.array([W12X, W12Y])\n",
    "#     print \"W12:\\n\", W12\n",
    "\n",
    "    return np.array(W1+W12).T\n",
    "\n",
    "\n",
    "print gradW()"
   ]
  },
  {
   "cell_type": "markdown",
   "metadata": {},
   "source": [
    "### Density Update Function"
   ]
  },
  {
   "cell_type": "code",
   "execution_count": null,
   "metadata": {
    "collapsed": true
   },
   "outputs": [],
   "source": [
    "def Density_Update()\n",
    "    \n",
    "    global xyDistribution\n",
    "    global rhoDistribution\n",
    "    global massDistribution\n",
    "\n",
    "    for i in range(0, nParticles):\n",
    "        rhodistribution[i] = massDistribution[i]*W(0, h)\n",
    "\n",
    "        for j in range(i, nParticles):\n",
    "            if (j!=i):\n",
    "                xdist = (xyDistribution[j,0]-xyDistribution[k,0])\n",
    "                ydist = (xyDistribution[j,1]-xyDistribution[k,1])\n",
    "            dist_ij = sqrt(xdist**2 + ydist**2)\n",
    "            rho_ij = m*W(dist_ij, h)\n",
    "            rhoDistribution[i] += rho_ij"
   ]
  },
  {
   "cell_type": "markdown",
   "metadata": {},
   "source": [
    "### Define Pressure Gradient"
   ]
  },
  {
   "cell_type": "code",
   "execution_count": null,
   "metadata": {
    "collapsed": true
   },
   "outputs": [],
   "source": []
  },
  {
   "cell_type": "markdown",
   "metadata": {},
   "source": [
    "\\begin{equation}\n",
    "\\nabla P= \\frac{mP}{\\rho}\\nabla W\n",
    "\\end{equation}"
   ]
  },
  {
   "cell_type": "code",
   "execution_count": 439,
   "metadata": {
    "collapsed": true
   },
   "outputs": [],
   "source": [
    "def gradP():\n",
    "    gradPX = mDistribution*K*rhoDistribution \\\n",
    "        * gradW()[:,0]\n",
    "        \n",
    "    gradPY = mDistribution*K*rhoDistribution \\\n",
    "        * gradW()[:,1]\n",
    "    return np.array((gradPX, gradPY)).T"
   ]
  },
  {
   "cell_type": "markdown",
   "metadata": {},
   "source": [
    "### Define Gravity"
   ]
  },
  {
   "cell_type": "code",
   "execution_count": 440,
   "metadata": {
    "collapsed": false
   },
   "outputs": [
    {
     "name": "stdout",
     "output_type": "stream",
     "text": [
      "[[  6.02164625e+02   9.17563565e+03]\n",
      " [  7.05413860e+03  -1.07698816e+04]\n",
      " [  1.02369310e+04   4.78153989e+03]\n",
      " [  1.00025052e+06   4.15655840e+05]\n",
      " [ -1.00651371e+06  -4.17378712e+05]\n",
      " [ -9.32720101e+03   2.87834924e+03]\n",
      " [ -9.38151722e+03   1.18025611e+03]\n",
      " [ -7.96848681e+02  -3.33477061e+02]\n",
      " [ -2.58095483e+03   6.43856881e+02]\n",
      " [  5.70592960e+01   1.78929090e+03]\n",
      " [ -6.74227598e+03  -6.46827548e+03]\n",
      " [  6.07260600e+03   2.11174896e+04]\n",
      " [  8.50190636e+03  -2.00690530e+03]\n",
      " [  5.08621689e+02   2.30990368e+04]\n",
      " [  3.08917076e+03  -7.43566629e+03]\n",
      " [ -1.06180265e+04  -3.63023873e+03]\n",
      " [ -1.96101590e+04  -1.70247429e+03]\n",
      " [ -3.37821189e+03   2.96315147e+04]\n",
      " [  3.66321605e+03   1.15086396e+04]\n",
      " [ -1.70390995e+03   4.95346535e+03]\n",
      " [ -3.21563300e+03   2.03026882e+03]\n",
      " [ -1.26435799e+03   2.25360248e+03]\n",
      " [ -1.16197104e+03   3.11311627e+03]\n",
      " [ -7.51748740e+03  -1.56563059e+04]\n",
      " [  1.81277665e+03  -1.80067939e+04]\n",
      " [  7.60615549e+02   1.78746880e+04]\n",
      " [ -1.12420896e+03  -9.95103396e+02]\n",
      " [  1.44204139e+03  -4.62557885e+03]\n",
      " [ -4.02469851e+03  -3.45628391e+03]\n",
      " [  4.90020679e+02  -3.00178296e+04]\n",
      " [ -1.40472765e+03   3.77968953e+03]\n",
      " [ -5.37813356e+03  -1.75020208e+04]\n",
      " [  9.19715528e+06   1.21888031e+07]\n",
      " [  1.78715911e+03   5.16411187e+03]\n",
      " [ -1.81041333e+03  -5.72981310e+03]\n",
      " [  6.69622576e+03  -4.53412015e+03]\n",
      " [ -1.82948967e+03   1.65677847e+03]\n",
      " [  9.27760842e+03   6.88445941e+03]\n",
      " [ -6.78911813e+03   3.92685826e+03]\n",
      " [ -3.22765713e+03   3.44855341e+03]\n",
      " [  4.67639029e+02   3.13273485e+01]\n",
      " [ -7.54652039e+02   1.54139366e+02]\n",
      " [  6.40484846e+03   4.88791443e+03]\n",
      " [  9.84138683e+03   8.93345088e+03]\n",
      " [ -2.62622578e+03  -2.31871384e+03]\n",
      " [ -2.73579697e+02  -1.06521940e+04]\n",
      " [ -9.19128041e+06  -1.21714159e+07]\n",
      " [ -6.10565450e+03  -2.13272343e+03]\n",
      " [ -1.21296833e+03  -5.64245503e+03]\n",
      " [  1.34664362e+04  -3.81234036e+03]\n",
      " [  5.16189644e+03   5.63141897e+03]\n",
      " [  1.62839983e+03  -7.51151158e+02]\n",
      " [  1.04985346e+04   4.72759154e+03]\n",
      " [  5.48115860e+03   1.60730348e+04]\n",
      " [  2.61897343e+03   4.42743163e+03]\n",
      " [ -5.03522130e+03  -4.24907782e+03]\n",
      " [  8.15492866e+03   2.85252922e+03]\n",
      " [ -1.25683643e+03   4.65030302e+02]\n",
      " [ -3.99003075e+03  -3.62534648e+03]\n",
      " [  2.24527713e+03  -6.75549126e+03]\n",
      " [  2.45301786e+03   2.22010889e+03]\n",
      " [ -1.81344104e+03  -1.22266412e+03]\n",
      " [  8.04249917e+03  -1.58667552e+03]\n",
      " [  4.63491265e+03   1.54128074e+03]\n",
      " [  6.09801238e+03   1.56840847e+03]\n",
      " [  2.25087470e+04  -8.49685913e+03]\n",
      " [ -2.75790983e+03   4.29585783e+03]\n",
      " [ -2.20346611e+03  -3.02790169e+03]\n",
      " [ -1.14230275e+04  -6.21463147e+03]\n",
      " [  5.29721720e+03   1.44677303e+04]\n",
      " [ -3.69715408e+03  -2.03784107e+03]\n",
      " [  1.11779503e+03   7.67109603e+03]\n",
      " [ -1.54267398e+03  -2.87101961e+03]\n",
      " [ -2.32422104e+02  -4.20960262e+03]\n",
      " [ -1.54065580e+04   9.75667415e+03]\n",
      " [ -1.54812915e+03   4.84391262e+02]\n",
      " [  1.10569839e+03  -1.24894492e+03]\n",
      " [  5.31389269e+03   7.96835593e+02]\n",
      " [  1.47843923e+03   2.21618072e+03]\n",
      " [ -4.17639711e+04  -1.52162191e+04]\n",
      " [ -2.36131357e+04   2.30233797e+04]\n",
      " [  1.38772538e+02  -1.30596889e+04]\n",
      " [  3.65054915e+03   5.03969620e+02]\n",
      " [ -9.46164795e+03  -7.29666363e+03]\n",
      " [ -4.94470659e+03  -2.18385287e+03]\n",
      " [ -4.12688101e+02   4.97135936e+03]\n",
      " [ -2.23424870e+03  -9.72735494e+03]\n",
      " [ -1.52992441e+03  -2.59659386e+03]\n",
      " [  2.06278962e+03   4.00667931e+03]\n",
      " [ -3.94794728e+03   4.50069437e+03]\n",
      " [ -3.51043953e+03  -3.49847185e+03]\n",
      " [ -3.86796709e+03  -4.16506505e+02]\n",
      " [  1.15546001e+04   1.35404996e+03]\n",
      " [ -1.30972948e+03   3.74783080e+03]\n",
      " [  6.52442540e+03  -1.08571819e+03]\n",
      " [ -9.92398505e+03  -1.31223072e+03]\n",
      " [  4.29765319e+03   2.37347212e+03]\n",
      " [ -7.85188742e+03  -9.46515528e+02]\n",
      " [  5.41048815e+03   1.54321584e+03]\n",
      " [  1.46311898e+02  -9.41309835e+03]\n",
      " [  2.47492724e+03   5.43337527e+03]\n",
      " [ -7.54862377e+03  -1.65836692e+04]\n",
      " [ -4.62674100e+03   1.09912319e+03]\n",
      " [  3.39699603e+04  -3.04481193e+04]\n",
      " [ -1.38848036e+04  -6.60989795e+02]\n",
      " [ -3.24963932e+03  -1.94544692e+03]\n",
      " [ -3.76784823e+02  -2.42821429e+03]\n",
      " [  7.80436511e+03  -3.31424804e+03]\n",
      " [ -2.14260023e+01  -4.95451279e+03]\n",
      " [ -3.80702983e+03  -1.62514379e+03]\n",
      " [ -3.04675543e+03   4.35796633e+03]\n",
      " [ -1.41174728e+04   1.96858186e+04]\n",
      " [  1.87054040e+03   3.47293536e+03]\n",
      " [  6.18097647e+03   9.06927864e+03]\n",
      " [  7.92362492e+03   3.04592024e+03]\n",
      " [  2.14150828e+02   2.05397918e+03]\n",
      " [ -4.83183019e+02  -4.21130042e+03]\n",
      " [  2.13104726e+04  -3.54656849e+02]\n",
      " [  3.57722541e+04   5.75543180e+03]\n",
      " [ -4.53173101e+03  -1.36735788e+04]\n",
      " [  2.46791967e+03   5.71714004e+03]\n",
      " [ -4.91020898e+02  -3.65094630e+03]\n",
      " [  1.81959325e+03   7.74681340e+02]\n",
      " [ -1.46776802e+04  -6.12402471e+03]\n",
      " [ -4.67552709e+03  -5.67925847e+03]\n",
      " [ -9.60446076e+03  -3.84456846e+03]\n",
      " [ -2.89788443e+02   2.92572061e+03]\n",
      " [  3.80744228e+03  -1.66381046e+02]\n",
      " [  2.64969347e+03   1.53406984e+03]\n",
      " [ -1.11234575e+03   3.39883070e+03]\n",
      " [ -9.31907853e+03   4.65032215e+03]\n",
      " [ -2.68619295e+03   2.93551538e+03]\n",
      " [  1.43624500e+03  -3.90614125e+03]\n",
      " [ -3.02095899e+03   5.92162097e+03]\n",
      " [ -3.10627958e+04   6.40191364e+04]\n",
      " [  2.35778036e+03  -1.45016188e+03]\n",
      " [  3.03317655e+03  -1.45873945e+02]\n",
      " [ -7.09757109e+03  -1.71619709e+03]\n",
      " [ -3.01405328e+03   4.98206698e+02]\n",
      " [  1.86873449e+03  -1.82200714e+03]\n",
      " [  1.91617368e+03   3.75140109e+02]\n",
      " [ -4.85577845e+03  -4.86207699e+02]\n",
      " [  3.02088193e+03   8.12247299e+02]\n",
      " [  1.83765861e+03   1.09710789e+03]\n",
      " [ -1.62089838e+03  -6.12474094e+02]\n",
      " [  2.92808522e+03   1.75930403e+02]\n",
      " [  2.06675013e+04  -5.34832275e+04]\n",
      " [ -1.87687038e+02   3.95121867e+03]\n",
      " [ -2.67673717e+04   3.87718263e+03]\n",
      " [ -8.64760475e+02   3.99610784e+03]\n",
      " [  6.16737671e+03  -2.68875474e+03]\n",
      " [  8.51423084e+02   2.12603952e+03]\n",
      " [  1.12333034e+04   6.08092162e+03]\n",
      " [ -7.57908218e+02  -4.18527287e+03]\n",
      " [  2.78516720e+03  -2.26203274e+03]\n",
      " [  3.30290465e+03  -1.70398338e+03]\n",
      " [ -5.15222394e+02   5.29118249e+03]\n",
      " [ -2.68567343e+03  -5.55449227e+02]\n",
      " [ -6.01914104e+02   5.95738494e+02]\n",
      " [ -9.36872280e+02   5.29542446e+03]\n",
      " [  8.41526111e+03   2.36752334e+03]\n",
      " [  4.92175072e+03  -2.11210050e+03]\n",
      " [ -2.44088216e+03  -6.36117021e+03]\n",
      " [ -1.90935793e+03  -2.97825814e+03]\n",
      " [  3.04442802e+03   4.44979993e+03]\n",
      " [ -1.13170669e+03  -1.45982443e+03]\n",
      " [ -2.18222845e+03   5.18258833e+02]\n",
      " [ -3.58034651e+02   4.55242498e+03]\n",
      " [  3.43419636e+03  -3.13749350e+03]\n",
      " [ -2.91077628e+03   8.65710810e+03]\n",
      " [ -2.13576926e+03  -6.56928089e+02]\n",
      " [ -1.67398224e+03   6.55602294e+01]\n",
      " [  8.54409294e+03  -7.17149467e+03]\n",
      " [  4.02218846e+03  -4.67194972e+03]\n",
      " [  2.86191676e+03  -6.89017954e+03]\n",
      " [  5.58767433e+03   5.31901911e+03]\n",
      " [  9.74636740e+02  -3.13194666e+03]\n",
      " [ -2.59880189e+03   7.47267882e+02]\n",
      " [ -4.92999739e+03  -1.61091157e+03]\n",
      " [  2.98217542e+03  -2.91042245e+03]\n",
      " [ -4.15349333e+03   1.64168501e+03]\n",
      " [ -2.47523332e+03  -1.06749388e+03]\n",
      " [ -1.40476888e+03  -1.93828242e+03]\n",
      " [  7.12894752e+03   4.08554243e+03]\n",
      " [  3.58184031e+04  -4.60176588e+03]\n",
      " [  7.33377230e+03   1.68299093e+03]\n",
      " [ -1.66283221e+03   5.99518720e+02]\n",
      " [ -1.61486469e+03   2.05564846e+03]\n",
      " [ -2.19783506e+03   1.39940379e+03]\n",
      " [ -2.93873575e+03   4.24475807e+03]]\n",
      "[[  2.50384327e+13   4.41879567e+12]\n",
      " [ -2.94969362e+13  -6.10942504e+13]\n",
      " [  1.23653449e+14   1.34322809e+14]\n",
      " [ -8.70136685e+13  -5.75471533e+13]\n",
      " [ -8.99002351e+13  -6.44431784e+13]\n",
      " [ -7.58621158e+13  -7.42554115e+13]\n",
      " [ -6.10495334e+13   7.88369133e+13]\n",
      " [ -4.12465002e+13  -1.15252880e+14]\n",
      " [ -6.68394411e+13  -1.50653776e+13]\n",
      " [ -5.67603857e+13   1.26719159e+13]\n",
      " [ -1.44964524e+14  -1.53407064e+14]\n",
      " [  7.97483660e+13   7.64912822e+13]\n",
      " [  3.80140027e+13  -1.83174091e+13]\n",
      " [ -2.90787486e+13   1.00067362e+14]\n",
      " [ -5.79273583e+13  -1.02372749e+14]\n",
      " [ -1.26679217e+14   9.65363249e+12]\n",
      " [ -9.97860509e+13   4.21307002e+11]\n",
      " [ -3.50343203e+13   4.06618437e+13]\n",
      " [  2.49807903e+13   4.61597008e+13]\n",
      " [ -2.65244856e+12   1.08828063e+14]\n",
      " [ -4.94357989e+13   9.15738289e+13]\n",
      " [  5.83207874e+13   8.45570820e+13]\n",
      " [ -2.65759527e+13   9.27302240e+13]\n",
      " [ -1.08242335e+14  -1.03913930e+14]\n",
      " [ -2.79757180e+13   4.86604559e+13]\n",
      " [  1.24548327e+13   2.85097388e+14]\n",
      " [ -9.56179726e+13  -1.35806454e+14]\n",
      " [ -6.47360024e+11   2.41279430e+13]\n",
      " [ -5.57971510e+13   1.31326071e+13]\n",
      " [ -3.31960966e+13   3.65148302e+13]\n",
      " [ -1.14544189e+14   1.09448871e+14]\n",
      " [  6.08480475e+13   1.22281006e+13]\n",
      " [ -1.17489331e+13   1.01738115e+14]\n",
      " [  9.84057119e+13  -9.28649539e+13]\n",
      " [  4.23280323e+13  -7.54086376e+13]\n",
      " [  1.58826663e+14  -7.95437970e+13]\n",
      " [ -3.72021108e+13  -7.06493877e+12]\n",
      " [ -8.84664885e+13   8.84352895e+11]\n",
      " [ -1.53748834e+14   8.57991642e+13]\n",
      " [ -1.28070290e+14   5.99695150e+13]\n",
      " [  9.08089528e+13   5.39629579e+13]\n",
      " [  1.48177624e+13  -1.00893926e+14]\n",
      " [  1.54632618e+14   8.85118409e+13]\n",
      " [ -9.12076994e+13   9.05956933e+12]\n",
      " [ -6.37281361e+13  -1.64721989e+13]\n",
      " [  1.42145130e+14  -1.45371967e+14]\n",
      " [ -1.17505782e+13   1.00521313e+14]\n",
      " [  4.58582573e+13  -2.37075386e+13]\n",
      " [ -2.30581827e+13  -6.49621224e+13]\n",
      " [  5.00634610e+13  -3.78059731e+13]\n",
      " [  9.79088144e+13   2.50625728e+13]\n",
      " [  8.73625736e+13   2.27307357e+13]\n",
      " [  1.11917799e+14   7.94159788e+13]\n",
      " [  3.64093564e+13   1.02902679e+13]\n",
      " [  2.39789942e+13  -1.46649189e+13]\n",
      " [ -4.99677137e+13  -4.93345718e+13]\n",
      " [  1.19300510e+14   2.67010639e+13]\n",
      " [ -1.72282094e+13   8.42231494e+12]\n",
      " [ -5.98944627e+13  -4.92808361e+13]\n",
      " [  7.67845866e+13  -5.46847766e+13]\n",
      " [ -7.07769561e+13   8.19481079e+13]\n",
      " [ -8.74786905e+13   4.63249260e+12]\n",
      " [  4.45238667e+13   7.17430726e+12]\n",
      " [  4.36224795e+13   2.52636646e+12]\n",
      " [  5.10587744e+13   4.00401152e+13]\n",
      " [  5.46245491e+13   6.42934915e+13]\n",
      " [  9.55468459e+11   5.26866356e+13]\n",
      " [ -3.81955051e+13   1.05243195e+13]\n",
      " [  8.42052587e+13   1.68718960e+13]\n",
      " [ -3.03444831e+13   1.47855863e+13]\n",
      " [ -5.26421597e+13  -3.44147397e+13]\n",
      " [ -7.10470611e+13   3.80797224e+13]\n",
      " [ -1.22222345e+13  -7.46094690e+12]\n",
      " [  2.00460222e+13  -6.37164048e+13]\n",
      " [ -6.02724191e+13  -2.47908327e+13]\n",
      " [  1.71232461e+13   4.24985002e+12]\n",
      " [ -3.78551633e+13  -5.85527762e+13]\n",
      " [  8.17906991e+13  -6.07078734e+12]\n",
      " [  3.15483744e+12  -1.49073962e+13]\n",
      " [ -5.31805524e+13  -1.11279914e+14]\n",
      " [  1.73197844e+13   9.44240860e+13]\n",
      " [  3.48624914e+13  -1.71767249e+13]\n",
      " [  2.70661773e+13   6.59509535e+11]\n",
      " [  3.40270319e+12  -7.07724362e+13]\n",
      " [ -1.64897221e+14   5.97590112e+13]\n",
      " [ -4.17785061e+13   4.70488205e+13]\n",
      " [  1.27273481e+13  -6.09280222e+13]\n",
      " [ -2.14148718e+13   2.91539424e+13]\n",
      " [ -1.74684822e+13   6.47989073e+13]\n",
      " [ -7.66545668e+13   5.39956046e+13]\n",
      " [ -6.64731644e+13  -3.40709402e+13]\n",
      " [ -5.31561080e+13   8.59521833e+11]\n",
      " [ -2.99744549e+13  -3.28662304e+13]\n",
      " [  2.73724442e+12   3.21640503e+13]\n",
      " [  9.13464194e+13  -4.57020960e+13]\n",
      " [ -9.23591010e+13  -7.32514042e+12]\n",
      " [  4.15561986e+12   1.05023326e+13]\n",
      " [ -4.66872332e+13  -2.15699743e+13]\n",
      " [  6.67476708e+13  -9.74220414e+12]\n",
      " [  1.53418730e+13  -8.23526741e+13]\n",
      " [  5.84188985e+13   5.96364186e+13]\n",
      " [ -5.14272787e+13  -4.24945794e+13]\n",
      " [  4.91234557e+13  -1.63091628e+13]\n",
      " [  5.01699231e+13  -7.07587517e+13]\n",
      " [  2.92759306e+13  -6.31508419e+13]\n",
      " [  2.36091575e+13   2.76749620e+13]\n",
      " [  1.62686346e+13   2.01325006e+12]\n",
      " [  8.61221079e+13  -4.04923406e+13]\n",
      " [ -1.61864096e+12  -3.62037327e+13]\n",
      " [ -2.72211593e+13   2.84471011e+13]\n",
      " [ -2.16669868e+13   4.05488934e+12]\n",
      " [  4.85079430e+12  -4.51754499e+13]\n",
      " [  7.95503423e+13   6.13655805e+13]\n",
      " [  2.90546147e+13  -3.55553116e+13]\n",
      " [  7.43101111e+13   6.41705274e+13]\n",
      " [  2.54179911e+13  -3.33910617e+12]\n",
      " [  1.08748344e+13  -3.77870867e+13]\n",
      " [  1.20266956e+14   1.13366152e+13]\n",
      " [ -1.68201495e+13  -9.80673672e+13]\n",
      " [ -3.33015731e+13  -3.32327239e+13]\n",
      " [  9.31068739e+13  -2.29027710e+13]\n",
      " [  2.18779144e+13  -3.46690415e+13]\n",
      " [  3.83583750e+13   1.78826551e+13]\n",
      " [ -7.79814468e+12  -6.03640334e+12]\n",
      " [ -1.02131306e+13  -2.21996956e+13]\n",
      " [ -8.21025007e+12   1.86568075e+11]\n",
      " [  6.71501388e+12   1.00848372e+13]\n",
      " [  1.52754348e+13  -3.23350381e+12]\n",
      " [ -1.21196055e+11   5.96449157e+12]\n",
      " [  5.60795706e+11   7.75430898e+12]\n",
      " [ -9.33783683e+12   1.07717563e+12]\n",
      " [ -1.44346339e+13   1.34551136e+13]\n",
      " [ -7.78571316e+12  -6.14459430e+12]\n",
      " [  2.38532334e+12   6.79562481e+12]\n",
      " [  8.32229828e+12   3.02976482e+13]\n",
      " [  8.14296050e+12  -4.92287186e+12]\n",
      " [  1.12068346e+13   5.25705452e+12]\n",
      " [  9.32603516e+12   8.20296905e+11]\n",
      " [ -8.21043993e+12  -1.00117656e+13]\n",
      " [  3.90667452e+12  -7.57855328e+12]\n",
      " [  9.37354907e+12   1.65169058e+13]\n",
      " [ -1.37336914e+13  -1.08615844e+12]\n",
      " [  3.15660126e+12  -7.60500457e+11]\n",
      " [  1.01408782e+13   1.81661838e+12]\n",
      " [  2.01587623e+12  -2.01564464e+13]\n",
      " [  3.93988406e+12   2.06380547e+13]\n",
      " [  1.14709904e+13   1.93077060e+13]\n",
      " [ -8.76736938e+12   7.60733843e+12]\n",
      " [  1.85165963e+13  -4.85559493e+11]\n",
      " [ -6.87168904e+12   2.48401343e+13]\n",
      " [  1.65087695e+13  -5.05998658e+11]\n",
      " [  1.79449363e+12   7.49821357e+12]\n",
      " [ -5.50126367e+12  -5.52310488e+12]\n",
      " [  3.01387626e+12  -9.99870805e+12]\n",
      " [  8.61005509e+12  -7.88856647e+12]\n",
      " [  1.02202756e+13   3.59705625e+12]\n",
      " [ -6.35759626e+12   1.63032502e+13]\n",
      " [ -6.49404531e+12  -2.56090114e+12]\n",
      " [  6.51494975e+12  -2.46834725e+12]\n",
      " [  1.40384447e+13   6.53912469e+13]\n",
      " [  3.86590538e+13  -7.37081325e+12]\n",
      " [  4.18517003e+12   5.71812989e+12]\n",
      " [  3.79583227e+11  -1.79564991e+13]\n",
      " [ -1.52234753e+13  -3.13802250e+12]\n",
      " [ -2.82948735e+13   6.56655596e+12]\n",
      " [  4.50785666e+12  -6.08429873e+12]\n",
      " [  1.39939329e+13  -2.12221972e+12]\n",
      " [ -7.22916016e+12   5.56879314e+12]\n",
      " [ -1.91742016e+12  -2.03932874e+12]\n",
      " [ -8.73445019e+12   5.37209869e+12]\n",
      " [ -1.85652180e+12  -1.07889039e+13]\n",
      " [ -5.61808569e+12   1.29697228e+13]\n",
      " [ -7.90326849e+12   2.41943695e+12]\n",
      " [  3.58920287e+13  -1.30151748e+13]\n",
      " [ -1.02670125e+13  -1.29068484e+12]\n",
      " [ -2.26731839e+12  -5.59414394e+12]\n",
      " [ -2.02287588e+12  -8.09456367e+12]\n",
      " [ -1.27782974e+13  -1.29845125e+12]\n",
      " [  1.05915009e+13   9.04539896e+12]\n",
      " [  1.03371135e+13  -7.81200470e+12]\n",
      " [ -4.99929982e+13  -2.29359832e+13]\n",
      " [ -4.43898176e+12  -9.03971199e+11]\n",
      " [ -1.21288793e+13  -5.29083408e+12]\n",
      " [  2.33617241e+13   1.15326774e+13]\n",
      " [  2.48122794e+13  -5.79968846e+12]\n",
      " [  1.49237437e+13   4.09604257e+12]\n",
      " [ -1.21553305e+12   8.83183391e+12]\n",
      " [ -3.23296009e+13  -4.99110976e+12]\n",
      " [  1.25748658e+13   6.72639478e+12]\n",
      " [ -1.22127842e+13   1.69571159e+13]]\n"
     ]
    },
    {
     "name": "stderr",
     "output_type": "stream",
     "text": [
      "/Users/saikiranchikine/anaconda/lib/python2.7/site-packages/ipykernel/__main__.py:39: RuntimeWarning: invalid value encountered in true_divide\n",
      "/Users/saikiranchikine/anaconda/lib/python2.7/site-packages/ipykernel/__main__.py:40: RuntimeWarning: invalid value encountered in true_divide\n"
     ]
    }
   ],
   "source": [
    "def gravity():\n",
    "    \n",
    "    global velocityDistribution\n",
    "    global xyDistribution\n",
    "    \n",
    "    deltaV = np.zeros_like(xyDistribution, dtype = np.float)\n",
    "    for j in range(0, nParticles):\n",
    "        for k in range(0, nParticles):\n",
    "            if (k!=j):\n",
    "                xdist = (xyDistribution[j,0]-xyDistribution[k,0])\n",
    "                ydist = (xyDistribution[j,1]-xyDistribution[k,1])\n",
    "                #print(xdist)\n",
    "                #print(ydist)\n",
    "\n",
    "                if(xdist==0):\n",
    "                    deltaV[j,0] += 0\n",
    "                elif(xdist!=0):\n",
    "                    deltaV[j,0] += -G*mDistribution[j]*xdist/((np.sqrt(xdist**2+ydist**2))**3)\n",
    "                    #print(\"blah\", -G*mDistribution[i]/(np.sqrt(abs(position[j,0]-position[i,0]))**2))\n",
    "                    #print(\"v\", i, \"x\", velocityDistribution[i,0])\n",
    "\n",
    "                if(ydist==0):\n",
    "                    deltaV[j,1] += 0\n",
    "                elif(ydist!=0):\n",
    "                    deltaV[j,1] += -G*mDistribution[j]*ydist/((np.sqrt(xdist**2+ydist**2))**3)\n",
    "                    #print(\"v\", i, \"y\", velocityDistribution[i,1])\n",
    "    return deltaV\n",
    "\n",
    "nb_gravity = nb.autojit(gravity)\n",
    "\n",
    "print nb_gravity()\n",
    "print gradP()"
   ]
  },
  {
   "cell_type": "markdown",
   "metadata": {},
   "source": [
    "### Run Through RK1 (for gravity, not pressure)"
   ]
  },
  {
   "cell_type": "code",
   "execution_count": 441,
   "metadata": {
    "collapsed": false
   },
   "outputs": [
    {
     "name": "stderr",
     "output_type": "stream",
     "text": [
      "/Users/saikiranchikine/anaconda/lib/python2.7/site-packages/ipykernel/__main__.py:39: RuntimeWarning: invalid value encountered in true_divide\n",
      "/Users/saikiranchikine/anaconda/lib/python2.7/site-packages/ipykernel/__main__.py:40: RuntimeWarning: invalid value encountered in true_divide\n"
     ]
    }
   ],
   "source": [
    "# RK1 Parameters\n",
    "t = 0\n",
    "dt = 1e-4\n",
    "stepN = 100\n",
    "\n",
    "# Particle history\n",
    "ParticlePositionHistory = np.zeros((stepN,nParticles,2))\n",
    "ParticleVelocityHistory = np.zeros((nParticles,2,stepN))\n",
    "\n",
    "deltaVf = np.zeros_like(xyDistribution, dtype = np.float)\n",
    "\n",
    "for i in range(stepN):\n",
    "    t += 1\n",
    "    ParticlePositionHistory[i,:,:] = xyDistribution\n",
    "    deltaVf += nb_gravity()\n",
    "    deltaVf += -gradP()/rhoDistribution[:,np.newaxis]\n",
    "    delta \\Vf -= v*velocityDistribution\n",
    "    velocityDistribution += dt*deltaVf\n",
    "    #deltaPos = velocityDistribution * dt\n",
    "    xyDistribution += dt*velocityDistribution\n",
    "    \n",
    "### --- Debugging --- ###\n",
    "#    print \"Mean velocity at timestep\", t, \"\\n\", np.mean(deltaV)\n",
    "#    print \"deltaV at timestep\", t, \"\\n\", deltaV\n",
    "#    print \"deltaPos at timestep\", t, \"\\n\", deltaPos\n",
    "#    print \"velocityDistribution at timestep\", t, \"\\n\", velocityDistribution\n",
    "\n",
    "#     print \"deltaPos:\\n\", deltaPos\n",
    "#     print \"xyDistribution:\\n\", xyDistribution\n",
    "\n",
    "#     ParticleVelocityHistory[:,:,i] = -gradP()/rhoDistribution[:,np.newaxis] * dt\n"
   ]
  },
  {
   "cell_type": "markdown",
   "metadata": {},
   "source": [
    "### Plot Position Change"
   ]
  },
  {
   "cell_type": "code",
   "execution_count": 442,
   "metadata": {
    "collapsed": false
   },
   "outputs": [
    {
     "data": {
      "image/png": "[encoded data removed]",
      "text/plain": [
       "<matplotlib.figure.Figure at 0x10d5b2e50>"
      ]
     },
     "metadata": {},
     "output_type": "display_data"
    }
   ],
   "source": [
    "slider = FloatSlider(description='Time', min=0, max=stepN, step=1)\n",
    "\n",
    "def update_plot():\n",
    "    time=slider.value\n",
    "    x = ParticlePositionHistory[time-1,:,0]\n",
    "    y = ParticlePositionHistory[time-1,:,1]\n",
    "    fig = plt.figure(figsize=(10,10))\n",
    "    plt.scatter(x, y)\n",
    "    plt.xlim(-2e10, 2e10)\n",
    "    plt.ylim(-2e10, 2e10)\n",
    "\n",
    "    clear_output(True)\n",
    "\n",
    "slider.on_trait_change(update_plot, 'value')\n",
    "\n",
    "\n",
    "display(slider)\n",
    "update_plot()"
   ]
  },
  {
   "cell_type": "markdown",
   "metadata": {},
   "source": [
    "### Model Initial Gravitational Force\n",
    "\n",
    "#### Need to Run Entire Code to get reliable visuals! \n",
    "\n",
    "* Looking into https://www.wakari.io/sharing/bundle/yves/Continuum_N_Body_Simulation_Numba to do calcs\n",
    "* Here has better approaches http://www.scholarpedia.org/article/N-body_simulations, but no code\n",
    "* Ripping code from here: http://hilpisch.com/Continuum_N_Body_Simulation_Numba_27072013.html#/5/1\n",
    "\n",
    "* The difference in position appears directly proportional to the size of time step\n",
    "\n",
    "* A time step of e-21 allows the planet to stay relatively clumped up after 10000 RK1 steps\n",
    "    * ie: Less than 10 particles were ejected into oblivion\n",
    "    \n",
    "\\begin{equation}\n",
    "\\frac{d^2x}{dt^2} = -GM\\frac{x}{r^3} = -GM\\frac{\\|x\\|}{\\|r\\|^3} = -GM\\frac{\\|x\\|}{\\|\\sqrt{x^2+y^2}\\|^3}\n",
    "\\end{equation}\n",
    "\n",
    "\\begin{equation}\n",
    "\\frac{d^2y}{dt^2} = -GM\\frac{y}{r^3} = -GM\\frac{\\|y\\|}{\\|r\\|^3} = -GM\\frac{\\|y\\|}{\\|\\sqrt{x^2+y^2}\\|^3}\n",
    "\\end{equation}\n",
    "\n",
    "Taken from Newman, page 386"
   ]
  },
  {
   "cell_type": "code",
   "execution_count": 443,
   "metadata": {
    "collapsed": false
   },
   "outputs": [],
   "source": [
    "# def gravity(position, velocity):\n",
    "#     '''\n",
    "#     Runs RK4 to update velocity and position. Takes numpy arrays as input.\n",
    "#     '''\n",
    "#     t0 = time.time(); nSteps = 100; dt = 1        \n",
    "#     for step in range(1, nSteps + 1, 1):\n",
    "#         for i in range(len(position)):\n",
    "#             potentialX = 0.0; potentialY = 0.0\n",
    "#             for j in range(len(position)):\n",
    "#                 if j != i:\n",
    "#                     deltaX = position[j,0] - position[i,0]\n",
    "#                     deltaY = position[j,1] - position[i,1]\n",
    "                    \n",
    "#                     k1X = dt * -G * mDistribution[j] * deltaX / ((np.sqrt(deltaX**2 + deltaY**2))**3)\n",
    "# #                    k2X = dt * -G * mDistribution[j] * (deltaX + 0.5*k1X)/ ((np.sqrt((deltaX + 0.5*k1X)**2 + deltaY**2))**3)\n",
    "# #                    k3X = dt * -G * mDistribution[j] * (deltaX + 0.5*k2X)/ ((np.sqrt((deltaX + 0.5*k2X)**2 + deltaY**2))**3)\n",
    "# #                    k4X = dt * -G * mDistribution[j] * (deltaX + k3X)/ ((np.sqrt((deltaX + k3X)**2 + deltaY**2))**3)\n",
    "                    \n",
    "#                     k1Y = dt * -G * mDistribution[j] * deltaY / ((np.sqrt(deltaX**2 + deltaY**2))**3)\n",
    "# #                    k2Y = dt * -G * mDistribution[j] * (deltaY + 0.5*k1Y)/ ((np.sqrt((deltaY + 0.5*k1Y)**2 + deltaX**2))**3)\n",
    "# #                    k3Y = dt * -G * mDistribution[j] * (deltaY + 0.5*k2Y)/ ((np.sqrt((deltaY + 0.5*k2Y)**2 + deltaX**2))**3)\n",
    "# #                    k4Y = dt * -G * mDistribution[j] * (deltaY + k3Y)/ ((np.sqrt((deltaY + k3Y)**2 + deltaX**2))**3)\n",
    "\n",
    "#                 velocity[i, 0] = k1X\n",
    "#                 velocity[i, 1] = k1Y\n",
    "# #                velocity[i, 0] += 1/6 * (k1X + 2*k2X + 2*k3X + k4X)\n",
    "# #                velocity[i, 1] += 1/6 * (k1Y + 2*k2Y + 2*k3Y + k4Y)\n",
    "#         for i in range(len(xyDistribution)):\n",
    "#             position[i,0] += velocity[i,0] * dt\n",
    "#             position[i,1] += velocity[i,1] * dt"
   ]
  },
  {
   "cell_type": "code",
   "execution_count": 444,
   "metadata": {
    "collapsed": false
   },
   "outputs": [],
   "source": [
    "# xyDistributionOld = np.copy(xyDistribution)\n",
    "\n",
    "# nbody_nb = nb.autojit(gravity)\n",
    "# firstrun = nbody_nb(xyDistribution, velocityDistribution)"
   ]
  },
  {
   "cell_type": "code",
   "execution_count": 445,
   "metadata": {
    "collapsed": false
   },
   "outputs": [],
   "source": [
    "# print xyDistribution - xyDistributionOld\n",
    "\n",
    "\n",
    "# # [[-14817.86252546 -14254.34422445]\n",
    "# #  [ 16439.8530407  -10828.22849607]\n",
    "# #  [  -458.2766366   -6007.35716319]\n",
    "# #  ..., \n",
    "# #  [-44791.12577057 -49775.21155739]\n",
    "# #  [ -7136.9473145   57910.45627022]\n",
    "# #  [ 10065.26782036  57367.43893051]]"
   ]
  },
  {
   "cell_type": "code",
   "execution_count": 446,
   "metadata": {
    "collapsed": false
   },
   "outputs": [],
   "source": [
    "# plt.figure(figsize=(10,10))\n",
    "# plt.scatter(xyDistribution[:,0], xyDistribution[:,1], c='b')\n",
    "# plt.scatter(xyDistributionOld[:,0], xyDistributionOld[:,1], c='y')\n",
    "# plt.xlim(-0.5e11, 0.5e11)\n",
    "# plt.ylim(-0.5e11, 0.5e11)\n",
    "# plt.title(\"Close-up of the Planet after 10K Time Steps\")\n",
    "# plt.plot()"
   ]
  },
  {
   "cell_type": "code",
   "execution_count": 447,
   "metadata": {
    "collapsed": false
   },
   "outputs": [],
   "source": [
    "# plt.figure(figsize=(10,10))\n",
    "# plt.scatter(xyDistribution[:,0], xyDistribution[:,1], c='b')\n",
    "# plt.scatter(xyDistributionOld[:,0], xyDistributionOld[:,1], c='y')\n",
    "# plt.title(\"All the Particles of the Planet after 10K Time Steps\")\n",
    "# plt.plot()"
   ]
  },
  {
   "cell_type": "markdown",
   "metadata": {},
   "source": [
    "### Calculate Pressure Gradient\n"
   ]
  },
  {
   "cell_type": "code",
   "execution_count": 448,
   "metadata": {
    "collapsed": false
   },
   "outputs": [
    {
     "name": "stdout",
     "output_type": "stream",
     "text": [
      "5775968196.56\n",
      "121.097880422\n"
     ]
    },
    {
     "name": "stderr",
     "output_type": "stream",
     "text": [
      "/Users/saikiranchikine/anaconda/lib/python2.7/site-packages/ipykernel/__main__.py:39: RuntimeWarning: invalid value encountered in true_divide\n",
      "/Users/saikiranchikine/anaconda/lib/python2.7/site-packages/ipykernel/__main__.py:40: RuntimeWarning: invalid value encountered in true_divide\n"
     ]
    }
   ],
   "source": [
    "print np.mean(gradP())\n",
    "print np.mean(gravity())"
   ]
  },
  {
   "cell_type": "code",
   "execution_count": null,
   "metadata": {
    "collapsed": true
   },
   "outputs": [],
   "source": []
  }
 ],
 "metadata": {
  "kernelspec": {
   "display_name": "Python 2",
   "language": "python",
   "name": "python2"
  },
  "language_info": {
   "codemirror_mode": {
    "name": "ipython",
    "version": 2
   },
   "file_extension": ".py",
   "mimetype": "text/x-python",
   "name": "python",
   "nbconvert_exporter": "python",
   "pygments_lexer": "ipython2",
   "version": "2.7.10"
  }
 },
 "nbformat": 4,
 "nbformat_minor": 0
}
