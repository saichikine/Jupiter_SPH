{
 "cells": [
  {
   "cell_type": "markdown",
   "metadata": {},
   "source": [
    "Source: http://hilpisch.com/Continuum_N_Body_Simulation_Numba_27072013.html#/5/1"
   ]
  },
  {
   "cell_type": "code",
   "execution_count": 3,
   "metadata": {
    "collapsed": true
   },
   "outputs": [],
   "source": [
    "import numpy as np"
   ]
  },
  {
   "cell_type": "code",
   "execution_count": 4,
   "metadata": {
    "collapsed": false
   },
   "outputs": [],
   "source": [
    "nParticles = 1000\n",
    "particle = np.random.standard_normal((nParticles, 3))\n",
    "particlev = np.zeros_like(particle)"
   ]
  },
  {
   "cell_type": "code",
   "execution_count": 13,
   "metadata": {
    "collapsed": false
   },
   "outputs": [
    {
     "name": "stdout",
     "output_type": "stream",
     "text": [
      "(1000L, 3L)\n"
     ]
    }
   ],
   "source": []
  },
  {
   "cell_type": "code",
   "execution_count": 5,
   "metadata": {
    "collapsed": true
   },
   "outputs": [],
   "source": [
    "import time"
   ]
  },
  {
   "cell_type": "code",
   "execution_count": 9,
   "metadata": {
    "collapsed": true
   },
   "outputs": [],
   "source": [
    "def nbody(particle, particlev):  # NumPy arrays as input\n",
    "    t0 = time.time(); nSteps = 5; dt = 0.01\n",
    "    for step in range(1, nSteps + 1, 1):\n",
    "        for i in range(nParticles):\n",
    "            Fx = 0.0; Fy = 0.0; Fz = 0.0\n",
    "            for j in range(nParticles):\n",
    "                if j != i:\n",
    "                    # Differential is distance between particle i and j's\n",
    "                    dx = particle[j,0] - particle[i,0]\n",
    "                    dy = particle[j,1] - particle[i,1]\n",
    "                    dz = particle[j,2] - particle[i,2]\n",
    "                    drSquared = dx * dx + dy * dy + dz * dz\n",
    "                    drPowerN32 = 1.0 / (drSquared + np.sqrt(drSquared))\n",
    "                    Fx += dx * drPowerN32\n",
    "                    Fy += dy * drPowerN32\n",
    "                    Fz += dz * drPowerN32\n",
    "                particlev[i, 0] += dt * Fx\n",
    "                particlev[i, 1] += dt * Fy\n",
    "                particlev[i, 2] += dt * Fz\n",
    "        for i in range(nParticles):\n",
    "            particle[i,0] += particlev[i,0] * dt\n",
    "            particle[i,1] += particlev[i,1] * dt\n",
    "            particle[i,2] += particlev[i,2] * dt\n",
    "    return time.time() - t0"
   ]
  },
  {
   "cell_type": "code",
   "execution_count": 10,
   "metadata": {
    "collapsed": true
   },
   "outputs": [],
   "source": [
    "import numba as nb"
   ]
  },
  {
   "cell_type": "code",
   "execution_count": 12,
   "metadata": {
    "collapsed": false
   },
   "outputs": [
    {
     "name": "stdout",
     "output_type": "stream",
     "text": [
      "0.25\n"
     ]
    }
   ],
   "source": [
    "nbody_nb = nb.autojit(nbody)\n",
    "firstrun = nbody_nb(particle, particlev)\n",
    "print firstrun"
   ]
  },
  {
   "cell_type": "code",
   "execution_count": null,
   "metadata": {
    "collapsed": true
   },
   "outputs": [],
   "source": []
  }
 ],
 "metadata": {
  "kernelspec": {
   "display_name": "Python 2",
   "language": "python",
   "name": "python2"
  },
  "language_info": {
   "codemirror_mode": {
    "name": "ipython",
    "version": 2
   },
   "file_extension": ".py",
   "mimetype": "text/x-python",
   "name": "python",
   "nbconvert_exporter": "python",
   "pygments_lexer": "ipython2",
   "version": "2.7.10"
  }
 },
 "nbformat": 4,
 "nbformat_minor": 0
}
