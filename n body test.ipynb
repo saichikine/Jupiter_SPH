{
 "cells": [
  {
   "cell_type": "code",
   "execution_count": 280,
   "metadata": {
    "collapsed": false
   },
   "outputs": [
    {
     "name": "stdout",
     "output_type": "stream",
     "text": [
      "Populating the interactive namespace from numpy and matplotlib\n"
     ]
    }
   ],
   "source": [
    "%pylab inline\n",
    "\n",
    "from __future__ import print_function, division\n",
    "\n",
    "import numpy as np\n",
    "import matplotlib.pyplot as plt\n",
    "from matplotlib import animation\n",
    "from matplotlib.collections import PatchCollection\n",
    "\n",
    "from ipywidgets import interact, HTML, FloatSlider\n",
    "from IPython.display import clear_output, display\n",
    "\n",
    "import numba as nb\n",
    "import time"
   ]
  },
  {
   "cell_type": "code",
   "execution_count": 281,
   "metadata": {
    "collapsed": true
   },
   "outputs": [],
   "source": [
    "G = 6.67e-8\n",
    "\n",
    "dt = 1e-2\n",
    "stepN = 100"
   ]
  },
  {
   "cell_type": "code",
   "execution_count": 282,
   "metadata": {
    "collapsed": false
   },
   "outputs": [],
   "source": [
    "# xyDistribution = [\n",
    "#                  [1000.0, 1000.0],\n",
    "#                  [-1000.0, -1000.0],\n",
    "#                  [-1000.0, 1000.0]\n",
    "#                  ]\n",
    "\n",
    "#xyDistribution=np.array(xyDistribution)\n",
    "#print(xyDistribution.shape)\n",
    "nParticles = 50\n",
    "xyDistribution = np.random.normal(0, 5e7, size = (nParticles, 2))\n",
    "velocityDistribution = np.zeros_like(xyDistribution, dtype = np.float)\n",
    "\n",
    "\n",
    "#mDistribution = [3e14, 3e14, 3e14]\n",
    "mDistribution = np.ones(nParticles, dtype=float) * 2e27\n",
    "\n",
    "ParticlePositionHistory = np.zeros((stepN,nParticles,2))\n",
    "\n",
    "timeArray = np.zeros(stepN)\n",
    "for i in range(stepN):\n",
    "    timeArray[i] = i*dt"
   ]
  },
  {
   "cell_type": "code",
   "execution_count": 283,
   "metadata": {
    "collapsed": false
   },
   "outputs": [
    {
     "data": {
      "text/plain": [
       "[]"
      ]
     },
     "execution_count": 283,
     "metadata": {},
     "output_type": "execute_result"
    },
    {
     "data": {
      "image/png": "[encoded data removed]",
      "text/plain": [
       "<matplotlib.figure.Figure at 0x109f9b310>"
      ]
     },
     "metadata": {},
     "output_type": "display_data"
    }
   ],
   "source": [
    "plt.figure(figsize=(10,10))\n",
    "plt.scatter(xyDistribution[:,0], xyDistribution[:,1], c='b')\n",
    "plt.xlim(-2e8, 2e8)\n",
    "plt.ylim(-2e8, 2e8)\n",
    "plt.plot()"
   ]
  },
  {
   "cell_type": "code",
   "execution_count": 284,
   "metadata": {
    "collapsed": false
   },
   "outputs": [],
   "source": [
    "def gravityvelocity(dt, stepN):\n",
    "    \n",
    "    global velocityDistribution\n",
    "    global xyDistribution\n",
    "    \n",
    "    deltaV = np.zeros_like(xyDistribution, dtype = np.float)\n",
    "    #t = 0\n",
    "    for i in range(stepN):\n",
    "        #t+=dt\n",
    "        #print(i)\n",
    "        for j in range(0, len(mDistribution)):\n",
    "            for k in range(0, len(mDistribution)):\n",
    "                if (k!=j):\n",
    "                    xdist = (xyDistribution[j,0]-xyDistribution[k,0])\n",
    "                    ydist = (xyDistribution[j,1]-xyDistribution[k,1])\n",
    "                    #print(xdist)\n",
    "                    #print(ydist)\n",
    "\n",
    "                    if(xdist==0):\n",
    "                        deltaV[j,0] += 0\n",
    "                    elif(xdist!=0):\n",
    "                        deltaV[j,0] += -G*mDistribution[j]*xdist/((np.sqrt(xdist**2+ydist**2))**3)\n",
    "                        #print(\"blah\", -G*mDistribution[i]/(np.sqrt(abs(position[j,0]-position[i,0]))**2))\n",
    "                        #print(\"v\", i, \"x\", velocityDistribution[i,0])\n",
    "\n",
    "                    if(ydist==0):\n",
    "                        deltaV[j,1] += 0\n",
    "                    elif(ydist!=0):\n",
    "                        deltaV[j,1] += -G*mDistribution[j]*ydist/((np.sqrt(xdist**2+ydist**2))**3)\n",
    "                        #print(\"v\", i, \"y\", velocityDistribution[i,1])\n",
    "        \n",
    "        velocityDistribution += dt*deltaV\n",
    "        #print(\"2nd\", i)\n",
    "        xyDistribution += dt*velocityDistribution\n",
    "        ParticlePositionHistory[i,:,:] = xyDistribution\n",
    "        #print(i, ParticlePositionHistory)\n",
    "    print(np.sqrt(xdist**2+ydist**2))"
   ]
  },
  {
   "cell_type": "code",
   "execution_count": 285,
   "metadata": {
    "collapsed": true
   },
   "outputs": [],
   "source": [
    "# def position(dt, stepN):\n",
    "    \n",
    "#     global xyDistribution\n",
    "    \n",
    "#     for i in range(stepN):\n",
    "#         xyDistribution += dt*velocitydistribution"
   ]
  },
  {
   "cell_type": "code",
   "execution_count": 286,
   "metadata": {
    "collapsed": false
   },
   "outputs": [],
   "source": [
    "# def RK1(f, dt, position, velocity, stepN):\n",
    "    \n",
    "#     t = 0\n",
    "#     for i in range(stepN):\n",
    "#         t+=dt\n",
    "#         velocity += dt*gravity(position, velocity)\n",
    "#         ParticlePositionHistory[:,:,i] = position #WRONG\n",
    "#     #print(position)\n",
    "#     #print(position.shape)\n",
    "#     return position"
   ]
  },
  {
   "cell_type": "code",
   "execution_count": 287,
   "metadata": {
    "collapsed": false,
    "scrolled": true
   },
   "outputs": [
    {
     "name": "stdout",
     "output_type": "stream",
     "text": [
      "1100354136.82\n",
      "6.26197814941\n"
     ]
    }
   ],
   "source": [
    "xyDistributionOld = np.copy(xyDistribution) \n",
    "\n",
    "\n",
    "# numbaRK = nb.autojit(RK1)\n",
    "# numbaGrav = nb.autojit(gravity)\n",
    "t0 = time.time()\n",
    "# velocityDistribution = RK1(gravity, dt, xyDistribution, velocityDistribution, stepN)\n",
    "# xyDistribution = RK1()\n",
    "gravityvelocity(dt,stepN)\n",
    "#position(dt,stepN)\n",
    "t1 = time.time()\n",
    "print(t1-t0)\n",
    "#print (xyDistribution)\n"
   ]
  },
  {
   "cell_type": "code",
   "execution_count": 288,
   "metadata": {
    "collapsed": false,
    "scrolled": false
   },
   "outputs": [
    {
     "data": {
      "text/plain": [
       "[]"
      ]
     },
     "execution_count": 288,
     "metadata": {},
     "output_type": "execute_result"
    },
    {
     "data": {
      "image/png": "[encoded data removed]",
      "text/plain": [
       "<matplotlib.figure.Figure at 0x10a092a90>"
      ]
     },
     "metadata": {},
     "output_type": "display_data"
    }
   ],
   "source": [
    "plt.figure(figsize=(10,10))\n",
    "plt.scatter(xyDistributionOld[:,0], xyDistributionOld[:,1], c='y')\n",
    "plt.scatter(xyDistribution[:,0], xyDistribution[:,1], c='b')\n",
    "plt.title(\"All the Particles of the Planet after some time steps\")\n",
    "plt.xlim(-2e8, 2e8)\n",
    "plt.ylim(-2e8, 2e8)\n",
    "plt.plot()\n",
    "#print(ParticlePositionHistory)\n",
    "\n",
    "# plt.figure(figsize=(10,10))\n",
    "# plt.scatter(ParticlePositionHistory[9,:,0], ParticlePositionHistory[9,:,1])\n",
    "# plt.xlim(-2000, 2000)\n",
    "# plt.ylim(-2000, 2000)\n",
    "# plt.plot()\n"
   ]
  },
  {
   "cell_type": "code",
   "execution_count": 289,
   "metadata": {
    "collapsed": false
   },
   "outputs": [
    {
     "data": {
      "image/png": "[encoded data removed]",
      "text/plain": [
       "<matplotlib.figure.Figure at 0x109c25cd0>"
      ]
     },
     "metadata": {},
     "output_type": "display_data"
    }
   ],
   "source": [
    "slider = FloatSlider(description='Time', min=0, max=stepN, step=1)\n",
    "\n",
    "def update_plot():\n",
    "    time=slider.value\n",
    "    x = ParticlePositionHistory[time-1,:,0]\n",
    "    y = ParticlePositionHistory[time-1,:,1]\n",
    "    fig = plt.figure()\n",
    "    plt.scatter(x, y)\n",
    "    plt.xlim(-2e8,2e8)\n",
    "    plt.ylim(-2e8,2e8)\n",
    "\n",
    "    clear_output(True)\n",
    "\n",
    "slider.on_trait_change(update_plot, 'value')\n",
    "\n",
    "\n",
    "display(slider)\n",
    "update_plot()"
   ]
  }
 ],
 "metadata": {
  "kernelspec": {
   "display_name": "Python 2",
   "language": "python",
   "name": "python2"
  },
  "language_info": {
   "codemirror_mode": {
    "name": "ipython",
    "version": 2
   },
   "file_extension": ".py",
   "mimetype": "text/x-python",
   "name": "python",
   "nbconvert_exporter": "python",
   "pygments_lexer": "ipython2",
   "version": "2.7.10"
  }
 },
 "nbformat": 4,
 "nbformat_minor": 0
}
