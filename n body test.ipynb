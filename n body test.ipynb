{
 "cells": [
  {
   "cell_type": "code",
   "execution_count": 416,
   "metadata": {
    "collapsed": false
   },
   "outputs": [
    {
     "name": "stdout",
     "output_type": "stream",
     "text": [
      "Populating the interactive namespace from numpy and matplotlib\n"
     ]
    }
   ],
   "source": [
    "%pylab inline\n",
    "\n",
    "from __future__ import print_function, division\n",
    "\n",
    "import numpy as np\n",
    "import matplotlib.pyplot as plt\n",
    "from matplotlib import animation\n",
    "from matplotlib.collections import PatchCollection\n",
    "\n",
    "from ipywidgets import interact, HTML, FloatSlider\n",
    "from IPython.display import clear_output, display\n",
    "\n",
    "import numba as nb\n",
    "import time"
   ]
  },
  {
   "cell_type": "code",
   "execution_count": 417,
   "metadata": {
    "collapsed": true
   },
   "outputs": [],
   "source": [
    "G = 6.67e-11\n",
    "\n",
    "dt = 10\n",
    "stepN = 10"
   ]
  },
  {
   "cell_type": "code",
   "execution_count": 418,
   "metadata": {
    "collapsed": false
   },
   "outputs": [],
   "source": [
    "xyDistribution = [\n",
    "                 [1000.0, 1000.0],\n",
    "                 [-1000.0, -1000.0],\n",
    "                 ]\n",
    "\n",
    "xyDistribution=np.array(xyDistribution)\n",
    "#print(xyDistribution.shape)\n",
    "nParticles = 2\n",
    "# xyDistribution = np.random.normal(0, 500, size = (nParticles, 2))\n",
    "velocityDistribution = np.zeros_like(xyDistribution, dtype = np.float)\n",
    "\n",
    "\n",
    "mDistribution = [3e14, 3e14]\n",
    "#mDistribution = np.ones(nParticles, dtype=float) * 3e14\n",
    "\n",
    "ParticlePositionHistory = np.zeros((stepN,nParticles,2))\n",
    "\n",
    "timeArray = np.zeros(stepN)\n",
    "for i in range(stepN):\n",
    "    timeArray[i] = i*dt"
   ]
  },
  {
   "cell_type": "code",
   "execution_count": 419,
   "metadata": {
    "collapsed": false
   },
   "outputs": [
    {
     "data": {
      "text/plain": [
       "[]"
      ]
     },
     "execution_count": 419,
     "metadata": {},
     "output_type": "execute_result"
    },
    {
     "data": {
      "image/png": "[encoded data removed]",
      "text/plain": [
       "<matplotlib.figure.Figure at 0x10bd08810>"
      ]
     },
     "metadata": {},
     "output_type": "display_data"
    }
   ],
   "source": [
    "plt.figure(figsize=(10,10))\n",
    "plt.scatter(xyDistribution[:,0], xyDistribution[:,1], c='b')\n",
    "plt.xlim(-2000, 2000)\n",
    "plt.ylim(-2000, 2000)\n",
    "plt.plot()"
   ]
  },
  {
   "cell_type": "code",
   "execution_count": 420,
   "metadata": {
    "collapsed": false
   },
   "outputs": [],
   "source": [
    "def gravityvelocity(dt, stepN):\n",
    "    \n",
    "    global velocityDistribution\n",
    "    global xyDistribution\n",
    "    \n",
    "    deltaV = np.zeros_like(xyDistribution, dtype = np.float)\n",
    "    #t = 0\n",
    "    for i in range(stepN):\n",
    "        #t+=dt\n",
    "        print(i)\n",
    "        for i in range(0, len(mDistribution)):\n",
    "            for j in range(0, len(mDistribution)):\n",
    "                #print (i, j)\n",
    "                if (j!=i):\n",
    "                    xdist = (xyDistribution[i,0]-xyDistribution[j,0])\n",
    "                    ydist = (xyDistribution[i,1]-xyDistribution[j,1])\n",
    "                    #print(xdist)\n",
    "                    #print(ydist)\n",
    "\n",
    "                    if(xdist==0):\n",
    "                        deltaV[i,0] += 0\n",
    "                    elif(xdist!=0):\n",
    "                        deltaV[i,0] += -G*mDistribution[j]*xdist/((np.sqrt(xdist**2+ydist**2))**3)\n",
    "                        #print(\"blah\", -G*mDistribution[i]/(np.sqrt(abs(position[j,0]-position[i,0]))**2))\n",
    "                        #print(\"v\", i, \"x\", velocityDistribution[i,0])\n",
    "\n",
    "                    if(ydist==0):\n",
    "                        deltaV[i,1] += 0\n",
    "                    elif(ydist!=0):\n",
    "                        deltaV[i,1] += -G*mDistribution[j]*ydist/((np.sqrt(xdist**2+ydist**2))**3)\n",
    "                        #print(\"v\", i, \"y\", velocityDistribution[i,1])\n",
    "        \n",
    "        velocityDistribution += dt*deltaV\n",
    "        print(\"2nd\", i)\n",
    "        xyDistribution += dt*velocityDistribution\n",
    "        ParticlePositionHistory[i,:,:] = xyDistribution\n",
    "        #print(i, ParticlePositionHistory)"
   ]
  },
  {
   "cell_type": "code",
   "execution_count": 421,
   "metadata": {
    "collapsed": true
   },
   "outputs": [],
   "source": [
    "# def position(dt, stepN):\n",
    "    \n",
    "#     global xyDistribution\n",
    "    \n",
    "#     for i in range(stepN):\n",
    "#         xyDistribution += dt*velocitydistribution"
   ]
  },
  {
   "cell_type": "code",
   "execution_count": 422,
   "metadata": {
    "collapsed": false
   },
   "outputs": [],
   "source": [
    "# def RK1(f, dt, position, velocity, stepN):\n",
    "    \n",
    "#     t = 0\n",
    "#     for i in range(stepN):\n",
    "#         t+=dt\n",
    "#         velocity += dt*gravity(position, velocity)\n",
    "#         ParticlePositionHistory[:,:,i] = position #WRONG\n",
    "#     #print(position)\n",
    "#     #print(position.shape)\n",
    "#     return position"
   ]
  },
  {
   "cell_type": "code",
   "execution_count": 423,
   "metadata": {
    "collapsed": false,
    "scrolled": true
   },
   "outputs": [
    {
     "name": "stdout",
     "output_type": "stream",
     "text": [
      "0\n",
      "2nd 1\n",
      "1\n",
      "2nd 1\n",
      "2\n",
      "2nd 1\n",
      "3\n",
      "2nd 1\n",
      "4\n",
      "2nd 1\n",
      "5\n",
      "2nd 1\n",
      "6\n",
      "2nd 1\n",
      "7\n",
      "2nd 1\n",
      "8\n",
      "2nd 1\n",
      "9\n",
      "2nd 1\n",
      "0.000659942626953\n",
      "[[ 960.89858196  960.89858196]\n",
      " [-960.89858196 -960.89858196]]\n"
     ]
    }
   ],
   "source": [
    "xyDistributionOld = np.copy(xyDistribution) \n",
    "\n",
    "\n",
    "# numbaRK = nb.autojit(RK1)\n",
    "# numbaGrav = nb.autojit(gravity)\n",
    "t0 = time.time()\n",
    "# velocityDistribution = RK1(gravity, dt, xyDistribution, velocityDistribution, stepN)\n",
    "# xyDistribution = RK1()\n",
    "gravityvelocity(dt,stepN)\n",
    "#position(dt,stepN)\n",
    "t1 = time.time()\n",
    "print(t1-t0)\n",
    "print (xyDistribution)\n"
   ]
  },
  {
   "cell_type": "code",
   "execution_count": 424,
   "metadata": {
    "collapsed": false,
    "scrolled": false
   },
   "outputs": [
    {
     "name": "stdout",
     "output_type": "stream",
     "text": [
      "[[[   0.            0.        ]\n",
      "  [   0.            0.        ]]\n",
      "\n",
      " [[ 960.89858196  960.89858196]\n",
      "  [-960.89858196 -960.89858196]]\n",
      "\n",
      " [[   0.            0.        ]\n",
      "  [   0.            0.        ]]\n",
      "\n",
      " [[   0.            0.        ]\n",
      "  [   0.            0.        ]]\n",
      "\n",
      " [[   0.            0.        ]\n",
      "  [   0.            0.        ]]\n",
      "\n",
      " [[   0.            0.        ]\n",
      "  [   0.            0.        ]]\n",
      "\n",
      " [[   0.            0.        ]\n",
      "  [   0.            0.        ]]\n",
      "\n",
      " [[   0.            0.        ]\n",
      "  [   0.            0.        ]]\n",
      "\n",
      " [[   0.            0.        ]\n",
      "  [   0.            0.        ]]\n",
      "\n",
      " [[   0.            0.        ]\n",
      "  [   0.            0.        ]]]\n"
     ]
    },
    {
     "ename": "IndexError",
     "evalue": "index 99 is out of bounds for axis 0 with size 10",
     "output_type": "error",
     "traceback": [
      "\u001b[0;31m---------------------------------------------------------------------------\u001b[0m",
      "\u001b[0;31mIndexError\u001b[0m                                Traceback (most recent call last)",
      "\u001b[0;32m<ipython-input-424-3c7834a5c66d>\u001b[0m in \u001b[0;36m<module>\u001b[0;34m()\u001b[0m\n\u001b[1;32m      9\u001b[0m \u001b[0;34m\u001b[0m\u001b[0m\n\u001b[1;32m     10\u001b[0m \u001b[0mplt\u001b[0m\u001b[0;34m.\u001b[0m\u001b[0mfigure\u001b[0m\u001b[0;34m(\u001b[0m\u001b[0mfigsize\u001b[0m\u001b[0;34m=\u001b[0m\u001b[0;34m(\u001b[0m\u001b[0;36m10\u001b[0m\u001b[0;34m,\u001b[0m\u001b[0;36m10\u001b[0m\u001b[0;34m)\u001b[0m\u001b[0;34m)\u001b[0m\u001b[0;34m\u001b[0m\u001b[0m\n\u001b[0;32m---> 11\u001b[0;31m \u001b[0mplt\u001b[0m\u001b[0;34m.\u001b[0m\u001b[0mscatter\u001b[0m\u001b[0;34m(\u001b[0m\u001b[0mParticlePositionHistory\u001b[0m\u001b[0;34m[\u001b[0m\u001b[0;36m9\u001b[0m\u001b[0;34m,\u001b[0m\u001b[0;34m:\u001b[0m\u001b[0;34m,\u001b[0m\u001b[0;36m0\u001b[0m\u001b[0;34m]\u001b[0m\u001b[0;34m,\u001b[0m \u001b[0mParticlePositionHistory\u001b[0m\u001b[0;34m[\u001b[0m\u001b[0;36m99\u001b[0m\u001b[0;34m,\u001b[0m\u001b[0;34m:\u001b[0m\u001b[0;34m,\u001b[0m\u001b[0;36m1\u001b[0m\u001b[0;34m]\u001b[0m\u001b[0;34m)\u001b[0m\u001b[0;34m\u001b[0m\u001b[0m\n\u001b[0m\u001b[1;32m     12\u001b[0m \u001b[0mplt\u001b[0m\u001b[0;34m.\u001b[0m\u001b[0mxlim\u001b[0m\u001b[0;34m(\u001b[0m\u001b[0;34m-\u001b[0m\u001b[0;36m2000\u001b[0m\u001b[0;34m,\u001b[0m \u001b[0;36m2000\u001b[0m\u001b[0;34m)\u001b[0m\u001b[0;34m\u001b[0m\u001b[0m\n\u001b[1;32m     13\u001b[0m \u001b[0mplt\u001b[0m\u001b[0;34m.\u001b[0m\u001b[0mylim\u001b[0m\u001b[0;34m(\u001b[0m\u001b[0;34m-\u001b[0m\u001b[0;36m2000\u001b[0m\u001b[0;34m,\u001b[0m \u001b[0;36m2000\u001b[0m\u001b[0;34m)\u001b[0m\u001b[0;34m\u001b[0m\u001b[0m\n",
      "\u001b[0;31mIndexError\u001b[0m: index 99 is out of bounds for axis 0 with size 10"
     ]
    },
    {
     "data": {
      "image/png": "[encoded data removed]",
      "text/plain": [
       "<matplotlib.figure.Figure at 0x10bd08d90>"
      ]
     },
     "metadata": {},
     "output_type": "display_data"
    },
    {
     "data": {
      "text/plain": [
       "<matplotlib.figure.Figure at 0x105067ad0>"
      ]
     },
     "metadata": {},
     "output_type": "display_data"
    }
   ],
   "source": [
    "plt.figure(figsize=(10,10))\n",
    "plt.scatter(xyDistributionOld[:,0], xyDistributionOld[:,1], c='y')\n",
    "plt.scatter(xyDistribution[:,0], xyDistribution[:,1], c='b')\n",
    "plt.title(\"All the Particles of the Planet after some time steps\")\n",
    "plt.xlim(-2000, 2000)\n",
    "plt.ylim(-2000, 2000)\n",
    "plt.plot()\n",
    "print(ParticlePositionHistory)\n",
    "\n",
    "plt.figure(figsize=(10,10))\n",
    "plt.scatter(ParticlePositionHistory[9,:,0], ParticlePositionHistory[99,:,1])\n",
    "plt.xlim(-2000, 2000)\n",
    "plt.ylim(-2000, 2000)\n",
    "plt.plot()\n"
   ]
  },
  {
   "cell_type": "code",
   "execution_count": null,
   "metadata": {
    "collapsed": false
   },
   "outputs": [],
   "source": [
    "slider = FloatSlider(description='Time', min=0, max=stepN, step=1)\n",
    "\n",
    "def update_plot():\n",
    "    time=slider.value\n",
    "    x = ParticlePositionHistory[time-1,:,0]\n",
    "    y = ParticlePositionHistory[time-1,:,1]\n",
    "    fig = plt.figure()\n",
    "    plt.scatter(x, y)\n",
    "    plt.xlim(-2000,2000)\n",
    "    plt.ylim(-2000,2000)\n",
    "\n",
    "    clear_output(True)\n",
    "\n",
    "slider.on_trait_change(update_plot, 'value')\n",
    "\n",
    "\n",
    "display(slider)\n",
    "update_plot()"
   ]
  }
 ],
 "metadata": {
  "kernelspec": {
   "display_name": "Python 2",
   "language": "python",
   "name": "python2"
  },
  "language_info": {
   "codemirror_mode": {
    "name": "ipython",
    "version": 2
   },
   "file_extension": ".py",
   "mimetype": "text/x-python",
   "name": "python",
   "nbconvert_exporter": "python",
   "pygments_lexer": "ipython2",
   "version": "2.7.10"
  }
 },
 "nbformat": 4,
 "nbformat_minor": 0
}
