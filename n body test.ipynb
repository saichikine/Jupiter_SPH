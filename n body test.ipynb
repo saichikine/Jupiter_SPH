{
 "cells": [
  {
   "cell_type": "markdown",
   "metadata": {},
   "source": [
    "### Notes\n",
    "* For 2 particles, they accelerate past each other and then come back if we use 16000 steps"
   ]
  },
  {
   "cell_type": "code",
   "execution_count": 1,
   "metadata": {
    "collapsed": false
   },
   "outputs": [
    {
     "name": "stdout",
     "output_type": "stream",
     "text": [
      "Populating the interactive namespace from numpy and matplotlib\n"
     ]
    }
   ],
   "source": [
    "%pylab inline\n",
    "\n",
    "from __future__ import division\n",
    "\n",
    "import numpy as np\n",
    "import matplotlib.pyplot as plt\n",
    "from matplotlib import animation\n",
    "from matplotlib.collections import PatchCollection\n",
    "\n",
    "from ipywidgets import interact, HTML, FloatSlider\n",
    "from IPython.display import clear_output, display\n",
    "\n",
    "import numba as nb"
   ]
  },
  {
   "cell_type": "code",
   "execution_count": 2,
   "metadata": {
    "collapsed": true
   },
   "outputs": [],
   "source": [
    "G = 6.67e-11\n",
    "\n",
    "dt = 100\n",
    "stepN = 6000"
   ]
  },
  {
   "cell_type": "code",
   "execution_count": 3,
   "metadata": {
    "collapsed": false
   },
   "outputs": [],
   "source": [
    "xyDistribution = [\n",
    "                 [1000.0, 1000.0],\n",
    "                 [-1000.0, -1000.0]\n",
    "#                 [0, 1000],\n",
    "#                 [100, 0],\n",
    "#                 [500, 500]\n",
    "                 ]\n",
    "\n",
    "xyDistribution=np.array(xyDistribution)\n",
    "\n",
    "nParticles = len(xyDistribution)\n",
    "# xyDistribution = np.random.normal(0, 2000, size = (nParticles, 2))\n",
    "\n",
    "velocityDistribution = np.zeros_like(xyDistribution, dtype = np.float)\n",
    "\n",
    "\n",
    "# mDistribution = [10000000.0, 10000000.0, 10000000.0]\n",
    "mDistribution = np.ones(nParticles, dtype=float) * 100000000.0\n",
    "\n",
    "ParticlePositionHistory = np.zeros((nParticles,2,stepN))\n",
    "ParticleVelocityHistory = np.zeros((nParticles, 2, stepN))\n",
    "\n",
    "timeArray = np.zeros(stepN)\n",
    "for i in range(stepN):\n",
    "    timeArray[i] = i*dt"
   ]
  },
  {
   "cell_type": "code",
   "execution_count": 4,
   "metadata": {
    "collapsed": false
   },
   "outputs": [
    {
     "data": {
      "text/plain": [
       "[]"
      ]
     },
     "execution_count": 4,
     "metadata": {},
     "output_type": "execute_result"
    },
    {
     "data": {
      "image/png": "[encoded data removed]",
      "text/plain": [
       "<matplotlib.figure.Figure at 0xb070dd8>"
      ]
     },
     "metadata": {},
     "output_type": "display_data"
    }
   ],
   "source": [
    "plt.figure(figsize=(10,10))\n",
    "plt.scatter(xyDistribution[:,0], xyDistribution[:,1], c='b')\n",
    "plt.xlim(-2000, 2000)\n",
    "plt.ylim(-2000, 2000)\n",
    "plt.plot()"
   ]
  },
  {
   "cell_type": "code",
   "execution_count": 5,
   "metadata": {
    "collapsed": false
   },
   "outputs": [],
   "source": [
    "def gravity(position):\n",
    "    \n",
    "    for i in range(0, len(mDistribution)):\n",
    "        for j in range(0, len(mDistribution)):\n",
    "            #print (i, j)\n",
    "            if (j!=i):\n",
    "                xdist = (position[i,0]-position[j,0])\n",
    "                ydist = (position[i,1]-position[j,1])\n",
    "                #print(xdist)\n",
    "                #print(ydist)\n",
    "                \n",
    "                if(xdist==0):\n",
    "                    velocityDistribution[i,0] += 0\n",
    "                elif(xdist!=0):\n",
    "                    velocityDistribution[i,0] += -G*mDistribution[j]*xdist/(abs(xdist)*(np.sqrt(abs(xdist))**2))\n",
    "                    #print(\"blah\", -G*mDistribution[i]/(np.sqrt(abs(position[j,0]-position[i,0]))**2))\n",
    "                    #print(\"v\", i, \"x\", velocityDistribution[i,0])\n",
    "            \n",
    "                if(ydist==0):\n",
    "                    velocityDistribution[i,1] += 0\n",
    "                elif(ydist!=0):\n",
    "                    velocityDistribution[i,1] += -G*mDistribution[j]*ydist/(abs(ydist)*(np.sqrt(abs(ydist))**2))\n",
    "                    #print(\"v\", i, \"y\", velocityDistribution[i,1])\n",
    "                    \n",
    "    #print(velocityDistribution)\n",
    "    return velocityDistribution"
   ]
  },
  {
   "cell_type": "code",
   "execution_count": 6,
   "metadata": {
    "collapsed": false
   },
   "outputs": [],
   "source": [
    "def RK1(f, dt, position, stepN):\n",
    "    \n",
    "    t = 0\n",
    "    for i in range(stepN):\n",
    "        t+=dt\n",
    "        ParticleVelocityHistory[:,:,i] = gravity(position)\n",
    "        position += dt*ParticleVelocityHistory[:,:,i]\n",
    "        ParticlePositionHistory[:,:,i] = position\n",
    "    #print(position)\n",
    "    return position"
   ]
  },
  {
   "cell_type": "code",
   "execution_count": 7,
   "metadata": {
    "collapsed": false,
    "scrolled": true
   },
   "outputs": [],
   "source": [
    "xyDistributionOld = np.copy(xyDistribution) \n",
    "\n",
    "\n",
    "numbaRK = nb.autojit(RK1)\n",
    "numbaGrav = nb.autojit(gravity)\n",
    "xyDistribution = RK1(gravity, dt, xyDistribution, stepN)\n",
    "\n",
    "#uprint xyDistribution - xyDistributionOld\n"
   ]
  },
  {
   "cell_type": "code",
   "execution_count": 8,
   "metadata": {
    "collapsed": false
   },
   "outputs": [
    {
     "data": {
      "text/plain": [
       "[]"
      ]
     },
     "execution_count": 8,
     "metadata": {},
     "output_type": "execute_result"
    },
    {
     "data": {
      "image/png": "[encoded data removed]",
      "text/plain": [
       "<matplotlib.figure.Figure at 0xb0850b8>"
      ]
     },
     "metadata": {},
     "output_type": "display_data"
    }
   ],
   "source": [
    "plt.figure(figsize=(10,10))\n",
    "plt.scatter(xyDistributionOld[:,0], xyDistributionOld[:,1], c='y')\n",
    "plt.scatter(xyDistribution[:,0], xyDistribution[:,1], c='b')\n",
    "plt.title(\"All the Particles of the Planet after 10K Time Steps\")\n",
    "plt.xlim(-2000, 2000)\n",
    "plt.ylim(-2000, 2000)\n",
    "plt.plot()"
   ]
  },
  {
   "cell_type": "code",
   "execution_count": 9,
   "metadata": {
    "collapsed": false
   },
   "outputs": [
    {
     "data": {
      "image/png": "[encoded data removed]",
      "text/plain": [
       "<matplotlib.figure.Figure at 0xd4117f0>"
      ]
     },
     "metadata": {},
     "output_type": "display_data"
    }
   ],
   "source": [
    "slider = FloatSlider(description='Time', min=0, max=stepN, step=1)\n",
    "\n",
    "def update_plot():\n",
    "    time=slider.value\n",
    "    x = ParticlePositionHistory[:,0,time-1]\n",
    "    y = ParticlePositionHistory[:,1,time-1]\n",
    "    fig = plt.figure()\n",
    "    plt.scatter(x, y)\n",
    "    plt.xlim(-2000,2000)\n",
    "    plt.ylim(-2000, 2000)\n",
    "\n",
    "    clear_output(True)\n",
    "\n",
    "slider.on_trait_change(update_plot, 'value')\n",
    "\n",
    "\n",
    "display(slider)\n",
    "update_plot()"
   ]
  },
  {
   "cell_type": "code",
   "execution_count": 10,
   "metadata": {
    "collapsed": false
   },
   "outputs": [
    {
     "data": {
      "image/png": "[encoded data removed]",
      "text/plain": [
       "<matplotlib.figure.Figure at 0xb21f898>"
      ]
     },
     "metadata": {},
     "output_type": "display_data"
    }
   ],
   "source": [
    "plt.arrow( 0.5, 0.8, 0.0, -0.2, fc=\"k\", ec=\"k\",\n",
    "head_width=0.05, head_length=0.1 )\n",
    "plt.show()"
   ]
  },
  {
   "cell_type": "code",
   "execution_count": null,
   "metadata": {
    "collapsed": true
   },
   "outputs": [],
   "source": []
  }
 ],
 "metadata": {
  "kernelspec": {
   "display_name": "Python 2",
   "language": "python",
   "name": "python2"
  },
  "language_info": {
   "codemirror_mode": {
    "name": "ipython",
    "version": 2
   },
   "file_extension": ".py",
   "mimetype": "text/x-python",
   "name": "python",
   "nbconvert_exporter": "python",
   "pygments_lexer": "ipython2",
   "version": "2.7.10"
  }
 },
 "nbformat": 4,
 "nbformat_minor": 0
}
