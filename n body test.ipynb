{
 "cells": [
  {
   "cell_type": "code",
   "execution_count": 31,
   "metadata": {
    "collapsed": false
   },
   "outputs": [
    {
     "name": "stdout",
     "output_type": "stream",
     "text": [
      "Populating the interactive namespace from numpy and matplotlib\n"
     ]
    }
   ],
   "source": [
    "%pylab inline\n",
    "\n",
    "from __future__ import print_function, division\n",
    "\n",
    "import numpy as np\n",
    "import matplotlib.pyplot as plt\n",
    "from matplotlib import animation\n",
    "from matplotlib.collections import PatchCollection\n",
    "\n",
    "from ipywidgets import interact, HTML, FloatSlider\n",
    "from IPython.display import clear_output, display\n",
    "\n",
    "import numba as nb\n",
    "import time"
   ]
  },
  {
   "cell_type": "code",
   "execution_count": 32,
   "metadata": {
    "collapsed": true
   },
   "outputs": [],
   "source": [
    "G = 6.67e-8\n",
    "\n",
    "dt = 1e-2\n",
    "stepN = 100"
   ]
  },
  {
   "cell_type": "code",
   "execution_count": 33,
   "metadata": {
    "collapsed": false
   },
   "outputs": [],
   "source": [
    "# xyDistribution = [\n",
    "#                  [1000.0, 1000.0],\n",
    "#                  [-1000.0, -1000.0],\n",
    "#                  [-1000.0, 1000.0]\n",
    "#                  ]\n",
    "\n",
    "#xyDistribution=np.array(xyDistribution)\n",
    "#print(xyDistribution.shape)\n",
    "nParticles = 100\n",
    "xyDistribution = np.random.normal(0, 5e7, size = (nParticles, 2))\n",
    "velocityDistribution = np.zeros_like(xyDistribution, dtype = np.float)\n",
    "\n",
    "\n",
    "#mDistribution = [3e14, 3e14, 3e14]\n",
    "mDistribution = np.ones(nParticles, dtype=float) * 2e27\n",
    "\n",
    "ParticlePositionHistory = np.zeros((stepN,nParticles,2))\n",
    "\n",
    "timeArray = np.zeros(stepN)\n",
    "for i in range(stepN):\n",
    "    timeArray[i] = i*dt"
   ]
  },
  {
   "cell_type": "code",
   "execution_count": 34,
   "metadata": {
    "collapsed": false
   },
   "outputs": [
    {
     "data": {
      "text/plain": [
       "[]"
      ]
     },
     "execution_count": 34,
     "metadata": {},
     "output_type": "execute_result"
    },
    {
     "data": {
      "image/png": "[encoded data removed]",
      "text/plain": [
       "<matplotlib.figure.Figure at 0x10a7303d0>"
      ]
     },
     "metadata": {},
     "output_type": "display_data"
    }
   ],
   "source": [
    "plt.figure(figsize=(10,10))\n",
    "plt.scatter(xyDistribution[:,0], xyDistribution[:,1], c='b')\n",
    "plt.xlim(-2e8, 2e8)\n",
    "plt.ylim(-2e8, 2e8)\n",
    "plt.plot()"
   ]
  },
  {
   "cell_type": "code",
   "execution_count": 35,
   "metadata": {
    "collapsed": false
   },
   "outputs": [],
   "source": [
    "def gravityvelocity(dt, stepN):\n",
    "    \n",
    "    global velocityDistribution\n",
    "    global xyDistribution\n",
    "    \n",
    "    deltaV = np.zeros_like(xyDistribution, dtype = np.float)\n",
    "    #t = 0\n",
    "    for i in range(stepN):\n",
    "        #t+=dt\n",
    "        #print(i)\n",
    "        for j in range(0, len(mDistribution)):\n",
    "            for k in range(0, len(mDistribution)):\n",
    "                if (k!=j):\n",
    "                    xdist = (xyDistribution[j,0]-xyDistribution[k,0])\n",
    "                    ydist = (xyDistribution[j,1]-xyDistribution[k,1])\n",
    "                    #print(xdist)\n",
    "                    #print(ydist)\n",
    "\n",
    "                    if(xdist==0):\n",
    "                        deltaV[j,0] += 0\n",
    "                    elif(xdist!=0):\n",
    "                        deltaV[j,0] += -G*mDistribution[j]*xdist/((np.sqrt(xdist**2+ydist**2))**3)\n",
    "                        #print(\"blah\", -G*mDistribution[i]/(np.sqrt(abs(position[j,0]-position[i,0]))**2))\n",
    "                        #print(\"v\", i, \"x\", velocityDistribution[i,0])\n",
    "\n",
    "                    if(ydist==0):\n",
    "                        deltaV[j,1] += 0\n",
    "                    elif(ydist!=0):\n",
    "                        deltaV[j,1] += -G*mDistribution[j]*ydist/((np.sqrt(xdist**2+ydist**2))**3)\n",
    "                        #print(\"v\", i, \"y\", velocityDistribution[i,1])\n",
    "        \n",
    "        velocityDistribution += dt*deltaV\n",
    "        #print(\"2nd\", i)\n",
    "        xyDistribution += dt*velocityDistribution\n",
    "        ParticlePositionHistory[i,:,:] = xyDistribution\n",
    "        #print(i, ParticlePositionHistory)\n",
    "    print(np.sqrt(xdist**2+ydist**2))"
   ]
  },
  {
   "cell_type": "code",
   "execution_count": 36,
   "metadata": {
    "collapsed": true
   },
   "outputs": [],
   "source": [
    "# def position(dt, stepN):\n",
    "    \n",
    "#     global xyDistribution\n",
    "    \n",
    "#     for i in range(stepN):\n",
    "#         xyDistribution += dt*velocitydistribution"
   ]
  },
  {
   "cell_type": "code",
   "execution_count": 37,
   "metadata": {
    "collapsed": false
   },
   "outputs": [],
   "source": [
    "# def RK1(f, dt, position, velocity, stepN):\n",
    "    \n",
    "#     t = 0\n",
    "#     for i in range(stepN):\n",
    "#         t+=dt\n",
    "#         velocity += dt*gravity(position, velocity)\n",
    "#         ParticlePositionHistory[:,:,i] = position #WRONG\n",
    "#     #print(position)\n",
    "#     #print(position.shape)\n",
    "#     return position"
   ]
  },
  {
   "cell_type": "code",
   "execution_count": 38,
   "metadata": {
    "collapsed": false,
    "scrolled": true
   },
   "outputs": [
    {
     "name": "stdout",
     "output_type": "stream",
     "text": [
      "263865363.578\n",
      "5.45433592796\n",
      "[[  4.88113587e+07  -4.99219069e+07]\n",
      " [ -6.29859443e+07   5.10295677e+08]\n",
      " [  2.74017827e+08   1.18596410e+08]\n",
      " [ -3.58284968e+09   4.47983236e+09]\n",
      " [  1.80343278e+10   4.97738334e+10]\n",
      " [  6.77662821e+09   1.56118922e+09]\n",
      " [  1.38357906e+07  -2.25183351e+07]\n",
      " [ -2.87688978e+07  -3.15183147e+07]\n",
      " [ -1.72604800e+08   2.34624037e+08]\n",
      " [  1.79322195e+08  -1.87396259e+08]\n",
      " [  1.67810844e+08  -1.40819441e+08]\n",
      " [  5.64946366e+07  -1.94282229e+07]\n",
      " [  8.68874325e+07  -3.97824681e+08]\n",
      " [  3.29883852e+08   1.14917856e+08]\n",
      " [ -5.61910565e+08  -2.12309444e+08]\n",
      " [  2.57142558e+07   4.95248592e+07]\n",
      " [ -2.85676769e+07   6.85167771e+06]\n",
      " [  5.70658695e+07   1.26034144e+07]\n",
      " [ -4.47219986e+07   7.55127053e+06]\n",
      " [ -1.17646049e+08  -5.95411187e+07]\n",
      " [ -8.07900994e+07   1.47345284e+08]\n",
      " [ -1.64997964e+06  -6.25094591e+07]\n",
      " [  5.12620436e+08   4.41786189e+09]\n",
      " [ -1.27266604e+07   1.85083469e+06]\n",
      " [ -1.80624558e+10  -4.97374201e+10]\n",
      " [  3.56290039e+09  -4.51319011e+09]\n",
      " [ -3.60113497e+08   4.78472790e+08]\n",
      " [ -5.94813012e+07   2.57907390e+08]\n",
      " [ -4.88271661e+09   2.06101197e+09]\n",
      " [  4.77963704e+07   4.20524935e+06]\n",
      " [ -2.58105099e+07  -3.62561926e+07]\n",
      " [  4.96797235e+07  -5.25013516e+07]\n",
      " [ -2.35222005e+07  -2.69088442e+06]\n",
      " [  8.32220506e+07   4.34727257e+07]\n",
      " [ -1.12054981e+07   2.11269457e+07]\n",
      " [ -6.66690434e+06  -6.05915849e+07]\n",
      " [ -1.62431479e+07  -1.95632470e+07]\n",
      " [  9.15278569e+06  -2.05924881e+07]\n",
      " [ -1.02972772e+09   3.88644693e+09]\n",
      " [  2.47471356e+08  -1.24581740e+08]\n",
      " [  2.99650528e+08  -3.40789964e+08]\n",
      " [  1.59174261e+07  -5.12941396e+04]\n",
      " [ -3.00271456e+08  -7.21894502e+07]\n",
      " [ -3.40103749e+07   4.16402092e+07]\n",
      " [  4.44133896e+07   6.80327929e+07]\n",
      " [ -1.09350512e+08   4.72486119e+07]\n",
      " [  2.32492069e+08  -1.97938987e+08]\n",
      " [  3.73470560e+06  -1.23121079e+07]\n",
      " [  1.67640406e+07   3.44802258e+06]\n",
      " [  1.31834686e+07   3.78109215e+07]\n",
      " [  1.51458724e+08  -1.66638640e+09]\n",
      " [  7.34650189e+06   1.58081553e+07]\n",
      " [ -2.83155282e+07  -3.00783128e+07]\n",
      " [ -2.12005416e+07   1.77207162e+07]\n",
      " [  4.40572108e+07   1.60152754e+07]\n",
      " [  2.10031074e+07  -3.19270504e+08]\n",
      " [  1.40148342e+07  -9.78658294e+06]\n",
      " [  2.84359605e+07   3.31030902e+07]\n",
      " [ -3.74191252e+07  -2.83972844e+07]\n",
      " [ -4.76842917e+06   4.00526905e+07]\n",
      " [ -2.12728735e+08  -9.31008310e+07]\n",
      " [  7.63665584e+07   9.43809396e+06]\n",
      " [  2.62255872e+08  -4.61075899e+09]\n",
      " [ -6.82329952e+09  -1.56119686e+09]\n",
      " [ -8.91365336e+08   3.67367747e+08]\n",
      " [ -6.40759480e+06   1.03833353e+07]\n",
      " [ -2.50106216e+07   5.16218348e+07]\n",
      " [  1.28504846e+07   1.17517893e+07]\n",
      " [ -6.72549978e+08   1.39793832e+09]\n",
      " [ -1.95347829e+08   1.41580682e+08]\n",
      " [  3.59548159e+08   2.26086002e+08]\n",
      " [ -1.60557941e+07   5.16313283e+07]\n",
      " [  6.46654135e+08  -1.39770066e+09]\n",
      " [  1.96867075e+06  -3.67392518e+07]\n",
      " [  4.76846417e+06   7.41472576e+07]\n",
      " [  1.25270337e+07  -1.88633229e+06]\n",
      " [ -4.55877255e+08   2.71236568e+08]\n",
      " [ -8.29457516e+07   2.74083587e+08]\n",
      " [  4.35247946e+07   3.63914766e+07]\n",
      " [  2.60464989e+07  -1.00793278e+08]\n",
      " [ -1.85684938e+08   1.70509787e+09]\n",
      " [ -3.05629359e+07  -6.15006199e+05]\n",
      " [  4.89748449e+09  -2.07987185e+09]\n",
      " [  4.06282167e+08  -2.63528143e+08]\n",
      " [ -3.00553160e+07  -5.76730322e+07]\n",
      " [ -3.63712030e+07  -2.76788227e+07]\n",
      " [  1.56565819e+07  -4.02451924e+07]\n",
      " [  1.27263865e+08  -2.12834964e+08]\n",
      " [  1.68325361e+07  -1.30490016e+06]\n",
      " [ -1.03131318e+07  -1.26606333e+08]\n",
      " [ -1.55796474e+08  -1.17302483e+08]\n",
      " [  1.02548535e+09  -3.93329952e+09]\n",
      " [  1.91766663e+07  -5.88726146e+07]\n",
      " [ -1.66236089e+07   1.11933952e+08]\n",
      " [  9.52214824e+07   8.29776559e+07]\n",
      " [  1.55901778e+07   6.10712376e+06]\n",
      " [ -6.13441171e+06   4.78439797e+07]\n",
      " [ -1.05383653e+08   2.60057644e+07]\n",
      " [  1.31469633e+06  -5.00192151e+07]\n",
      " [  1.44081852e+08  -2.13623059e+08]]\n"
     ]
    }
   ],
   "source": [
    "xyDistributionOld = np.copy(xyDistribution) \n",
    "\n",
    "\n",
    "# numbaRK = nb.autojit(RK1)\n",
    "# numbaGrav = nb.autojit(gravity)\n",
    "t0 = time.time()\n",
    "# velocityDistribution = RK1(gravity, dt, xyDistribution, velocityDistribution, stepN)\n",
    "# xyDistribution = RK1()\n",
    "gravityvelocity(dt,stepN)\n",
    "#position(dt,stepN)\n",
    "t1 = time.time()\n",
    "print(t1-t0)\n",
    "print (xyDistribution-xyDistributionOld)\n"
   ]
  },
  {
   "cell_type": "code",
   "execution_count": 39,
   "metadata": {
    "collapsed": false,
    "scrolled": false
   },
   "outputs": [
    {
     "data": {
      "text/plain": [
       "[]"
      ]
     },
     "execution_count": 39,
     "metadata": {},
     "output_type": "execute_result"
    },
    {
     "data": {
      "image/png": "[encoded data removed]",
      "text/plain": [
       "<matplotlib.figure.Figure at 0x10a7fca90>"
      ]
     },
     "metadata": {},
     "output_type": "display_data"
    }
   ],
   "source": [
    "plt.figure(figsize=(10,10))\n",
    "plt.scatter(xyDistributionOld[:,0], xyDistributionOld[:,1], c='y')\n",
    "plt.scatter(xyDistribution[:,0], xyDistribution[:,1], c='b')\n",
    "plt.title(\"All the Particles of the Planet after some time steps\")\n",
    "plt.xlim(-2e8, 2e8)\n",
    "plt.ylim(-2e8, 2e8)\n",
    "plt.plot()\n",
    "#print(ParticlePositionHistory)\n",
    "\n",
    "# plt.figure(figsize=(10,10))\n",
    "# plt.scatter(ParticlePositionHistory[9,:,0], ParticlePositionHistory[9,:,1])\n",
    "# plt.xlim(-2000, 2000)\n",
    "# plt.ylim(-2000, 2000)\n",
    "# plt.plot()\n"
   ]
  },
  {
   "cell_type": "code",
   "execution_count": 40,
   "metadata": {
    "collapsed": false
   },
   "outputs": [
    {
     "data": {
      "image/png": "[encoded data removed]",
      "text/plain": [
       "<matplotlib.figure.Figure at 0x109d15210>"
      ]
     },
     "metadata": {},
     "output_type": "display_data"
    }
   ],
   "source": [
    "slider = FloatSlider(description='Time', min=0, max=stepN, step=1)\n",
    "\n",
    "def update_plot():\n",
    "    time=slider.value\n",
    "    x = ParticlePositionHistory[time-1,:,0]\n",
    "    y = ParticlePositionHistory[time-1,:,1]\n",
    "    fig = plt.figure()\n",
    "    plt.scatter(x, y)\n",
    "    plt.xlim(-2e8,2e8)\n",
    "    plt.ylim(-2e8,2e8)\n",
    "\n",
    "    clear_output(True)\n",
    "\n",
    "slider.on_trait_change(update_plot, 'value')\n",
    "\n",
    "\n",
    "display(slider)\n",
    "update_plot()"
   ]
  }
 ],
 "metadata": {
  "kernelspec": {
   "display_name": "Python 2",
   "language": "python",
   "name": "python2"
  },
  "language_info": {
   "codemirror_mode": {
    "name": "ipython",
    "version": 2
   },
   "file_extension": ".py",
   "mimetype": "text/x-python",
   "name": "python",
   "nbconvert_exporter": "python",
   "pygments_lexer": "ipython2",
   "version": "2.7.10"
  }
 },
 "nbformat": 4,
 "nbformat_minor": 0
}
