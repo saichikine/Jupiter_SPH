{
 "cells": [
  {
   "cell_type": "markdown",
   "metadata": {},
   "source": [
    "### Notes\n",
    "* For 2 particles, they accelerate past each other and then come back if we use 16000 steps"
   ]
  },
  {
   "cell_type": "markdown",
   "metadata": {},
   "source": [
    "### Imports"
   ]
  },
  {
   "cell_type": "code",
   "execution_count": 1,
   "metadata": {
    "collapsed": false
   },
   "outputs": [
    {
     "name": "stdout",
     "output_type": "stream",
     "text": [
      "Populating the interactive namespace from numpy and matplotlib\n"
     ]
    }
   ],
   "source": [
    "%pylab inline\n",
    "\n",
    "from __future__ import division\n",
    "\n",
    "import numpy as np\n",
    "import matplotlib.pyplot as plt\n",
    "from scipy.spatial.distance import cdist\n",
    "\n",
    "from matplotlib import animation\n",
    "from matplotlib.collections import PatchCollection\n",
    "\n",
    "from ipywidgets import interact, HTML, FloatSlider\n",
    "from IPython.display import clear_output, display\n",
    "\n",
    "import numba as nb"
   ]
  },
  {
   "cell_type": "markdown",
   "metadata": {},
   "source": [
    "### Constants"
   ]
  },
  {
   "cell_type": "code",
   "execution_count": 2,
   "metadata": {
    "collapsed": true
   },
   "outputs": [],
   "source": [
    "G = 6.67e-11\n",
    "\n",
    "dt = 100\n",
    "stepN = 6000"
   ]
  },
  {
   "cell_type": "markdown",
   "metadata": {},
   "source": [
    "### Initial Conditions"
   ]
  },
  {
   "cell_type": "code",
   "execution_count": 3,
   "metadata": {
    "collapsed": false
   },
   "outputs": [],
   "source": [
    "### --- Distribution Case 1 --- ###\n",
    "xyDistribution = np.array(([1.0e8, 1.0e8], \n",
    "                           [-1.0e8, -1.0e8])) \n",
    "nParticles = len(xyDistribution)\n",
    "\n",
    "### --- Distribution Case 1.5 --- ###\n",
    "# xyDistribution = np.array(([1.0e8, 1.0e8], \n",
    "#                            [-1.0e8, -5.0e8],\n",
    "#                            [0.0, 1.0e8]))\n",
    "# nParticles = len(xyDistribution)\n",
    "\n",
    "### --- Distribution Case 2 --- ###\n",
    "# nParticles = 250\n",
    "# xyDistribution = np.random.normal(0,5e7, size=(nParticles, 2))\n",
    "\n",
    "# Velocity and mass distribution\n",
    "velocityDistribution = np.zeros_like(xyDistribution, dtype = np.float)\n",
    "\n",
    "mDistribution = np.ones(nParticles, dtype=float) * 2e27\n",
    "\n",
    "# Pressure and density based off of what we're seeing in Jupiter\n",
    "pressureDistribution = np.ones(nParticles, dtype=float) * 4e13\n",
    "rhoDistribution = np.ones(nParticles, dtype=float) * 3\n",
    "\n",
    "ParticlePositionHistory = np.zeros((nParticles,2,stepN))\n",
    "ParticleVelocityHistory = np.zeros((nParticles,2,stepN))\n",
    "\n",
    "\n",
    "timeArray = np.arange(0, stepN*dt, dt)"
   ]
  },
  {
   "cell_type": "markdown",
   "metadata": {},
   "source": [
    "### Plot Initial Conditions"
   ]
  },
  {
   "cell_type": "code",
   "execution_count": 4,
   "metadata": {
    "collapsed": false
   },
   "outputs": [
    {
     "data": {
      "text/plain": [
       "[]"
      ]
     },
     "execution_count": 4,
     "metadata": {},
     "output_type": "execute_result"
    },
    {
     "data": {
      "image/png": "[encoded data removed]",
      "text/plain": [
       "<matplotlib.figure.Figure at 0xe5f3550>"
      ]
     },
     "metadata": {},
     "output_type": "display_data"
    }
   ],
   "source": [
    "plt.figure(figsize=(10,10))\n",
    "plt.scatter(xyDistribution[:,0], xyDistribution[:,1], c='b')\n",
    "plt.xlim(-2e9, 2e9)\n",
    "plt.ylim(-2e9, 2e9)\n",
    "plt.title(\"Initial Postition\")\n",
    "plt.plot()"
   ]
  },
  {
   "cell_type": "code",
   "execution_count": 5,
   "metadata": {
    "collapsed": false
   },
   "outputs": [],
   "source": [
    "# def gravity():\n",
    "#     for i in range(0, len(mDistribution)):\n",
    "#         for j in range(0, len(mDistribution)):\n",
    "#             #print (i, j)\n",
    "#             if (j!=i):\n",
    "#                 xdist = (position[i,0]-position[j,0])\n",
    "#                 ydist = (position[i,1]-position[j,1])\n",
    "#                 #print(xdist)\n",
    "#                 #print(ydist)\n",
    "                \n",
    "#                 if(xdist==0):\n",
    "#                     velocityDistribution[i,0] += 0\n",
    "#                 elif(xdist!=0):\n",
    "#                     velocityDistribution[i,0] += -G*mDistribution[j]*xdist/(abs(xdist)*(np.sqrt(abs(xdist))**2))\n",
    "#                     #print(\"blah\", -G*mDistribution[i]/(np.sqrt(abs(position[j,0]-position[i,0]))**2))\n",
    "#                     #print(\"v\", i, \"x\", velocityDistribution[i,0])\n",
    "            \n",
    "#                 if(ydist==0):\n",
    "#                     velocityDistribution[i,1] += 0\n",
    "#                 elif(ydist!=0):\n",
    "#                     velocityDistribution[i,1] += -G*mDistribution[j]*ydist/(abs(ydist)*(np.sqrt(abs(ydist))**2))\n",
    "#                     #print(\"v\", i, \"y\", velocityDistribution[i,1])\n",
    "                    \n",
    "#     #print(velocityDistribution)\n",
    "#     return velocityDistribution"
   ]
  },
  {
   "cell_type": "code",
   "execution_count": null,
   "metadata": {
    "collapsed": true
   },
   "outputs": [],
   "source": [
    "def gravity():  # NumPy arrays as input\n",
    "    for i in range(nParticles):\n",
    "        Fx = 0.0; Fy = 0.0; \n",
    "        for j in range(nParticles):\n",
    "            if j != i:\n",
    "                dx = particle[j,0] - particle[i,0]\n",
    "                dy = particle[j,1] - particle[i,1]\n",
    "                dz = particle[j,2] - particle[i,2]\n",
    "                drSquared = dx * dx + dy * dy + dz * dz\n",
    "                drPowerN32 = 1.0 / (drSquared + sqrt(drSquared))\n",
    "                Fx += dx * drPowerN32\n",
    "                Fy += dy * drPowerN32\n",
    "                Fz += dz * drPowerN32\n",
    "            particlev[i, 0] += dt * Fx\n",
    "            particlev[i, 1] += dt * Fy\n",
    "            particlev[i, 2] += dt * Fz\n",
    "    for i in range(nParticles):\n",
    "        particle[i,0] += particlev[i,0] * dt\n",
    "        particle[i,1] += particlev[i,1] * dt\n",
    "        particle[i,2] += particlev[i,2] * dt\n",
    "    return time.time() - t0"
   ]
  },
  {
   "cell_type": "code",
   "execution_count": 6,
   "metadata": {
    "collapsed": false
   },
   "outputs": [
    {
     "name": "stderr",
     "output_type": "stream",
     "text": [
      "c:\\users\\oromi_000\\anaconda\\lib\\site-packages\\ipykernel\\__main__.py:13: RuntimeWarning: invalid value encountered in true_divide\n"
     ]
    }
   ],
   "source": [
    "distMatrix = cdist(xyDistribution, xyDistribution)\n",
    "X = np.zeros_like(distMatrix)\n",
    "Y = np.zeros_like(distMatrix)\n",
    "\n",
    "for i in range(nParticles):\n",
    "        particle_i = xyDistribution[i]\n",
    "\n",
    "        deltaX = particle_i[0] - xyDistribution[:,0]\n",
    "        deltaY = particle_i[1] - xyDistribution[:,1]\n",
    "        X[:,i] = deltaX\n",
    "        Y[:,i] = deltaY\n",
    "        \n",
    "        X_force = -G**mDistribution*X/(distMatrix**3)"
   ]
  },
  {
   "cell_type": "code",
   "execution_count": 7,
   "metadata": {
    "collapsed": false
   },
   "outputs": [
    {
     "ename": "NameError",
     "evalue": "name 'gravity' is not defined",
     "output_type": "error",
     "traceback": [
      "\u001b[1;31m---------------------------------------------------------------------------\u001b[0m",
      "\u001b[1;31mNameError\u001b[0m                                 Traceback (most recent call last)",
      "\u001b[1;32m<ipython-input-7-7fa7a50dc4fe>\u001b[0m in \u001b[0;36m<module>\u001b[1;34m()\u001b[0m\n\u001b[0;32m      2\u001b[0m \u001b[1;32mfor\u001b[0m \u001b[0mi\u001b[0m \u001b[1;32min\u001b[0m \u001b[0mrange\u001b[0m\u001b[1;33m(\u001b[0m\u001b[0mstepN\u001b[0m\u001b[1;33m)\u001b[0m\u001b[1;33m:\u001b[0m\u001b[1;33m\u001b[0m\u001b[0m\n\u001b[0;32m      3\u001b[0m     \u001b[0mt\u001b[0m\u001b[1;33m+=\u001b[0m\u001b[0mdt\u001b[0m\u001b[1;33m\u001b[0m\u001b[0m\n\u001b[1;32m----> 4\u001b[1;33m     \u001b[0mParticleVelocityHistory\u001b[0m\u001b[1;33m[\u001b[0m\u001b[1;33m:\u001b[0m\u001b[1;33m,\u001b[0m\u001b[1;33m:\u001b[0m\u001b[1;33m,\u001b[0m\u001b[0mi\u001b[0m\u001b[1;33m]\u001b[0m \u001b[1;33m=\u001b[0m \u001b[0mgravity\u001b[0m\u001b[1;33m(\u001b[0m\u001b[0mposition\u001b[0m\u001b[1;33m)\u001b[0m\u001b[1;33m\u001b[0m\u001b[0m\n\u001b[0m\u001b[0;32m      5\u001b[0m     \u001b[0mposition\u001b[0m \u001b[1;33m+=\u001b[0m \u001b[0mdt\u001b[0m\u001b[1;33m*\u001b[0m\u001b[0mParticleVelocityHistory\u001b[0m\u001b[1;33m[\u001b[0m\u001b[1;33m:\u001b[0m\u001b[1;33m,\u001b[0m\u001b[1;33m:\u001b[0m\u001b[1;33m,\u001b[0m\u001b[0mi\u001b[0m\u001b[1;33m]\u001b[0m\u001b[1;33m\u001b[0m\u001b[0m\n\u001b[0;32m      6\u001b[0m     \u001b[0mParticlePositionHistory\u001b[0m\u001b[1;33m[\u001b[0m\u001b[1;33m:\u001b[0m\u001b[1;33m,\u001b[0m\u001b[1;33m:\u001b[0m\u001b[1;33m,\u001b[0m\u001b[0mi\u001b[0m\u001b[1;33m]\u001b[0m \u001b[1;33m=\u001b[0m \u001b[0mposition\u001b[0m\u001b[1;33m\u001b[0m\u001b[0m\n",
      "\u001b[1;31mNameError\u001b[0m: name 'gravity' is not defined"
     ]
    }
   ],
   "source": [
    "t = 0\n",
    "for i in range(stepN):\n",
    "    t+=dt\n",
    "    ParticleVelocityHistory[:,:,i] = gravity(position)\n",
    "    position += dt*ParticleVelocityHistory[:,:,i]\n",
    "    ParticlePositionHistory[:,:,i] = position"
   ]
  },
  {
   "cell_type": "code",
   "execution_count": null,
   "metadata": {
    "collapsed": false,
    "scrolled": true
   },
   "outputs": [],
   "source": [
    "xyDistributionOld = np.copy(xyDistribution) \n",
    "\n",
    "\n",
    "numbaRK = nb.autojit(RK1)\n",
    "numbaGrav = nb.autojit(gravity)\n",
    "xyDistribution = RK1(gravity, dt, xyDistribution, stepN)\n",
    "\n",
    "#uprint xyDistribution - xyDistributionOld\n"
   ]
  },
  {
   "cell_type": "code",
   "execution_count": null,
   "metadata": {
    "collapsed": false
   },
   "outputs": [],
   "source": [
    "plt.figure(figsize=(10,10))\n",
    "plt.scatter(xyDistributionOld[:,0], xyDistributionOld[:,1], c='y')\n",
    "plt.scatter(xyDistribution[:,0], xyDistribution[:,1], c='b')\n",
    "plt.title(\"All the Particles of the Planet after 10K Time Steps\")\n",
    "plt.xlim(-2000, 2000)\n",
    "plt.ylim(-2000, 2000)\n",
    "plt.plot()"
   ]
  },
  {
   "cell_type": "code",
   "execution_count": null,
   "metadata": {
    "collapsed": false
   },
   "outputs": [],
   "source": [
    "slider = FloatSlider(description='Time', min=0, max=stepN, step=1)\n",
    "\n",
    "def update_plot():\n",
    "    time=slider.value\n",
    "    x = ParticlePositionHistory[:,0,time]\n",
    "    y = ParticlePositionHistory[:,1,time]\n",
    "    fig = plt.figure(figsize=(10,10))\n",
    "    plt.scatter(x, y)\n",
    "    plt.xlim(-2e9, 2e9)\n",
    "    plt.ylim(-2e9, 2e9)\n",
    "\n",
    "    clear_output(True)\n",
    "\n",
    "slider.on_trait_change(update_plot, 'value')\n",
    "\n",
    "\n",
    "display(slider)\n",
    "update_plot()"
   ]
  },
  {
   "cell_type": "code",
   "execution_count": null,
   "metadata": {
    "collapsed": false
   },
   "outputs": [],
   "source": [
    "plt.arrow( 0.5, 0.8, 0.0, -0.2, fc=\"k\", ec=\"k\",\n",
    "head_width=0.05, head_length=0.1 )\n",
    "plt.show()"
   ]
  },
  {
   "cell_type": "code",
   "execution_count": null,
   "metadata": {
    "collapsed": true
   },
   "outputs": [],
   "source": []
  }
 ],
 "metadata": {
  "kernelspec": {
   "display_name": "Python 2",
   "language": "python",
   "name": "python2"
  },
  "language_info": {
   "codemirror_mode": {
    "name": "ipython",
    "version": 2
   },
   "file_extension": ".py",
   "mimetype": "text/x-python",
   "name": "python",
   "nbconvert_exporter": "python",
   "pygments_lexer": "ipython2",
   "version": "2.7.10"
  }
 },
 "nbformat": 4,
 "nbformat_minor": 0
}
