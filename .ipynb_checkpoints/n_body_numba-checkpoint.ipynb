{
 "cells": [
  {
   "cell_type": "markdown",
   "metadata": {},
   "source": [
    "Source: http://hilpisch.com/Continuum_N_Body_Simulation_Numba_27072013.html#/5/1"
   ]
  },
  {
   "cell_type": "code",
   "execution_count": 11,
   "metadata": {
    "collapsed": true
   },
   "outputs": [],
   "source": [
    "%matplotlib inline\n",
    "\n",
    "from __future__ import division\n",
    "\n",
    "import time\n",
    "import numpy as np\n",
    "import matplotlib.pyplot as plt"
   ]
  },
  {
   "cell_type": "code",
   "execution_count": 10,
   "metadata": {
    "collapsed": false
   },
   "outputs": [],
   "source": [
    "nParticles = 5\n",
    "particle = np.random.standard_normal((nParticles, 2))\n",
    "particlev = np.zeros_like(particle)"
   ]
  },
  {
   "cell_type": "code",
   "execution_count": 13,
   "metadata": {
    "collapsed": false
   },
   "outputs": [
    {
     "data": {
      "text/plain": [
       "<matplotlib.collections.PathCollection at 0xa0d4e10>"
      ]
     },
     "execution_count": 13,
     "metadata": {},
     "output_type": "execute_result"
    },
    {
     "data": {
      "image/png": "[encoded data removed]",
      "text/plain": [
       "<matplotlib.figure.Figure at 0x9f0fb38>"
      ]
     },
     "metadata": {},
     "output_type": "display_data"
    }
   ],
   "source": [
    "plt.scatter(particle[:,0], particle[:,1])"
   ]
  },
  {
   "cell_type": "code",
   "execution_count": 3,
   "metadata": {
    "collapsed": true
   },
   "outputs": [],
   "source": []
  },
  {
   "cell_type": "code",
   "execution_count": 4,
   "metadata": {
    "collapsed": true
   },
   "outputs": [],
   "source": [
    "def nbody(particle, particlev):  # NumPy arrays as input\n",
    "    t0 = time.time(); nSteps = 5; dt = 0.01\n",
    "    for step in range(1, nSteps + 1, 1):\n",
    "        for i in range(nParticles):\n",
    "            Fx = 0.0; Fy = 0.0; Fz = 0.0\n",
    "            for j in range(nParticles):\n",
    "                if j != i:\n",
    "                    # Differential is distance between particle i and j's\n",
    "                    dx = particle[j,0] - particle[i,0]\n",
    "                    dy = particle[j,1] - particle[i,1]\n",
    "#                    dz = particle[j,2] - particle[i,2]\n",
    "                    drSquared = dx * dx + dy * dy + dz * dz\n",
    "                    drPowerN32 = 1.0 / (drSquared + np.sqrt(drSquared))\n",
    "                    Fx += dx * drPowerN32\n",
    "                    Fy += dy * drPowerN32\n",
    "#                    Fz += dz * drPowerN32\n",
    "                particlev[i, 0] += dt * Fx\n",
    "                particlev[i, 1] += dt * Fy\n",
    "#                particlev[i, 2] += dt * Fz\n",
    "        for i in range(nParticles):\n",
    "            particle[i,0] += particlev[i,0] * dt\n",
    "            particle[i,1] += particlev[i,1] * dt\n",
    "#            particle[i,2] += particlev[i,2] * dt\n"
   ]
  },
  {
   "cell_type": "code",
   "execution_count": 5,
   "metadata": {
    "collapsed": true
   },
   "outputs": [],
   "source": [
    "import numba as nb"
   ]
  },
  {
   "cell_type": "code",
   "execution_count": 6,
   "metadata": {
    "collapsed": false
   },
   "outputs": [
    {
     "name": "stdout",
     "output_type": "stream",
     "text": [
      "0.220999956131\n"
     ]
    }
   ],
   "source": [
    "nbody_nb = nb.autojit(nbody)\n",
    "firstrun = nbody_nb(particle, particlev)"
   ]
  },
  {
   "cell_type": "code",
   "execution_count": null,
   "metadata": {
    "collapsed": true
   },
   "outputs": [],
   "source": []
  }
 ],
 "metadata": {
  "kernelspec": {
   "display_name": "Python 2",
   "language": "python",
   "name": "python2"
  },
  "language_info": {
   "codemirror_mode": {
    "name": "ipython",
    "version": 2
   },
   "file_extension": ".py",
   "mimetype": "text/x-python",
   "name": "python",
   "nbconvert_exporter": "python",
   "pygments_lexer": "ipython2",
   "version": "2.7.10"
  }
 },
 "nbformat": 4,
 "nbformat_minor": 0
}
