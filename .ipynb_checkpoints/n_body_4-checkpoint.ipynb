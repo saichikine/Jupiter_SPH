{
 "cells": [
  {
   "cell_type": "code",
   "execution_count": 1,
   "metadata": {
    "collapsed": false
   },
   "outputs": [
    {
     "name": "stdout",
     "output_type": "stream",
     "text": [
      "Populating the interactive namespace from numpy and matplotlib\n"
     ]
    }
   ],
   "source": [
    "%pylab inline\n",
    "\n",
    "from __future__ import division\n",
    "\n",
    "import numpy as np\n",
    "import matplotlib.pyplot as plt\n",
    "from matplotlib import animation\n",
    "from matplotlib.collections import PatchCollection\n",
    "\n",
    "from ipywidgets import interact, HTML, FloatSlider\n",
    "from IPython.display import clear_output, display\n",
    "\n",
    "import numba as nb\n",
    "import time"
   ]
  },
  {
   "cell_type": "code",
   "execution_count": 2,
   "metadata": {
    "collapsed": true
   },
   "outputs": [],
   "source": [
    "G = 6.67e-8\n",
    "\n",
    "dt = 1e0\n",
    "stepN = 1000\n",
    "h = 2e9"
   ]
  },
  {
   "cell_type": "code",
   "execution_count": 3,
   "metadata": {
    "collapsed": false
   },
   "outputs": [],
   "source": [
    "### --- Distribution Case 1 --- ###\n",
    "xyDistribution = np.array(([1.0e8, 1.0e8], \n",
    "                           [-1.0e8, -1.0e8])) \n",
    "nParticles = len(xyDistribution)\n",
    "\n",
    "### --- Distribution Case 1.5 --- ###\n",
    "# xyDistribution = np.array(([1.0e8, 1.0e8], \n",
    "#                            [-1.0e8, -5.0e8],\n",
    "#                            [0.0, 1.0e8]))\n",
    "# nParticles = len(xyDistribution)\n",
    "\n",
    "### --- Distribution Case 2 --- ###\n",
    "# nParticles = 250\n",
    "# xyDistribution = np.random.normal(0,5e7, size=(nParticles, 2))\n",
    "\n",
    "# Velocity and mass distribution\n",
    "velocityDistribution = np.zeros_like(xyDistribution, dtype = np.float)\n",
    "\n",
    "mDistribution = np.ones(nParticles, dtype=float) * 2e27\n",
    "\n",
    "# Pressure and density based off of what we're seeing in Jupiter\n",
    "pressureDistribution = np.ones(nParticles, dtype=float) * 4e13\n",
    "rhoDistribution = np.ones(nParticles, dtype=float) * 3\n",
    "\n",
    "ParticlePositionHistory = np.zeros((nParticles,2,stepN))\n",
    "ParticleVelocityHistory = np.zeros((nParticles,2,stepN))\n",
    "\n",
    "\n",
    "timeArray = np.arange(0, stepN*dt, dt)"
   ]
  },
  {
   "cell_type": "code",
   "execution_count": 4,
   "metadata": {
    "collapsed": false
   },
   "outputs": [
    {
     "data": {
      "text/plain": [
       "[]"
      ]
     },
     "execution_count": 4,
     "metadata": {},
     "output_type": "execute_result"
    },
    {
     "data": {
      "image/png": "[encoded data removed]",
      "text/plain": [
       "<matplotlib.figure.Figure at 0xb075e48>"
      ]
     },
     "metadata": {},
     "output_type": "display_data"
    }
   ],
   "source": [
    "plt.figure(figsize=(10,10))\n",
    "plt.scatter(xyDistribution[:,0], xyDistribution[:,1], c='b')\n",
    "plt.xlim(-2e8, 2e8)\n",
    "plt.ylim(-2e8, 2e8)\n",
    "plt.plot()"
   ]
  },
  {
   "cell_type": "code",
   "execution_count": 5,
   "metadata": {
    "collapsed": true
   },
   "outputs": [],
   "source": [
    "def gravity(xyDistribution):\n",
    "    \n",
    "    global velocityDistribution\n",
    "#    global xyDistribution\n",
    "    global h\n",
    "    \n",
    "    deltaV = np.zeros_like(xyDistribution, dtype = np.float)\n",
    "    for j in range(0, nParticles):\n",
    "        for k in range(0, nParticles):\n",
    "            if (k!=j):\n",
    "                xdist = (xyDistribution[j,0]-xyDistribution[k,0])\n",
    "                ydist = (xyDistribution[j,1]-xyDistribution[k,1])\n",
    "#                print xyDistribution\n",
    "#                print \"xdist:\", xdist\n",
    "#                print(ydist)\n",
    "\n",
    "                if(abs(xdist)<1e9):\n",
    "#                    deltaV[j,0] -= -G*mDistribution[j]*xdist/((np.sqrt(xdist**2+ydist**2))**3)\n",
    "                    deltaV[j,0] -= 0\n",
    "#                    print \"X less than smoothing\"\n",
    "                else:\n",
    "                    deltaV[j,0] += -G*mDistribution[j]*xdist/((np.sqrt(xdist**2+ydist**2))**3)\n",
    "\n",
    "                if(abs(ydist)<1e9):\n",
    "#                    deltaV[j,1] -= -G*mDistribution[j]*ydist/((np.sqrt(xdist**2+ydist**2))**3)\n",
    "                    deltaV[j,1] -= 0\n",
    "#                    print \"Y less than smoothing\"\n",
    "                else:\n",
    "                    deltaV[j,1] += -G*mDistribution[j]*ydist/((np.sqrt(xdist**2+ydist**2))**3)\n",
    "                    \n",
    "    return deltaV\n",
    "\n",
    "nb_gravity = nb.autojit(gravity)"
   ]
  },
  {
   "cell_type": "code",
   "execution_count": 6,
   "metadata": {
    "collapsed": false
   },
   "outputs": [
    {
     "name": "stdout",
     "output_type": "stream",
     "text": [
      "Time step 0\n",
      "0.25\n"
     ]
    }
   ],
   "source": [
    "# RK1 Parameters\n",
    "t0 = time.time()\n",
    "t = 0\n",
    "#dt = 1e1\n",
    "#stepN = 20\n",
    "\n",
    "# Particle history\n",
    "ParticlePositionHistory = np.zeros((stepN,nParticles,2))\n",
    "ParticleRhoHistory = np.zeros((stepN, nParticles, 1))\n",
    "xyDistributionOld = np.copy(xyDistribution)\n",
    "\n",
    "# Force history\n",
    "forceHistory = np.zeros((stepN, 3))\n",
    "for i in range(stepN):\n",
    "    if i % 50 == 0:\n",
    "        print \"Time step\", i\n",
    "    if i == 2:\n",
    "        rhoOld = np.copy(rhoDistribution)\n",
    "    deltaVf = np.zeros_like(xyDistribution, dtype = np.float)\n",
    "    \n",
    "    t += 1\n",
    "    ParticlePositionHistory[i,:,:] = xyDistribution\n",
    "    \n",
    "    deltaVf += nb_gravity(xyDistribution) \n",
    "#    print \"\\nAvg gravity\", np.mean(deltaVf)\n",
    "    forceHistory[i,0] = np.median(deltaVf)\n",
    "    \n",
    "#     deltaVf -= -gradP()/rhoDistribution[:,np.newaxis]\n",
    "# #    print \"Avg gravity + pressure\", np.mean(deltaVf)\n",
    "#     forceHistory[i,1] = np.mean(deltaVf)\n",
    "\n",
    "#    deltaVf +=  -v*velocityDistribution**1\n",
    "#    print \"Avg damping:\", np.mean(velocityDistribution)    \n",
    "#    forceHistory[i,2] = np.mean(-v*velocityDistribution**1)\n",
    "    \n",
    "    velocityDistribution += dt*deltaVf    \n",
    "    xyDistribution += dt*velocityDistribution\n",
    "\n",
    "#    densityUpdate()\n",
    "#    ParticleRhoHistory[i,:,:] = rhoDistribution[:,np.newaxis]\n",
    "#    pressureDistribution = K*rhoDistribution**2\n",
    "\n",
    "    ### --- DEBUGGING --- ###\n",
    "#    print xyDistribution[0,0] - xyDistribution[1,0]\n",
    "\n",
    "\n",
    "print(time.time()-t0)\n",
    "#print(rhoDistribution-rhoOld)\n",
    "#print(xyDistribution-xyDistributionOld) \n"
   ]
  },
  {
   "cell_type": "code",
   "execution_count": 7,
   "metadata": {
    "collapsed": false
   },
   "outputs": [
    {
     "data": {
      "image/png": "[encoded data removed]",
      "text/plain": [
       "<matplotlib.figure.Figure at 0xd7d6160>"
      ]
     },
     "metadata": {},
     "output_type": "display_data"
    }
   ],
   "source": [
    "slider = FloatSlider(description='Time', min=1, max=stepN, step=1)\n",
    "\n",
    "def update_plot():\n",
    "    time=slider.value\n",
    "    x = ParticlePositionHistory[time-1,:,0]\n",
    "    y = ParticlePositionHistory[time-1,:,1]\n",
    "    fig = plt.figure(figsize=(10,10))\n",
    "    plt.scatter(x, y)\n",
    "    plt.xlim(-2e8,2e8)\n",
    "    plt.ylim(-2e8,2e8)\n",
    "\n",
    "    clear_output(True)\n",
    "\n",
    "slider.on_trait_change(update_plot, 'value')\n",
    "\n",
    "\n",
    "display(slider)\n",
    "update_plot()"
   ]
  },
  {
   "cell_type": "code",
   "execution_count": 8,
   "metadata": {
    "collapsed": false
   },
   "outputs": [
    {
     "data": {
      "text/plain": [
       "[<matplotlib.lines.Line2D at 0xb08f198>]"
      ]
     },
     "execution_count": 8,
     "metadata": {},
     "output_type": "execute_result"
    },
    {
     "data": {
      "image/png": "[encoded data removed]",
      "text/plain": [
       "<matplotlib.figure.Figure at 0xb08f160>"
      ]
     },
     "metadata": {},
     "output_type": "display_data"
    }
   ],
   "source": [
    "plt.figure(figsize=(8,8))\n",
    "plt.plot(range(stepN), forceHistory[:,0], label='gravity')"
   ]
  },
  {
   "cell_type": "code",
   "execution_count": null,
   "metadata": {
    "collapsed": true
   },
   "outputs": [],
   "source": []
  }
 ],
 "metadata": {
  "kernelspec": {
   "display_name": "Python 2",
   "language": "python",
   "name": "python2"
  },
  "language_info": {
   "codemirror_mode": {
    "name": "ipython",
    "version": 2
   },
   "file_extension": ".py",
   "mimetype": "text/x-python",
   "name": "python",
   "nbconvert_exporter": "python",
   "pygments_lexer": "ipython2",
   "version": "2.7.10"
  }
 },
 "nbformat": 4,
 "nbformat_minor": 0
}
