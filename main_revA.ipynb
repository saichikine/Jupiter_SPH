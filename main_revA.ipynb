{
 "cells": [
  {
   "cell_type": "markdown",
   "metadata": {},
   "source": [
    "# Collision of Two Jovian Planets\n",
    "\n",
    "## Roadmap\n",
    "* Initialization <b>DONE!</b>\n",
    "    * Initialize position\n",
    "        * Distribute particles radially using [equation 4.18]~~\n",
    "    * Initialize velocity\n",
    "        * Uniform velocity for every particle in planet\n",
    "    * Initialize density $\\rho_i$\n",
    "        * Using $\\rho = \\rho_c * sin(\\zeta) / \\zeta $\n",
    "    * Calculate mass of each particle\n",
    "        * Use the smoothing function to relate mass to density\n",
    "        * Keep the mass of each particle fixed for the remainder of calculations\n",
    "    * Choose time scale (not done)\n",
    "        * Time must satisfy the CFL condition [equation 4.12] \n",
    "        \n",
    "* Calculate pressure $P_i$, given density $\\rho_i$ <b> Done!</b>\n",
    "    * More generaly, the 'entire'?? planet can be modeled with $P = K \\rho ^\\gamma$ \n",
    "    * [Equations 4.14 - 4.17] go into more detail\n",
    "    \n",
    "* Calculate $\\nabla P_i$ <b> Possibly done! </b>\n",
    "    * Calculate the gradient of the smoothing kernel\n",
    "    * Then use [equation 4.9]\n",
    "\n",
    "* Calculate gravitational forces $\\nabla \\Phi_i$\n",
    "    * First pass can use brute force O(N^2) method [equation 3.1]\n",
    "    * Second pass would use trees or FFT\n",
    "\n",
    "* Calculate change in velocity $v_i$ [equation 4.2], given pressure, density, and gravitational forces\n",
    "    * This involves solving an ODE\n",
    "        * First pass: RK4\n",
    "        * If bad: RK1\n",
    "        * And then: Leapfrog\n",
    "        \n",
    "* Calculate change in position $r_i$ [equation], given velocity\n",
    "    * This involves solving an ODE\n",
    "        * First pass: RK4\n",
    "        * If bad: RK1\n",
    "        * And then: Leapfrog\n",
    "        \n",
    "## Weird Things / Concerning Things / Bugs\n",
    "* When I initalized 100 particles, I ended up with 94 after all of that\n",
    "    * We lose some of them when rounding, but we shouldn't lose 6\n",
    "* The max number of particles is not located at the outermost edge of Jupiter\n",
    "    * This distribution comes from [equation 4.18]. The error might come from the fact that I didn't normalize alpha = 1, rho_c = 1\n",
    "* Time step is 1e-21 for gravitational forces\n",
    "* The smoothing function is returning negative values, but they're in the correct order of magnitude\n",
    "\n",
    "## Notes\n",
    "* Changed number of partitions to 10\n",
    "* True density of Jupiter is ~1.33g/cm^3\n",
    "\n",
    "## Dimensionality of Velocity/Position\n",
    "* position for a sinlge particle [2x1]\n",
    "* position for all the particles [2xn]\n",
    "* velocity for a sinlge particle [2x1]\n",
    "* velocity for all the particles [2xn]\n",
    "\n",
    "* This implies that gradP for all particles is [2xn]\n",
    "* This implies that gravity for all particles is [2xn]\n",
    "\n",
    "## Dimensionality of gradP\n",
    "* gradP for one particle is [2x1]\n",
    "* m, P, and rho for one particle is [1x1]\n",
    "* This implies that gradW for one particle is [2x1]\n",
    "* gradP for all particles is [2xN]\n",
    "* m, P, and rho for all particles are [1xn]\n",
    "* This implies that gradW for all particles is [2xn]\n",
    "\n",
    "## Dimensionality of gradW\n",
    "* gradW for one particle is [2x1]\n",
    "    * One dimension is the x derivative of W, the other is y derivative of W\n",
    "* gradW for all particles is [2xn]\n",
    "    * One dimension is the x derivative of W, the other is y derivative of W\n",
    "    \n",
    "## Dimensionality of density\n",
    "* Density is [1x1]\n",
    "* To calculate density, you calculate rhoJ for every particle\n",
    "* rhoJ is [1x1]\n",
    "* Store rhoJ in a vector to get [1xn]\n",
    "* Get rho by summing over rhoJ\n",
    "\n",
    "## Dimensionality of the X part of gradP\n",
    "* The dimensionality of the X part of gradP for all particles is [1x1]\n",
    "* For a single particle m, P, and rho are [1x1]\n",
    "* For a single particle, the x component of gradW is [1x1]\n",
    "* The dimensionality of the X part of gradP for all particles is [1xn]\n",
    "* For all particles, m, P, and rho are [1xn]\n",
    "* The dimensionality of the X part of gradW for all particles is [1xn]\n",
    "\n",
    "\n",
    "        \n",
    "### Initialize Libraries"
   ]
  },
  {
   "cell_type": "code",
   "execution_count": 610,
   "metadata": {
    "collapsed": false
   },
   "outputs": [],
   "source": [
    "%matplotlib inline\n",
    "\n",
    "from __future__ import division\n",
    "\n",
    "import numpy as np\n",
    "import matplotlib.pyplot as plt\n",
    "from matplotlib import animation\n",
    "from matplotlib.collections import PatchCollection\n",
    "from scipy.spatial.distance import cdist\n",
    "\n",
    "from ipywidgets import interact, HTML, FloatSlider\n",
    "from IPython.display import clear_output, display\n",
    "\n",
    "import numba as nb\n",
    "import time"
   ]
  },
  {
   "cell_type": "markdown",
   "metadata": {},
   "source": [
    "### Initialize Model Constants"
   ]
  },
  {
   "cell_type": "code",
   "execution_count": 611,
   "metadata": {
    "collapsed": false
   },
   "outputs": [],
   "source": [
    "RJupiter = 6.99e9    # cm\n",
    "\n",
    "v = 0 #damping coefficient\n",
    "h = 1e8\n",
    "\n",
    "n = 1 # polytropic index\n",
    "gamma = 1+(1/n)\n",
    "G = 6.67e-8    # dyne*cm^2/g^2\n",
    "\n",
    "rhoC = 5    # g/cm^3, central density\n",
    "PC = 6.5e13    # dyne/cm^2\n",
    "TC = 22000    # K\n",
    "\n",
    "K = 2.6e12    # dyne*cm^4/g^2\n",
    "\n",
    "alpha = np.sqrt(K/(2*np.pi*G))"
   ]
  },
  {
   "cell_type": "markdown",
   "metadata": {},
   "source": [
    "### Initialize Positions of Planets"
   ]
  },
  {
   "cell_type": "code",
   "execution_count": 612,
   "metadata": {
    "collapsed": false
   },
   "outputs": [
    {
     "name": "stdout",
     "output_type": "stream",
     "text": [
      "2.0\n"
     ]
    },
    {
     "name": "stderr",
     "output_type": "stream",
     "text": [
      "/Users/saikiranchikine/anaconda/lib/python2.7/site-packages/ipykernel/__main__.py:27: DeprecationWarning: using a non-integer number instead of an integer will result in an error in the future\n"
     ]
    }
   ],
   "source": [
    "N1 = 2   # Particles in Planet 1\n",
    "N2 = N1     # Particles in Planet 2\n",
    "\n",
    "# Equations 4.17\n",
    "# Use partition to give initial positions of particles\n",
    "partitionNum = 5     \n",
    "rSpace = np.linspace(0, RJupiter, partitionNum)\n",
    "zetaSpace = rSpace/alpha\n",
    "\n",
    "# Establish number of particles in each region of delta(zeta)\n",
    "NDistribution = []    \n",
    "for i in range(1,len(zetaSpace)):\n",
    "    zeta2 = zetaSpace[i]\n",
    "    zeta1 = zetaSpace[i-1]\n",
    "    NDistribution.append((np.sin(zeta2) - zeta2*np.cos(zeta2) - np.sin(zeta1) + zeta1*np.cos(zeta1))\\\n",
    "                         *N1/np.pi)\n",
    "    \n",
    "NDistribution = np.array(NDistribution)\n",
    "NDistribution = np.round(NDistribution)\n",
    "\n",
    "print(sum(NDistribution))\n",
    "\n",
    "\n",
    "# Create radial distribution\n",
    "radiusDistribution = []\n",
    "i = 0\n",
    "for N in NDistribution:\n",
    "    radiusDistribution.append(np.random.uniform(rSpace[i], rSpace[i+1], size=N))\n",
    "    i += 1\n",
    "\n",
    "# Flatten radial array\n",
    "radiusDistribution = [item for sublist in radiusDistribution for item in sublist]\n",
    "radiusDistribution = np.array(radiusDistribution)\n",
    "\n",
    "# Create angle distribution\n",
    "thetaDistribution = np.random.uniform(0, 2*np.pi, size=len(radiusDistribution))"
   ]
  },
  {
   "cell_type": "markdown",
   "metadata": {},
   "source": [
    "### Plot Initial Spatial Distribution"
   ]
  },
  {
   "cell_type": "code",
   "execution_count": 613,
   "metadata": {
    "collapsed": false
   },
   "outputs": [
    {
     "data": {
      "image/png": "[encoded data removed]",
      "text/plain": [
       "<matplotlib.figure.Figure at 0x10a27ae50>"
      ]
     },
     "metadata": {},
     "output_type": "display_data"
    }
   ],
   "source": [
    "plt.figure(figsize=(10,10))\n",
    "plt.scatter(radiusDistribution*np.cos(thetaDistribution), radiusDistribution*np.sin(thetaDistribution))\n",
    "plt.title(\"Initial Position Distribution of Particles\")\n",
    "plt.show()"
   ]
  },
  {
   "cell_type": "markdown",
   "metadata": {},
   "source": [
    "### Model Initial Densities\n",
    "* Currently modeling density as 4 distinct regions\n",
    "    * Might want to follow up with the smoothing that comes with the density_j summation\n",
    "* Modeling density as a continuous function of r now, using [equation 4.16]"
   ]
  },
  {
   "cell_type": "code",
   "execution_count": 614,
   "metadata": {
    "collapsed": false
   },
   "outputs": [
    {
     "name": "stdout",
     "output_type": "stream",
     "text": [
      "(2,) (2,)\n"
     ]
    }
   ],
   "source": [
    "rhoDistribution = rhoC * np.sin(radiusDistribution/alpha) / (radiusDistribution/alpha)\n",
    "\n",
    "print radiusDistribution.shape, rhoDistribution.shape"
   ]
  },
  {
   "cell_type": "markdown",
   "metadata": {
    "collapsed": true
   },
   "source": [
    "### Plot Initial Densities"
   ]
  },
  {
   "cell_type": "code",
   "execution_count": 615,
   "metadata": {
    "collapsed": false
   },
   "outputs": [
    {
     "data": {
      "image/png": "[encoded data removed]",
      "text/plain": [
       "<matplotlib.figure.Figure at 0x10a82ddd0>"
      ]
     },
     "metadata": {},
     "output_type": "display_data"
    }
   ],
   "source": [
    "plt.figure(figsize=(10,8))\n",
    "plt.scatter(radiusDistribution*np.cos(thetaDistribution), radiusDistribution*np.sin(thetaDistribution), c=rhoDistribution)\n",
    "plt.title(\"Initial Density Distribution of Particles\")\n",
    "plt.colorbar()\n",
    "plt.show()"
   ]
  },
  {
   "cell_type": "markdown",
   "metadata": {
    "collapsed": true
   },
   "source": [
    "### Model Initial Pressure Distribution\n",
    "* Currently modeling as simply polytropic\n",
    "    * Might want to find P by solving the ODE [equation 4.14]"
   ]
  },
  {
   "cell_type": "code",
   "execution_count": 616,
   "metadata": {
    "collapsed": false
   },
   "outputs": [
    {
     "data": {
      "image/png": "[encoded data removed]",
      "text/plain": [
       "<matplotlib.figure.Figure at 0x10b3cfd50>"
      ]
     },
     "metadata": {},
     "output_type": "display_data"
    }
   ],
   "source": [
    "pressureDistribution = K * rhoDistribution ** gamma\n",
    "\n",
    "plt.figure(figsize=(10,8))\n",
    "plt.scatter(radiusDistribution*np.cos(thetaDistribution), \\\n",
    "            radiusDistribution*np.sin(thetaDistribution), c=pressureDistribution)\n",
    "plt.title(\"Initial Pressure Distribution of Particles\")\n",
    "plt.colorbar()\n",
    "plt.show()"
   ]
  },
  {
   "cell_type": "markdown",
   "metadata": {},
   "source": [
    "### Helper Function (Convert Polar Coordinates to Cartesian)"
   ]
  },
  {
   "cell_type": "code",
   "execution_count": 617,
   "metadata": {
    "collapsed": true
   },
   "outputs": [],
   "source": [
    "def polar2cart(r, theta):\n",
    "    return np.array([r*np.cos(theta), r*np.sin(theta)]).T\n",
    "\n",
    "xyDistribution = polar2cart(radiusDistribution, thetaDistribution)\n",
    "nParticles = len(xyDistribution)"
   ]
  },
  {
   "cell_type": "markdown",
   "metadata": {},
   "source": [
    "### Define Smoothing Function\n",
    "\n",
    "\\begin{equation}\n",
    "W(r,h) = \\frac{1}{\\pi h^3} ( 1 - \\frac{3}{2}(r/h)^2 + \\frac{3}{4}(r/h)^3)\n",
    "\\end{equation}\n",
    "\n",
    "\\begin{equation}\n",
    "W(r,h) = \\frac{1}{4 \\pi h^3} ( 2 - (r/h)^3)\n",
    "\\end{equation}"
   ]
  },
  {
   "cell_type": "code",
   "execution_count": 618,
   "metadata": {
    "collapsed": false
   },
   "outputs": [],
   "source": [
    "# MJupiter = 1.89e30    # grams\n",
    "\n",
    "def W(xyDistribution, h= 3e9, verbose=False):\n",
    "    '''\n",
    "    h = ~3e9 looks like a good range\n",
    "    Finding W for all pairs (i,j), instead of just j. \n",
    "    I'm flattening W at the end of the function. I might be meant to flatten W\n",
    "        by flattening the |r-rj| by taking their sum\n",
    "    '''\n",
    "    \n",
    "    distVect = np.zeros((len(xyDistribution), len(xyDistribution)))\n",
    "                  \n",
    "    # Find distance between each j and the other points\n",
    "    for i in range(len(xyDistribution)):\n",
    "        particle_i = xyDistribution[i]\n",
    "        dist = np.sqrt((particle_i[0] - xyDistribution[:,0])**2 + (particle_i[1] - xyDistribution[:,1])**2)\n",
    "        # Store distances in a matrix\n",
    "        distVect[:,i] = dist\n",
    "    \n",
    "    # r < 1\n",
    "    distVect1 = distVect < h\n",
    "    distVect1 = distVect1.astype(int)\n",
    "    if verbose:\n",
    "        print \"Percent of molecules within 1 smoothing length:\", \\\n",
    "            np.count_nonzero(distVect1) / (len(xyDistribution)**2)\n",
    "            \n",
    "    # Matrix containing radii (where only nonzero values are radii < h)\n",
    "    R1 = distVect1 * distVect   \n",
    "    W1 = distVect1 / (np.pi * h**3) * (1 - 3/2*(R1/h)**2 + 3/4*(R1/h)**3)\n",
    "    \n",
    "    if np.min(W1) < 0:\n",
    "        print \"Warning! Negative smoothing kernel detected!\"\n",
    "\n",
    "    # r > 2h\n",
    "    distVect2 = distVect > 2 * h\n",
    "    distVect2 = distVect2.astype(int)\n",
    "    if verbose:\n",
    "        print \"Percent of molecules which do not affect the particle:\", \\\n",
    "            np.count_nonzero(distVect2) / (len(xyDistribution)**2)\n",
    "    \n",
    "    # h < r < 2h\n",
    "    distVect12 = np.logical_not(np.logical_or(distVect1, distVect2))\n",
    "    if verbose:\n",
    "        print \"Percent of molecules within 2 smoothing lengths:\", \\\n",
    "                np.count_nonzero(distVect12) / (len(xyDistribution)**2)\n",
    "            \n",
    "    R12 = distVect12 * distVect \n",
    "    W12 = distVect12 / (4 * np.pi * h**3) * (2 - (R12/h))**3\n",
    "    \n",
    "    if np.min(W12) < 0:\n",
    "        print \"Warning! Negative smoothing kernel detected!\"\n",
    "\n",
    "    W = W1 + W12\n",
    "    W = np.sum(W, axis=1)\n",
    "    \n",
    "    print np.count_nonzero(W)#, np.count_nonzero(distVect)\n",
    "    return W"
   ]
  },
  {
   "cell_type": "markdown",
   "metadata": {},
   "source": [
    "### Calculate Initial Mass Distribution\n",
    "* Calculate using the smoothing equation [equation 4.4]\n",
    "* Assume mass is fixed per particle afterwards\n",
    "* The calculated mass distribution is on the same order of magnitude as Jupiter's true mass, which implies that the smoothing function doesn't have any bugs"
   ]
  },
  {
   "cell_type": "code",
   "execution_count": 619,
   "metadata": {
    "collapsed": false
   },
   "outputs": [
    {
     "name": "stdout",
     "output_type": "stream",
     "text": [
      "2\n",
      "The percent error of the calculated mass of Jupiter with respect to its true mass is 0.8882 %\n"
     ]
    },
    {
     "data": {
      "image/png": "[encoded data removed]",
      "text/plain": [
       "<matplotlib.figure.Figure at 0x10aec08d0>"
      ]
     },
     "metadata": {},
     "output_type": "display_data"
    },
    {
     "data": {
      "image/png": "[encoded data removed]",
      "text/plain": [
       "<matplotlib.figure.Figure at 0x10ba2fe50>"
      ]
     },
     "metadata": {},
     "output_type": "display_data"
    }
   ],
   "source": [
    "mDistribution = rhoDistribution/W(xyDistribution)\n",
    "trueJupiterMass = 1.89e30    #g\n",
    "\n",
    "massPercentError  = (trueJupiterMass- np.sum(mDistribution))/trueJupiterMass\n",
    "print \"The percent error of the calculated mass of Jupiter with respect to its true mass is\", \\\n",
    "            \"%.4f\" % massPercentError, \"%\"\n",
    "\n",
    "plt.figure(figsize=(10,8))\n",
    "plt.scatter(radiusDistribution*np.cos(thetaDistribution), \\\n",
    "            radiusDistribution*np.sin(thetaDistribution), c=mDistribution)\n",
    "plt.title(\"Initial Mass Distribution of Particles\")\n",
    "plt.colorbar()\n",
    "plt.show()\n",
    "\n",
    "plt.figure()\n",
    "plt.hist(mDistribution)\n",
    "plt.title(\"Mass Distribution\")\n",
    "plt.show()"
   ]
  },
  {
   "cell_type": "markdown",
   "metadata": {},
   "source": [
    "### Model Initial Velocities"
   ]
  },
  {
   "cell_type": "code",
   "execution_count": 620,
   "metadata": {
    "collapsed": true
   },
   "outputs": [],
   "source": [
    "velocityDistribution = np.zeros_like(xyDistribution)"
   ]
  },
  {
   "cell_type": "markdown",
   "metadata": {},
   "source": [
    "### Plot XYDistribution one more time"
   ]
  },
  {
   "cell_type": "code",
   "execution_count": 621,
   "metadata": {
    "collapsed": false
   },
   "outputs": [
    {
     "data": {
      "text/plain": [
       "(-20000000000.0, 20000000000.0)"
      ]
     },
     "execution_count": 621,
     "metadata": {},
     "output_type": "execute_result"
    },
    {
     "data": {
      "image/png": "[encoded data removed]",
      "text/plain": [
       "<matplotlib.figure.Figure at 0x10b16d610>"
      ]
     },
     "metadata": {},
     "output_type": "display_data"
    }
   ],
   "source": [
    "plt.figure(figsize=(10, 10))\n",
    "plt.scatter(xyDistribution[:, 0], xyDistribution[:,1])\n",
    "plt.xlim(-2e10, 2e10)\n",
    "plt.ylim(-2e10, 2e10)"
   ]
  },
  {
   "cell_type": "markdown",
   "metadata": {},
   "source": [
    "### Define Gradient of Smoothing Function\n",
    "\n",
    "\\begin{equation}\n",
    "\\nabla W(r,h) = \\frac{1}{\\pi h^3} \\left( -3(r/h) + \\frac{9}{4}(r/h)^2 \\right)\n",
    "\\end{equation}\n",
    "\n",
    "\\begin{equation}\n",
    "\\nabla W(r,h) = -\\frac{3}{4 \\pi h^3} (r/h)^2\n",
    "\\end{equation}\n",
    "\n",
    "\\begin{equation}\n",
    "\\frac{d}{dx} W(x,h) = \\frac{1}{4 \\pi h^5} \\left( -3xr \\right)\n",
    "\\end{equation}"
   ]
  },
  {
   "cell_type": "code",
   "execution_count": 622,
   "metadata": {
    "collapsed": false
   },
   "outputs": [],
   "source": [
    "def gradW(xyDist, h):\n",
    "    '''\n",
    "    Inputs:\n",
    "        xyDist: a [2,1] array containing the difference in [x,y] position\n",
    "            between two particles\n",
    "        h: smoothing length\n",
    "    Outputs:\n",
    "        a [2,1] array containing the [x,y] component of gradW\n",
    "    '''\n",
    "    \n",
    "    dist = np.sqrt(xyDist[0]**2 + xyDist[1]**2)\n",
    "    \n",
    "    if dist < h:\n",
    "        #print \"Less than 1!\"\n",
    "        return np.array(\n",
    "              [15*xyDist[0]*(3*dist - 4*h)/(14 * np.pi * h**5),\n",
    "               15*xyDist[1]*(3*dist - 4*h)/(14 * np.pi * h**5)])\n",
    "    \n",
    "    elif dist > 2 * h:\n",
    "        #print \"more than 2!\"\n",
    "        return np.array([0,0])\n",
    "    \n",
    "    else:\n",
    "        #print \"In between!\"\n",
    "        return np.array(\n",
    "                [-15*xyDist[0]*(2*h - dist)**2/(14*h**5*np.pi*dist),\n",
    "                 -15*xyDist[1]*(2*h - dist)**2/(14*h**5*np.pi*dist)] )"
   ]
  },
  {
   "cell_type": "markdown",
   "metadata": {},
   "source": [
    "### Density Update Function"
   ]
  },
  {
   "cell_type": "code",
   "execution_count": 623,
   "metadata": {
    "collapsed": false
   },
   "outputs": [],
   "source": [
    "def Density_Update():\n",
    "    \n",
    "    global xyDistribution\n",
    "    global rhoDistribution\n",
    "    global massDistribution\n",
    "\n",
    "    for i in range(0, nParticles):\n",
    "        rhodistribution[i] = massDistribution[i]*W(0, h)\n",
    "\n",
    "        for j in range(i, nParticles):\n",
    "            if (j!=i):\n",
    "                xdist = (xyDistribution[j,0]-xyDistribution[k,0])\n",
    "                ydist = (xyDistribution[j,1]-xyDistribution[k,1])\n",
    "            dist_ij = sqrt(xdist**2 + ydist**2)\n",
    "            rho_ij = m*W(dist_ij, h)\n",
    "            rhoDistribution[i] += rho_ij"
   ]
  },
  {
   "cell_type": "markdown",
   "metadata": {},
   "source": [
    "### Define Pressure Gradient\n",
    "\n",
    "\\begin{equation}\n",
    "\\nabla P= \\frac{mP}{\\rho}\\nabla W\n",
    "\\end{equation}"
   ]
  },
  {
   "cell_type": "code",
   "execution_count": 624,
   "metadata": {
    "collapsed": true
   },
   "outputs": [],
   "source": [
    "def gradP():\n",
    "    \n",
    "    gradPArray = np.zeros_like(velocityDistribution)\n",
    "\n",
    "    for i in range(0, nParticles):\n",
    "        for j in range(i, nParticles):\n",
    "            \n",
    "            xdist = (xyDistribution[i,0]-xyDistribution[j,0])\n",
    "            ydist = (xyDistribution[i,1]-xyDistribution[j,1])\n",
    "            distArr = np.array([xdist,ydist])\n",
    "            \n",
    "            gradPX = mDistribution[i]*((pressureDistribution[i]/(rhoDistribution[i]**2))+(pressureDistribution[i]/(rhoDistribution[i]**2)))*gradW(distArr,h)[0]\n",
    "            gradPY = mDistribution[i]*((pressureDistribution[i]/(rhoDistribution[i]**2))+(pressureDistribution[i]/(rhoDistribution[i]**2)))*gradW(distArr,h)[1]\n",
    "            \n",
    "            gradPArray[i,0] += gradPX\n",
    "            gradPArray[i,1] += gradPY\n",
    "\n",
    "    return gradPArray\n",
    "    "
   ]
  },
  {
   "cell_type": "markdown",
   "metadata": {},
   "source": [
    "### Define Gravity"
   ]
  },
  {
   "cell_type": "code",
   "execution_count": 625,
   "metadata": {
    "collapsed": false
   },
   "outputs": [],
   "source": [
    "def gravity():\n",
    "    \n",
    "    global velocityDistribution\n",
    "    global xyDistribution\n",
    "    \n",
    "    deltaV = np.zeros_like(xyDistribution, dtype = np.float)\n",
    "    for j in range(0, nParticles):\n",
    "        for k in range(0, nParticles):\n",
    "            if (k!=j):\n",
    "                xdist = (xyDistribution[j,0]-xyDistribution[k,0])\n",
    "                ydist = (xyDistribution[j,1]-xyDistribution[k,1])\n",
    "                #print(xdist)\n",
    "                #print(ydist)\n",
    "\n",
    "                if(xdist==0):\n",
    "                    deltaV[j,0] += 0\n",
    "                elif(xdist!=0):\n",
    "                    deltaV[j,0] += -G*mDistribution[j]*xdist/((np.sqrt(xdist**2+ydist**2))**3)\n",
    "                    #print(\"blah\", -G*mDistribution[i]/(np.sqrt(abs(position[j,0]-position[i,0]))**2))\n",
    "                    #print(\"v\", i, \"x\", velocityDistribution[i,0])\n",
    "\n",
    "                if(ydist==0):\n",
    "                    deltaV[j,1] += 0\n",
    "                elif(ydist!=0):\n",
    "                    deltaV[j,1] += -G*mDistribution[j]*ydist/((np.sqrt(xdist**2+ydist**2))**3)\n",
    "                    #print(\"v\", i, \"y\", velocityDistribution[i,1])\n",
    "    return deltaV\n",
    "\n",
    "nb_gravity = nb.autojit(gravity)\n",
    "\n",
    "#print nb_gravity()\n",
    "#print gradP()"
   ]
  },
  {
   "cell_type": "markdown",
   "metadata": {},
   "source": [
    "### Run Through RK1 (for gravity, not pressure)"
   ]
  },
  {
   "cell_type": "code",
   "execution_count": 626,
   "metadata": {
    "collapsed": false
   },
   "outputs": [
    {
     "name": "stdout",
     "output_type": "stream",
     "text": [
      "6.95961999893\n",
      "[[  5.83075861e+15  -7.90360063e+14]\n",
      " [  6.65292503e+10  -9.01804825e+09]]\n",
      "[  1.70274753e+29   4.09475388e+28]\n"
     ]
    }
   ],
   "source": [
    "# RK1 Parameters\n",
    "t0 = time.time()\n",
    "dt = 0.001\n",
    "stepN = 100000\n",
    "\n",
    "# Particle history\n",
    "ParticlePositionHistory = np.zeros((stepN,nParticles,2))\n",
    "ParticleVelocityHistory = np.zeros((nParticles,2,stepN))\n",
    "xyDistributionOld = np.copy(xyDistribution)\n",
    "\n",
    "deltaVf = np.zeros_like(xyDistribution, dtype = np.float)\n",
    "\n",
    "for i in range(stepN):\n",
    "    t += 1\n",
    "    ParticlePositionHistory[i,:,:] = xyDistribution\n",
    "    deltaVf += nb_gravity()\n",
    "    deltaVf += -gradP()/rhoDistribution[:,np.newaxis]\n",
    "    deltaVf -= v*velocityDistribution\n",
    "    velocityDistribution += dt*deltaVf\n",
    "    #deltaPos = velocityDistribution * dt\n",
    "    xyDistribution += dt*velocityDistribution\n",
    "    pressureDistribution = K*rhoDistribution**2\n",
    "\n",
    "print(time.time()-t0)\n",
    "print(xyDistribution-xyDistributionOld) \n",
    "print(mDistribution)\n",
    "### --- Debugging --- ###\n",
    "#    print \"Mean velocity at timestep\", t, \"\\n\", np.mean(deltaV)\n",
    "#    print \"deltaV at timestep\", t, \"\\n\", deltaV\n",
    "#    print \"deltaPos at timestep\", t, \"\\n\", deltaPos\n",
    "#    print \"velocityDistribution at timestep\", t, \"\\n\", velocityDistribution\n",
    "\n",
    "#     print \"deltaPos:\\n\", deltaPos\n",
    "#     print \"xyDistribution:\\n\", xyDistribution\n",
    "\n",
    "#     ParticleVelocityHistory[:,:,i] = -gradP()/rhoDistribution[:,np.newaxis] * dt\n"
   ]
  },
  {
   "cell_type": "markdown",
   "metadata": {},
   "source": [
    "### Plot Position Change"
   ]
  },
  {
   "cell_type": "code",
   "execution_count": 627,
   "metadata": {
    "collapsed": false
   },
   "outputs": [
    {
     "data": {
      "image/png": "[encoded data removed]",
      "text/plain": [
       "<matplotlib.figure.Figure at 0x109f67350>"
      ]
     },
     "metadata": {},
     "output_type": "display_data"
    }
   ],
   "source": [
    "slider = FloatSlider(description='Time', min=0, max=stepN, step=1)\n",
    "\n",
    "def update_plot():\n",
    "    time=slider.value\n",
    "    x = ParticlePositionHistory[time-1,:,0]\n",
    "    y = ParticlePositionHistory[time-1,:,1]\n",
    "    fig = plt.figure(figsize=(10,10))\n",
    "    plt.scatter(x, y)\n",
    "    plt.xlim(-2e10, 2e10)\n",
    "    plt.ylim(-2e10, 2e10)\n",
    "\n",
    "    clear_output(True)\n",
    "\n",
    "slider.on_trait_change(update_plot, 'value')\n",
    "\n",
    "\n",
    "display(slider)\n",
    "update_plot()"
   ]
  },
  {
   "cell_type": "markdown",
   "metadata": {},
   "source": [
    "### Model Initial Gravitational Force\n",
    "\n",
    "#### Need to Run Entire Code to get reliable visuals! \n",
    "\n",
    "* Looking into https://www.wakari.io/sharing/bundle/yves/Continuum_N_Body_Simulation_Numba to do calcs\n",
    "* Here has better approaches http://www.scholarpedia.org/article/N-body_simulations, but no code\n",
    "* Ripping code from here: http://hilpisch.com/Continuum_N_Body_Simulation_Numba_27072013.html#/5/1\n",
    "\n",
    "* The difference in position appears directly proportional to the size of time step\n",
    "\n",
    "* A time step of e-21 allows the planet to stay relatively clumped up after 10000 RK1 steps\n",
    "    * ie: Less than 10 particles were ejected into oblivion\n",
    "    \n",
    "\\begin{equation}\n",
    "\\frac{d^2x}{dt^2} = -GM\\frac{x}{r^3} = -GM\\frac{\\|x\\|}{\\|r\\|^3} = -GM\\frac{\\|x\\|}{\\|\\sqrt{x^2+y^2}\\|^3}\n",
    "\\end{equation}\n",
    "\n",
    "\\begin{equation}\n",
    "\\frac{d^2y}{dt^2} = -GM\\frac{y}{r^3} = -GM\\frac{\\|y\\|}{\\|r\\|^3} = -GM\\frac{\\|y\\|}{\\|\\sqrt{x^2+y^2}\\|^3}\n",
    "\\end{equation}\n",
    "\n",
    "Taken from Newman, page 386"
   ]
  },
  {
   "cell_type": "code",
   "execution_count": 628,
   "metadata": {
    "collapsed": false
   },
   "outputs": [
    {
     "name": "stdout",
     "output_type": "stream",
     "text": [
      "[[  1.44101278e+14  -1.95329464e+13]\n",
      " [  1.99583759e+09  -2.70536037e+08]]\n"
     ]
    }
   ],
   "source": [
    "print(velocityDistribution)"
   ]
  }
 ],
 "metadata": {
  "kernelspec": {
   "display_name": "Python 2",
   "language": "python",
   "name": "python2"
  },
  "language_info": {
   "codemirror_mode": {
    "name": "ipython",
    "version": 2
   },
   "file_extension": ".py",
   "mimetype": "text/x-python",
   "name": "python",
   "nbconvert_exporter": "python",
   "pygments_lexer": "ipython2",
   "version": "2.7.10"
  }
 },
 "nbformat": 4,
 "nbformat_minor": 0
}
