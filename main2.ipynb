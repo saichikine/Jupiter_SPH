{
 "cells": [
  {
   "cell_type": "markdown",
   "metadata": {},
   "source": [
    "### Initialize libraries"
   ]
  },
  {
   "cell_type": "code",
<<<<<<< HEAD
   "execution_count": 116,
=======
   "execution_count": 1,
>>>>>>> d22115ae68fdd9b89ff98a72eb6ce6cb10525546
   "metadata": {
    "collapsed": true
   },
   "outputs": [],
   "source": [
    "%matplotlib inline\n",
    "\n",
    "from __future__ import division\n",
    "\n",
    "import numpy as np\n",
    "import matplotlib.pyplot as plt\n",
    "from matplotlib import animation\n",
    "from matplotlib.collections import PatchCollection\n",
    "from scipy.spatial.distance import cdist\n",
    "\n",
    "from ipywidgets import interact, HTML, FloatSlider\n",
    "from IPython.display import clear_output, display\n",
    "\n",
    "import numba as nb\n",
    "import time"
   ]
  },
  {
   "cell_type": "markdown",
   "metadata": {},
   "source": [
    "### Initialize Model Constants"
   ]
  },
  {
   "cell_type": "code",
<<<<<<< HEAD
   "execution_count": 117,
=======
   "execution_count": 2,
>>>>>>> d22115ae68fdd9b89ff98a72eb6ce6cb10525546
   "metadata": {
    "collapsed": true
   },
   "outputs": [],
   "source": [
    "RJupiter = 6.99e9    # cm\n",
    "\n",
    "gamma = 2\n",
    "G = 6.67e-8    # dyne*cm^2/g^2\n",
    "\n",
    "rhoC = 5    # g/cm^3, central density\n",
    "PC = 6.5e13    # dyne/cm^2\n",
    "TC = 22000    # K\n",
    "\n",
    "K = 2.6e12    # dyne*cm^4/g^2\n",
    "\n",
    "alpha = np.sqrt(K/(2*np.pi*G))\n",
    "\n",
<<<<<<< HEAD
    "h = 1e9      "
=======
    "h = 0.85e9      # h of 4e8 returns a mass on the same order of true mass of Jupiter"
>>>>>>> d22115ae68fdd9b89ff98a72eb6ce6cb10525546
   ]
  },
  {
   "cell_type": "markdown",
   "metadata": {},
   "source": [
    "### Initialize Radial Position of Planets"
   ]
  },
  {
   "cell_type": "code",
<<<<<<< HEAD
   "execution_count": 118,
=======
   "execution_count": 3,
>>>>>>> d22115ae68fdd9b89ff98a72eb6ce6cb10525546
   "metadata": {
    "collapsed": false
   },
   "outputs": [
    {
     "name": "stderr",
     "output_type": "stream",
     "text": [
      "/Users/saikiranchikine/anaconda/lib/python2.7/site-packages/ipykernel/__main__.py:22: DeprecationWarning: using a non-integer number instead of an integer will result in an error in the future\n"
     ]
    }
   ],
   "source": [
    "N1 = 100      # Particles in planet 1\n",
    "\n",
    "# Use partition to give initial radial positions of particles\n",
    "partitionNum = 5     \n",
    "rSpace = np.linspace(0, RJupiter, partitionNum)\n",
    "zetaSpace = rSpace/alpha\n",
    "\n",
    "# Establish number of particles in each region of delta(zeta)\n",
    "NDistribution = []    \n",
    "for i in range(1,len(zetaSpace)):\n",
    "    zeta2 = zetaSpace[i]\n",
    "    zeta1 = zetaSpace[i-1]\n",
    "    NDistribution.append((np.sin(zeta2) - zeta2*np.cos(zeta2) - np.sin(zeta1) + zeta1*np.cos(zeta1))\\\n",
    "                         *N1/np.pi)\n",
    "    \n",
    "NDistribution = np.array(NDistribution)\n",
    "NDistribution = np.round(NDistribution)\n",
    "\n",
    "# Create radial distribution\n",
    "radiusDistribution = []\n",
    "i = 0\n",
    "for N in NDistribution:\n",
    "    radiusDistribution.append(np.random.uniform(rSpace[i], rSpace[i+1], size=N))\n",
    "    i += 1\n",
    "    \n",
    "# Flatten radial array\n",
    "radiusDistribution = [item for sublist in radiusDistribution for item in sublist]\n",
    "radiusDistribution = np.array(radiusDistribution)\n",
    "\n",
    "# Create angle distribution\n",
    "thetaDistribution = np.random.uniform(0, 2*np.pi, size=len(radiusDistribution))"
   ]
  },
  {
   "cell_type": "markdown",
   "metadata": {},
   "source": [
    "### Initialize Cartesian Position of Planets"
   ]
  },
  {
   "cell_type": "code",
<<<<<<< HEAD
   "execution_count": 119,
=======
   "execution_count": 4,
>>>>>>> d22115ae68fdd9b89ff98a72eb6ce6cb10525546
   "metadata": {
    "collapsed": true
   },
   "outputs": [],
   "source": [
    "def polar2cart(r, theta):\n",
    "    return np.array([r*np.cos(theta), r*np.sin(theta)]).T\n",
    "\n",
    "xyDistribution = polar2cart(radiusDistribution, thetaDistribution)\n",
    "nParticles = len(xyDistribution)"
   ]
  },
  {
   "cell_type": "markdown",
   "metadata": {},
   "source": [
    "### Model Initial Velocity & Mass "
   ]
  },
  {
   "cell_type": "code",
<<<<<<< HEAD
   "execution_count": 120,
=======
   "execution_count": 5,
>>>>>>> d22115ae68fdd9b89ff98a72eb6ce6cb10525546
   "metadata": {
    "collapsed": false
   },
   "outputs": [],
   "source": [
    "velocityDistribution = np.zeros_like(xyDistribution)\n",
<<<<<<< HEAD
    "MJupiter = 1.89e30    # grams\n",
    "mDistribution = np.ones(len(xyDistribution)) * MJupiter/len(xyDistribution)"
=======
    "\n",
    "rhoDistribution = rhoC * np.sin(radiusDistribution/alpha) / (radiusDistribution/alpha)\n",
    "\n",
    "pressureDistribution = K * rhoDistribution ** gamma"
   ]
  },
  {
   "cell_type": "markdown",
   "metadata": {},
   "source": [
    "### Define Gradient for special case of mass initialization"
   ]
  },
  {
   "cell_type": "code",
   "execution_count": 6,
   "metadata": {
    "collapsed": true
   },
   "outputs": [],
   "source": [
    "# MJupiter = 1.89e30    # grams\n",
    "\n",
    "def mW(xyDistribution, h= 7e9, verbose=False):\n",
    "    '''\n",
    "    h = ~3e9 looks like a good range\n",
    "    Finding W for all pairs (i,j), instead of just j. \n",
    "    I'm flattening W at the end of the function. I might be meant to flatten W\n",
    "        by flattening the |r-rj| by taking their sum\n",
    "    '''\n",
    "        \n",
    "    distVect = np.zeros((len(xyDistribution), len(xyDistribution)))\n",
    "                  \n",
    "    # Find distance between each j and the other points\n",
    "    for i in range(len(xyDistribution)):\n",
    "        particle_i = xyDistribution[i]\n",
    "        dist = np.sqrt((particle_i[0] - xyDistribution[:,0])**2 + (particle_i[1] - xyDistribution[:,1])**2)\n",
    "        # Store distances in a matrix\n",
    "        distVect[:,i] = dist\n",
    "    \n",
    "    # r < 1\n",
    "    distVect1 = distVect < h\n",
    "    distVect1 = distVect1.astype(int)\n",
    "    if verbose:\n",
    "        print \"Percent of molecules within 1 smoothing length:\", \\\n",
    "            np.count_nonzero(distVect1) / (len(xyDistribution)**2)\n",
    "            \n",
    "    # Matrix containing radii (where only nonzero values are radii < h)\n",
    "    R1 = distVect1 * distVect   \n",
    "    W1 = distVect1 / (np.pi * h**3) * (1 - 3/2*(R1/h)**2 + 3/4*(R1/h)**3)\n",
    "    \n",
    "    if np.min(W1) < 0:\n",
    "        print \"Warning! Negative smoothing kernel detected!\"\n",
    "\n",
    "    # r > 2h\n",
    "    distVect2 = distVect > 2 * h\n",
    "    distVect2 = distVect2.astype(int)\n",
    "    if verbose:\n",
    "        print \"Percent of molecules which do not affect the particle:\", \\\n",
    "            np.count_nonzero(distVect2) / (len(xyDistribution)**2)\n",
    "    \n",
    "    # h < r < 2h\n",
    "    distVect12 = np.logical_not(np.logical_or(distVect1, distVect2))\n",
    "    if verbose:\n",
    "        print \"Percent of molecules within 2 smoothing lengths:\", \\\n",
    "                np.count_nonzero(distVect12) / (len(xyDistribution)**2)\n",
    "            \n",
    "    R12 = distVect12 * distVect \n",
    "    W12 = distVect12 / (4 * np.pi * h**3) * (2 - (R12/h))**3\n",
    "    \n",
    "    if np.min(W12) < 0:\n",
    "        print \"Warning! Negative smoothing kernel detected!\"\n",
    "\n",
    "    W = W1 + W12\n",
    "    W = np.sum(W, axis=1)\n",
    "    \n",
    "    print np.count_nonzero(W)#, np.count_nonzero(distVect)\n",
    "    return W"
   ]
  },
  {
   "cell_type": "markdown",
   "metadata": {},
   "source": [
    "### Initialize Mass of Each Particle"
   ]
  },
  {
   "cell_type": "code",
   "execution_count": 7,
   "metadata": {
    "collapsed": false
   },
   "outputs": [
    {
     "name": "stdout",
     "output_type": "stream",
     "text": [
      "94\n"
     ]
    }
   ],
   "source": [
    "t0 = time.time()\n",
    "mDistribution = rhoDistribution/mW(xyDistribution)\n",
    "\n",
    "## --- Old code: Made 1 particle super massive --- ###\n",
    "# mDistribution = np.empty_like(rhoDistribution)\n",
    "# for i in range(len(mDistribution)):\n",
    "#     mDistribution[i] = rhoDistribution[i]/W(0, h)\n",
    "#     for j in range(len(mDistribution)):\n",
    "#         dist = np.sqrt((xyDistribution[i,0] - xyDistribution[j,0])**2 + \\\n",
    "#                        (xyDistribution[i,1] - xyDistribution[j,1])**2 )\n",
    "#         if W(dist,h) != 0:\n",
    "#             mDistribution[i] += rhoDistribution[j]/W(dist,h)\n",
    "#         if i == 1:\n",
    "#             if j%50 ==0:\n",
    "#                 print mDistribution[i]\n",
    "#     print mDistribution[i]"
   ]
  },
  {
   "cell_type": "code",
   "execution_count": 8,
   "metadata": {
    "collapsed": false,
    "scrolled": false
   },
   "outputs": [
    {
     "data": {
      "image/png": "iVBORw0KGgoAAAANSUhEUgAAAiIAAAH2CAYAAABN8+eOAAAABHNCSVQICAgIfAhkiAAAAAlwSFlz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\nuSr9o/EAAAAASUVORK5CYII=\n",
      "text/plain": [
       "<matplotlib.figure.Figure at 0x109b4ecd0>"
      ]
     },
     "metadata": {},
     "output_type": "display_data"
    },
    {
     "data": {
      "image/png": "iVBORw0KGgoAAAANSUhEUgAAAXMAAAEXCAYAAABf36TeAAAABHNCSVQICAgIfAhkiAAAAAlwSFlz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\nAYa5JDXAMJekBhjmktSA/w9iFnGTg0yU9AAAAABJRU5ErkJggg==\n",
      "text/plain": [
       "<matplotlib.figure.Figure at 0x109b55190>"
      ]
     },
     "metadata": {},
     "output_type": "display_data"
    }
   ],
   "source": [
    "plt.figure(figsize=(10,8))\n",
    "plt.scatter(radiusDistribution*np.cos(thetaDistribution), \\\n",
    "            radiusDistribution*np.sin(thetaDistribution), c=mDistribution)\n",
    "plt.title(\"Initial Mass Distribution of Particles\")\n",
    "plt.colorbar()\n",
    "plt.show()\n",
    "\n",
    "plt.figure()\n",
    "plt.hist(mDistribution)\n",
    "plt.title(\"Mass Distribution\")\n",
    "plt.show()"
>>>>>>> d22115ae68fdd9b89ff98a72eb6ce6cb10525546
   ]
  },
  {
   "cell_type": "markdown",
   "metadata": {},
   "source": [
    "# Helper Functions\n",
    "### Smoothing function"
   ]
  },
  {
   "cell_type": "code",
<<<<<<< HEAD
   "execution_count": 121,
=======
   "execution_count": 9,
>>>>>>> d22115ae68fdd9b89ff98a72eb6ce6cb10525546
   "metadata": {
    "collapsed": true
   },
   "outputs": [],
   "source": [
    "def W(dist, h):\n",
    "    '''\n",
    "    Inputs:\n",
    "        dist: a scalar distance between particles i an j\n",
    "        h: smoothing length\n",
    "    '''\n",
    "    if dist < h:\n",
    "        return 10/(7*np.pi*h**2) * \\\n",
    "               (1/4*(2-dist/h)**3 - (1-dist/h)**3)\n",
    "    elif dist > 2 * h:\n",
    "        return 0\n",
    "    else:\n",
    "        return 10/(7*np.pi*h**2) * (1/4*(2-dist/h)**3)"
   ]
  },
  {
   "cell_type": "code",
<<<<<<< HEAD
   "execution_count": 122,
=======
   "execution_count": 10,
>>>>>>> d22115ae68fdd9b89ff98a72eb6ce6cb10525546
   "metadata": {
    "collapsed": false
   },
   "outputs": [],
   "source": [
    "def gradW(xyDist, h):\n",
    "    '''\n",
    "    Inputs:\n",
    "        xyDist: a [2,1] array containing the difference in [x,y] position\n",
    "            between two particles\n",
    "        h: smoothing length\n",
    "    Outputs:\n",
    "        a [2,1] array containing the [x,y] component of gradW\n",
    "    '''\n",
    "    \n",
    "    dist = np.sqrt(xyDist[0]**2 + xyDist[1]**2)\n",
    "    \n",
    "    if dist < h:\n",
    "        return np.array(\n",
    "              [15*xyDist[0]*(3*dist - 4*h)/(14 * np.pi * h**5),\n",
    "               15*xyDist[1]*(3*dist - 4*h)/(14 * np.pi * h**5)])\n",
    "    \n",
    "    elif dist > 2 * h:\n",
    "        return np.array([0,0])\n",
    "    \n",
    "    else:\n",
    "        return np.array(\n",
    "                [-15*xyDist[0]*(2*h - dist)**2/(14*h**5*np.pi*dist),\n",
    "                 -15*xyDist[1]*(2*h - dist)**2/(14*h**5*np.pi*dist)] )"
   ]
  },
  {
   "cell_type": "markdown",
   "metadata": {},
   "source": [
    "### Density Update Function"
   ]
  },
  {
   "cell_type": "code",
<<<<<<< HEAD
   "execution_count": 123,
=======
   "execution_count": 11,
>>>>>>> d22115ae68fdd9b89ff98a72eb6ce6cb10525546
   "metadata": {
    "collapsed": false
   },
   "outputs": [],
   "source": [
    "def densityUpdate():\n",
    "    \n",
    "    global xyDistribution\n",
    "    global mDistribution\n",
    "\n",
    "    rhoDistribution = np.empty_like(mDistribution)\n",
    "    for i in range(0, nParticles):\n",
    "        rhoDistribution[i] = mDistribution[i]*W(0, h)\n",
    "\n",
    "        for j in range(i, nParticles):\n",
    "            if (True):\n",
    "                xdist = (xyDistribution[i,0]-xyDistribution[j,0])\n",
    "                ydist = (xyDistribution[i,1]-xyDistribution[j,1])\n",
    "            dist_ij = np.sqrt(xdist**2 + ydist**2)\n",
    "            rho_ij = mDistribution[i]*W(dist_ij, h)\n",
    "            rhoDistribution[i] += rho_ij\n",
<<<<<<< HEAD
    "    return rhoDistribution"
=======
    "            rhoDistribution[j] += rho_ij"
>>>>>>> d22115ae68fdd9b89ff98a72eb6ce6cb10525546
   ]
  },
  {
   "cell_type": "markdown",
   "metadata": {},
   "source": [
    "### Define Pressure Gradient"
   ]
  },
  {
   "cell_type": "code",
<<<<<<< HEAD
   "execution_count": 125,
=======
   "execution_count": 12,
>>>>>>> d22115ae68fdd9b89ff98a72eb6ce6cb10525546
   "metadata": {
    "collapsed": true
   },
   "outputs": [],
   "source": [
    "def gradP():\n",
    "    \n",
    "    gradPArray = np.zeros_like(velocityDistribution)\n",
    "\n",
    "    for i in range(0, nParticles):\n",
    "        for j in range(i, nParticles):\n",
    "            \n",
    "            xdist = (xyDistribution[i,0]-xyDistribution[j,0])\n",
    "            ydist = (xyDistribution[i,1]-xyDistribution[j,1])\n",
    "            distArr = np.array([xdist,ydist])\n",
    "            \n",
    "            #gradPX = mDistribution[j]/2*((pressureDistribution[i]/(rhoDistribution[i]**2))+(pressureDistribution[j]/(rhoDistribution[j]**2)))*gradW(distArr,h)[0]\n",
    "            #gradPY = mDistribution[j]/2*((pressureDistribution[i]/(rhoDistribution[i]**2))+(pressureDistribution[j]/(rhoDistribution[j]**2)))*gradW(distArr,h)[1]\n",
    "            gradPX = mDistribution[j]*pressureDistribution[j]/rhoDistribution[j]*gradW(distArr,h)[0]\n",
    "            gradPY = mDistribution[j]*pressureDistribution[j]/rhoDistribution[j]*gradW(distArr,h)[1]\n",
    "            \n",
    "            gradPArray[i,0] += gradPX\n",
    "            gradPArray[i,1] += gradPY\n",
    "\n",
    "    return gradPArray"
   ]
  },
  {
   "cell_type": "markdown",
   "metadata": {
    "collapsed": false
   },
   "source": [
    "### Define gravity"
   ]
  },
  {
   "cell_type": "code",
<<<<<<< HEAD
   "execution_count": 126,
=======
   "execution_count": 13,
>>>>>>> d22115ae68fdd9b89ff98a72eb6ce6cb10525546
   "metadata": {
    "collapsed": false
   },
   "outputs": [],
   "source": [
    "def gravity():\n",
    "    \n",
    "    global velocityDistribution\n",
    "    global xyDistribution\n",
    "    \n",
    "    deltaV = np.zeros_like(xyDistribution, dtype = np.float)\n",
    "    for j in range(0, nParticles):\n",
    "        for k in range(0, nParticles):\n",
    "            if (k!=j):\n",
    "                xdist = (xyDistribution[j,0]-xyDistribution[k,0])\n",
    "                ydist = (xyDistribution[j,1]-xyDistribution[k,1])\n",
    "                #print(xdist)\n",
    "                #print(ydist)\n",
    "\n",
    "                if(xdist<np.finfo(float).eps):\n",
    "                    deltaV[j,0] += G*mDistribution[j]*xdist/((np.sqrt(xdist**2+ydist**2))**3)\n",
    "                else:\n",
    "                    deltaV[j,0] += -G*mDistribution[j]*xdist/((np.sqrt(xdist**2+ydist**2))**3)\n",
    "                    #print(\"blah\", -G*mDistribution[i]/(np.sqrt(abs(position[j,0]-position[i,0]))**2))\n",
    "                    #print(\"v\", i, \"x\", velocityDistribution[i,0])\n",
    "\n",
    "                if(ydist<np.finfo(float).eps):\n",
    "                    deltaV[j,1] += G*mDistribution[j]*ydist/((np.sqrt(xdist**2+ydist**2))**3)\n",
    "                else:\n",
    "                    deltaV[j,1] += -G*mDistribution[j]*ydist/((np.sqrt(xdist**2+ydist**2))**3)\n",
    "                    #print(\"v\", i, \"y\", velocityDistribution[i,1])\n",
    "    return deltaV\n",
    "\n",
    "nb_gravity = nb.autojit(gravity)"
   ]
  },
  {
   "cell_type": "markdown",
   "metadata": {},
   "source": [
    "# Main\n",
    "### Run through RK1"
   ]
  },
  {
   "cell_type": "code",
<<<<<<< HEAD
   "execution_count": 127,
=======
   "execution_count": 14,
>>>>>>> d22115ae68fdd9b89ff98a72eb6ce6cb10525546
   "metadata": {
    "collapsed": false
   },
   "outputs": [
    {
<<<<<<< HEAD
     "ename": "KeyboardInterrupt",
     "evalue": "",
     "output_type": "error",
     "traceback": [
      "\u001b[1;31m---------------------------------------------------------------------------\u001b[0m",
      "\u001b[1;31mKeyboardInterrupt\u001b[0m                         Traceback (most recent call last)",
      "\u001b[1;32m<ipython-input-127-b0265eae8e85>\u001b[0m in \u001b[0;36m<module>\u001b[1;34m()\u001b[0m\n\u001b[0;32m     28\u001b[0m \u001b[1;33m\u001b[0m\u001b[0m\n\u001b[0;32m     29\u001b[0m     \u001b[0mdeltaVf\u001b[0m \u001b[1;33m+=\u001b[0m \u001b[0mnb_gravity\u001b[0m\u001b[1;33m(\u001b[0m\u001b[1;33m)\u001b[0m\u001b[1;33m\u001b[0m\u001b[0m\n\u001b[1;32m---> 30\u001b[1;33m     \u001b[0mdeltaVf\u001b[0m \u001b[1;33m+=\u001b[0m \u001b[1;33m-\u001b[0m\u001b[0mgradP\u001b[0m\u001b[1;33m(\u001b[0m\u001b[1;33m)\u001b[0m\u001b[1;33m/\u001b[0m\u001b[0mrhoDistribution\u001b[0m\u001b[1;33m[\u001b[0m\u001b[1;33m:\u001b[0m\u001b[1;33m,\u001b[0m\u001b[0mnp\u001b[0m\u001b[1;33m.\u001b[0m\u001b[0mnewaxis\u001b[0m\u001b[1;33m]\u001b[0m\u001b[1;33m\u001b[0m\u001b[0m\n\u001b[0m\u001b[0;32m     31\u001b[0m \u001b[1;31m#    deltaVf -= v*velocityDistribution\u001b[0m\u001b[1;33m\u001b[0m\u001b[1;33m\u001b[0m\u001b[0m\n\u001b[0;32m     32\u001b[0m     \u001b[0mvelocityDistribution\u001b[0m \u001b[1;33m+=\u001b[0m \u001b[0mdt\u001b[0m\u001b[1;33m*\u001b[0m\u001b[0mdeltaVf\u001b[0m\u001b[1;33m\u001b[0m\u001b[0m\n",
      "\u001b[1;32m<ipython-input-125-8d46d0fc2b12>\u001b[0m in \u001b[0;36mgradP\u001b[1;34m()\u001b[0m\n\u001b[0;32m     10\u001b[0m             \u001b[0mdistArr\u001b[0m \u001b[1;33m=\u001b[0m \u001b[0mnp\u001b[0m\u001b[1;33m.\u001b[0m\u001b[0marray\u001b[0m\u001b[1;33m(\u001b[0m\u001b[1;33m[\u001b[0m\u001b[0mxdist\u001b[0m\u001b[1;33m,\u001b[0m\u001b[0mydist\u001b[0m\u001b[1;33m]\u001b[0m\u001b[1;33m)\u001b[0m\u001b[1;33m\u001b[0m\u001b[0m\n\u001b[0;32m     11\u001b[0m \u001b[1;33m\u001b[0m\u001b[0m\n\u001b[1;32m---> 12\u001b[1;33m             \u001b[0mgradPX\u001b[0m \u001b[1;33m=\u001b[0m \u001b[0mmDistribution\u001b[0m\u001b[1;33m[\u001b[0m\u001b[0mi\u001b[0m\u001b[1;33m]\u001b[0m\u001b[1;33m*\u001b[0m\u001b[1;33m(\u001b[0m\u001b[1;33m(\u001b[0m\u001b[0mpressureDistribution\u001b[0m\u001b[1;33m[\u001b[0m\u001b[0mi\u001b[0m\u001b[1;33m]\u001b[0m\u001b[1;33m/\u001b[0m\u001b[1;33m(\u001b[0m\u001b[0mrhoDistribution\u001b[0m\u001b[1;33m[\u001b[0m\u001b[0mi\u001b[0m\u001b[1;33m]\u001b[0m\u001b[1;33m**\u001b[0m\u001b[1;36m2\u001b[0m\u001b[1;33m)\u001b[0m\u001b[1;33m)\u001b[0m\u001b[1;33m+\u001b[0m\u001b[1;33m(\u001b[0m\u001b[0mpressureDistribution\u001b[0m\u001b[1;33m[\u001b[0m\u001b[0mj\u001b[0m\u001b[1;33m]\u001b[0m\u001b[1;33m/\u001b[0m\u001b[1;33m(\u001b[0m\u001b[0mrhoDistribution\u001b[0m\u001b[1;33m[\u001b[0m\u001b[0mj\u001b[0m\u001b[1;33m]\u001b[0m\u001b[1;33m**\u001b[0m\u001b[1;36m2\u001b[0m\u001b[1;33m)\u001b[0m\u001b[1;33m)\u001b[0m\u001b[1;33m)\u001b[0m\u001b[1;33m*\u001b[0m\u001b[0mgradW\u001b[0m\u001b[1;33m(\u001b[0m\u001b[0mdistArr\u001b[0m\u001b[1;33m,\u001b[0m\u001b[0mh\u001b[0m\u001b[1;33m)\u001b[0m\u001b[1;33m[\u001b[0m\u001b[1;36m0\u001b[0m\u001b[1;33m]\u001b[0m\u001b[1;33m\u001b[0m\u001b[0m\n\u001b[0m\u001b[0;32m     13\u001b[0m             \u001b[0mgradPY\u001b[0m \u001b[1;33m=\u001b[0m \u001b[0mmDistribution\u001b[0m\u001b[1;33m[\u001b[0m\u001b[0mi\u001b[0m\u001b[1;33m]\u001b[0m\u001b[1;33m*\u001b[0m\u001b[1;33m(\u001b[0m\u001b[1;33m(\u001b[0m\u001b[0mpressureDistribution\u001b[0m\u001b[1;33m[\u001b[0m\u001b[0mi\u001b[0m\u001b[1;33m]\u001b[0m\u001b[1;33m/\u001b[0m\u001b[1;33m(\u001b[0m\u001b[0mrhoDistribution\u001b[0m\u001b[1;33m[\u001b[0m\u001b[0mi\u001b[0m\u001b[1;33m]\u001b[0m\u001b[1;33m**\u001b[0m\u001b[1;36m2\u001b[0m\u001b[1;33m)\u001b[0m\u001b[1;33m)\u001b[0m\u001b[1;33m+\u001b[0m\u001b[1;33m(\u001b[0m\u001b[0mpressureDistribution\u001b[0m\u001b[1;33m[\u001b[0m\u001b[0mj\u001b[0m\u001b[1;33m]\u001b[0m\u001b[1;33m/\u001b[0m\u001b[1;33m(\u001b[0m\u001b[0mrhoDistribution\u001b[0m\u001b[1;33m[\u001b[0m\u001b[0mj\u001b[0m\u001b[1;33m]\u001b[0m\u001b[1;33m**\u001b[0m\u001b[1;36m2\u001b[0m\u001b[1;33m)\u001b[0m\u001b[1;33m)\u001b[0m\u001b[1;33m)\u001b[0m\u001b[1;33m*\u001b[0m\u001b[0mgradW\u001b[0m\u001b[1;33m(\u001b[0m\u001b[0mdistArr\u001b[0m\u001b[1;33m,\u001b[0m\u001b[0mh\u001b[0m\u001b[1;33m)\u001b[0m\u001b[1;33m[\u001b[0m\u001b[1;36m1\u001b[0m\u001b[1;33m]\u001b[0m\u001b[1;33m\u001b[0m\u001b[0m\n\u001b[0;32m     14\u001b[0m \u001b[1;33m\u001b[0m\u001b[0m\n",
      "\u001b[1;31mKeyboardInterrupt\u001b[0m: "
=======
     "name": "stdout",
     "output_type": "stream",
     "text": [
      "14.3916931152\n",
      "[  1.90109499e+11   1.92607459e+11   1.82933282e+11   1.92155687e+11\n",
      "   1.52630353e+11   1.60953289e+11   1.65901149e+11   1.86537458e+11\n",
      "   1.73641422e+11   1.60586829e+11   1.59848391e+11   1.64595756e+11\n",
      "   1.69444509e+11   1.63018902e+11   1.67598113e+11   1.58251383e+11\n",
      "   1.73769572e+11   1.51643590e+11   1.89450202e+11   1.81782412e+11\n",
      "   1.73772712e+11   1.62009578e+11   1.62712891e+11   1.29537500e+11\n",
      "   1.41727440e+11   1.74485457e+11   1.11091597e+11   1.23881976e+11\n",
      "   1.54144122e+11   1.37067772e+11   1.22240636e+11   1.33285579e+11\n",
      "   1.43589836e+11   1.67725771e+11   1.36520063e+11   1.01795668e+11\n",
      "   1.68631760e+11   1.05468855e+11   1.45014099e+11   1.64175415e+11\n",
      "   1.38705408e+11   1.45992137e+11   1.70557231e+11   1.21876615e+11\n",
      "   1.16031286e+11   1.09267455e+11   1.61317142e+11   1.38654324e+11\n",
      "   1.17061000e+11   1.31156152e+11   1.15500520e+11   1.20556808e+11\n",
      "   1.52400595e+11   1.30349621e+11   1.20043951e+11   1.43862245e+11\n",
      "   1.48281890e+11   1.58536422e+11   1.06596231e+11   1.55748213e+11\n",
      "   1.34351363e+11   4.90016416e+10   8.29664932e+10   1.20850502e+11\n",
      "   8.66481374e+10   7.49678679e+10   7.60084642e+10   4.14800154e+10\n",
      "   5.29973163e+10   6.28744660e+10   4.66057585e+10   7.54620845e+10\n",
      "   5.56241315e+10   4.17071105e+10   1.24359527e+11   1.19261786e+11\n",
      "   1.14539655e+11   1.04738194e+11   9.51391121e+10   1.35317383e+11\n",
      "   6.74361320e+10   7.92702469e+10   6.48505518e+10   9.66233895e+10\n",
      "   1.12368349e+11   7.59676068e+10   9.67612345e+10   1.25457686e+11\n",
      "   8.42389064e+10   8.72206277e+10   6.31136322e+10   9.05482143e+10\n",
      "   1.20778106e+11   1.00518890e+11]\n"
>>>>>>> d22115ae68fdd9b89ff98a72eb6ce6cb10525546
     ]
    }
   ],
   "source": [
    "# RK1 Parameters\n",
    "t0 = time.time()\n",
    "t = 0\n",
<<<<<<< HEAD
    "dt = 5e0\n",
=======
    "dt = 0.001\n",
>>>>>>> d22115ae68fdd9b89ff98a72eb6ce6cb10525546
    "stepN = 100\n",
    "\n",
    "# Particle history\n",
    "ParticlePositionHistory = np.zeros((stepN,nParticles,2))\n",
    "ParticleVelocityHistory = np.zeros((nParticles,2,stepN))\n",
    "ParticleRhoHistory = np.zeros((nParticles, stepN))\n",
    "\n",
    "xyDistributionOld = np.copy(xyDistribution)\n",
    "# rhoOld = np.copy(rhoDistribution)\n",
    "rhoOld = densityUpdate()\n",
    "deltaVf = np.zeros_like(xyDistribution, dtype = np.float)\n",
    "\n",
    "for i in range(stepN):\n",
    "    \n",
    "    deltaVf = np.zeros_like(xyDistribution, dtype = np.float)\n",
    "    \n",
    "    t += 1\n",
    "\n",
    "    # Update density and pressure\n",
    "    rhoDistribution = densityUpdate()\n",
    "    pressureDistribution = K*rhoDistribution**2\n",
    "    ParticleRhoHistory[:,i] = rhoDistribution\n",
    "    \n",
    "    # Update velocity and positions\n",
    "    ParticlePositionHistory[i,:,:] = xyDistribution\n",
    "    \n",
    "    deltaVf += nb_gravity()\n",
    "    deltaVf += -gradP()/rhoDistribution[:,np.newaxis]\n",
    "#    deltaVf -= v*velocityDistribution\n",
    "\n",
    "    velocityDistribution += dt*deltaVf\n",
    "    #deltaPos = velocityDistribution * dt\n",
    "    \n",
    "    xyDistribution += dt*velocityDistribution\n",
    "    \n",
<<<<<<< HEAD
    "### --- Debugging --- ###\n",
    "#    print \"Mean velocity at timestep\", t, \"\\n\", np.mean(deltaV)\n",
    "#    print \"deltaV at timestep\", t, \"\\n\", deltaVf\n",
    "#    print \"deltaPos at timestep\", t, \"\\n\", dt*velocityDistribution\n",
    "#    print \"velocityDistribution at timestep\", t, \"\\n\", velocityDistribution\n",
    "\n",
    "#     print \"deltaPos:\\n\", deltaPos\n",
    "#     print \"xyDistribution:\\n\", xyDistribution\n",
    "\n",
    "    \n",
=======
    "    densityUpdate()\n",
    "    pressureDistribution = K*rhoDistribution**2\n",
>>>>>>> d22115ae68fdd9b89ff98a72eb6ce6cb10525546
    "\n",
    "print(time.time()-t0)\n",
    "#print(rhoDistribution-rhoOld)\n",
    "#print(xyDistribution-xyDistributionOld) \n",
    "#print(mDistribution)"
   ]
  },
  {
   "cell_type": "code",
<<<<<<< HEAD
   "execution_count": null,
=======
   "execution_count": 15,
>>>>>>> d22115ae68fdd9b89ff98a72eb6ce6cb10525546
   "metadata": {
    "collapsed": false,
    "scrolled": false
   },
<<<<<<< HEAD
   "outputs": [],
=======
   "outputs": [
    {
     "data": {
      "image/png": "iVBORw0KGgoAAAANSUhEUgAAAl4AAAJiCAYAAAAWmcxQAAAABHNCSVQICAgIfAhkiAAAAAlwSFlz\nAAALEgAACxIB0t1+/AAAIABJREFUeJzs3Xd0VEUfxvHvZNNDCTV0CEV679UASlN6E5FiRRS7KDZE\n7K8KCIIgIK9YQClKF1AJSC8qTUrohBIgEALpu3vfP8KLiEhLcjchz+ecnJO7O3fmtzkansydO9dY\nloWIiIiIZDwvTxcgIiIikl0oeImIiIjYRMFLRERExCYKXiIiIiI2UfASERERsYmCl4iIiIhNMk3w\nMsZ8boyJMsZsvY62zYwxvxljUowxXS97r58xZveFr74ZV7GIiIjIjck0wQuYArS5zrYHgX7AN5e+\naIzJCwwF6l34et0YE5yeRYqIiIjcrEwTvCzL+hU4c+lrxpgyxphFxpiNxpgVxpjyF9oetCxrK+C+\nrJvWwBLLsmIsy4oBlnL9YU5EREQkQ3l7uoBr+AwYYFnWHmNMfWAc0PIq7YsAkZccRwJFM7A+ERER\nkeuWaYOXMSYH0BCYYYz5/8u+nqtIREREJG0ybfAi9TJojGVZNa/R7tKHTR4Bwi45Lg78ks51iYiI\niNyUNK3xMsYUN8YsM8ZsN8ZsM8Y8+S/tRhtjIowxm40x1wpSAFiWFQvsN8Z0u9CHMcZUu7zrC1//\ntxhoZYwJNsbkAe688JqIiIiIx6V1cX0K8IxlWZWBBsDjxpiKlzYwxrQDylqWVQ54BPj0Sh0ZY6YB\nq4HyxpjDxpj7gd7Ag8aYP4BtQIcLbesaYw4D3YAJ/9+CwrKsM8CbwAZgPfDGhUX2IiIiIh5nLMu6\ndqvr7cyYH4AxlmX9fMlr44FllmV9e+F4J3C7ZVlR6TawiIiISBaQbttJGGNKATWBdZe9VRQ4fMlx\nJFAsvcYVERERySrSJXhduANxJvCUZVnnr9TksuP0m2YTERERySLSfFejMcYHmAV8ZVnWD1docoTU\nuwv/r9iF1y7vR2FMREREsgzLsi6fWLqmtN7VaIDJwJ+WZY36l2Zzgb4X2jcgdYuIK67vsixLX5d8\nvf766x6vITN+6eein4t+LvqZ6Oein4unv25WWme8GgP3AVuMMb9feO1loMSFIDXBsqyFxph2xpg9\nQBxwfxrHFBEREcmS0hS8LMtayXXMmlmWNSgt44iIiIjcCjLNQ7Lln8LCwjxdQqakn8uV6edyZfq5\n/JN+Jlemn8uV6eeSvtJ1H6+0MMZYmaUWERERkasxxmDZvbheRERERK6fgpeIiIiITRS8RERERGyi\n4CUiIiJiEwUvEREREZsoeImIiIjYRMFLRERExCYKXiIiIiI2UfASERERsYmCl4iIiIhNFLxERERE\nbKLgJSIiImITBS8RERERmyh4iYiIiNhEwUtERETEJgpeIiIiIjZR8BIRERGxiYKXiIiIiE0UvERE\nRERsouAlIiIiYhMFLxERERGbKHiJiIiI2ETBS0RERMQmCl4iIiIiNlHwEhEREbGJgpeIiIiITRS8\nRERERGyi4CUiIiJiEwUvEREREZsoeImIiIjYRMFLRERExCYKXiIiIiI2UfASERERsYmCl4iIiIhN\nFLxEREREbKLgJSIiImITBS8RERERmyh4iYiIiNhEwUtERETEJgpeIiIiIjZR8BIRERGxiYKXiIiI\niE0UvERERERsouAlIiIiYhMFLxERERGbKHiJiIiI2ETBS0RERMQmCl4iIiIiNlHwEhEREbGJgpeI\niIiITRS8RERERGyi4CUiIiJiEwUvEREREZsoeImIiIjYRMFLRERExCYKXiIiIiI2UfASERERsYmC\nl4iIiIhNFLxEREREbJLm4GWM+dwYE2WM2fov74cZY84aY36/8PVqWscUERERyYq806GPKcAYYOpV\n2iy3LKtDOowlIiIikmWlecbLsqxfgTPXaGbSOo6IiIhIVmfHGi8LaGSM2WyMWWiMqWTDmCIiIiKZ\nTnpcaryW34DilmXFG2PaAj8At9kwroiIiEimkuHBy7Ksc5d8v8gYM84Yk9eyrNOXtx02bNjF78PC\nwggLC8vo8kRERESuKTw8nPDw8DT3YyzLSnsnxpQC5lmWVfUK74UAJyzLsowx9YDvLMsqdYV2VnrU\nIiIiIpLRjDFYlnXDa9jTPONljJkG3A7kN8YcBl4HfAAsy5oAdAMGGmOcQDxwT1rHFBEREcmK0mXG\nKz1oxktERESyipud8dLO9SIiIiI2UfASERERsYmCl4iIiIhNFLxEREREbKLgJSIiImITBS8RERER\nmyh4iYiIiNhEwUtERETEJgpeIiIiIjZR8BIRERGxiYKXiIiIiE0UvERERERsouAlIiIiYhMFLxER\nERGbKHiJiIiI2ETBS0RERMQmCl4iIiIiNlHwEhEREbGJgpeIiIiITRS8RERERGyi4CUiIiJiEwUv\nEREREZsoeImIiIjYRMFLRERExCYKXiIiIiI2UfASERERsYmCl4iIiIhNFLxEREREbKLgJSIiImIT\nBS8RERERmyh4iYiIiNhEwUtERETEJgpeIiIiIjZR8BIRERGxiYKXiIiIiE0UvERERERsouAlIiIi\nYhMFLxERERGbKHiJiIiI2ETBS0RERMQmCl4iIiIiNlHwEhEREbGJgpeIiIiITRS8RERERGyi4CUi\nIiJiEwUvEREREZsoeImIiIjYRMFLRERExCYKXiIiIiI2UfASERERsYmCl4iIiIhNFLxEREREbKLg\nJSIiImITBS8RERERmyh4iYiIiNhEwUtERETEJgpeIiIiIjZR8BIRERGxiYKXiIiIiE0UvERERERs\nouAlIiIiYpM0By9jzOfGmChjzNartBltjIkwxmw2xtRM65giIiIiWVF6zHhNAdr825vGmHZAWcuy\nygGPAJ+mw5giIiIiWU6ag5dlWb8CZ67SpAPwxYW264BgY0xIWscVERERyWrsWONVFDh8yXEkUMyG\ncUVEREQyFW+bxjGXHVtXajRs2LCL34eFhREWFpZxFYmIiIhcp/DwcMLDw9Pcj7GsK2agG+vEmFLA\nPMuyql7hvfFAuGVZ0y8c7wRutywr6rJ2VnrUIiIiIpLRjDFYlnX5xNI12XGpcS7QF8AY0wCIuTx0\niYiIiGQHab7UaIyZBtwO5DfGHAZeB3wALMuaYFnWQmNMO2PMHiAOuD+tY4qIiIhkRelyqTE96FKj\niIiIZBWZ+VKjiIiIiKDgJSIiImIbBS8RERERmyh4iYiIiNhEwUtERETEJgpeIiIiIjZR8BIRERGx\niYKXiIiIiE0UvERERERsouAlIiIiYhMFLxERERGbKHiJiIiI2ETBS0RERMQmCl4iIiIiNlHwEhER\nEbGJgpeIiIiITRS8RERERGyi4CUiIiJiEwUvEREREZsoeImIiIjYRMFLRERExCYKXiIiIiI2UfAS\nERERsYmCl4iIiIhNFLxEREREbKLgJSIiImITBS8RERERmyh4iYiIiNhEwUtERETEJgpeIiIiIjZR\n8BIRERGxiYKXiIiIiE0UvERERERsouAlIiIiYhMFLxERERGbKHiJiIiI2MTb0wWIiFyP2NhYwsPD\ncTgcNG/enMDAQE+XJCJywzTjJSKZ3pEjR6hQoSb33fc+vXq9QZUqdYiOjv7X9tOnT6do0fLkzVuU\nhx4aRFJSko3Vioj8O2NZlqdrAMAYY2WWWkQkc+nevQ/ff58Dl+tJwMLH520efrgAY8eO+kfbFStW\n0KZNTxISJgCFCAh4mX79qvDpp/9sKyJys4wxWJZlbvQ8zXiJSKa3b98hXK46F44MKSm1iYg4BIBl\nWYwdO55GjdvStm13Jk6cTEJCP6A+UJKEhGF8//08T5UuIvI3WuMlIpne7bc3YMeO6SQk1AGcBAbO\npHnzTgC8996HvPXul8S73wYrEh/nS3h7N8Hp/P/Zh8iZM7enShcR+RtdahSRTC8xMZGuXXuzdOmP\nWJZFt249+PLLSXh7e1OkaHmOnZsO3jUBMIkvEug1CafzDlJSCuHvP40ZM/5Lu3btPPwpRORWcrOX\nGjXjJSKZnr+/PwsWzOLs2bN4eXmRM2fOi+8ZYwDXJcdOHn30AQoXLsS5c+do334RtWvX9kDVIiL/\npBkvEcnSRo8ey0uvjCbeGoaxDhPk+JA/fl9DmTJl/vUcp9PJsWPHyJs3L0FBQTZWKyK3Ci2uF5Fs\n6cknH2f8uKG0ajKb7nfvYN3a8KuGrm3btlGs1G1UqFafvAUKMX78RBurFZHsTjNeIpJtWJZFidIV\niCz5EpTrD2f3ELikKauX/0j16tU9XZ6IZCGa8RIRuYa4uDiOHzkEZfulvpC7LF5FW/DHH394tjAR\nyTYUvEQk2wgKCiIgKAdErU59ITkW6+R6QkNDPVuYiGQbuqtRRLINYwzffjOVbvd0wiekDinRf3Lf\nPZ1p1qyZp0sTkWxCM14ikq0UKlSI26pUxNe5h1Z3Nmbkh+96uiQRyUYUvEQk2zh06BDNWrXmjzv6\nc/Kt7/jxVBL3PvCQp8sSkWxEdzWKSLYxadIknpqznPg3vkx9ISEOR4u8JMXH43A4PFuciGQpuqtR\nROQa/P39MWej/3ohJhqHtw9eXvpVKCL20IyXiGQb58+fp2rd+hwtX5/k22oSOPtTXrj/Pl5/5WVP\nlyYiWczNzngpeIlItnLmzBlGjPqYyONRtG3ZnB49eni6JBHJghS8RERERGyiNV4iIiIimZyCl4iI\niIhNFLxEREREbKJHBomIpLPIyEhmzJgBQNeuXSlRooSHKxKRzCLNM17GmDbGmJ3GmAhjzItXeD/M\nGHPWGPP7ha9X0zqmiEhmtXv3bqrWrctrW37jta2/U61ePXbu3OnpskQkk0jTXY3GGAewC7gDOAJs\nAHpZlrXjkjZhwLOWZXW4Rl+6q1FEMpTT6WT8hPFs27GVqpWqMeCRAXh7p+/Ef49+/ZhXuhjeg59J\nHXPkJ7T5M4Lvv/46XccREc/y1F2N9YA9lmUdsCwrBZgOdLxSfWkcR0SyOLfbzStDX6ZA4XwULJKf\nt955Ezv/2LIsi269ujJu9giOl9vOJzM/oud9PdK9hpNnzkC5sn+9UK4MJ0+fTtcxRCTrSuufekWB\nw5ccRwL1L2tjAY2MMZtJnRV73rKsP9M4rohkMaPGjGL6j1N5dGUr3C43E7uNo2DBEB556BFbxt+1\naxer1q5k8J7uePs5aDigMh+UmUFERAS33XZbuo3TtU0bNn4wCnfVyuDlhc/7I+nar3+69S8iWVta\ng9f1/Kn4G1Dcsqx4Y0xb4Acg/X7LiUiWMHfhD7QcWoX8ZXIBEPZKZeZ9N8e24BUfH09gbn+8/VIf\nhu3t5yAgtz8JCQnXdf6ff/7JpCmTsCyLfvf1o0aNGlds9/jAgUSdPMnoOzuAZTHwkUd4+okn0u1z\niEjWltbgdQQofslxcVJnvS6yLOvcJd8vMsaMM8bktSzrH3Pvw4YNu/h9WFgYYWFhaSxPRDKLfHny\ncTIi6uJxdEQs+YLL2zZ+5cqV8XUHsGTYJqp2K8WW7/YT6JWDihUrXvPczZs3E3bH7VQdWBWHjxdT\n7pzCormLaNiw4T/aGmN48/XXefP11zPiY4iIh4SHhxMeHp7mftK6uN6b1MX1LYGjwHr+ubg+BDhh\nWZZljKkHfGdZVqkr9KXF9SK3sO3bt9O0eROqdC2O22mxa/4x1vy6lrJly1775HQSGRnJwCcH8OeO\nP6lUqTLjR0+gaNGi1zyvV79eRFc/RYNn6wHw28TfsRYZFsxekNEli0gmdbOL69M042VZltMYMwhY\nDDiAyZZl7TDGDLjw/gSgGzDQGOME4oF70jKmiGRNlStX5rf1vzNr1iyMMfR4vQfFihWztYZixYox\n7ybCUlx8HIEFAy8eBxUM4kTCqfQsTUSyCT0kW0TkGr6b8R2DXhxEm89b4fDxYvFDPzF88HAeeuAh\nT5cmIh5yszNeCl4it5jIyEi2bNlCsWLFqFatmqfLuWVMnjKZkZ+MwO22eOzhx3h84OMYo51yRLIr\nBS8RYcGCBfTo0x+f0FqkHN7OQ3178/GH73u6rCwtJSUFy7Lw9fX1dCkikol4agNVEckk3G43Pe/r\nS/yguZx9ajHxb2xl8tffsXbtWk+XliW5XC4GPTmAHDkCyZkziP4P3EtycrKnyxKRLE7BS+QWcfbs\nWVJSUqDshS0OgvLgVbou+/fv92xhWdToMaNY9dss5kdVYFF0RXYf/Ym33nnD02WJSBan4CVyiwgO\nDiZP3nywZlrqC8cjcO1coXVeN2nFyqV0fSIHOYO9CczhoMczOfl15U+eLktEsjgFL5FbhDGGH+d+\nT/55QwgcXBy/4bUZ+d7bVK5c2dOlZUlFCpdgx/q/Li3uWJ9E4cLFr3KGiMi1aXG9yC0mJSWFI0eO\nUKBAAYKCgjxdTpYVFRVFoyZ1KFzOiY+vIeI3JytXrKdUqVKeLk1EMgHd1Sgiks7Onj3Ljz/+iMvl\nonXr1uTLl8/TJYlIJqHgJSK3tCNHjrBv3z7KlClDkSJFPF2OiGRz2k5CRG5ZUyZPolrlcrw4oD3V\nKpVl2tdfe7qkv4mIiKDtXWFUqlKKvv17cubMGU+XJCKZlGa8RCRTO3r0KFUrlWXN4ARuKwTbjkCz\njwLYsz+SvHnzero8zpw5Q7Xq5bn3GajXwo9vxyUQtbsM4b+sveGd7RMTE4mKiqJQoUL4+fllUMUi\nkh404yUit6QDBw5QtpAvtxVKPa5SFIrm9eHgwYOeLeyC1atXU7K8oe8zuahQ3Y9Xx+Vmy+YtnDx5\n8ob6WbRoESFFC1GrcW0KFSvETz9p6wqRW5G3pwsQEbmaMmXKsDcqhT8OQY0SsH4fHD3jJDQ01NOl\nARAQEEBMtBO328LLyxB3zk1ysvuGZqxOnTrFPX160W5eD4o2KsHh8P1079GDAxH7yZ07dwZWLyJ2\n04yXiGRqISEhjP9sCi1GBVBpeE7ajg3kv1OnERwc7OnSAGjatCnBOUrzXPcYvhodw6OtYrj/gf4X\nA5NlWbzx5usUCAkmf8HcDHl5MG63+299REREkLd0Poo2KgFA8bBQchTKyb59+2z/PCKSsbTGS0Sy\nhJiYGA4fPkzJkiXJlSuXp8v5m4SEBEaP+ZgDByOoV6cJ/fv3v7i+67OJ4xkx9hWGzyqClwOG33OM\n/j1f5NlnBl88PzIykkrVK3HP74+Qq0QwMXtP822diezbvY8CBQp46mOJyFVoOwkRkUyoU9c21Oqx\nm5Y9U28EWL3gLD+OLsjPi1f9rd3Hn3zM628Oo3DNYhz77TDvv/0+Ax4e4ImSReQ63Gzw0hovEZEM\nlDdPfg7t2nbx+NCuJPLl/ecs1lODnqJtq7ZERERQvnx5ypYta2eZImITzXiJSJZ0+PBhtmzZQvHi\nxTP1g8D37dtHoyZ1qdvGD4e3YdWcOFaEr6FixYqeLk1E0kCXGkXklnDkyBGGvfQCRw8dpFHzO3jh\n5Vfw8fH5W5u5c+bwYJ97qZ3fh22nU+jz0CO8++FID1V8bUePHmXGjBlYlkWXLl0oUaKEp0sSkTRS\n8BKRLC8mJoZalSvQK/AU9XO6GBMVSMkWnZj05V871TudTgrmzc3i2vHUzQtnkqHGqkBmLg6nbt26\nHqxeRLITbaAqIlnekiVLqOgdx9tlXHQoCN9XjOfL6d+SlJR0sU1MTAyWy0XdC5vW5/GFOvm82b9/\nv4eqFhG5fgpeIlmQy+UiMjKSc+fOebqUdJX6F+Rfx1eaA8+bNy+5c+dm+uHU453nYOUJZ6Ze5yUi\n8n8KXiJZzP79+ylfrRJV6lanYOEQ3n7vHU+XlG5atWrFLncOhuz15oco6PRnIP163/u3XeC9vLz4\nfsGPvHAoP0V/DqTeSj8++HgsFSpU8GDlaXfkyBGGvDSYgY8/zOLFi20d++jRo8ydO5c1a9agJR8i\nGUtrvESymLpNG+DVvjBVX7iD+GNnWdpkDN9O/JoWLVp4urR0cfToUd54eQhHDx2gUfM7GPzSy3h7\ne5OYmIjD4bi40D4lJYVjx46RP39+AgMDPVx12hw/fpzadavRuJsPISW9mTkihnffHEX/fvdn+Ngr\nVqzgro7d8CpYB9eZCNq0aMiMaV/c8AO+RbIbLa4XySb8AwPoEfUWvjn9Adj47Pf0LtyawYMHX+PM\nrCk+Pp6+3bsxb/ESjDE8/cQTvPvRR7dUMHjvvfdYs38Mz00oBsC21ecY9WAcu3dk/IPAC5coy/Gq\no6FkO3AmkmNhI74a+zodO3bM8LFFsjItrhfJJoqFFufo0p0AOBNTOPXrgUzzwOiMMOTpp/Bas4zY\nIi4iQ5ws/fwz/vv557bX8fvvv3P3nbfTuE4V3hz2Gk6nM936TkiMJ1e+v35/587vTUJCYrr1/28s\ny+LE0YNQ9MJsqbc/KQUacvBgxgc+kexKwUski/ly0hf8NnA2y1t9xsKqH9CofB26dOni6bIyzKrw\nZTzvm4ifgfwOeMQrjlW//GxrDXv37qV1y2Z0CFzBO9W289PXI3jh2afSrf/OnbqwaNJZwmeeZseG\n84x45Dj39Lz3quc4nU7Wr1/PqlWrSEy8uZBmjKFStTp4bR+b+sL5wzgOzadWrVo31Z+IXJseGSSS\nxTRs2JAdW/5k06ZN5MuXj3r16t1Sl90uV6RYMdZt3kc9PwvLgnX4UqxkKVtrmDNnDt0qJPNIndTj\nr/PGU2PSF4wYPTZd+q9RowbfTZ/Dq8MGc/7cOTq0f4BhQ9/61/ZxcXHc0e5ODp08hLe/N/4p/qz4\naTkhISE3PPacmV/TonV7Tnz9H1zJcbzx1ls0adIkLR9HRK5Ca7xEJFPbsWMHLRs3ooHDSYwF0XkL\nsXz9BoKDg6957rFjx/h88mTiz5+nc7du1KlT56ZqGDNmDBu+eIGpHVNnlnaehBbTcnP0ZMxN9ZdW\nrwx9hXkRC2n7dQcwhl9f+JnQUyX5espXN9Wf2+3m+PHj5M6dm6CgoHSuVuTWpMX1InLLioqK4pdf\nfsHX15e2bdte112MR44coUGN6tzlPktBy8n45AC+nPU9rVu3vuHxT5w4QZ3qlbmn3BnK53Xx4YZA\nHnp6KM8NfvFmPk6adb23G0lt3VTpUx2AQ8sPsOvlLWxatckj9YhkR1pcLyK3rJCQEHr16kXXrl2v\ne+uIcaNH08Udw/hgJ8PzwMQcCbwx+LmbGr9gwYKs2fgHKdUfYUVAF4Z+MNFjoQugdrVa7Jm2E2eS\nE8vtZteX26lVXeuyRLICrfESkVvS+dizFMd18bi4N5w/f/6m+ytatCgjx4xLj9LS7Plnn2fNhrVM\nLD4Gb19vypUux4fzPvR0WSJyHRS8ROSKXC4XXl5eWXbhfodu3en31ZfUTYinoAOeiQ+kY+8eni4r\nXfj6+jJ35hwOHTqE0+kkNDQULy9dwBDJCvR/qoj8TXR0NO2aN8Pfz5f8uXN6ZM+s9NCyZUs+mDCR\nx/1KcHdKQRrdP4DX3751Hq9kjKFkyZKUKVNGoUskC9HiepEsbPny5Tz/wmNEn4rmjjtaMWrkeLZu\n3cratWspWrQonTt3xuFw3FCfnVrfSbFdy/moRAoRCdB6dyAzFi2lUaNGGfQpRESyHt3VKJLN7Nq1\ni8ZNavPmBB9uq+zDiFeTiTlWmgN7dtG5pYsN270pFtqUGbMW3NCMSHBQAHtrJJIv9ZGIDD7oTb4B\nbzJkyJAM+iSSkVJSUjh+/DgFChTA39/f0+WI3DJ0V6NINrN48WLadPOlTZcASpf35u3P/Fm//nfC\nJ8fzyUtJrJwSR8SOlfz8843t8l4wb17+uLAG3W3B5iQ/ChYsmAGfIP0lJyezb9++NC2iv5WsW7eO\nIqVKUKV+bfIVKsj07771dEki2Z6Cl0gWFRQURNSRv46jjrrw9jaULZF67OMDFUobTp06dUP9jp44\nmXv2BfLQwUDCducgqXgFevfunY6VZ4y1a9dSMiSEZtWqUaRAAb6cOtXTJXlUSkoKd3fpRJGxD1L3\n6BSqLH+bhx8fyIEDBzxdmki2puAlkkX17NmTY/vz8ux98Yx79zwP3ZVIoYIFGT7eQUIi/LIOlq13\n0aBBgxvqt02bNvy6YRN1XvyIQR9PZumvq/Hz88ugT5E+nE4nXdq146WYGBbGxfFFYiLPDBzI3r17\n06X/3bt3M2fOHLZv3/6P9w4cOECbsCaULJSPJnVrsHDhQlwu1xV6sdexY8dIxkWBTg0ByFm9NHlr\nl2Pbtm0erkwke1PwEsmicuTIwaqVm6hfdQiceYhJE2by68qN/LKlOrkbOXhweEG+mfYDoaGhN9x3\nhQoVePTRR+nRowe+vr4ZUH36On78OM7ERMIuHJcBqnp7p0vImPzZZzSpXYOJg/pyR8O6fPDO2xff\nS0xMpFVYE8KS1xDe8jTtvDbTs9NdlCman49HjcTtdqd5/JtVoEABnHGJnN96AIDkk2eJ2bKfUqVK\npanfgwcPMn/+fLZu3Zr2IkWyIS2uF7kFWZaVZfffuhlJSUmE5MnD+IQEKgHRQK/AQJasWUO1atVu\nut/Tp09TulhRNlRMpFwAHE2C6jv8WbdlO6VLl+b333+n791hbO0Qe/Gcct9A7yow/4APjTrez+hx\nE9L+AW/StG+n88igx8hbtzwxm/fy5IDHeHPosH9tHx0dzfr168mVKxcNGzb8x00Zs2bNpm+/AfgE\n1iElfguDHn+Q998fnsGfQiRz0l2NIreogwcP8sXUL0hJSaZnj3uoUqWKp0vKlGbPns3DffpQwceH\nPcnJPP788wwdnrZQsH37drre3pCdFc5dfK3Jvty8PW0Ot99+OxEREdxerzp7uiYQ6APxKVBmGizv\nDQUDodA4BzGx5z16N+H+/fvZtm0bpUqVomrVqv/abuvWrTS7ozXu4pVwRx+lbsUyLJ4zGx+f1Ntb\nk5OTCc5TkIScy8C3JriiCYytwcoVc6lZs6ZdH0ck09BdjSK3oL1791Knfk1Wn/yazSmzaNa8MatX\nr/Z0WZlSly5d+GPnToZ++y3hmzalOXQBlCpVijMuw+Izqcdrz8Gu804qVKgAQNmyZWnVtj1N53vz\nzm/QdA5pfH60AAAgAElEQVS0CoVyeSDAG7y8zA2t90pKSuKJQQ9Rong+KlcqwayZM9P8GUJDQ2nf\nvv1VQxfAfQ8PJKbHm8QO/YnzI7aw7ng8U6ZMufh+dHQ0Fr6poQvAkQ/vwJparC9ygxS8RDKxD0a8\nR7MBRegzuio9361M9w/K8fpbr3i6rEyrePHitG7dmooVKwKpa7AGP/00TWrUoFfnzhw6dOiG+gsK\nCmLm3Pn0O5abQpsDaLcvkP9O+5aQkBAg9S/ez7+axgOvjWLsgbxsPwPl8sKqI9BnsT9t77yDoKCg\n6x5v8PNPsG/XNyybdZqx7xxm0KB+rFq16oZqvlmHDx6A6nekHji8ia8Yxp59+y++X7BgQYIC/SB+\nVuoLKdtxxq29ZqATkb9T8BLJxGLPnSVP8b/uKMxbPJDz52OvcoZc6r5u3dj02Wf02ryZnPPm0bRu\nXWJiYm6oj6ZNm3I46iQbd+zmePQZ7rrrrr+97+XlxeOPP86hoyeYs+BHVvk0ZfD2ihS9vT9ffjvr\nhsaaO/d7Rr2VQJlQCGsMA/rEs2jh/Bvq42bVqFkL78XjwbIgNpqgtd9Rr07ti+87HA5+XPQ9+czT\nBJ4pin9MIyaMH0XZsmVtqU/kVqGHZItkYl069uDJwY9QvEou/HJ4M2tIBA/f87Sny8oSzp8/z4LF\ni1nidOIL1HG52J6QwLJly+jcufMN9eXj40OxYsWu2sbhcNC6dWtat2590zXnzp2Tg4dPUa506vHB\nSF8q1Ai+6f5uxNeTJ9Dyrg4ceOBznAlxPPz4ILp27fq3NnXq1OHY0X0cO3aM/PnzExgYaEttIrcS\nBS+RTKxb126cij7Fh/3fxel00b/vwzz3zGBPl5UleHl5YQEpgC9gAclww8+utNPwN0dy70P30KNj\nIlEnfPl9ez4+/OQhW8YuXLgw2zau4+jRo+TIkYPg4CsHPh8fH0qUKGFLTSK3It3VKCK3rIf79uX3\nWbPoEB/PFl9f/ixalA1bt97Quis7nTlzhpbNGxAZuY/kZLizVWvGfDKJHTt2UKhQoYtr10TE87Sd\nhIjIZVwuFx+PGMHqZcsoUaYMrwwbRr58+Txd1r968P5e+KbMZuwbySQlQ+Pufuw7ApWrBLB3TxJ9\n7nuIDz4Y7ekyRQQFLxGRLK9OrXKMfW0P9WukHhesC+O/8OaONl7ExFi0aODHpInzCAsL82idIqJ9\nvEREsrwyZcqzaHnqGrSEBIg+Ay1bp/5eDw42NGhs2LNnjydLFJE0UvASEckkPho5nmkLC1O/ay5q\nd8pB7ty+fPdN6vMejx6xCP/ZpX2zRLI4XWoUEclE4uPj2bhxI76+vvj4+NC5cxt8/ZI4eSKZoUPf\n4LnnXvR0iddl9uzZvP32R7hcTp555nH69evr6ZJE0pXWeInIddm0aRNDn3uG6FMnad2+I68Of/Pi\n8/gk80lKSmL//v0UKFAgU98YcKmFCxfSvXsf4uNbAQ4CA5cyYcII7ruvt6dLE0k3WuMlIte0d+9e\n2jS/nc4Hf+VD505+nTyG558YZNv4u3btIqxhQ4qHhNCxXTuioqJsGzur8vPzo0KFClkmdAGMGzeJ\n+PgmQAWgHPHxzRk7dqKnyxLJFBS8RLKRuXPn0i1nCg/lhyY54avC8Xz51Ve2jH327FnCGjcmcN06\nOp04wemffqJ1ixa43W5bxhf7+Pn5krpd7f8l4efn92/NRbIVBS+RbMTX15dz1l//28e6wNfHngdY\nbNiwgVwpKdS3LPIDLVNSOLR/P5GRkbaML/YZMuQ5AgPXAKuAtQQELOO1117wdFkimYKCl0g20qNH\nD3515+S5o95MPAmdjgQyeMjLtowdFBTEebcb14XjJCDJ5cq0u8jLzatbty4rVvxM377FuffeEJYs\nmU/Lli09XZZIpqDF9SLZzNGjR/novXc5fSKKBmEtKFuuHEWKFMnwx9G4XC7atGxJ5Pr1FE9IYHdg\nIO1692bcZ59l6LgiIhlBdzWKyA356aef6NW5E5X9vdmVkMwDjz7G2x9+mKFjJicn89lnnxGxcyd1\n6tfnvvvuw5gb/r0lIuJxCl4ict0syyIkOJjvfGIJ84PTbqgdF8Q3i5fSsGFDT5eXpTmdTj4dN44d\nW/6gYrUaDHzsMby97VlHJyL28dh2EsaYNsaYncaYCGPMFXf2M8aMvvD+ZmNMzbSOKSJpc+7cOeIS\n4gm7cKNZXi9o4GfYu3evZwu7hGVZTBg/ng6tW/NA374cPHjQ0yVdk2VZ3NO5A3M/eolKf0xhzkcv\n0atLR/RHpYj8X5qClzHGAXwCtAEqAb2MMRUva9MOKGtZVjngEeDTtIwpImmXM2dOCubNy3cJqccH\nnLA8wZ2pHkczbOhQ3n7+eXyXLGH/119Tv1Ytjh8/7umyrmrXrl2sXbmc+Q3i6R8Kd+aJZ+nSJYwf\nP564uDhPlycimUBaZ7zqAXssyzpgWVYKMB3oeFmbDsAXAJZlrQOCjTEhaRxXRNLAGMOshYt4zisf\nZc7noHqsH6++8y7Vq1f3dGkXjR41ii5xcVQFwtxuisXHM2vWLE+XdVUJCQnk8nPgckPYL7DpLLxY\nxcnw5x4jX3BOGtetkenDo4hkrLQuPCgKHL7kOBKofx1tigHaslrEg2rVqsWeI0c4ePAgBQsWJDg4\n2NMl/Y3b7f7bX4ZeloXL5frX9plB5cqV8cqZj/vWx5HL1823LcEYuKcMVJ9t0cSxjf69uvHjspWe\nLlVEPCStM17Xu3Dh8sVnWvAgkgn4+flx2223ZbrQBfDAgw8yJzCQCGCNMez19aVz586eLuuqfH19\nWbJ8FYeCK5I/0PD/GzYLB0CiC56v5WLVuo0erdGyLL755huef/EFJk2ahNPp9Gg9ItlNWme8jgDF\nLzkuTuqM1tXaFLvw2j8MGzbs4vdhYWGEhYWlsTwRyao+HDmSgiEhLPjhBwoULMivH3xA8eLF/9bm\n7NmzDB86lIgdO6jTsCFDXnkFX19fD1WcqkiRIsz4YR71alblu31x1MwHb/4Od5eGTVFQJCS/R+sb\n8OTjfL9mGUFdGpL41U/88OMC5s2YrW09RK4hPDyc8PDwNPeTpu0kjDHewC6gJXAUWA/0sixrxyVt\n2gGDLMtqZ4xpAIyyLKvBFfrSdhIict2Sk5OpX7MmgXv3cltSEr8HBBDavDmz58/PFCFi9erVPPvY\nw0RERODvcFO/hD+/RsK3s+fSokULj9R0/PhxSlcsT/WDX+CdKwh3UjI7Kj3KTzPmUKtWLY/UJJJV\n3ex2Emma8bIsy2mMGQQsBhzAZMuydhhjBlx4f4JlWQuNMe2MMXuAOOD+tIwpIgKwbt06zh4+zP1J\nSRigakICb/z8M8eOHaNIkSKeLo9GjRqx9o/tuFwulixZwunTpxnRuDGlSpXyWE3nzp3DL3cOHDkD\nAfDy88U/JC/nz5/3WE0i2U2ad/WzLGsRsOiy1yZcdjworeOIiFzK5XLhuOTYC/AyBrfb7amSrsjh\ncNC2bVtPlwFAaGgoBXIFc2TYV+Tvfwcx89fjPhJNzZraXlHELnpItohkSfXr18eRLx/zvL3ZCUz3\n96dm7doULVrU06VlWt7e3ixbtIQyv53i4O0vke/7LSxf8jM5c+b0dGki2YYeGSQiWdaJEyd44emn\n2b1zJ3UaNODdDz4gKCjI02WJSDagZzWKiGQhLpeLYa+9xKyZ3xAYEMhrwz+gY8fL95/OnKKioggP\nDycgIIBWrVrh7+/v6ZJEbKfgJSLXZdGiRSxdtIB8BUJ4bNAg8uTJ4+mSsqXXXn6B8LljGdMvnuMx\n0H9CADN/WEKTJk08XdpVbdu2jSbN7sTtVx9cpygeksy6Nb+QI0cOT5cmYiuPPSRbRLKOj0eOYGCv\nrhRaPJY9k9+iUe0axMbGerqsbGnmjG/4pH88NUKhTU14slUCc76f6emyrunhAc8SGziUcwV+4FzI\nr+yNKsOoUaM9XZZIlqHgJZINnDp1irCGdRn83HNEnUvAYWBKhWQqOE/x7bfferq8bCkwIIDjMX8d\nH4txEBh0c4vcExISeOudt+j7QG9GjhqRobvRRx45ghXQKPXAGJK8G7L/wBX3xBaRK1DwEskGHul3\nLzXObyaxN+zuBOMiYfEpKOzjIi4uztPlZUuvDf+AfuMDePd7eHKKg+9/z80jAx694X5cLhdt7r6T\neRs/x9FwF1PmjaJ3v14ZUHGqZk0b4Rc7AqwUcJ4kKPFzmoc1zLDxRG41Cl4i2cDqNesYXD4FLwPF\ng6BXKEyOhBknPb/HlGVZvPvWW4QWLkzZYsUYO2aMR+uxS6dOnZj5wxKiQ54kT+2XWLdxy01thbFp\n0yYOHI3g0Rm1CXu4DE/Mr8vixT8SGXn509vSx6djP6JhlWi8d+bCO6I4jz7Yjt69e2fIWCK3ojRv\noCoimV+RQgVZezKWriXB5YblJ+CobxFmL5hO+fLlPVrbJ2PG8Nm779IrPh4X8PaQIeTJm5d7s8E/\n5k2aNEnzYvqkpCT8c/jg5Uj9O9rbz4GvvzfJycnpUeI/5MqVi2U/zycuLg4fHx+PPxtTJKvRXY0i\n2cCaNWvo2LYVtxcyHDhvkTu0Cgt/Xp4p/tG8vV49qmzYQJULx+uA2HbtmL1ggSfLyjDLly/n9Zef\n4ezZGO5q35Vhb76Lt/fN/w0cHx9PtVqVqdojB1XvCmHNF5HEbs7Bml/X4+WlixoiGcUjz2oUkayh\nYcOGbNr6JytXriR37ty0atUqTf/Yp6dcuXNz5pLjGGMIDg72WD0ZaevWrXTr3I6xveMJLQAvzhzH\nkMREPhx585dXAwMDWf7zSp587nF+WLibmtXr8O280QpdIpmUZrxExKM2bNhAq+bNqR8fj9PLiz8C\nA1m5fj0VKlTwdGnp7q033yR23Rv85x4XAPtOQNP/BHPk+JlrnCkimY1mvEQkS6pbty6r1q9n2jff\n4HA4+KxfP0qXLs3GjRtZt24dRYoUoWPHjrfEDI5/QAD74x1AavCKPg8B/n6eLUpEbKUZLxHJdCZN\nnMhLTz9NHbebfQ4HlW+/nZnz5mX58HXixAnq1KxM56oxlC7gZORPgbw2fBQPPvywp0sTkRukRwaJ\nyC3B5XKROyiI95KSKAKkAC/nyMH42bO58847PV1emh07dowxH4/kbEw07dp34a677vJ0SSJyE3Sp\nUURuCfHx8bhcLgpfOPYBihnDyZMnPVlWuilcuDDvvPefDB9n6dKlPPzEQKKjTtK4WWO+mjyV/Pnz\nZ/i4InJ1WXveXkRuOTlz5qR82bLMdjhIAbYDW10u6tev7+nSsoyIiAi63duD0I870CpiOIdLOuly\nb3c2bNjA22+/zdixYzl//rynyxTJlnSpUUQynUOHDtGjQwc2bt1KwTx5mPzllxm2w77b7WbihAn8\ntmYNoRUq8NQzzxAQEJAhY9ll8uTJfLhiKrW+6AeA2+niO/9HCciXl8B+d2HtiSR4z3F+X72WHDly\neLhakaxJlxpF5JZRokQJ1v7xB263O8MX1A+8vz/b5s6it4nnp/n+tJvzA0tXrc40+5zdjDx58nB+\nzwkstxvj5cX5vSch0J/8M94lsFltAE52GczUqVN57LHHPFytSPaiS40ikmlldOg6deoU07/9lh9z\nxPNYTpiZI5Ho3TtYs2ZNho6b0dq3b09x3/ysbj2GzS/MZOUdo/B1eONTrsTFNqZsMWJiYjxYpUj2\npOAlItlWUlISfg4vgi5cLPAyEOztRWJiokfqcTqdPPf8ExQtlpcyZQsz+fNJN9WPj48P4Yt/5vV7\nn6Z3nqbMmzab9h06EPPMSFKOnST+199ImLrwlrhLVCSr0RovEcm2LMvi9rp1qLx/Gw/7JrM02Yvx\nvvnZvCuCXLly2V7Pq6+9wPJV4/lwEpyJdvNwN5jw6Xe0a9cuzX3HxcVx/2OP8uPCReQMzs3H771P\nt67d0qFqkexJ+3iJiNyE06dP8+zAR/lt/XpKly3LyM8mEhoa6pFaatQsw/BPjjN9ipM505Pxchiq\nV6vDyl/Xe6QeEfl3Cl4iIllcs9trEZB7KyluB+9/kZeYaDcPtIrh4xHf0KVLF0+XJyKXuNngpTVe\nIiKZxPA3RrD2VzdPvpGbPPkchN7mw/3PBbD0p/meLk1E0omCl4hIJhEWFkbFCpWJ2J5y8bU92yFf\nvhAPViUi6UmXGkVEMpH169fT7q6W3NHZl7PRsGdrIGtW/67H/YhkMlrjJSJyi9i7dy8LFy7E39+f\n7t27Exwc7OmSROQyCl4iIiIiNtHiehEREZFMTsFLJIuzLIuoqChiY2M9XYqIiFyDgpdIFnb69Gka\nhzWiXKWyhBQJYdDTj6NL9p63du1aRowYwTfffIPT6bRtXKfTicvluuHzLMtiyZIljB07lhUrVmRA\nZSLyfwpeIlnYY08NxKtKMkNOPsgLkf1ZuGoeU6dO9XRZ2drkSZ/RtVNLDm58iU8/eoQOd7e8qTB0\nIxITE+ne514CggIJyBHEi6++fEMB/LEnnqVLn6d4fvxW2nbpz9Bhb2VgtSLZmxbXi2RhZSqWpv2M\nxhSqkrrVwMpRv1F8byU+HfOphyvLntxuN8G5g9jw30TKlwKXCxo8mIOh73xD+/btM2zcpwY/x4zd\n6yj1zQu4zieyt81rPNWtD7gtfH196dOnD0WKFLniubt27aJm/TAS7t4Fvrkg4QR+c2/j4L5dhIRo\n/zCRf6PF9SLZUMmSJdn3SyQAbrfF4fAoSpcs7eGqsq/k5GQSk5IpWzz12OGACqUsoqOjM3Tcn1aE\nU+DFbjiCAvANyUNAm1oMf/993jl5jOG7/6RK3bocPHjwiueeOHEC3+DQ1NAFEFAQ3xwhnDp1KkNr\nFsmuFLxEsrBPPx7Phg928NWdC/ms1ixyns3HE4Oe8HRZ2Za/vz8N6lXnlXHenIuDXzbAj6stGjdu\nnKHjFilUmLhNERePT85cjeM/b+P93nC8xnxEwr3defejj654bpUqVbDO7YMDs8GdAhFT8PNKpEyZ\nMhlas0h25e3pAkTk5pUvX54/t+xgzZo1BAQE0LRpU7y99b+1J303cyF97+tCSJuNFA7Jy1fffEG5\ncuWu+/y4uDiGvvEqv23eSLky5Xn3zffJly/fVc/5+N3/0KRlc5JX7sQVG4/7bDzeoSUvvm+VKkn0\n+j+ueG6ePHlYsnAOXXv25ejy7oSWrcycpQvw9/e/7ppF5PppjZeI/M2uXbuY+Nk4UlKSubd3f+rX\nr297DZZlERkZiY+PD4UKFbJ9fE+xLIs727bgfJ6j1OlTgh0Lj3NilYuNa3/Hz8/vquceO3aMJUuW\n4Ovry7ZdOxn94yLcn43BOncer74PM+W99+nevftV+3C73Xh5Xf1CyKlTp/jll1/w8/OjVatWBAQE\n3PDnFLkVaOd6EUmzP//8k7Db6zOgRxxBgRYj/hvI9G/n0aJFC9tqOHr0KL27deLP7VtJcVm0bduW\nL6bNyFIzed9//z0//7yIAgWK8OSTT5EnT57rOu/gwYPUrF+NNyM74fD2wrIsPqy1lKmffHdDlytd\nLhdDXnuNz7+cio+vL688+xxPPP74zX6ci3bv3k2DBk1xOkOARAoV8mXDhlXkzp07zX2LZDVaXC8i\naTb64//wdN843nzGYsgAGPVSPP9571Vbxt6zZw/VKpShdMlirNuwgdG1EznSPYkTGxfz8cgrr0/K\njD788H1eeLEPRUM/Z8+B92ncuCbnzp276jmWZTF9+nRef2MozhQnXPI3qNtlYcyN/W53OBx88M47\nRB+O5PjefekSugAGDnyKmJianDvXlXPn7uXQIX/ef/+DdOlbJLvIOn9CikiGS4g/T/7if/2rnz8P\nJCTEZ/i4lmXR9o4w2uc9wpqHIeIstJoN1fPBfSUSWLpuTYbXkB4sy+Ltt4ezbF0Kpcs4ADc9O0Yz\ne/Zs+vXr96/nvfzaEKbNnUrtvkXx/cXB+E7LaPRgWXYuiiLYvwB16tSx70NcxcGDh7GshheODElJ\nhdm378p3S4rIlWnGS0Qu6tnrAd78NJAlv8KqTfDse4Hc0+uhDB3T6XTSpX0bYk4eYfkxqD4NcvtC\ni+Kw/iQsjvKnTIVKGVpDekpISCZ/gb+O8xewSEhI+Nf2SUlJjPxoFI//HMadz1fltT87cnxbLH+M\nPEvNXC0JX7oCX19fGyq/trCwpvj7bwScQDyBgVtp0aKZp8sSyVK0xktE/mb6tGmMHDEcpzOFvv0G\n8uRTz97wpa4bMX78eL4b8RyLusfj5w3vr4TwfbAjGrx8/ClSugKLw1cSFBSUYTWkp/v6dCX2/I+8\n+Foy27davDo4gHXrthAaGnrF9rGxsYQULshHsT3xcqT+LTypwyqG9H2Hbt262Vn6NcXFxdGlS09+\n+WUpYPHoo48xevTIDP3vQySz0uJ6EcmSnn1qEIX/HMvgRqnHu05B/c+hSdPmvPjaGzRo0AAfH5+/\nnbN7924efaA3u/fspWqVykz4/GtKlCjhger/KSEhgRdeeJJfli2mQIGC/Of9cdSrV++q54Td2Qwr\nNJqwp29j76oTLB66k+2bd1CwYEGbqr4xcXFxeHt7X/NOS5FbmYKXiGRJkydP5vN3nmJJjzgCfWDo\nci9WJFUnfM2mK86knD9/nioVSvNsg1N0rGLx5UYH03YX44/tERcD2ubNm5k0YSyW5abv/Y9cM/h4\nWkxMDI899Shr166hWLFijB01nqpVq3q6LBG5CgUvEcmS3G43D/Xrzfx5P5A7wBv/3AX48edfKVq0\n6BXbr1q1imf6t2P9E7EAWBaUez8H835eT8WKFdm0aRNt7mzGM63i8XHAB4sCmfnDIpo101okEUk/\n2k5CRNLky6+m0rJNU9p2uINly5ale/+HDh2iZVh9gnMHUKNqWdavXw+Al5cXn385jQ2bdzLn53X8\ntnXXv4YugJw5cxIV6yQxJfX4fBKciUshZ86cAHz80Tu82j6elzvB4Pbwfo94Rv5neLp/nswqJiaG\nZwcP4e5uvfjPhyNwuVyeLklELqHgJSJM+e/nvDTsGWoPTKJs92i69uzI6tWr061/t9vN3W2b06Lc\nJvZ+lcjLXffS4e47OXny5MU2JUuWpFKlSv9Yz3W5qlWr0qjpHdw5MYi3FkPzCUH07HkvxYoVAyAp\nMYE8l6zDDw6CpKR/v6vwVpKYmEj9Zi0Yt/4UC3LdxRtT5tHngUc8XZaIXEKXGkWE+k1qcudQP6q3\nSl3MPX/EXnx21WXShP+mS/+RkZHUqXkbx2Ym8P9lW61ezMXTr02jXbt2N9yfy+Vi6tSp7N65g6rV\na9CrV6+L68HmzJnDEwPu5bP+8fh4w6P/DWToO+Po0/ff99G6VSxZsoRuT77OuWdWgzGQFIfPiyGc\nPHZEu8uLpLObvdSoDVRFBIfDG2fyX3/4OJMt/B3p9+shV65cnI93EnUaCuWDpGQ4cMx13Y/SuZzD\n4eD++++/4nsdO3YkPm4ib338Lm63myGvP50tQhek7olmfAK4mG69fTFeDl1uFMlENOMlIsyYOYPH\nn36YrsNLkRDrZO7bh/h5yXJq1qyZbmO8NXwoX0z+iC5Nklix1Z8StzVn+oy52gMqHcXGxlK+ak1O\nVu+Dq1wY/qvG0zhvPEsXzNHPWSSd6a5GEUmT+fPnM/Wbyfj6+vH0oOfT/Jia6d9OZ8p/x+Dt7c2T\ng16mdevWLF68mE2bNhEaGkrPnj3x8tIy0/QWGRnJoGdfZN/BQzSpX5cP33uLwMBAT5clcstR8BKR\nTOObaV/z0suP8toISEyAN5+1+Hb6fMLCwjxdmohIutAaLxHJNCZN/phhHxtadUh9xmBsTCKTp4xV\n8BKRbE/BS0RuSGxsLKtXr8bPz48mTZpccfsHh8NB8iWL9VOSLbwdDjvLtM2JEydYsGABDoeD9u3b\n3/QNAyKSPehSo4hctwMHDtCsRRNylvAjITaJ/AGFWLZk+T8eYD1v3jweGdCLZ4dDYoLFx8MNCxf8\nkukf3XOj9v6vvfuPs7qq8zj++jAwhFgCoiCI4ZoouK6JSbhuMv4g2H65JmLZrm1rrlpt2z6sRM3C\nbd1N3TR/blSaruXullqrogma07AaIgqpKSEmrAKyFGIIyPzg7B9zI4Q7w525w7kzc1/Px4MH3++9\n536/h3MP8J7v93zPeeEF/vS4Yzjg2KG0NCXWLt7AY48sYMSIEZWumqTdzDFekna7k6d9kK3j13LS\nRUewdWviPz42j/eNnc7ML1+6U9kHHniAW/79Rvr2reXT553PxIkTK1Dj3Wv6x6ax6fBVnDCj9enP\n+y54jINeH8+sG75V4ZpJ2t0c4yXpTVavXs3KlSt5xzvewaBBg7rkmL9e/mtO+sIYAPr0CQ48fh9e\nmL+saNkpU6YwZcqULjlvd7XqlVWMO3Pvbfv7jR/C6h+uqmCNJHV3Psst9ULXXHsDf3TwOE485ZOM\nGn0wDz30UJcc9+ijJrBg1vNsbdnKlteb+MX3VvDuo47pkmP3RCfVTeZ/rnyWzeu38Prazfz86iWc\nVPfeSldLUjfmrUapl1myZAnjJ05i8wcXwFvfDisf5q0Np/ObNS9TW1tb1rFfe+01PnTqB1i0aDHN\njc2c/pHpfOebN1PTSwfO70pTUxPn/d253HbLbUQE5336PL5+xVXOTyZVAcd4SQJa1yo884Jv87sT\n7t322oDb92PpM49vW0i6HCkl1qxZQ21tLUOGDCn7eL1BS0sLEWHgkqpIZ4NXp/+ViIghETE3IpZG\nxJyIKDqIJCKWR8RTEbEoIhZ09nySSjNmzBiaXlkIG/639YVVP6Mmmtl333275PgRwfDhw4uGrsbG\nRs4695MMfNueDN53CP969de75JzdXU1NjaFLUknKGVw/A5ibUroiIi4o7M8oUi4BdSmldWWcS1KJ\nxo4dy2UzL+aiS95J7eADafnd/3LXD28v+zZjKWZcciENK+Zzxgvn88a6TVz5wa9z4AGjOfXUU3f7\nuUZqCjYAABPxSURBVCWpJ+j0rcaIWAJMSimtiYjhQH1K6dAi5V4E3pVS+u0ujuetRqkLrVy5cttT\njbluCY4bfxiHzzqRYUePAuCpGx7lwKcG891ZN2c5vyTlkv1WIzAspbSmsL0GGNZGuQQ8GBELI+Ls\nMs4nqQNGjhzJhAkTso7D2nvvoax7ds22/deeXcuwoV1zi7Mnevnll5lw/PH0HziQUYccSkNDQ6Wr\nJKnC2r3iFRFzgeFF3roYuDWlNHi7sutSSjv9Cx8R+6WUVkfEPsBc4O9SSvOKlPOKl9TDLViwgPe+\nfwqjPzyOplffYMMTv+GJ+QvZZ599Kl217FJKjHvX0Sw7YQot53wG5j/KHp87lyWLF3XJQw6SKmu3\nTKCaUprczgnXRMTwlNIrEbEf8H9tHGN14fe1EfEjYAKwU/ACmDlz5rbturo6F9SVepgJEybwxPyF\nzJ49m/79+zN91vSqXbvw1Vdf5dfLnqdldj0RAZOnUjNhIvPnz2fatGmVrp6kDqqvr6e+vr7s45Qz\nxusK4LcppcsjYgYwKKU0Y4cyewA1KaUNETEQmANcmlKaU+R4XvGS1Gs0Njay5+DBNP9sITHqAFJT\nEwMnH8vdN17P8ccfX+nqSSpTJcZ4fQ2YHBFLgRMK+0TEiIiYXSgzHJgXEYuBx4B7i4UuSeqOUkpc\nd+MNHHncsRw7ZTIPPvhgyZ+tra3lXy67jAEfnkrfL1/AwFOmcOyhY5g0adJurLGk7s4JVCV1Ow0N\nDdz0vVup7VfLZ8/9FIcffnhF6nHVtdfwj9++kT2u+jwtv13Pxs9eztz/vodjjil9maSGhgYWLFjA\n/vvvz2mnnVa1s/xLvY0z10vqFX7yk58w/a//ir0vPJ2tm7bw6lV3Me/Bn3LEEUdkr8sh7xrP69/4\nBwb82XgAXr38Jqavaubfrrk2e10kdS+7ZXC9JOX21auvZPi1n2Lo9LrWF/oEV994HbfM+k72uvTr\n15e0cfMfXti4mX59B2Svh6Tew+Alabd58cUXee655zjwwAMZO3ZsSZ9pbGyk5m17bNuvedsevNFY\nmYUvLvmH8/nkWZ+j6Utnk367nqZv3sGnGoo+lC1JJXFxMUm7xW3f+z6HHTWBMy69hqPeczyXXX5l\nSZ87+2NnsuZz32T9g0+w7r8f4TdfvZ2zzvir3Vzb4k6ffjo/+PbNnPDYCj60spH59T/j0EN3WqBD\nkkrmGC9JXW7Dhg3sO3IUb1z+CLz9MFi3mgF//04W/3weY8aMafezKSVmfedbfPPW79KvXz++9LnP\nc/LJJ2equSSVxjFekrqNV155hb5vG9IaugCG7Eft6MNYsWLFLoNXRHDu2edw7tnnZKipJOXlrUZJ\nHZJS4oUXXmDp0qW0tLQULTNq1Cj6NG6Chfe3vrDsSRp//VTJ47wkqbfyipekkm3ZsoUPfGA6jzz6\nONGnH4eMOYCHf3ove+2115vKveUtb2H2XXfwgQ9Po6lPP9Lm1/n3m29yjUJJVc8xXpJKNnPmP3HF\nVQvYXHMnUEP/lnM4Y1otN998Q9HyjY2NrFq1imHDhjFgQPedhqGlpYWvX30NDzX8nIPevj//+JWL\nGTp0aKWrJakbq8SSQZKqzOMLn2Fzy+kQ/SD6sCWdwRNPPt1m+draWkaPHt2tQxfA3/ztp7n0W3cz\np/+pfOeJZt51zHFs3Lix0tWS1AsZvCSV7PA/Ppi31NwDqQVSoh93c9hh7Q+W7+42b97M92+7hU2n\n3QOHf4SmqdexrmZYh9ZllKRSOcZLUskuuWQGD/30/SxZMo7o059h+/Xhmm/MrXS1yrJ161YiAvr0\n+8OLNf3bfHBAksrhGC9JHdLS0sLixYtpbm7myCOPpLa2ttJVKtvJ0z7K3F9tYvP4z1Dz8qPs/atb\n+NUzixg0aFClqyapm3KRbEnqpC1btnDRJZdS/z/zefuokXzjyss44IADKl0tSd2YwUuSuoGNGzfS\n0NBASolJkyYxcODASldJ0m7gzPWSVGFr167l6KP/jHXraoFg0KBNPP74IwwbNqzSVZPUTfhUoyR1\nkRkzLmHVqoPYsGEGGzZcwOrVh/LFL36p0tWS1I14xUuS2rBhwwauv/56VqxYxUknTWLatGntln/+\n+eU0Nf1hWaTm5kN4/vlf7O5qSupBDF6SVMTmzZs5+uj3sHz5ELZsOYjbbvsCzzzzHDNnXtLmZyZN\nmsjChfewefOfADBgwDyOO25yripL6gEcXC9JRdxxxx184hP/zOuv/xMQwG/o1+9veeONjfTpU3yU\nRmNjI9On/yX33XcvEEyZMpU77rid/v3756y6pAwcXC9JXWjTpk3AIFpDF8BebN3aQnNzc5tzl9XW\n1vLjH/+A9evXk1Ji8ODBuaorqYcweElSESeeeCIR5wNzgTH0738nxx03taQJY514VVJbfKpRkooY\nOXIk9fUPcNRRjzNixL9y6qmjuPPO71e6WpJ6OMd4SZIkdVBnx3h5xUuSJCkTg5ckSVImBi9JkqRM\nDF6SJEmZGLwkSZIyMXhJkiRlYvCSJEnKxOAlSZKUicFLkiQpE4OXJElSJgYvSZKkTAxekiRJmRi8\nJEmSMjF4SZIkZWLwkiRJysTgJUmSlInBS5IkKRODlyRJUiYGL0mSpEwMXpIkSZkYvCRJkjIxeEmS\nJGVi8JIkScrE4CVJkpSJwUuSJCkTg5ckSVImBi9JkqRMDF6SJEmZGLwkSZIyMXhJkiRlYvCSJEnK\nxOAlSZKUicFLkiQpE4OXJElSJgYvSZKkTAxekiRJmRi8JEmSMul08IqI0yLilxHREhHj2yk3NSKW\nRMTzEXFBZ88nSZLU05Vzxetp4BSgoa0CEVEDXA9MBcYBH42IsWWcU5Ikqcfq29kPppSWAEREe8Um\nAMtSSssLZf8TOBl4rrPnlSRJ6ql29xivkcBL2+2/XHhNkiSp6rR7xSsi5gLDi7x1UUrpnhKOnzpS\nmZkzZ27brquro66uriMflyRJ2i3q6+upr68v+ziRUoey0c4HiHgYOD+l9GSR9yYCM1NKUwv7FwJb\nU0qXFymbyq2LJElSDhFBSqnd8VbFdNWtxrZOvBA4OCJGR0QtcDpwdxedU5IkqUcpZzqJUyLiJWAi\nMDsi7i+8PiIiZgOklJqBzwAPAM8C/5VScmC9JEmqSmXfauwq3mqUJEk9RaVvNUqSJGkXDF6SJEmZ\nGLwkSZIyMXhJkiRlYvCSJEnKxOAlSZKUicFLkiQpE4OXJElSJgYvSZKkTAxekiRJmRi8JEmSMjF4\nSZIkZWLwkiRJysTgJUmSlInBS5IkKRODlyRJUiYGL0mSpEwMXpIkSZkYvCRJkjIxeEmSJGVi8JIk\nScrE4CVJkpSJwUuSJCkTg5ckSVImBi9JkqRMDF6SJEmZGLwkSZIyMXhJkiRlYvCSJEnKxOAlSZKU\nicFLkiQpE4OXJElSJgYvSZKkTAxekiRJmRi8JEmSMjF4SZIkZWLwkiRJysTgJUmSlInBS5IkKROD\nlyRJUiYGL0mSpEwMXpIkSZkYvCRJkjIxeEmSJGVi8JIkScrE4CVJkpSJwUuSJCkTg5ckSVImBi9J\nkqRMDF6SJEmZGLwkSZIyMXhJkiRlYvCSJEnKxOAlSZKUicFLkiQpE4OXJElSJgYvSZKkTAxekiRJ\nmRi8JEmSMjF4SZIkZdLp4BURp0XELyOiJSLGt1NueUQ8FRGLImJBZ88nSZLU0/Ut47NPA6cAs3ZR\nLgF1KaV1ZZxLkiSpx+t08EopLQGIiFKKl1RIkiSpN8sxxisBD0bEwog4O8P5JEmSuqV2r3hFxFxg\neJG3Lkop3VPiOY5NKa2OiH2AuRGxJKU0r6MVlSRJ6unaDV4ppcnlniCltLrw+9qI+BEwASgavGbO\nnLltu66ujrq6unJPL0mSVLb6+nrq6+vLPk6klMo7QMTDwOdTSk8UeW8PoCaltCEiBgJzgEtTSnOK\nlE3l1kWSJCmHiCCl1OEx7OVMJ3FKRLwETARmR8T9hddHRMTsQrHhwLyIWAw8BtxbLHRJkiRVg7Kv\neHUVr3hJkqSeIvsVL0mSJHWMwUuSJCkTg5ckSVImBi9JkqRMDF6SJEmZGLwkSZIyMXhJkiRlYvCS\nJEnKxOAlSZKUicFLkiQpE4OXJElSJgYvSZKkTAxekiRJmRi8JEmSMjF4SZIkZWLwkiRJysTgJUmS\nlInBS5IkKRODlyRJUiYGL0mSpEwMXpIkSZkYvCRJkjIxeEmSJGVi8JIkScrE4CVJkpSJwUuSJCkT\ng5ckSVImBi9JkqRMDF6SJEmZGLwkSZIyMXhJkiRlYvCSJEnKxOAlSZKUicFLkiQpE4OXJElSJgYv\nSZKkTAxekiRJmRi8JEmSMjF4SZIkZWLwkiRJysTgJUmSlInBS5IkKRODlyRJUiYGL0mSpEwMXpIk\nSZkYvCRJkjIxeEmSJGVi8JIkScrE4CVJkpSJwUuSJCkTg5ckSVImBi9JkqRMDF6SJEmZGLwkSZIy\nMXhJkiRlYvCSJEnKxOAlSZKUicFLkiQpE4OXJElSJgYvSZKkTAxekiRJmXQ6eEXElRHxXET8IiLu\nioi92ig3NSKWRMTzEXFB56sqSZLUs5VzxWsOcFhK6QhgKXDhjgUioga4HpgKjAM+GhFjyzhnVamv\nr690Fbol26U426U422VntklxtktxtkvX6nTwSinNTSltLew+BuxfpNgEYFlKaXlKqQn4T+Dkzp6z\n2tjZi7NdirNdirNddmabFGe7FGe7dK2uGuP1N8B9RV4fCby03f7LhdckSZKqTt/23oyIucDwIm9d\nlFK6p1DmYqAxpXR7kXKp/CpKkiT1DpFS57NRRPw1cDZwYkrpjSLvTwRmppSmFvYvBLamlC4vUtaQ\nJkmSeoyUUnT0M+1e8WpPREwFvgBMKha6ChYCB0fEaGAVcDrw0WIFO1N5SZKknqScMV7XAXsCcyNi\nUUTcCBARIyJiNkBKqRn4DPAA8CzwXyml58qssyRJUo9U1q1GSZIkla4iM9c7+WpxEXFaRPwyIloi\nYnw75ZZHxFOFK40LctaxEjrQLtXWX4ZExNyIWBoRcyJiUBvlen1/KeW7j4hrC+//IiKOzF3HSthV\nu0REXUS8VugbiyLiS5WoZ04RcXNErImIp9spU419pd12qdK+MioiHi78//NMRHy2jXId6y8ppey/\ngMlAn8L214CvFSlTAywDRgP9gMXA2ErUN2O7HAqMAR4GxrdT7kVgSKXr253apUr7yxXAFwvbFxT7\ne1QN/aWU7x54H3BfYfvdwPxK17ubtEsdcHel65q5Xd4DHAk83cb7VddXSmyXauwrw4F3Frb3BH7V\nFf+2VOSKV3Ly1aJSSktSSktLLF41DyOU2C5V11+ADwG3FrZvBf6inbK9ub+U8t1va6uU0mPAoIgY\nlrea2ZX6d6I3942dpJTmAa+2U6Qa+0op7QLV11deSSktLmy/DjwHjNihWIf7S3dYJNvJVzsuAQ9G\nxMKIOLvSlekmqrG/DEsprSlsrwHa+sve2/tLKd99sTLFfuDrTUpplwT8aeEWyX0RMS5b7bqvauwr\npajqvlKYneFIWi8Wba/D/aXT00nsipOvFldKu5Tg2JTS6ojYh9anSpcUflrpsbqgXaqtv1y8/U5K\nKbUzF16v6y87KPW73/Gn9V7ZZ7ZTyp/vSWBUSmlTRPw58GNab+tXu2rrK6Wo2r4SEXsCdwB/X7jy\ntVORHfbb7S+7LXillCa3935h8tX3ASe2UWQlMGq7/VG0JskebVftUuIxVhd+XxsRP6L1lkKP/o+0\nC9ql6vpLYSDs8JTSKxGxH/B/bRyj1/WXHZTy3e9YZv/Ca73ZLtslpbRhu+37I+LGiBiSUlqXqY7d\nUTX2lV2q1r4SEf2AO4HvpZR+XKRIh/tLpZ5q/P3kqyenEiZfjYhaWidfvTtXHbuBovfSI2KPiHhr\nYXsg8F6gzadzeqG2xhhUY3+5G/h4YfvjtP4E+iZV0l9K+e7vBs6EbStqrN/uNm1vtct2iYhhERGF\n7Qm0TjHUq/8jLUE19pVdqsa+Uvjz3gQ8m1L6RhvFOtxfdtsVr124Dqil9bYHwM9TSp+KiBHAt1NK\n708pNUfE7ydfrQFuSr188tWIOAW4FhgKzI6IRSmlP9++XWi97XRXod36At9PKc2pWKUzKKVdqrG/\n0PpE8A8i4ixgOTAdWicxpor6S1vffUScU3h/Vkrpvoh4X0QsAzYCn6hglbMopV2AacB5EdEMbAI+\nUrEKZxIR/wFMAoZGxEvAV2h96rNq+wrsul2owr4CHAv8JfBURCwqvHYRcAB0vr84gaokSVIm3eGp\nRkmSpKpg8JIkScrE4CVJkpSJwUuSJCkTg5ckSep1SlkQfbuyx0XEkxHRFBGn7vDexyNiaeHXmeXW\ny+AlSZJ6o+8CU0ssu4LW+RDftJJORAwBvkzrxNMTgK9ExKByKmXwkiRJvU6xhb8j4qCIuL+wdm1D\nRBxSKLsipfQ0sHWHw0wB5qSU1qeU1gNzKT3MFVWpCVQlSZJy+xZwTkppWUS8G7iRtpcuBBjBm5fa\nKrbYfIcYvCRJUq9XWOz6GOCHhdU8oHUVnawMXpIkqRr0oXUtxSN3UW77JX1WAnXb7Y8CflpuJSRJ\nknq1lNLvgBcjYhq0LoIdEX+yQ7Eo/Pq9B4D3RsSgiBgMTC681mkGL0mS1OsUFv5+FDgkIl6KiE8A\nHwPOiojFwDPAhwpljy4sDj4NmPX7KShSSq8CXwUeBxYAlxYG2Xe+Xi6SLUmSlIdXvCRJkjIxeEmS\nJGVi8JIkScrE4CVJkpSJwUuSJCkTg5ckSVImBi9JkqRMDF6SJEmZ/D88u8AU1j9BYQAAAABJRU5E\nrkJggg==\n",
      "text/plain": [
       "<matplotlib.figure.Figure at 0x10a2c0390>"
      ]
     },
     "metadata": {},
     "output_type": "display_data"
    }
   ],
>>>>>>> d22115ae68fdd9b89ff98a72eb6ce6cb10525546
   "source": [
    "slider = FloatSlider(description='Time', min=1, max=stepN, step=1)\n",
    "\n",
    "def update_plot():\n",
    "    time=slider.value\n",
    "    x = ParticlePositionHistory[time-1,:,0]\n",
    "    y = ParticlePositionHistory[time-1,:,1]\n",
    "    fig = plt.figure(figsize=(10,10))\n",
<<<<<<< HEAD
    "    plt.scatter(x, y, c=ParticleRhoHistory[:,time-1])\n",
    "    plt.xlim(-2e10, 2e10)\n",
    "    plt.ylim(-2e10, 2e10)\n",
    "#    plt.colorbar()\n",
=======
    "    plt.scatter(x, y, c=mDistribution)\n",
    "    plt.xlim(-2e10, 2e10)\n",
    "    plt.ylim(-2e10, 2e10)\n",
    "    #plt.colorbar()\n",
>>>>>>> d22115ae68fdd9b89ff98a72eb6ce6cb10525546
    "\n",
    "    clear_output(True)\n",
    "\n",
    "slider.on_trait_change(update_plot, 'value')\n",
    "\n",
    "\n",
    "display(slider)\n",
    "update_plot()"
   ]
  },
  {
   "cell_type": "code",
   "execution_count": 16,
   "metadata": {
    "collapsed": false
   },
   "outputs": [],
   "source": [
    "#print(xyDistribution-xyDistributionOld)\n",
    "#print(mDistribution)"
   ]
  },
  {
   "cell_type": "code",
   "execution_count": null,
   "metadata": {
    "collapsed": false
<<<<<<< HEAD
   },
   "outputs": [],
   "source": []
  },
  {
   "cell_type": "code",
   "execution_count": null,
   "metadata": {
    "collapsed": true
=======
>>>>>>> d22115ae68fdd9b89ff98a72eb6ce6cb10525546
   },
   "outputs": [],
   "source": []
  }
 ],
 "metadata": {
  "kernelspec": {
   "display_name": "Python 2",
   "language": "python",
   "name": "python2"
  },
  "language_info": {
   "codemirror_mode": {
    "name": "ipython",
    "version": 2
   },
   "file_extension": ".py",
   "mimetype": "text/x-python",
   "name": "python",
   "nbconvert_exporter": "python",
   "pygments_lexer": "ipython2",
   "version": "2.7.10"
  }
 },
 "nbformat": 4,
 "nbformat_minor": 0
}
