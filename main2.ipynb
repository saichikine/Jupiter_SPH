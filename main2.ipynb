{
 "cells": [
  {
   "cell_type": "markdown",
   "metadata": {},
   "source": [
    "### Initialize libraries"
   ]
  },
  {
   "cell_type": "code",
   "execution_count": 136,
   "metadata": {
    "collapsed": true
   },
   "outputs": [],
   "source": [
    "%matplotlib inline\n",
    "\n",
    "from __future__ import division\n",
    "\n",
    "import numpy as np\n",
    "import matplotlib.pyplot as plt\n",
    "from matplotlib import animation\n",
    "from matplotlib.collections import PatchCollection\n",
    "from scipy.spatial.distance import cdist\n",
    "\n",
    "from ipywidgets import interact, HTML, FloatSlider\n",
    "from IPython.display import clear_output, display\n",
    "\n",
    "import numba as nb\n",
    "import time"
   ]
  },
  {
   "cell_type": "markdown",
   "metadata": {},
   "source": [
    "### Initialize Model Constants"
   ]
  },
  {
   "cell_type": "code",
   "execution_count": 137,
   "metadata": {
    "collapsed": true
   },
   "outputs": [],
   "source": [
    "RJupiter = 6.99e9    # cm\n",
    "\n",
    "gamma = 2\n",
    "G = 6.67e-8    # dyne*cm^2/g^2\n",
    "\n",
    "rhoC = 5    # g/cm^3, central density\n",
    "PC = 6.5e13    # dyne/cm^2\n",
    "TC = 22000    # K\n",
    "\n",
    "K = 2.6e12    # dyne*cm^4/g^2\n",
    "\n",
    "alpha = np.sqrt(K/(2*np.pi*G))\n",
    "\n",
    "h = 1e9      # h of 4e8 returns a mass on the same order of true mass of Jupiter"
   ]
  },
  {
   "cell_type": "markdown",
   "metadata": {},
   "source": [
    "### Initialize Radial Position of Planets"
   ]
  },
  {
   "cell_type": "code",
   "execution_count": 138,
   "metadata": {
    "collapsed": false
   },
   "outputs": [
    {
     "name": "stderr",
     "output_type": "stream",
     "text": [
      "c:\\users\\oromi_000\\anaconda\\lib\\site-packages\\ipykernel\\__main__.py:22: DeprecationWarning: using a non-integer number instead of an integer will result in an error in the future\n"
     ]
    }
   ],
   "source": [
    "N1 = 1000        # Particles in planet 1\n",
    "\n",
    "# Use partition to give initial radial positions of particles\n",
    "partitionNum = 5     \n",
    "rSpace = np.linspace(0, RJupiter, partitionNum)\n",
    "zetaSpace = rSpace/alpha\n",
    "\n",
    "# Establish number of particles in each region of delta(zeta)\n",
    "NDistribution = []    \n",
    "for i in range(1,len(zetaSpace)):\n",
    "    zeta2 = zetaSpace[i]\n",
    "    zeta1 = zetaSpace[i-1]\n",
    "    NDistribution.append((np.sin(zeta2) - zeta2*np.cos(zeta2) - np.sin(zeta1) + zeta1*np.cos(zeta1))\\\n",
    "                         *N1/np.pi)\n",
    "    \n",
    "NDistribution = np.array(NDistribution)\n",
    "NDistribution = np.round(NDistribution)\n",
    "\n",
    "# Create radial distribution\n",
    "radiusDistribution = []\n",
    "i = 0\n",
    "for N in NDistribution:\n",
    "    radiusDistribution.append(np.random.uniform(rSpace[i], rSpace[i+1], size=N))\n",
    "    i += 1\n",
    "    \n",
    "# Flatten radial array\n",
    "radiusDistribution = [item for sublist in radiusDistribution for item in sublist]\n",
    "radiusDistribution = np.array(radiusDistribution)\n",
    "\n",
    "# Create angle distribution\n",
    "thetaDistribution = np.random.uniform(0, 2*np.pi, size=len(radiusDistribution))"
   ]
  },
  {
   "cell_type": "markdown",
   "metadata": {},
   "source": [
    "### Initialize Cartesian Position of Planets"
   ]
  },
  {
   "cell_type": "code",
   "execution_count": 139,
   "metadata": {
    "collapsed": true
   },
   "outputs": [],
   "source": [
    "def polar2cart(r, theta):\n",
    "    return np.array([r*np.cos(theta), r*np.sin(theta)]).T\n",
    "\n",
    "xyDistribution = polar2cart(radiusDistribution, thetaDistribution)\n",
    "nParticles = len(xyDistribution)"
   ]
  },
  {
   "cell_type": "markdown",
   "metadata": {},
   "source": [
    "### Model Initial Velocity & Mass "
   ]
  },
  {
   "cell_type": "code",
   "execution_count": 140,
   "metadata": {
    "collapsed": false
   },
   "outputs": [],
   "source": [
    "velocityDistribution = np.zeros_like(xyDistribution)\n",
    "\n",
    "MJupiter = 1.89e30    # grams\n",
    "\n",
    "mDistribution = np.ones(len(xyDistribution)) * MJupiter/len(xyDistribution)"
   ]
  },
  {
   "cell_type": "markdown",
   "metadata": {},
   "source": [
    "### Smoothing function"
   ]
  },
  {
   "cell_type": "code",
   "execution_count": 141,
   "metadata": {
    "collapsed": true
   },
   "outputs": [],
   "source": [
    "def W(dist, h):\n",
    "    '''\n",
    "    Inputs:\n",
    "        dist: a scalar distance between particles i an j\n",
    "        h: smoothing length\n",
    "    '''\n",
    "    if dist < h:\n",
    "        return 10/(7*np.pi*h**2) * \\\n",
    "               (1/4*(2-dist/h)**3 - (1-dist/h)**3)\n",
    "    elif dist > 2 * h:\n",
    "        return 0\n",
    "    else:\n",
    "        return 10/(7*np.pi*h**2) * (1/4*(2-dist/h)**3)"
   ]
  },
  {
   "cell_type": "code",
   "execution_count": 122,
   "metadata": {
    "collapsed": false
   },
   "outputs": [],
   "source": [
    "def gradW(xyDist, h):\n",
    "    '''\n",
    "    Inputs:\n",
    "        xyDist: a [2,1] array containing the difference in [x,y] position\n",
    "            between two particles\n",
    "        h: smoothing length\n",
    "    Outputs:\n",
    "        a [2,1] array containing the [x,y] component of gradW\n",
    "    '''\n",
    "    \n",
    "    dist = np.sqrt(xyDist[0]**2 + xyDist[1]**2)\n",
    "    \n",
    "    if dist < h:\n",
    "        return np.array(\n",
    "              [15*xyDist[0]*(3*dist - 4*h)/(14 * np.pi * h**5),\n",
    "               15*xyDist[1]*(3*dist - 4*h)/(14 * np.pi * h**5)])\n",
    "    \n",
    "    elif dist > 2 * h:\n",
    "        return np.array([0,0])\n",
    "    \n",
    "    else:\n",
    "        return np.array(\n",
    "                [-15*xyDist[0]*(2*h - dist)**2/(14*h**5*np.pi*dist),\n",
    "                 -15*xyDist[1]*(2*h - dist)**2/(14*h**5*np.pi*dist)] )"
   ]
  },
  {
   "cell_type": "markdown",
   "metadata": {},
   "source": [
    "### Density Update Function"
   ]
  },
  {
   "cell_type": "code",
   "execution_count": 123,
   "metadata": {
    "collapsed": false
   },
   "outputs": [],
   "source": [
    "def densityUpdate():\n",
    "    \n",
    "    global xyDistribution\n",
    "    global rhoDistribution\n",
    "    global mDistribution\n",
    "\n",
    "    for i in range(0, nParticles):\n",
    "        rhoDistribution[i] = mDistribution[i]*W(0, h)\n",
    "\n",
    "        for j in range(i, nParticles):\n",
    "            if (True):\n",
    "                xdist = (xyDistribution[i,0]-xyDistribution[j,0])\n",
    "                ydist = (xyDistribution[i,1]-xyDistribution[j,1])\n",
    "            dist_ij = np.sqrt(xdist**2 + ydist**2)\n",
    "            rho_ij = mDistribution[i]*W(dist_ij, h)\n",
    "            rhoDistribution[i] += rho_ij"
   ]
  },
  {
   "cell_type": "markdown",
   "metadata": {},
   "source": [
    "### Define Pressure Gradient"
   ]
  },
  {
   "cell_type": "code",
   "execution_count": 124,
   "metadata": {
    "collapsed": true
   },
   "outputs": [],
   "source": [
    "def gradP():\n",
    "    \n",
    "    gradPArray = np.zeros_like(velocityDistribution)\n",
    "\n",
    "    for i in range(0, nParticles):\n",
    "        for j in range(i, nParticles):\n",
    "            \n",
    "            xdist = (xyDistribution[i,0]-xyDistribution[j,0])\n",
    "            ydist = (xyDistribution[i,1]-xyDistribution[j,1])\n",
    "            distArr = np.array([xdist,ydist])\n",
    "            \n",
    "            gradPX = mDistribution[i]*((pressureDistribution[i]/(rhoDistribution[i]**2))+(pressureDistribution[j]/(rhoDistribution[j]**2)))*gradW(distArr,h)[0]\n",
    "            gradPY = mDistribution[i]*((pressureDistribution[i]/(rhoDistribution[i]**2))+(pressureDistribution[j]/(rhoDistribution[j]**2)))*gradW(distArr,h)[1]\n",
    "            \n",
    "            gradPArray[i,0] += gradPX\n",
    "            gradPArray[i,1] += gradPY\n",
    "\n",
    "    return gradPArray"
   ]
  },
  {
   "cell_type": "markdown",
   "metadata": {
    "collapsed": false
   },
   "source": [
    "### Define gravity"
   ]
  },
  {
   "cell_type": "code",
   "execution_count": 125,
   "metadata": {
    "collapsed": false
   },
   "outputs": [],
   "source": [
    "def gravity():\n",
    "    \n",
    "    global velocityDistribution\n",
    "    global xyDistribution\n",
    "    \n",
    "    deltaV = np.zeros_like(xyDistribution, dtype = np.float)\n",
    "    for j in range(0, nParticles):\n",
    "        for k in range(0, nParticles):\n",
    "            if (k!=j):\n",
    "                xdist = (xyDistribution[j,0]-xyDistribution[k,0])\n",
    "                ydist = (xyDistribution[j,1]-xyDistribution[k,1])\n",
    "                #print(xdist)\n",
    "                #print(ydist)\n",
    "\n",
    "                if(xdist==0):\n",
    "                    deltaV[j,0] += 0\n",
    "                elif(xdist!=0):\n",
    "                    deltaV[j,0] += -G*mDistribution[j]*xdist/((np.sqrt(xdist**2+ydist**2))**3)\n",
    "                    #print(\"blah\", -G*mDistribution[i]/(np.sqrt(abs(position[j,0]-position[i,0]))**2))\n",
    "                    #print(\"v\", i, \"x\", velocityDistribution[i,0])\n",
    "\n",
    "                if(ydist==0):\n",
    "                    deltaV[j,1] += 0\n",
    "                elif(ydist!=0):\n",
    "                    deltaV[j,1] += -G*mDistribution[j]*ydist/((np.sqrt(xdist**2+ydist**2))**3)\n",
    "                    #print(\"v\", i, \"y\", velocityDistribution[i,1])\n",
    "    return deltaV\n",
    "\n",
    "nb_gravity = nb.autojit(gravity)"
   ]
  },
  {
   "cell_type": "markdown",
   "metadata": {},
   "source": [
    "### Run through RK1"
   ]
  },
  {
   "cell_type": "code",
   "execution_count": 126,
   "metadata": {
    "collapsed": false
   },
   "outputs": [],
   "source": [
    "\n",
    "# # RK1 Parameters\n",
    "# t0 = time.time()\n",
    "# t = 0\n",
    "# dt = 0.001\n",
    "# stepN = 10\n",
    "\n",
    "# # Particle history\n",
    "# ParticlePositionHistory = np.zeros((stepN,nParticles,2))\n",
    "# ParticleVelocityHistory = np.zeros((nParticles,2,stepN))\n",
    "# xyDistributionOld = np.copy(xyDistribution)\n",
    "# rhoOld = np.copy(rhoDistribution)\n",
    "\n",
    "# deltaVf = np.zeros_like(xyDistribution, dtype = np.float)\n",
    "\n",
    "# for i in range(stepN):\n",
    "#     t += 1\n",
    "#     ParticlePositionHistory[i,:,:] = xyDistribution\n",
    "#     deltaVf += nb_gravity()\n",
    "#     deltaVf += -gradP()/rhoDistribution[:,np.newaxis]\n",
    "# #    deltaVf -= v*velocityDistribution\n",
    "#     velocityDistribution += dt*deltaVf\n",
    "#     #deltaPos = velocityDistribution * dt\n",
    "#     xyDistribution += dt*velocityDistribution\n",
    "#     densityUpdate()\n",
    "#     pressureDistribution = K*rhoDistribution**2\n",
    "\n",
    "# print(time.time()-t0)\n",
    "# print(rhoDistribution-rhoOld)\n",
    "# #print(xyDistribution-xyDistributionOld) \n",
    "# #print(mDistribution)"
   ]
  },
  {
   "cell_type": "code",
   "execution_count": 127,
   "metadata": {
    "collapsed": false,
    "scrolled": false
   },
   "outputs": [],
   "source": [
    "# slider = FloatSlider(description='Time', min=1, max=stepN, step=1)\n",
    "\n",
    "# def update_plot():\n",
    "#     time=slider.value\n",
    "#     x = ParticlePositionHistory[time-1,:,0]\n",
    "#     y = ParticlePositionHistory[time-1,:,1]\n",
    "#     fig = plt.figure(figsize=(10,10))\n",
    "#     plt.scatter(x, y, c=rhoDistribution)\n",
    "#     plt.xlim(-2e10, 2e10)\n",
    "#     plt.ylim(-2e10, 2e10)\n",
    "#     plt.colorbar()\n",
    "\n",
    "#     clear_output(True)\n",
    "\n",
    "# slider.on_trait_change(update_plot, 'value')\n",
    "\n",
    "\n",
    "# display(slider)\n",
    "# update_plot()"
   ]
  },
  {
   "cell_type": "code",
   "execution_count": null,
   "metadata": {
    "collapsed": true
   },
   "outputs": [],
   "source": []
  }
 ],
 "metadata": {
  "kernelspec": {
   "display_name": "Python 2",
   "language": "python",
   "name": "python2"
  },
  "language_info": {
   "codemirror_mode": {
    "name": "ipython",
    "version": 2
   },
   "file_extension": ".py",
   "mimetype": "text/x-python",
   "name": "python",
   "nbconvert_exporter": "python",
   "pygments_lexer": "ipython2",
   "version": "2.7.10"
  }
 },
 "nbformat": 4,
 "nbformat_minor": 0
}
