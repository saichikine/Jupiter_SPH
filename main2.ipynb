{
 "cells": [
  {
   "cell_type": "markdown",
   "metadata": {},
   "source": [
    "### Initialize libraries"
   ]
  },
  {
   "cell_type": "code",
   "execution_count": 276,
   "metadata": {
    "collapsed": true
   },
   "outputs": [],
   "source": [
    "%matplotlib inline\n",
    "\n",
    "from __future__ import division\n",
    "\n",
    "import numpy as np\n",
    "import matplotlib.pyplot as plt\n",
    "from matplotlib import animation\n",
    "from matplotlib.collections import PatchCollection\n",
    "from scipy.spatial.distance import cdist\n",
    "\n",
    "from ipywidgets import interact, HTML, FloatSlider\n",
    "from IPython.display import clear_output, display\n",
    "\n",
    "import numba as nb\n",
    "import time"
   ]
  },
  {
   "cell_type": "markdown",
   "metadata": {},
   "source": [
    "### Initialize Model Constants"
   ]
  },
  {
   "cell_type": "code",
   "execution_count": 277,
   "metadata": {
    "collapsed": true
   },
   "outputs": [],
   "source": [
    "RJupiter = 6.99e9                 # radius of Jupiter, cm\n",
    "v = 1                          # damping coefficient\n",
    "gamma = 2                         # polytrope index\n",
    "G = 6.67e-8                       # dyne*cm^2/g^2\n",
    "rhoC = 5                          # g/cm^3, central density\n",
    "K = 2.6e12                        # dyne*cm^4/g^2\n",
    "alpha = np.sqrt(K/(2*np.pi*G))    # distribution constant\n",
    "h = 8.5e8                         # smoothing length\n",
    "\n",
    "N1 = 100                          # Particles in planet 1"
   ]
  },
  {
   "cell_type": "markdown",
   "metadata": {},
   "source": [
    "### Initialize Radial Position of Planets"
   ]
  },
  {
   "cell_type": "code",
   "execution_count": 278,
   "metadata": {
    "collapsed": false
   },
   "outputs": [
    {
     "name": "stderr",
     "output_type": "stream",
     "text": [
      "c:\\users\\oromi_000\\anaconda\\lib\\site-packages\\ipykernel\\__main__.py:20: DeprecationWarning: using a non-integer number instead of an integer will result in an error in the future\n"
     ]
    }
   ],
   "source": [
    "# Use partition to give initial radial positions of particles\n",
    "partitionNum = 5     \n",
    "rSpace = np.linspace(0, RJupiter, partitionNum)\n",
    "zetaSpace = rSpace/alpha\n",
    "\n",
    "# Establish number of particles in each region of delta(zeta)\n",
    "NDistribution = []    \n",
    "for i in range(1,len(zetaSpace)):\n",
    "    zeta2 = zetaSpace[i]\n",
    "    zeta1 = zetaSpace[i-1]\n",
    "    NDistribution.append((np.sin(zeta2) - zeta2*np.cos(zeta2) - np.sin(zeta1) + zeta1*np.cos(zeta1))\\\n",
    "                         *N1/np.pi)\n",
    "    \n",
    "NDistribution = np.array(NDistribution)\n",
    "NDistribution = np.round(NDistribution)\n",
    "\n",
    "# Create radial distribution\n",
    "radiusDistribution = []\n",
    "i = 0\n",
    "for N in NDistribution:\n",
    "    radiusDistribution.append(np.random.uniform(rSpace[i], rSpace[i+1], size=N))\n",
    "    i += 1\n",
    "    \n",
    "# Flatten radial array\n",
    "radiusDistribution = [item for sublist in radiusDistribution for item in sublist]\n",
    "radiusDistribution = np.array(radiusDistribution)\n",
    "\n",
    "# Create angle distribution\n",
    "thetaDistribution = np.random.uniform(0, 2*np.pi, size=len(radiusDistribution))"
   ]
  },
  {
   "cell_type": "markdown",
   "metadata": {},
   "source": [
    "### Initialize Cartesian Position of Planets"
   ]
  },
  {
   "cell_type": "code",
   "execution_count": 279,
   "metadata": {
    "collapsed": true
   },
   "outputs": [],
   "source": [
    "def polar2cart(r, theta):\n",
    "    return np.array([r*np.cos(theta), r*np.sin(theta)]).T\n",
    "\n",
    "xyDistribution = polar2cart(radiusDistribution, thetaDistribution)\n",
    "nParticles = len(xyDistribution)"
   ]
  },
  {
   "cell_type": "markdown",
   "metadata": {},
   "source": [
    "### Model Initial Velocity & Density & Pressure Distribution"
   ]
  },
  {
   "cell_type": "code",
   "execution_count": 280,
   "metadata": {
    "collapsed": false
   },
   "outputs": [],
   "source": [
    "velocityDistribution = np.zeros_like(xyDistribution)\n",
    "rhoDistribution = rhoC * np.sin(radiusDistribution/alpha) / (radiusDistribution/alpha)\n",
    "pressureDistribution = K * rhoDistribution ** gamma"
   ]
  },
  {
   "cell_type": "markdown",
   "metadata": {},
   "source": [
    "### Define Gradient for special case of mass initialization"
   ]
  },
  {
   "cell_type": "code",
   "execution_count": 281,
   "metadata": {
    "collapsed": true
   },
   "outputs": [],
   "source": [
    "def mW(xyDistribution, h= 7e9, verbose=False):\n",
    "    '''\n",
    "    h = ~3e9 looks like a good range\n",
    "    Finding W for all pairs (i,j), instead of just j. \n",
    "    I'm flattening W at the end of the function. I might be meant to flatten W\n",
    "        by flattening the |r-rj| by taking their sum\n",
    "    '''\n",
    "        \n",
    "    distVect = np.zeros((len(xyDistribution), len(xyDistribution)))\n",
    "                  \n",
    "    # Find distance between each j and the other points\n",
    "    for i in range(len(xyDistribution)):\n",
    "        particle_i = xyDistribution[i]\n",
    "        dist = np.sqrt((particle_i[0] - xyDistribution[:,0])**2 + (particle_i[1] - xyDistribution[:,1])**2)\n",
    "        # Store distances in a matrix\n",
    "        distVect[:,i] = dist\n",
    "    \n",
    "    # r < 1\n",
    "    distVect1 = distVect < h\n",
    "    distVect1 = distVect1.astype(int)\n",
    "    if verbose:\n",
    "        print \"Percent of molecules within 1 smoothing length:\", \\\n",
    "            np.count_nonzero(distVect1) / (len(xyDistribution)**2)\n",
    "            \n",
    "    # Matrix containing radii (where only nonzero values are radii < h)\n",
    "    R1 = distVect1 * distVect   \n",
    "    W1 = distVect1 / (np.pi * h**3) * (1 - 3/2*(R1/h)**2 + 3/4*(R1/h)**3)\n",
    "    \n",
    "    if np.min(W1) < 0:\n",
    "        print \"Warning! Negative smoothing kernel detected!\"\n",
    "\n",
    "    # r > 2h\n",
    "    distVect2 = distVect > 2 * h\n",
    "    distVect2 = distVect2.astype(int)\n",
    "    if verbose:\n",
    "        print \"Percent of molecules which do not affect the particle:\", \\\n",
    "            np.count_nonzero(distVect2) / (len(xyDistribution)**2)\n",
    "    \n",
    "    # h < r < 2h\n",
    "    distVect12 = np.logical_not(np.logical_or(distVect1, distVect2))\n",
    "    if verbose:\n",
    "        print \"Percent of molecules within 2 smoothing lengths:\", \\\n",
    "                np.count_nonzero(distVect12) / (len(xyDistribution)**2)\n",
    "            \n",
    "    R12 = distVect12 * distVect \n",
    "    W12 = distVect12 / (4 * np.pi * h**3) * (2 - (R12/h))**3\n",
    "    \n",
    "    if np.min(W12) < 0:\n",
    "        print \"Warning! Negative smoothing kernel detected!\"\n",
    "\n",
    "    W = W1 + W12\n",
    "    W = np.sum(W, axis=1)\n",
    "    \n",
    "    print np.count_nonzero(W)#, np.count_nonzero(distVect)\n",
    "    return W"
   ]
  },
  {
   "cell_type": "markdown",
   "metadata": {},
   "source": [
    "### Initialize Mass of Each Particle"
   ]
  },
  {
   "cell_type": "code",
   "execution_count": 282,
   "metadata": {
    "collapsed": false
   },
   "outputs": [
    {
     "name": "stdout",
     "output_type": "stream",
     "text": [
      "94\n"
     ]
    }
   ],
   "source": [
    "t0 = time.time()\n",
    "mDistribution = rhoDistribution/mW(xyDistribution)"
   ]
  },
  {
   "cell_type": "code",
   "execution_count": 283,
   "metadata": {
    "collapsed": false,
    "scrolled": false
   },
   "outputs": [
    {
     "data": {
      "image/png": "[encoded data removed]",
      "text/plain": [
       "<matplotlib.figure.Figure at 0x15428400>"
      ]
     },
     "metadata": {},
     "output_type": "display_data"
    },
    {
     "data": {
      "image/png": "[encoded data removed]",
      "text/plain": [
       "<matplotlib.figure.Figure at 0x15199f98>"
      ]
     },
     "metadata": {},
     "output_type": "display_data"
    }
   ],
   "source": [
    "plt.figure(figsize=(10,8))\n",
    "plt.scatter(radiusDistribution*np.cos(thetaDistribution), \\\n",
    "            radiusDistribution*np.sin(thetaDistribution), c=mDistribution)\n",
    "plt.title(\"Initial Mass Distribution of Particles\")\n",
    "plt.colorbar()\n",
    "plt.show()\n",
    "\n",
    "plt.figure()\n",
    "plt.hist(mDistribution)\n",
    "plt.title(\"Mass Distribution\")\n",
    "plt.show()"
   ]
  },
  {
   "cell_type": "markdown",
   "metadata": {},
   "source": [
    "### Smoothing function"
   ]
  },
  {
   "cell_type": "code",
   "execution_count": 298,
   "metadata": {
    "collapsed": false
   },
   "outputs": [
    {
     "name": "stdout",
     "output_type": "stream",
     "text": [
      "6.29381880739e-19\n",
      "1.6283329941e-27\n"
     ]
    }
   ],
   "source": [
    "def W(dist, h):\n",
    "    '''\n",
    "    Inputs:\n",
    "        dist: a scalar distance between particles i an j\n",
    "        h: smoothing length\n",
    "    '''\n",
    "    if dist < h:\n",
    "        return 10/(7*np.pi*h**2) * \\\n",
    "               (1/4*(2-dist/h)**3 - (1-dist/h)**3)\n",
    "    elif dist > 2 * h:\n",
    "        return 0\n",
    "    else:\n",
    "        return 10/(7*np.pi*h**2) * (1/4*(2-dist/h)**3)\n",
    "    \n",
    "print W(0, h)\n",
    "print 1/h**3"
   ]
  },
  {
   "cell_type": "code",
   "execution_count": 285,
   "metadata": {
    "collapsed": false
   },
   "outputs": [],
   "source": [
    "def gradW(xyDist, h):\n",
    "    '''\n",
    "    Inputs:\n",
    "        xyDist: a [2,1] array containing the difference in [x,y] position\n",
    "            between two particles\n",
    "        h: smoothing length\n",
    "    Outputs:\n",
    "        a [2,1] array containing the [x,y] component of gradW\n",
    "    '''\n",
    "    \n",
    "    dist = np.sqrt(xyDist[0]**2 + xyDist[1]**2)\n",
    "    \n",
    "    if dist < h:\n",
    "        return np.array(\n",
    "              [15*xyDist[0]*(3*dist - 4*h)/(14 * np.pi * h**5),\n",
    "               15*xyDist[1]*(3*dist - 4*h)/(14 * np.pi * h**5)])\n",
    "    \n",
    "    elif dist > 2 * h:\n",
    "        return np.array([0,0])\n",
    "    \n",
    "    else:\n",
    "        return np.array(\n",
    "                [-15*xyDist[0]*(2*h - dist)**2/(14*h**5*np.pi*dist),\n",
    "                 -15*xyDist[1]*(2*h - dist)**2/(14*h**5*np.pi*dist)] )"
   ]
  },
  {
   "cell_type": "markdown",
   "metadata": {},
   "source": [
    "### Density Update Function"
   ]
  },
  {
   "cell_type": "code",
   "execution_count": 286,
   "metadata": {
    "collapsed": false
   },
   "outputs": [],
   "source": [
    "def densityUpdate():\n",
    "    \n",
    "    global xyDistribution\n",
    "    global rhoDistribution\n",
    "    global mDistribution\n",
    "\n",
    "    for i in range(0, nParticles):\n",
    "        rhoDistribution[i] = mDistribution[i]*W(0, h)\n",
    "\n",
    "        for j in range(i, nParticles):\n",
    "            if (True):\n",
    "                xdist = (xyDistribution[i,0]-xyDistribution[j,0])\n",
    "                ydist = (xyDistribution[i,1]-xyDistribution[j,1])\n",
    "            dist_ij = np.sqrt(xdist**2 + ydist**2)\n",
    "            rho_ij = mDistribution[i]*W(dist_ij, h)\n",
    "            rhoDistribution[i] += rho_ij\n",
    "            rhoDistribution[j] += rho_ij"
   ]
  },
  {
   "cell_type": "markdown",
   "metadata": {},
   "source": [
    "### Define Pressure Gradient"
   ]
  },
  {
   "cell_type": "code",
   "execution_count": 287,
   "metadata": {
    "collapsed": true
   },
   "outputs": [],
   "source": [
    "def gradP():\n",
    "    \n",
    "    gradPArray = np.zeros_like(velocityDistribution)\n",
    "\n",
    "    for i in range(0, nParticles):\n",
    "        for j in range(i, nParticles):\n",
    "            \n",
    "            xdist = (xyDistribution[i,0]-xyDistribution[j,0])\n",
    "            ydist = (xyDistribution[i,1]-xyDistribution[j,1])\n",
    "            distArr = np.array([xdist,ydist])\n",
    "            \n",
    "            #gradPX = mDistribution[j]/2*((pressureDistribution[i]/(rhoDistribution[i]**2))+(pressureDistribution[j]/(rhoDistribution[j]**2)))*gradW(distArr,h)[0]\n",
    "            #gradPY = mDistribution[j]/2*((pressureDistribution[i]/(rhoDistribution[i]**2))+(pressureDistribution[j]/(rhoDistribution[j]**2)))*gradW(distArr,h)[1]\n",
    "            gradPX = mDistribution[j]*pressureDistribution[j]/rhoDistribution[j]*gradW(distArr,h)[0]\n",
    "            gradPY = mDistribution[j]*pressureDistribution[j]/rhoDistribution[j]*gradW(distArr,h)[1]\n",
    "            \n",
    "            gradPArray[i,0] += gradPX\n",
    "            gradPArray[i,1] += gradPY\n",
    "\n",
    "    return gradPArray"
   ]
  },
  {
   "cell_type": "markdown",
   "metadata": {
    "collapsed": false
   },
   "source": [
    "### Define gravity"
   ]
  },
  {
   "cell_type": "code",
   "execution_count": 288,
   "metadata": {
    "collapsed": false
   },
   "outputs": [],
   "source": [
    "def gravity():\n",
    "    \n",
    "    global velocityDistribution\n",
    "    global xyDistribution\n",
    "    \n",
    "    deltaV = np.zeros_like(xyDistribution, dtype = np.float)\n",
    "    for j in range(0, nParticles):\n",
    "        for k in range(0, nParticles):\n",
    "            if (k!=j):\n",
    "                xdist = (xyDistribution[j,0]-xyDistribution[k,0])\n",
    "                ydist = (xyDistribution[j,1]-xyDistribution[k,1])\n",
    "                #print(xdist)\n",
    "                #print(ydist)\n",
    "\n",
    "                if(xdist<np.finfo(float).eps):\n",
    "                    deltaV[j,0] += G*mDistribution[j]*xdist/((np.sqrt(xdist**2+ydist**2))**3)\n",
    "                else:\n",
    "                    deltaV[j,0] += -G*mDistribution[j]*xdist/((np.sqrt(xdist**2+ydist**2))**3)\n",
    "                    #print(\"blah\", -G*mDistribution[i]/(np.sqrt(abs(position[j,0]-position[i,0]))**2))\n",
    "                    #print(\"v\", i, \"x\", velocityDistribution[i,0])\n",
    "\n",
    "                if(ydist<np.finfo(float).eps):\n",
    "                    deltaV[j,1] += G*mDistribution[j]*ydist/((np.sqrt(xdist**2+ydist**2))**3)\n",
    "                else:\n",
    "                    deltaV[j,1] += -G*mDistribution[j]*ydist/((np.sqrt(xdist**2+ydist**2))**3)\n",
    "                    #print(\"v\", i, \"y\", velocityDistribution[i,1])\n",
    "    return deltaV\n",
    "\n",
    "nb_gravity = nb.autojit(gravity)"
   ]
  },
  {
   "cell_type": "markdown",
   "metadata": {},
   "source": [
    "### Run through RK1"
   ]
  },
  {
   "cell_type": "code",
   "execution_count": 289,
   "metadata": {
    "collapsed": false
   },
   "outputs": [
    {
     "name": "stdout",
     "output_type": "stream",
     "text": [
      "\n",
      "Avg gravity -40409.6787008\n",
      "Avg gravity + pressure 1.11975168823e+12\n",
      "Avg damping: 0.0\n",
      "\n",
      "Avg gravity -75349.0141591\n",
      "Avg gravity + pressure 1.80955045407e+12\n",
      "Avg damping: 1119751688.23\n",
      "\n",
      "Avg gravity -275057.476272\n",
      "Avg gravity + pressure -318806747855.0\n",
      "Avg damping: 2928182390.61\n",
      "\n",
      "Avg gravity -188853.858288\n",
      "Avg gravity + pressure -1.14371156638e+12\n",
      "Avg damping: 2606447460.37\n",
      "\n",
      "Avg gravity -92616.0585092\n",
      "Avg gravity + pressure 1.79567379137e+13\n",
      "Avg damping: 1460129446.53\n",
      "\n",
      "Avg gravity -1628525.54763\n",
      "Avg gravity + pressure 1.5323521013e+13\n",
      "Avg damping: 19415407230.7\n",
      "\n",
      "Avg gravity -104378.192607\n",
      "Avg gravity + pressure 5.30253355719e+12\n",
      "Avg damping: 34719512836.6\n",
      "\n",
      "Avg gravity -84209.1654363\n",
      "Avg gravity + pressure 9.26564255132e+12\n",
      "Avg damping: 39987326880.9\n",
      "\n",
      "Avg gravity -930380.462015\n",
      "Avg gravity + pressure 7.3741592037e+12\n",
      "Avg damping: 49212982105.3\n",
      "\n",
      "Avg gravity -97619.2476063\n",
      "Avg gravity + pressure -1.91970005293e+12\n",
      "Avg damping: 56537928326.9\n",
      "2.21899986267\n"
     ]
    }
   ],
   "source": [
    "# RK1 Parameters\n",
    "t0 = time.time()\n",
    "t = 0\n",
    "dt = 0.001\n",
    "stepN = 10\n",
    "\n",
    "# Particle history\n",
    "ParticlePositionHistory = np.zeros((stepN,nParticles,2))\n",
    "ParticleVelocityHistory = np.zeros((nParticles,2,stepN))\n",
    "xyDistributionOld = np.copy(xyDistribution)\n",
    "\n",
    "# Force history\n",
    "forceHistory = np.zeros((stepN, 3))\n",
    "for i in range(stepN):\n",
    "    if i == 2:\n",
    "        rhoOld = np.copy(rhoDistribution)\n",
    "    deltaVf = np.zeros_like(xyDistribution, dtype = np.float)\n",
    "    \n",
    "    t += 1\n",
    "    ParticlePositionHistory[i,:,:] = xyDistribution\n",
    "    \n",
    "    deltaVf += nb_gravity() \n",
    "    print \"\\nAvg gravity\", np.mean(deltaVf)\n",
    "    forceHistory[i,0] = np.mean(deltaVf)\n",
    "    \n",
    "    deltaVf -= -gradP()/rhoDistribution[:,np.newaxis]\n",
    "    print \"Avg gravity + pressure\", np.mean(deltaVf)\n",
    "    forceHistory[i,1] = np.mean(deltaVf)\n",
    "\n",
    "    deltaVf +=  -v*velocityDistribution**1\n",
    "    print \"Avg damping:\", np.mean(velocityDistribution)    \n",
    "    forceHistory[i,2] = np.mean(deltaVf)\n",
    "\n",
    "    \n",
    "    velocityDistribution += dt*deltaVf    \n",
    "    xyDistribution += dt*velocityDistribution\n",
    "    \n",
    "    densityUpdate()\n",
    "    pressureDistribution = K*rhoDistribution**2\n",
    "\n",
    "print(time.time()-t0)\n",
    "#print(rhoDistribution-rhoOld)\n",
    "#print(xyDistribution-xyDistributionOld) \n",
    "#print(mDistribution)"
   ]
  },
  {
   "cell_type": "code",
   "execution_count": 290,
   "metadata": {
    "collapsed": false,
    "scrolled": false
   },
   "outputs": [
    {
     "data": {
      "image/png": "[encoded data removed]",
      "text/plain": [
       "<matplotlib.figure.Figure at 0xe730588>"
      ]
     },
     "metadata": {},
     "output_type": "display_data"
    }
   ],
   "source": [
    "slider = FloatSlider(description='Time', min=1, max=stepN, step=1)\n",
    "\n",
    "def update_plot():\n",
    "    time=slider.value\n",
    "    x = ParticlePositionHistory[time-1,:,0]\n",
    "    y = ParticlePositionHistory[time-1,:,1]\n",
    "    fig = plt.figure(figsize=(10,10))\n",
    "    plt.scatter(x, y, c=mDistribution)\n",
    "    plt.xlim(-2e10, 2e10)\n",
    "    plt.ylim(-2e10, 2e10)\n",
    "    #plt.colorbar()\n",
    "\n",
    "    clear_output(True)\n",
    "\n",
    "slider.on_trait_change(update_plot, 'value')\n",
    "\n",
    "\n",
    "display(slider)\n",
    "update_plot()"
   ]
  },
  {
   "cell_type": "code",
   "execution_count": 293,
   "metadata": {
    "collapsed": false
   },
   "outputs": [
    {
     "data": {
      "text/plain": [
       "[<matplotlib.lines.Line2D at 0x15b01a58>]"
      ]
     },
     "execution_count": 293,
     "metadata": {},
     "output_type": "execute_result"
    },
    {
     "data": {
      "image/png": "[encoded data removed]",
      "text/plain": [
       "<matplotlib.figure.Figure at 0x1294f8d0>"
      ]
     },
     "metadata": {},
     "output_type": "display_data"
    }
   ],
   "source": [
    "plt.plot(range(stepN), forceHistory[:,0])\n",
    "plt.plot(range(stepN), forceHistory[:,1])\n",
    "plt.plot(range(stepN), forceHistory[:,2])"
   ]
  },
  {
   "cell_type": "code",
   "execution_count": null,
   "metadata": {
    "collapsed": false
   },
   "outputs": [],
   "source": []
  }
 ],
 "metadata": {
  "kernelspec": {
   "display_name": "Python 2",
   "language": "python",
   "name": "python2"
  },
  "language_info": {
   "codemirror_mode": {
    "name": "ipython",
    "version": 2
   },
   "file_extension": ".py",
   "mimetype": "text/x-python",
   "name": "python",
   "nbconvert_exporter": "python",
   "pygments_lexer": "ipython2",
   "version": "2.7.10"
  }
 },
 "nbformat": 4,
 "nbformat_minor": 0
}
