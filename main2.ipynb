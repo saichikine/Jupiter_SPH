{
 "cells": [
  {
   "cell_type": "markdown",
   "metadata": {},
   "source": [
    "### Initialize libraries"
   ]
  },
  {
   "cell_type": "code",
   "execution_count": 66,
   "metadata": {
    "collapsed": true
   },
   "outputs": [],
   "source": [
    "%matplotlib inline\n",
    "\n",
    "from __future__ import division\n",
    "\n",
    "import numpy as np\n",
    "import matplotlib.pyplot as plt\n",
    "from matplotlib import animation\n",
    "from matplotlib.collections import PatchCollection\n",
    "from scipy.spatial.distance import cdist\n",
    "\n",
    "from ipywidgets import interact, HTML, FloatSlider\n",
    "from IPython.display import clear_output, display\n",
    "\n",
    "import numba as nb\n",
    "import time"
   ]
  },
  {
   "cell_type": "markdown",
   "metadata": {},
   "source": [
    "### Initialize Model Constants"
   ]
  },
  {
   "cell_type": "code",
   "execution_count": 67,
   "metadata": {
    "collapsed": true
   },
   "outputs": [],
   "source": [
    "RJupiter = 6.99e9    # cm\n",
    "\n",
    "gamma = 2\n",
    "G = 6.67e-8    # dyne*cm^2/g^2\n",
    "\n",
    "rhoC = 5    # g/cm^3, central density\n",
    "PC = 6.5e13    # dyne/cm^2\n",
    "TC = 22000    # K\n",
    "\n",
    "K = 2.6e12    # dyne*cm^4/g^2\n",
    "\n",
    "alpha = np.sqrt(K/(2*np.pi*G))\n",
    "\n",
    "h = 1e9      # h of 4e8 returns a mass on the same order of true mass of Jupiter"
   ]
  },
  {
   "cell_type": "markdown",
   "metadata": {},
   "source": [
    "### Initialize Radial Position of Planets"
   ]
  },
  {
   "cell_type": "code",
   "execution_count": 68,
   "metadata": {
    "collapsed": false
   },
   "outputs": [
    {
     "name": "stderr",
     "output_type": "stream",
     "text": [
      "c:\\users\\oromi_000\\anaconda\\lib\\site-packages\\ipykernel\\__main__.py:22: DeprecationWarning: using a non-integer number instead of an integer will result in an error in the future\n"
     ]
    }
   ],
   "source": [
    "N1 = 100        # Particles in planet 1\n",
    "\n",
    "# Use partition to give initial radial positions of particles\n",
    "partitionNum = 5     \n",
    "rSpace = np.linspace(0, RJupiter, partitionNum)\n",
    "zetaSpace = rSpace/alpha\n",
    "\n",
    "# Establish number of particles in each region of delta(zeta)\n",
    "NDistribution = []    \n",
    "for i in range(1,len(zetaSpace)):\n",
    "    zeta2 = zetaSpace[i]\n",
    "    zeta1 = zetaSpace[i-1]\n",
    "    NDistribution.append((np.sin(zeta2) - zeta2*np.cos(zeta2) - np.sin(zeta1) + zeta1*np.cos(zeta1))\\\n",
    "                         *N1/np.pi)\n",
    "    \n",
    "NDistribution = np.array(NDistribution)\n",
    "NDistribution = np.round(NDistribution)\n",
    "\n",
    "# Create radial distribution\n",
    "radiusDistribution = []\n",
    "i = 0\n",
    "for N in NDistribution:\n",
    "    radiusDistribution.append(np.random.uniform(rSpace[i], rSpace[i+1], size=N))\n",
    "    i += 1\n",
    "    \n",
    "# Flatten radial array\n",
    "radiusDistribution = [item for sublist in radiusDistribution for item in sublist]\n",
    "radiusDistribution = np.array(radiusDistribution)\n",
    "\n",
    "# Create angle distribution\n",
    "thetaDistribution = np.random.uniform(0, 2*np.pi, size=len(radiusDistribution))"
   ]
  },
  {
   "cell_type": "markdown",
   "metadata": {},
   "source": [
    "### Initialize Cartesian Position of Planets"
   ]
  },
  {
   "cell_type": "code",
   "execution_count": 69,
   "metadata": {
    "collapsed": true
   },
   "outputs": [],
   "source": [
    "def polar2cart(r, theta):\n",
    "    return np.array([r*np.cos(theta), r*np.sin(theta)]).T\n",
    "\n",
    "xyDistribution = polar2cart(radiusDistribution, thetaDistribution)\n",
    "nParticles = len(xyDistribution)"
   ]
  },
  {
   "cell_type": "markdown",
   "metadata": {},
   "source": [
    "### Model Initial Velocity & Density & Pressure Distribution"
   ]
  },
  {
   "cell_type": "code",
   "execution_count": 70,
   "metadata": {
    "collapsed": false
   },
   "outputs": [],
   "source": [
    "velocityDistribution = np.zeros_like(xyDistribution)\n",
    "\n",
    "rhoDistribution = rhoC * np.sin(radiusDistribution/alpha) / (radiusDistribution/alpha)\n",
    "\n",
    "pressureDistribution = K * rhoDistribution ** gamma"
   ]
  },
  {
   "cell_type": "markdown",
   "metadata": {},
   "source": [
    "### Define Gradient for special case of mass initialization"
   ]
  },
  {
   "cell_type": "code",
   "execution_count": 71,
   "metadata": {
    "collapsed": true
   },
   "outputs": [],
   "source": [
    "# MJupiter = 1.89e30    # grams\n",
    "\n",
    "def mW(xyDistribution, h= 7e9, verbose=False):\n",
    "    '''\n",
    "    h = ~3e9 looks like a good range\n",
    "    Finding W for all pairs (i,j), instead of just j. \n",
    "    I'm flattening W at the end of the function. I might be meant to flatten W\n",
    "        by flattening the |r-rj| by taking their sum\n",
    "    '''\n",
    "        \n",
    "    distVect = np.zeros((len(xyDistribution), len(xyDistribution)))\n",
    "                  \n",
    "    # Find distance between each j and the other points\n",
    "    for i in range(len(xyDistribution)):\n",
    "        particle_i = xyDistribution[i]\n",
    "        dist = np.sqrt((particle_i[0] - xyDistribution[:,0])**2 + (particle_i[1] - xyDistribution[:,1])**2)\n",
    "        # Store distances in a matrix\n",
    "        distVect[:,i] = dist\n",
    "    \n",
    "    # r < 1\n",
    "    distVect1 = distVect < h\n",
    "    distVect1 = distVect1.astype(int)\n",
    "    if verbose:\n",
    "        print \"Percent of molecules within 1 smoothing length:\", \\\n",
    "            np.count_nonzero(distVect1) / (len(xyDistribution)**2)\n",
    "            \n",
    "    # Matrix containing radii (where only nonzero values are radii < h)\n",
    "    R1 = distVect1 * distVect   \n",
    "    W1 = distVect1 / (np.pi * h**3) * (1 - 3/2*(R1/h)**2 + 3/4*(R1/h)**3)\n",
    "    \n",
    "    if np.min(W1) < 0:\n",
    "        print \"Warning! Negative smoothing kernel detected!\"\n",
    "\n",
    "    # r > 2h\n",
    "    distVect2 = distVect > 2 * h\n",
    "    distVect2 = distVect2.astype(int)\n",
    "    if verbose:\n",
    "        print \"Percent of molecules which do not affect the particle:\", \\\n",
    "            np.count_nonzero(distVect2) / (len(xyDistribution)**2)\n",
    "    \n",
    "    # h < r < 2h\n",
    "    distVect12 = np.logical_not(np.logical_or(distVect1, distVect2))\n",
    "    if verbose:\n",
    "        print \"Percent of molecules within 2 smoothing lengths:\", \\\n",
    "                np.count_nonzero(distVect12) / (len(xyDistribution)**2)\n",
    "            \n",
    "    R12 = distVect12 * distVect \n",
    "    W12 = distVect12 / (4 * np.pi * h**3) * (2 - (R12/h))**3\n",
    "    \n",
    "    if np.min(W12) < 0:\n",
    "        print \"Warning! Negative smoothing kernel detected!\"\n",
    "\n",
    "    W = W1 + W12\n",
    "    W = np.sum(W, axis=1)\n",
    "    \n",
    "    print np.count_nonzero(W)#, np.count_nonzero(distVect)\n",
    "    return W"
   ]
  },
  {
   "cell_type": "markdown",
   "metadata": {},
   "source": [
    "### Initialize Mass of Each Particle"
   ]
  },
  {
   "cell_type": "code",
   "execution_count": 72,
   "metadata": {
    "collapsed": false
   },
   "outputs": [
    {
     "name": "stdout",
     "output_type": "stream",
     "text": [
      "94\n"
     ]
    }
   ],
   "source": [
    "t0 = time.time()\n",
    "mDistribution = rhoDistribution/mW(xyDistribution)\n",
    "\n",
    "## --- Old code: Made 1 particle super massive --- ###\n",
    "# mDistribution = np.empty_like(rhoDistribution)\n",
    "# for i in range(len(mDistribution)):\n",
    "#     mDistribution[i] = rhoDistribution[i]/W(0, h)\n",
    "#     for j in range(len(mDistribution)):\n",
    "#         dist = np.sqrt((xyDistribution[i,0] - xyDistribution[j,0])**2 + \\\n",
    "#                        (xyDistribution[i,1] - xyDistribution[j,1])**2 )\n",
    "#         if W(dist,h) != 0:\n",
    "#             mDistribution[i] += rhoDistribution[j]/W(dist,h)\n",
    "#         if i == 1:\n",
    "#             if j%50 ==0:\n",
    "#                 print mDistribution[i]\n",
    "#     print mDistribution[i]"
   ]
  },
  {
   "cell_type": "code",
   "execution_count": 73,
   "metadata": {
    "collapsed": false,
    "scrolled": false
   },
   "outputs": [
    {
     "data": {
      "image/png": "[encoded data removed]",
      "text/plain": [
       "<matplotlib.figure.Figure at 0xe9300b8>"
      ]
     },
     "metadata": {},
     "output_type": "display_data"
    },
    {
     "data": {
      "image/png": "[encoded data removed]",
      "text/plain": [
       "<matplotlib.figure.Figure at 0x134358d0>"
      ]
     },
     "metadata": {},
     "output_type": "display_data"
    }
   ],
   "source": [
    "plt.figure(figsize=(10,8))\n",
    "plt.scatter(radiusDistribution*np.cos(thetaDistribution), \\\n",
    "            radiusDistribution*np.sin(thetaDistribution), c=mDistribution)\n",
    "plt.title(\"Initial Mass Distribution of Particles\")\n",
    "plt.colorbar()\n",
    "plt.show()\n",
    "\n",
    "plt.figure()\n",
    "plt.hist(mDistribution)\n",
    "plt.title(\"Mass Distribution\")\n",
    "plt.show()"
   ]
  },
  {
   "cell_type": "markdown",
   "metadata": {},
   "source": [
    "### Smoothing function"
   ]
  },
  {
   "cell_type": "code",
   "execution_count": 74,
   "metadata": {
    "collapsed": true
   },
   "outputs": [],
   "source": [
    "def W(dist, h):\n",
    "    '''\n",
    "    Inputs:\n",
    "        dist: a scalar distance between particles i an j\n",
    "        h: smoothing length\n",
    "    '''\n",
    "    if dist < h:\n",
    "        return 10/(7*np.pi*h**2) * \\\n",
    "               (1/4*(2-dist/h)**3 - (1-dist/h)**3)\n",
    "    elif dist > 2 * h:\n",
    "        return 0\n",
    "    else:\n",
    "        return 10/(7*np.pi*h**2) * (1/4*(2-dist/h)**3)"
   ]
  },
  {
   "cell_type": "code",
   "execution_count": 75,
   "metadata": {
    "collapsed": false
   },
   "outputs": [],
   "source": [
    "def gradW(xyDist, h):\n",
    "    '''\n",
    "    Inputs:\n",
    "        xyDist: a [2,1] array containing the difference in [x,y] position\n",
    "            between two particles\n",
    "        h: smoothing length\n",
    "    Outputs:\n",
    "        a [2,1] array containing the [x,y] component of gradW\n",
    "    '''\n",
    "    \n",
    "    dist = np.sqrt(xyDist[0]**2 + xyDist[1]**2)\n",
    "    \n",
    "    if dist < h:\n",
    "        return np.array(\n",
    "              [15*xyDist[0]*(3*dist - 4*h)/(14 * np.pi * h**5),\n",
    "               15*xyDist[1]*(3*dist - 4*h)/(14 * np.pi * h**5)])\n",
    "    \n",
    "    elif dist > 2 * h:\n",
    "        return np.array([0,0])\n",
    "    \n",
    "    else:\n",
    "        return np.array(\n",
    "                [-15*xyDist[0]*(2*h - dist)**2/(14*h**5*np.pi*dist),\n",
    "                 -15*xyDist[1]*(2*h - dist)**2/(14*h**5*np.pi*dist)] )"
   ]
  },
  {
   "cell_type": "code",
   "execution_count": 76,
   "metadata": {
    "collapsed": false
   },
   "outputs": [],
   "source": [
    "def densityUpdate():\n",
    "    \n",
    "    global xyDistribution\n",
    "    global rhoDistribution\n",
    "    global massDistribution\n",
    "\n",
    "    for i in range(0, nParticles):\n",
    "        rhodistribution[i] = massDistribution[i]*W(0, h)\n",
    "\n",
    "        for j in range(i, nParticles):\n",
    "            if (j!=i):\n",
    "                xdist = (xyDistribution[j,0]-xyDistribution[k,0])\n",
    "                ydist = (xyDistribution[j,1]-xyDistribution[k,1])\n",
    "            dist_ij = sqrt(xdist**2 + ydist**2)\n",
    "            rho_ij = m*W(dist_ij, h)\n",
    "            rhoDistribution[i] += rho_ij"
   ]
  },
  {
   "cell_type": "markdown",
   "metadata": {},
   "source": [
    "### Define Pressure Gradient"
   ]
  },
  {
   "cell_type": "code",
   "execution_count": 77,
   "metadata": {
    "collapsed": true
   },
   "outputs": [],
   "source": [
    "def gradP():\n",
    "    \n",
    "    gradPArray = np.zeros_like(velocityDistribution)\n",
    "\n",
    "    for i in range(0, nParticles):\n",
    "        for j in range(i, nParticles):\n",
    "            \n",
    "            xdist = (xyDistribution[i,0]-xyDistribution[j,0])\n",
    "            ydist = (xyDistribution[i,1]-xyDistribution[j,1])\n",
    "            distArr = np.array([xdist,ydist])\n",
    "            \n",
    "            gradPX = mDistribution[i]*((pressureDistribution[i]/(rhoDistribution[i]**2))+(pressureDistribution[j]/(rhoDistribution[j]**2)))*gradW(distArr,h)[0]\n",
    "            gradPY = mDistribution[i]*((pressureDistribution[i]/(rhoDistribution[i]**2))+(pressureDistribution[j]/(rhoDistribution[j]**2)))*gradW(distArr,h)[1]\n",
    "            \n",
    "            gradPArray[i,0] += gradPX\n",
    "            gradPArray[i,1] += gradPY\n",
    "\n",
    "    return gradPArray"
   ]
  },
  {
   "cell_type": "markdown",
   "metadata": {
    "collapsed": false
   },
   "source": [
    "### Define gravity"
   ]
  },
  {
   "cell_type": "code",
   "execution_count": 78,
   "metadata": {
    "collapsed": false
   },
   "outputs": [],
   "source": [
    "def gravity():\n",
    "    \n",
    "    global velocityDistribution\n",
    "    global xyDistribution\n",
    "    \n",
    "    deltaV = np.zeros_like(xyDistribution, dtype = np.float)\n",
    "    for j in range(0, nParticles):\n",
    "        for k in range(0, nParticles):\n",
    "            if (k!=j):\n",
    "                xdist = (xyDistribution[j,0]-xyDistribution[k,0])\n",
    "                ydist = (xyDistribution[j,1]-xyDistribution[k,1])\n",
    "                #print(xdist)\n",
    "                #print(ydist)\n",
    "\n",
    "                if(xdist==0):\n",
    "                    deltaV[j,0] += 0\n",
    "                elif(xdist!=0):\n",
    "                    deltaV[j,0] += -G*mDistribution[j]*xdist/((np.sqrt(xdist**2+ydist**2))**3)\n",
    "                    #print(\"blah\", -G*mDistribution[i]/(np.sqrt(abs(position[j,0]-position[i,0]))**2))\n",
    "                    #print(\"v\", i, \"x\", velocityDistribution[i,0])\n",
    "\n",
    "                if(ydist==0):\n",
    "                    deltaV[j,1] += 0\n",
    "                elif(ydist!=0):\n",
    "                    deltaV[j,1] += -G*mDistribution[j]*ydist/((np.sqrt(xdist**2+ydist**2))**3)\n",
    "                    #print(\"v\", i, \"y\", velocityDistribution[i,1])\n",
    "    return deltaV\n",
    "\n",
    "nb_gravity = nb.autojit(gravity)"
   ]
  },
  {
   "cell_type": "markdown",
   "metadata": {},
   "source": [
    "### Run through RK1"
   ]
  },
  {
   "cell_type": "code",
   "execution_count": 79,
   "metadata": {
    "collapsed": false
   },
   "outputs": [
    {
     "name": "stdout",
     "output_type": "stream",
     "text": [
      "5.13499999046\n",
      "[[  1.41649024e+12   1.47363310e+12]\n",
      " [ -2.91915105e+11   1.01996372e+12]\n",
      " [ -1.30450381e+12   3.80806867e+09]\n",
      " [  2.13627730e+12  -1.63476084e+12]\n",
      " [ -1.97992575e+11  -1.66979850e+12]\n",
      " [ -3.58030295e+11  -3.48571776e+11]\n",
      " [ -1.01281836e+12  -1.95492472e+12]\n",
      " [ -9.57979785e+11  -1.34402197e+12]\n",
      " [ -1.31455974e+12   4.44501751e+11]\n",
      " [  1.37679251e+12   1.92435977e+11]\n",
      " [  7.91526136e+11  -1.11758915e+12]\n",
      " [ -1.90895379e+10  -1.59226160e+12]\n",
      " [ -1.67579231e+12   1.30859589e+12]\n",
      " [ -6.30019676e+11   1.08588880e+12]\n",
      " [  1.44434691e+11  -2.03217788e+12]\n",
      " [  3.19840773e+11   1.50750928e+11]\n",
      " [  1.26159318e+12  -2.22810917e+12]\n",
      " [  1.82232295e+11   1.27626783e+12]\n",
      " [ -1.34918661e+12   1.01407675e+12]\n",
      " [ -3.54959829e+11  -2.72667383e+11]\n",
      " [  4.28275514e+11  -1.37875318e+12]\n",
      " [ -8.21388367e+11  -1.56817399e+12]\n",
      " [  5.20075589e+11   5.05652141e+11]\n",
      " [  8.65215633e+10  -9.11428710e+10]\n",
      " [  3.16259020e+11  -1.89367847e+11]\n",
      " [  8.95627003e+11  -2.30244282e+11]\n",
      " [ -1.20557014e+12  -1.60250565e+12]\n",
      " [ -1.93817252e+12   5.65510150e+11]\n",
      " [  1.42207753e+12   1.87605252e+11]\n",
      " [ -8.02423308e+11   2.18204765e+12]\n",
      " [  2.57508126e+12  -7.82107338e+11]\n",
      " [ -1.99271838e+11  -2.40629658e+09]\n",
      " [ -9.01642997e+11   4.02230740e+11]\n",
      " [ -9.28490774e+11   1.21709618e+12]\n",
      " [ -1.24361482e+12  -1.22590080e+12]\n",
      " [ -1.96623379e+12   9.75564426e+11]\n",
      " [  1.80582048e+12  -1.11517485e+12]\n",
      " [  6.49926201e+11   8.40318982e+11]\n",
      " [  1.36648085e+12  -3.67899843e+11]\n",
      " [ -1.39103576e+12   1.40225644e+12]\n",
      " [ -1.72568649e+10  -6.16204196e+11]\n",
      " [  1.50553115e+11   1.12548961e+12]\n",
      " [  1.81137445e+12   6.47975554e+11]\n",
      " [ -6.35905617e+11   2.38201783e+12]\n",
      " [ -1.72422383e+11  -1.27832495e+12]\n",
      " [  9.69982842e+11  -8.11495118e+11]\n",
      " [ -4.58458165e+11   6.50922701e+11]\n",
      " [  1.14502275e+12  -2.08342838e+11]\n",
      " [ -6.35031398e+11   7.15207365e+11]\n",
      " [ -9.37979653e+11   2.23074988e+11]\n",
      " [  5.21938399e+11   1.34345505e+11]\n",
      " [  7.31521303e+11  -7.08814873e+11]\n",
      " [ -1.97042842e+11   3.20116758e+11]\n",
      " [ -2.87922217e+11  -7.19008351e+10]\n",
      " [  4.86881878e+11   4.65931849e+11]\n",
      " [  1.29419285e+11   7.04053473e+11]\n",
      " [  7.70663008e+11  -3.24054745e+11]\n",
      " [  2.59939992e+11   1.84065393e+12]\n",
      " [  6.05959647e+11  -5.34953614e+11]\n",
      " [ -2.49436725e+11  -1.56139023e+12]\n",
      " [  4.10453141e+11  -2.86257781e+11]\n",
      " [  5.64099517e+11   2.13529034e+12]\n",
      " [  9.22127840e+11  -2.38026989e+11]\n",
      " [  3.44416604e+11  -9.54230787e+11]\n",
      " [ -1.02405598e+11   1.04312198e+12]\n",
      " [  1.46312902e+12  -1.04501963e+12]\n",
      " [  9.99955270e+10  -1.40599547e+11]\n",
      " [ -1.51143664e+12  -9.08868730e+11]\n",
      " [  4.58121463e+11  -6.70302335e+11]\n",
      " [  1.61747840e+12   3.92462851e+11]\n",
      " [ -7.77145985e+11   3.75884019e+11]\n",
      " [ -1.56129757e+11   1.08828336e+12]\n",
      " [ -4.13582658e+11   3.33551258e+11]\n",
      " [  1.37205931e+12  -1.82217802e+12]\n",
      " [  3.60213415e+10   2.72560711e+11]\n",
      " [ -1.13107692e+12  -1.81413572e+12]\n",
      " [  2.55471507e+11   1.51945255e+11]\n",
      " [ -5.38174443e+11  -2.23475424e+12]\n",
      " [ -3.17278602e+11  -1.38004781e+12]\n",
      " [ -1.69047713e+03   1.24953739e+03]\n",
      " [ -9.52008542e+10  -1.14724463e+11]\n",
      " [ -7.06466845e+10  -3.19885334e+11]\n",
      " [ -7.95599747e+11  -3.95838725e+11]\n",
      " [  7.99404427e+10  -2.24830513e+10]\n",
      " [ -1.21821633e+03  -5.40034933e+02]\n",
      " [ -1.82627615e+11  -3.61390544e+11]\n",
      " [ -1.44640806e+03   2.52578539e+03]\n",
      " [ -6.13416753e+11  -1.12158486e+12]\n",
      " [ -3.90682857e+11   9.75400495e+10]\n",
      " [  7.15210800e+02   1.03803712e+03]\n",
      " [ -2.01558996e+11  -5.11105413e+11]\n",
      " [ -4.61840515e+02  -2.86988507e+03]\n",
      " [ -1.09239186e+03  -1.76382443e+03]\n",
      " [  3.27594155e+02  -1.14863101e+03]]\n",
      "[  9.93318705e+28   9.79819887e+28   9.93623995e+28   9.03258987e+28\n",
      "   9.37568833e+28   8.83028062e+28   8.94608847e+28   9.07723202e+28\n",
      "   9.23644534e+28   8.33156421e+28   8.70316575e+28   9.43190508e+28\n",
      "   9.40136125e+28   8.77355671e+28   8.36098579e+28   8.75869087e+28\n",
      "   8.38325766e+28   9.16907575e+28   8.39932075e+28   8.55208218e+28\n",
      "   9.58494506e+28   8.57503407e+28   9.53020604e+28   7.88130886e+28\n",
      "   7.41499264e+28   6.95261298e+28   7.43313210e+28   8.02956738e+28\n",
      "   6.91136087e+28   7.96555628e+28   7.84648036e+28   8.28798824e+28\n",
      "   8.09000101e+28   7.27787866e+28   6.77722350e+28   6.82951148e+28\n",
      "   7.95982451e+28   8.53899781e+28   6.81513851e+28   6.69803599e+28\n",
      "   6.45244529e+28   6.75457681e+28   7.69446876e+28   7.11147560e+28\n",
      "   6.71015776e+28   6.80007091e+28   7.44627402e+28   8.21644083e+28\n",
      "   7.45374604e+28   7.94565880e+28   6.49559075e+28   7.38379535e+28\n",
      "   8.06543751e+28   7.56680051e+28   7.33533366e+28   8.19237229e+28\n",
      "   8.08329690e+28   6.07275387e+28   6.45107806e+28   6.87925773e+28\n",
      "   6.56522257e+28   6.04241326e+28   4.23600822e+28   5.49634846e+28\n",
      "   5.82538161e+28   4.51971974e+28   3.05800495e+28   4.53047485e+28\n",
      "   5.91597141e+28   5.71405532e+28   4.73965787e+28   5.38517424e+28\n",
      "   5.19208303e+28   4.62556108e+28   5.82212715e+28   5.51281847e+28\n",
      "   4.05739508e+28   5.32741681e+28   4.33528173e+28   5.43870581e+28\n",
      "   3.35161246e+28   5.74324663e+28   5.53302248e+28   4.31125975e+28\n",
      "   3.50644567e+28   6.38409744e+28   5.47433043e+28   3.19543543e+28\n",
      "   3.36595462e+28   2.58138644e+28   3.89452795e+28   5.26046948e+28\n",
      "   4.68990236e+28   2.38737913e+28]\n"
     ]
    }
   ],
   "source": [
    "\n",
    "# RK1 Parameters\n",
    "t0 = time.time()\n",
    "t = 0\n",
    "dt = 0.001\n",
    "stepN = 100\n",
    "\n",
    "# Particle history\n",
    "ParticlePositionHistory = np.zeros((stepN,nParticles,2))\n",
    "ParticleVelocityHistory = np.zeros((nParticles,2,stepN))\n",
    "xyDistributionOld = np.copy(xyDistribution)\n",
    "\n",
    "deltaVf = np.zeros_like(xyDistribution, dtype = np.float)\n",
    "\n",
    "for i in range(stepN):\n",
    "    t += 1\n",
    "    ParticlePositionHistory[i,:,:] = xyDistribution\n",
    "    deltaVf += nb_gravity()\n",
    "    deltaVf += -gradP()/rhoDistribution[:,np.newaxis]\n",
    "#    deltaVf -= v*velocityDistribution\n",
    "    velocityDistribution += dt*deltaVf\n",
    "    #deltaPos = velocityDistribution * dt\n",
    "    xyDistribution += dt*velocityDistribution\n",
    "    pressureDistribution = K*rhoDistribution**2\n",
    "\n",
    "print(time.time()-t0)\n",
    "print(xyDistribution-xyDistributionOld) \n",
    "print(mDistribution)"
   ]
  },
  {
   "cell_type": "code",
   "execution_count": 80,
   "metadata": {
    "collapsed": false
   },
   "outputs": [
    {
     "data": {
      "image/png": "[encoded data removed]",
      "text/plain": [
       "<matplotlib.figure.Figure at 0x13118080>"
      ]
     },
     "metadata": {},
     "output_type": "display_data"
    }
   ],
   "source": [
    "slider = FloatSlider(description='Time', min=0, max=stepN, step=1)\n",
    "\n",
    "def update_plot():\n",
    "    time=slider.value\n",
    "    x = ParticlePositionHistory[time-1,:,0]\n",
    "    y = ParticlePositionHistory[time-1,:,1]\n",
    "    fig = plt.figure(figsize=(10,10))\n",
    "    plt.scatter(x, y, c=mDistribution)\n",
    "    plt.xlim(-2e10, 2e10)\n",
    "    plt.ylim(-2e10, 2e10)\n",
    "\n",
    "    clear_output(True)\n",
    "\n",
    "slider.on_trait_change(update_plot, 'value')\n",
    "\n",
    "\n",
    "display(slider)\n",
    "update_plot()"
   ]
  },
  {
   "cell_type": "code",
   "execution_count": null,
   "metadata": {
    "collapsed": true
   },
   "outputs": [],
   "source": []
  }
 ],
 "metadata": {
  "kernelspec": {
   "display_name": "Python 2",
   "language": "python",
   "name": "python2"
  },
  "language_info": {
   "codemirror_mode": {
    "name": "ipython",
    "version": 2
   },
   "file_extension": ".py",
   "mimetype": "text/x-python",
   "name": "python",
   "nbconvert_exporter": "python",
   "pygments_lexer": "ipython2",
   "version": "2.7.10"
  }
 },
 "nbformat": 4,
 "nbformat_minor": 0
}
