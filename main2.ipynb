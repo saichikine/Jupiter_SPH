{
 "cells": [
  {
   "cell_type": "markdown",
   "metadata": {
    "slideshow": {
     "slide_type": "slide"
    }
   },
   "source": [
    "### Initialize libraries"
   ]
  },
  {
   "cell_type": "code",
   "execution_count": 135,
   "metadata": {
    "collapsed": true,
    "slideshow": {
     "slide_type": "slide"
    }
   },
   "outputs": [],
   "source": [
    "%matplotlib inline\n",
    "\n",
    "from __future__ import division\n",
    "\n",
    "import numpy as np\n",
    "import scipy.stats as stats\n",
    "import matplotlib.pyplot as plt\n",
    "from matplotlib import animation\n",
    "from matplotlib.collections import PatchCollection\n",
    "from scipy.spatial.distance import cdist\n",
    "\n",
    "from ipywidgets import interact, HTML, FloatSlider\n",
    "from IPython.display import clear_output, display\n",
    "\n",
    "import numba as nb\n",
    "import time"
   ]
  },
  {
   "cell_type": "markdown",
   "metadata": {
    "slideshow": {
     "slide_type": "slide"
    }
   },
   "source": [
    "### Initialize Model Constants"
   ]
  },
  {
   "cell_type": "code",
   "execution_count": 136,
   "metadata": {
    "collapsed": true,
    "slideshow": {
     "slide_type": "slide"
    }
   },
   "outputs": [],
   "source": [
    "RJupiter = 6.99e9                 # radius of Jupiter, cm\n",
    "mJupiter = 1.898e30               # mass of Jupiter, grams\n",
    "v = 1e-2                           # damping coefficient\n",
    "gamma = 2                         # polytrope index\n",
    "G = 6.67e-8                       # dyne*cm^2/g^2\n",
    "rhoC = 5                          # g/cm^3, central density\n",
    "K = 2.6e12                        # dyne*cm^4/g^2\n",
    "alpha = np.sqrt(K/(2*np.pi*G))    # distribution constant\n",
    "h = 2e9                           # smoothing length, 5.5e8 gives nice clumping\n",
    "                                  # 5.5e9 gives collapse to center\n",
    "                                  # 5e9 is paper's recommended value\n",
    "N1 = 1000                          # Particles in planet 1"
   ]
  },
  {
   "cell_type": "markdown",
   "metadata": {
    "slideshow": {
     "slide_type": "slide"
    }
   },
   "source": [
    "### Initialize Radial Position of Planets"
   ]
  },
  {
   "cell_type": "code",
   "execution_count": 137,
   "metadata": {
    "collapsed": false,
    "slideshow": {
     "slide_type": "slide"
    }
   },
   "outputs": [],
   "source": [
    "# # Use partition to give initial radial positions of particles\n",
    "# partitionNum = 5     \n",
    "# rSpace = np.linspace(0, RJupiter, partitionNum)\n",
    "# zetaSpace = rSpace/alpha\n",
    "\n",
    "# # Establish number of particles in each region of delta(zeta)\n",
    "# NDistribution = []    \n",
    "# for i in range(1,len(zetaSpace)):\n",
    "#     zeta2 = zetaSpace[i]\n",
    "#     zeta1 = zetaSpace[i-1]\n",
    "#     NDistribution.append((np.sin(zeta2) - zeta2*np.cos(zeta2) - np.sin(zeta1) + zeta1*np.cos(zeta1))\\\n",
    "#                          *N1/np.pi)\n",
    "    \n",
    "# NDistribution = np.array(NDistribution)\n",
    "# NDistribution = np.round(NDistribution)\n",
    "\n",
    "# # Create radial distribution\n",
    "# radiusDistribution = []\n",
    "# i = 0\n",
    "# for N in NDistribution:\n",
    "#     radiusDistribution.append(np.random.uniform(rSpace[i], rSpace[i+1], size=N))\n",
    "#     i += 1\n",
    "    \n",
    "# # Flatten radial array\n",
    "# radiusDistribution = [item for sublist in radiusDistribution for item in sublist]\n",
    "# radiusDistribution = np.array(radiusDistribution)\n",
    "\n",
    "# # Create angle distribution\n",
    "# thetaDistribution = np.random.uniform(0, 2*np.pi, size=len(radiusDistribution))\n",
    "\n",
    "# # Ballpark estimate for h, according to Monaghan 1977\n",
    "# # ballpark_h = np.sqrt(np.mean(cdist(xyDistribution, xyDistribution)**2) - np.mean(cdist(xyDistribution**2, xyDistribution**2)))\n"
   ]
  },
  {
   "cell_type": "code",
   "execution_count": 138,
   "metadata": {
    "collapsed": false
   },
   "outputs": [
    {
     "data": {
      "text/plain": [
       "(-10000000000.0, 10000000000.0)"
      ]
     },
     "execution_count": 138,
     "metadata": {},
     "output_type": "execute_result"
    },
    {
     "data": {
      "image/png": "[encoded data removed]",
      "text/plain": [
       "<matplotlib.figure.Figure at 0x1827a5f8>"
      ]
     },
     "metadata": {},
     "output_type": "display_data"
    },
    {
     "data": {
      "image/png": "[encoded data removed]",
      "text/plain": [
       "<matplotlib.figure.Figure at 0x15fc1160>"
      ]
     },
     "metadata": {},
     "output_type": "display_data"
    }
   ],
   "source": [
    "nParticles = 250\n",
    "lower, upper = 0, 1\n",
    "mu, sigma = 0, 2\n",
    "X = stats.truncnorm(\n",
    "    (lower - mu) / sigma, (upper - mu) / sigma, loc=mu, scale=sigma)\n",
    "plt.hist(X.rvs(nParticles), normed=True)\n",
    "\n",
    "radiusDistribution = X.rvs(nParticles) * RJupiter\n",
    "thetaDistribution = np.random.uniform(0, 2*np.pi, size=nParticles)\n",
    "\n",
    "plt.figure(figsize=(10,10))\n",
    "plt.scatter(radiusDistribution*np.cos(thetaDistribution), \\\n",
    "            radiusDistribution*np.sin(thetaDistribution))\n",
    "plt.title(\"Initial Density Distribution of Particles\")\n",
    "plt.xlim(-1e10,1e10)\n",
    "plt.ylim(-1e10,1e10)"
   ]
  },
  {
   "cell_type": "markdown",
   "metadata": {
    "slideshow": {
     "slide_type": "slide"
    }
   },
   "source": [
    "### Initialize Cartesian Position of Planets"
   ]
  },
  {
   "cell_type": "code",
   "execution_count": 139,
   "metadata": {
    "collapsed": true,
    "slideshow": {
     "slide_type": "slide"
    }
   },
   "outputs": [],
   "source": [
    "def polar2cart(r, theta):\n",
    "    return np.array([r*np.cos(theta), r*np.sin(theta)]).T\n",
    "\n",
    "xyDistribution = polar2cart(radiusDistribution, thetaDistribution)\n",
    "nParticles = len(xyDistribution)"
   ]
  },
  {
   "cell_type": "markdown",
   "metadata": {
    "slideshow": {
     "slide_type": "slide"
    }
   },
   "source": [
    "### Density Update Function"
   ]
  },
  {
   "cell_type": "code",
   "execution_count": 140,
   "metadata": {
    "collapsed": false,
    "slideshow": {
     "slide_type": "slide"
    }
   },
   "outputs": [],
   "source": [
    "def densityUpdate():\n",
    "    \n",
    "    global xyDistribution\n",
    "    global rhoDistribution\n",
    "    global mDistribution\n",
    "\n",
    "    rhoDistribution = np.zeros_like(rhoDistribution)\n",
    "    # \"Self-density\" contribution\n",
    "    for i in range(0, nParticles):\n",
    "#        rhoDistribution[i] = mDistribution[i]*W(0, h)\n",
    "        \n",
    "        # Density contribution from other particles\n",
    "        for j in range(i, nParticles):\n",
    "            xdist = (xyDistribution[i,0]-xyDistribution[j,0])\n",
    "            ydist = (xyDistribution[i,1]-xyDistribution[j,1])\n",
    "            dist_ij = np.sqrt(xdist**2 + ydist**2)\n",
    "            rho_ij = mDistribution[i]*W(dist_ij, h)\n",
    "            rhoDistribution[i] += rho_ij\n",
    "            rhoDistribution[j] += rho_ij"
   ]
  },
  {
   "cell_type": "markdown",
   "metadata": {
    "slideshow": {
     "slide_type": "slide"
    }
   },
   "source": [
    "### Smoothing function\n",
    "Source 1: http://arxiv.org/pdf/1007.1245.pdf\n",
    "\n",
    "Source 2: http://arxiv.org/pdf/1012.1885.pdf\n",
    "\n",
    "\\begin{equation}\n",
    "\\nabla W = \\frac{3x(3r - 4h)}{4 \\pi h^6}, \\frac{3y(3r - 4h)}{4 \\pi h^6} r< h\n",
    "\\end{equation}\n",
    "\n",
    "\\begin{equation}\n",
    "\\nabla W = -\\frac{3x(-2h+r)^2}{4h^6 \\pi r}, -\\frac{3y(-2h+r)^2}{4h^6 \\pi r} h < r< 2h\n",
    "\\end{equation}"
   ]
  },
  {
   "cell_type": "code",
   "execution_count": 141,
   "metadata": {
    "collapsed": false,
    "slideshow": {
     "slide_type": "slide"
    }
   },
   "outputs": [],
   "source": [
    "def W(dist, h):\n",
    "    '''\n",
    "    Inputs:\n",
    "        dist: a scalar distance between particles i an j\n",
    "        h: smoothing length\n",
    "    '''\n",
    "    if dist < h:\n",
    "        return 2/(np.pi*h**3) * \\\n",
    "               (1/4*(2-dist/h)**3 - (1-dist/h)**3)\n",
    "    elif dist > 2 * h:\n",
    "        return 0\n",
    "    else:\n",
    "        return 1/(np.pi*h**3) * (1/4*(2-dist/h)**3)"
   ]
  },
  {
   "cell_type": "code",
   "execution_count": 142,
   "metadata": {
    "collapsed": false,
    "slideshow": {
     "slide_type": "slide"
    }
   },
   "outputs": [],
   "source": [
    "def gradW(xyDist, h):\n",
    "    '''\n",
    "    Inputs:\n",
    "        xyDist: a [2,1] array containing the difference in [x,y] position\n",
    "            between two particles\n",
    "        h: smoothing length\n",
    "    Outputs:\n",
    "        a [2,1] array containing the [x,y] component of gradW\n",
    "    '''\n",
    "    \n",
    "    dist = np.sqrt(xyDist[0]**2 + xyDist[1]**2)\n",
    "    \n",
    "    if dist < h:\n",
    "        return np.array(\n",
    "                [3*xyDist[0]*(3*dist - 4*h)/(4*np.pi*h**6),\n",
    "                 3*xyDist[1]*(3*dist - 4*h)/(4*np.pi*h**6)])\n",
    "    # 2D kernel\n",
    "#         return np.array(\n",
    "#               [15*xyDist[0]*(3*dist - 4*h)/(14 * np.pi * h**5),\n",
    "#                15*xyDist[1]*(3*dist - 4*h)/(14 * np.pi * h**5)])\n",
    "    \n",
    "    elif dist > 2 * h:\n",
    "        return np.array([0,0])\n",
    "    \n",
    "    else:\n",
    "        return np.array(\n",
    "                [-3*xyDist[0]*(-2*h+dist)**2/(4*h**6*np.pi*dist),\n",
    "                 -3*xyDist[1]*(-2*h+dist)**2/(4*h**6*np.pi*dist)])\n",
    "#         return np.array(\n",
    "#                 [-15*xyDist[0]*(2*h - dist)**2/(14*h**5*np.pi*dist),\n",
    "#                  -15*xyDist[1]*(2*h - dist)**2/(14*h**5*np.pi*dist)] )"
   ]
  },
  {
   "cell_type": "code",
   "execution_count": 143,
   "metadata": {
    "collapsed": false,
    "slideshow": {
     "slide_type": "slide"
    }
   },
   "outputs": [],
   "source": [
    "### --- gradW test --- ###\n",
    "\n",
    "# asd = np.linspace(1,1e10, 100)\n",
    "# qwer = []\n",
    "# for i in asd:\n",
    "#     qwer.append(gradW([0,i], h))\n",
    "    \n",
    "# plt.plot(asd, qwer)"
   ]
  },
  {
   "cell_type": "markdown",
   "metadata": {
    "slideshow": {
     "slide_type": "slide"
    }
   },
   "source": [
    "### Define Pressure Gradient"
   ]
  },
  {
   "cell_type": "code",
   "execution_count": 144,
   "metadata": {
    "collapsed": true,
    "slideshow": {
     "slide_type": "slide"
    }
   },
   "outputs": [],
   "source": [
    "def gradP():\n",
    "    \n",
    "    gradPArray = np.zeros_like(velocityDistribution)\n",
    "\n",
    "    for i in range(0, nParticles):\n",
    "        for j in range(i, nParticles):\n",
    "            \n",
    "            xdist = (xyDistribution[i,0]-xyDistribution[j,0])\n",
    "            ydist = (xyDistribution[i,1]-xyDistribution[j,1])\n",
    "            distArr = np.array([xdist,ydist])\n",
    "            \n",
    "            #gradPX = mDistribution[j]/2*((pressureDistribution[i]/(rhoDistribution[i]**2))+(pressureDistribution[j]/(rhoDistribution[j]**2)))*gradW(distArr,h)[0]\n",
    "            #gradPY = mDistribution[j]/2*((pressureDistribution[i]/(rhoDistribution[i]**2))+(pressureDistribution[j]/(rhoDistribution[j]**2)))*gradW(distArr,h)[1]\n",
    "            gradPX = mDistribution[j]*pressureDistribution[j]/rhoDistribution[j]*gradW(distArr,h)[0]\n",
    "            gradPY = mDistribution[j]*pressureDistribution[j]/rhoDistribution[j]*gradW(distArr,h)[1]\n",
    "            \n",
    "            gradPArray[i,0] += gradPX\n",
    "            gradPArray[i,1] += gradPY\n",
    "            gradPArray[j,0] += gradPX\n",
    "            gradPArray[j,1] += gradPY\n",
    "\n",
    "    return gradPArray"
   ]
  },
  {
   "cell_type": "markdown",
   "metadata": {
    "collapsed": false,
    "slideshow": {
     "slide_type": "slide"
    }
   },
   "source": [
    "### Define gravity"
   ]
  },
  {
   "cell_type": "code",
   "execution_count": 145,
   "metadata": {
    "collapsed": false,
    "slideshow": {
     "slide_type": "slide"
    }
   },
   "outputs": [],
   "source": [
    "def gravity(xyDistribution):\n",
    "    \n",
    "    global velocityDistribution\n",
    "#    global xyDistribution\n",
    "    global h\n",
    "    \n",
    "    deltaV = np.zeros_like(xyDistribution, dtype = np.float)\n",
    "    for j in range(0, nParticles):\n",
    "        for k in range(0, nParticles):\n",
    "            if (k!=j):\n",
    "                xdist = (xyDistribution[j,0]-xyDistribution[k,0])\n",
    "                ydist = (xyDistribution[j,1]-xyDistribution[k,1])\n",
    "#                print xyDistribution\n",
    "#                print \"xdist:\", xdist\n",
    "#                print(ydist)\n",
    "\n",
    "                if(abs(xdist)<1e9):\n",
    "#                    deltaV[j,0] -= -G*mDistribution[j]*xdist/((np.sqrt(xdist**2+ydist**2))**3)\n",
    "                    deltaV[j,0] -= 0\n",
    "#                    print \"X less than smoothing\"\n",
    "                else:\n",
    "                    deltaV[j,0] += -G*mDistribution[j]*xdist/((np.sqrt(xdist**2+ydist**2))**3)\n",
    "\n",
    "                if(abs(ydist)<1e9):\n",
    "#                    deltaV[j,1] -= -G*mDistribution[j]*ydist/((np.sqrt(xdist**2+ydist**2))**3)\n",
    "                    deltaV[j,1] -= 0\n",
    "#                    print \"Y less than smoothing\"\n",
    "                else:\n",
    "                    deltaV[j,1] += -G*mDistribution[j]*ydist/((np.sqrt(xdist**2+ydist**2))**3)\n",
    "                    \n",
    "    return deltaV\n",
    "\n",
    "nb_gravity = nb.autojit(gravity)"
   ]
  },
  {
   "cell_type": "markdown",
   "metadata": {
    "slideshow": {
     "slide_type": "slide"
    }
   },
   "source": [
    "### Model Initial Velocity & Density & Pressure Distribution"
   ]
  },
  {
   "cell_type": "code",
   "execution_count": 146,
   "metadata": {
    "collapsed": false,
    "slideshow": {
     "slide_type": "slide"
    }
   },
   "outputs": [],
   "source": [
    "velocityDistribution = np.zeros_like(xyDistribution)\n",
    "rhoDistribution = np.zeros_like(radiusDistribution)\n",
    "mDistribution = np.ones(len(radiusDistribution))*mJupiter/len(radiusDistribution)\n",
    "densityUpdate()\n",
    "pressureDistribution = K * rhoDistribution ** gamma"
   ]
  },
  {
   "cell_type": "code",
   "execution_count": 147,
   "metadata": {
    "collapsed": false,
    "scrolled": false,
    "slideshow": {
     "slide_type": "slide"
    }
   },
   "outputs": [
    {
     "data": {
      "image/png": "[encoded data removed]",
      "text/plain": [
       "<matplotlib.figure.Figure at 0x17771630>"
      ]
     },
     "metadata": {},
     "output_type": "display_data"
    }
   ],
   "source": [
    "plt.figure(figsize=(10,8))\n",
    "plt.scatter(radiusDistribution*np.cos(thetaDistribution), \\\n",
    "            radiusDistribution*np.sin(thetaDistribution), c=rhoDistribution)\n",
    "plt.title(\"Initial Density Distribution of Particles\")\n",
    "plt.colorbar()\n",
    "plt.show()"
   ]
  },
  {
   "cell_type": "markdown",
   "metadata": {
    "slideshow": {
     "slide_type": "slide"
    }
   },
   "source": [
    "### Run through RK1\n",
    "* If just pressure, run at 1e2 timestep"
   ]
  },
  {
   "cell_type": "code",
   "execution_count": 148,
   "metadata": {
    "collapsed": false,
    "slideshow": {
     "slide_type": "slide"
    }
   },
   "outputs": [
    {
     "name": "stdout",
     "output_type": "stream",
     "text": [
      "Time step 0\n",
      "Time step 1\n",
      "Time step 2\n",
      "Time step 3\n",
      "Time step 4\n",
      "Time step 5\n",
      "Time step 6\n",
      "Time step 7\n",
      "Time step 8\n",
      "Time step 9\n",
      "Time step 10\n",
      "Time step 11\n",
      "Time step 12\n",
      "Time step 13\n",
      "Time step 14\n",
      "Time step 15\n",
      "Time step 16\n",
      "Time step 17\n",
      "Time step 18\n",
      "Time step 19\n",
      "Time step 20\n",
      "Time step 21\n",
      "Time step 22\n",
      "Time step 23\n",
      "Time step 24\n",
      "Time step 25\n",
      "Time step 26\n",
      "Time step 27\n",
      "Time step 28\n",
      "Time step 29\n",
      "Time step 30\n",
      "Time step 31\n",
      "Time step 32\n",
      "Time step 33\n",
      "Time step 34\n",
      "Time step 35\n",
      "Time step 36\n",
      "Time step 37\n",
      "Time step 38\n",
      "Time step 39\n",
      "Time step 40\n",
      "Time step 41\n",
      "Time step 42\n",
      "Time step 43\n",
      "Time step 44\n",
      "Time step 45\n",
      "Time step 46\n",
      "Time step 47\n",
      "Time step 48\n",
      "Time step 49\n",
      "Time step 50\n",
      "Time step 51\n",
      "Time step 52\n",
      "Time step 53\n",
      "Time step 54\n",
      "Time step 55\n",
      "Time step 56\n",
      "Time step 57\n",
      "Time step 58\n",
      "Time step 59\n",
      "Time step 60\n",
      "Time step 61\n",
      "Time step 62\n",
      "Time step 63\n",
      "Time step 64\n",
      "Time step 65\n",
      "Time step 66\n",
      "Time step 67\n",
      "Time step 68\n",
      "Time step 69\n",
      "Time step 70\n",
      "Time step 71\n",
      "Time step 72\n",
      "Time step 73\n",
      "Time step 74\n",
      "Time step 75\n",
      "Time step 76\n",
      "Time step 77\n",
      "Time step 78\n",
      "Time step 79\n",
      "Time step 80\n",
      "Time step 81\n",
      "Time step 82\n",
      "Time step 83\n",
      "Time step 84\n",
      "Time step 85\n",
      "Time step 86\n",
      "Time step 87\n",
      "Time step 88\n",
      "Time step 89\n",
      "Time step 90\n",
      "Time step 91\n",
      "Time step 92\n",
      "Time step 93\n",
      "Time step 94\n",
      "Time step 95\n",
      "Time step 96\n",
      "Time step 97\n",
      "Time step 98\n",
      "Time step 99\n",
      "Time step 100\n",
      "Time step 101\n",
      "Time step 102\n",
      "Time step 103\n",
      "Time step 104\n",
      "Time step 105\n",
      "Time step 106\n",
      "Time step 107\n",
      "Time step 108\n",
      "Time step 109\n",
      "Time step 110\n",
      "Time step 111\n",
      "Time step 112\n",
      "Time step 113\n",
      "Time step 114\n",
      "Time step 115\n",
      "Time step 116\n",
      "Time step 117\n",
      "Time step 118\n",
      "Time step 119\n",
      "Time step 120\n",
      "Time step 121\n",
      "Time step 122\n",
      "Time step 123\n",
      "Time step 124\n",
      "Time step 125\n",
      "Time step 126\n",
      "Time step 127\n",
      "Time step 128\n",
      "Time step 129\n",
      "Time step 130\n",
      "Time step 131\n",
      "Time step 132\n",
      "Time step 133\n",
      "Time step 134\n",
      "Time step 135\n",
      "Time step 136\n",
      "Time step 137\n",
      "Time step 138\n",
      "Time step 139\n",
      "Time step 140\n",
      "Time step 141\n",
      "Time step 142\n",
      "Time step 143\n",
      "Time step 144\n",
      "Time step 145\n",
      "Time step 146\n",
      "Time step 147\n",
      "Time step 148\n",
      "Time step 149\n",
      "Time step 150\n",
      "Time step 151\n",
      "Time step 152\n",
      "Time step 153\n",
      "Time step 154\n",
      "Time step 155\n",
      "Time step 156\n",
      "Time step 157\n",
      "Time step 158\n",
      "Time step 159\n",
      "Time step 160\n",
      "Time step 161\n",
      "Time step 162\n",
      "Time step 163\n",
      "Time step 164\n",
      "Time step 165\n",
      "Time step 166\n",
      "Time step 167\n",
      "Time step 168\n",
      "Time step 169\n",
      "Time step 170\n",
      "Time step 171\n",
      "Time step 172\n",
      "Time step 173\n",
      "Time step 174\n",
      "Time step 175\n",
      "Time step 176\n",
      "Time step 177\n",
      "Time step 178\n",
      "Time step 179\n",
      "Time step 180\n",
      "Time step 181\n",
      "Time step 182\n",
      "Time step 183\n",
      "Time step 184\n",
      "Time step 185\n",
      "Time step 186\n",
      "Time step 187\n",
      "Time step 188\n",
      "Time step 189\n",
      "Time step 190\n",
      "Time step 191\n",
      "Time step 192\n",
      "Time step 193\n",
      "Time step 194\n",
      "Time step 195\n",
      "Time step 196\n",
      "Time step 197\n",
      "Time step 198\n",
      "Time step 199\n",
      "Time step 200\n",
      "Time step 201\n",
      "Time step 202\n",
      "Time step 203\n",
      "Time step 204\n",
      "Time step 205\n",
      "Time step 206\n",
      "Time step 207\n",
      "Time step 208\n",
      "Time step 209\n",
      "Time step 210\n",
      "Time step 211\n",
      "Time step 212\n",
      "Time step 213\n",
      "Time step 214\n",
      "Time step 215\n",
      "Time step 216\n",
      "Time step 217\n",
      "Time step 218\n",
      "Time step 219\n",
      "Time step 220\n",
      "Time step 221\n",
      "Time step 222\n",
      "Time step 223\n",
      "Time step 224\n",
      "Time step 225\n",
      "Time step 226\n",
      "Time step 227\n",
      "Time step 228\n",
      "Time step 229\n",
      "Time step 230\n",
      "Time step 231\n",
      "Time step 232\n",
      "Time step 233\n",
      "Time step 234\n",
      "Time step 235\n",
      "Time step 236\n",
      "Time step 237\n",
      "Time step 238\n",
      "Time step 239\n",
      "Time step 240\n",
      "Time step 241\n",
      "Time step 242\n",
      "Time step 243\n",
      "Time step 244\n",
      "Time step 245\n",
      "Time step 246\n",
      "Time step 247\n",
      "Time step 248\n",
      "Time step 249\n",
      "Time step 250\n",
      "Time step 251\n",
      "Time step 252\n",
      "Time step 253\n",
      "Time step 254\n",
      "Time step 255\n",
      "Time step 256\n",
      "Time step 257\n",
      "Time step 258\n",
      "Time step 259\n",
      "Time step 260\n",
      "Time step 261\n",
      "Time step 262\n",
      "Time step 263\n",
      "Time step 264\n",
      "Time step 265\n",
      "Time step 266\n",
      "Time step 267\n",
      "Time step 268\n",
      "Time step 269\n",
      "Time step 270\n",
      "Time step 271\n",
      "Time step 272\n",
      "Time step 273\n",
      "Time step 274\n",
      "Time step 275\n",
      "Time step 276\n",
      "Time step 277\n",
      "Time step 278\n",
      "Time step 279\n",
      "Time step 280\n",
      "Time step 281\n",
      "Time step 282\n",
      "Time step 283\n",
      "Time step 284\n",
      "Time step 285\n",
      "Time step 286\n",
      "Time step 287\n",
      "Time step 288\n",
      "Time step 289\n",
      "Time step 290\n",
      "Time step 291\n",
      "Time step 292\n",
      "Time step 293\n",
      "Time step 294\n",
      "Time step 295\n",
      "Time step 296\n",
      "Time step 297\n",
      "Time step 298\n",
      "Time step 299\n",
      "Time step 300\n",
      "Time step 301\n",
      "Time step 302\n",
      "Time step 303\n",
      "Time step 304\n",
      "Time step 305\n",
      "Time step 306\n",
      "Time step 307\n",
      "Time step 308\n",
      "Time step 309\n",
      "Time step 310\n",
      "Time step 311\n",
      "Time step 312\n",
      "Time step 313\n",
      "Time step 314\n",
      "Time step 315\n",
      "Time step 316\n",
      "Time step 317\n",
      "Time step 318\n",
      "Time step 319\n",
      "Time step 320\n",
      "Time step 321\n",
      "Time step 322\n",
      "Time step 323\n",
      "Time step 324\n",
      "Time step 325\n",
      "Time step 326\n",
      "Time step 327\n",
      "Time step 328\n",
      "Time step 329\n",
      "Time step 330\n",
      "Time step 331\n",
      "Time step 332\n",
      "Time step 333\n",
      "Time step 334\n",
      "Time step 335\n",
      "Time step 336\n",
      "Time step 337\n",
      "Time step 338\n",
      "Time step 339\n",
      "Time step 340\n",
      "Time step 341\n",
      "Time step 342\n",
      "Time step 343\n",
      "Time step 344\n",
      "Time step 345\n",
      "Time step 346\n",
      "Time step 347\n",
      "Time step 348\n",
      "Time step 349\n",
      "Time step 350\n",
      "Time step 351\n",
      "Time step 352\n",
      "Time step 353\n",
      "Time step 354\n",
      "Time step 355\n",
      "Time step 356\n",
      "Time step 357\n",
      "Time step 358\n",
      "Time step 359\n",
      "Time step 360\n",
      "Time step 361\n",
      "Time step 362\n",
      "Time step 363\n",
      "Time step 364\n",
      "Time step 365\n",
      "Time step 366\n",
      "Time step 367\n",
      "Time step 368\n",
      "Time step 369\n",
      "Time step 370\n",
      "Time step 371\n",
      "Time step 372\n",
      "Time step 373\n",
      "Time step 374\n",
      "Time step 375\n",
      "Time step 376\n",
      "Time step 377\n",
      "Time step 378\n",
      "Time step 379\n",
      "Time step 380\n",
      "Time step 381\n",
      "Time step 382\n",
      "Time step 383\n",
      "Time step 384\n",
      "Time step 385\n",
      "Time step 386\n",
      "Time step 387\n",
      "Time step 388\n",
      "Time step 389\n",
      "Time step 390\n",
      "Time step 391\n",
      "Time step 392\n",
      "Time step 393\n",
      "Time step 394\n",
      "Time step 395\n",
      "Time step 396\n",
      "Time step 397\n",
      "Time step 398\n",
      "Time step 399\n",
      "Time step 400\n",
      "Time step 401\n",
      "Time step 402\n",
      "Time step 403\n",
      "Time step 404\n",
      "Time step 405\n",
      "Time step 406\n",
      "Time step 407\n",
      "Time step 408\n",
      "Time step 409\n",
      "Time step 410\n",
      "Time step 411\n",
      "Time step 412\n",
      "Time step 413\n",
      "Time step 414\n",
      "Time step 415\n",
      "Time step 416\n",
      "Time step 417\n",
      "Time step 418\n",
      "Time step 419\n",
      "Time step 420\n",
      "Time step 421\n",
      "Time step 422\n",
      "Time step 423\n",
      "Time step 424\n",
      "Time step 425\n",
      "Time step 426\n",
      "Time step 427\n",
      "Time step 428\n",
      "Time step 429\n",
      "Time step 430\n",
      "Time step 431\n",
      "Time step 432\n",
      "Time step 433\n",
      "Time step 434\n",
      "Time step 435\n",
      "Time step 436\n",
      "Time step 437\n",
      "Time step 438\n",
      "Time step 439\n",
      "Time step 440\n",
      "Time step 441\n",
      "Time step 442\n",
      "Time step 443\n",
      "Time step 444\n",
      "Time step 445\n",
      "Time step 446\n",
      "Time step 447\n",
      "Time step 448\n",
      "Time step 449\n",
      "Time step 450\n",
      "Time step 451\n",
      "Time step 452\n",
      "Time step 453\n",
      "Time step 454\n",
      "Time step 455\n",
      "Time step 456\n",
      "Time step 457\n",
      "Time step 458\n",
      "Time step 459\n",
      "Time step 460\n",
      "Time step 461\n",
      "Time step 462\n",
      "Time step 463\n",
      "Time step 464\n",
      "Time step 465\n",
      "Time step 466\n",
      "Time step 467\n",
      "Time step 468\n",
      "Time step 469\n",
      "Time step 470\n",
      "Time step 471\n",
      "Time step 472\n",
      "Time step 473\n",
      "Time step 474\n",
      "Time step 475\n",
      "Time step 476\n",
      "Time step 477\n",
      "Time step 478\n",
      "Time step 479\n",
      "Time step 480\n",
      "Time step 481\n",
      "Time step 482\n",
      "Time step 483\n",
      "Time step 484\n",
      "Time step 485\n",
      "Time step 486\n",
      "Time step 487\n",
      "Time step 488\n",
      "Time step 489\n",
      "Time step 490\n",
      "Time step 491\n",
      "Time step 492\n",
      "Time step 493\n",
      "Time step 494\n",
      "Time step 495\n",
      "Time step 496\n",
      "Time step 497\n",
      "Time step 498\n",
      "Time step 499\n",
      "218.167000055\n"
     ]
    }
   ],
   "source": [
    "# RK1 Parameters\n",
    "t0 = time.time()\n",
    "t = 0\n",
    "dt = 1e2\n",
    "stepN = 500\n",
    "\n",
    "# Particle history\n",
    "ParticlePositionHistory = np.zeros((stepN,nParticles,2))\n",
    "ParticleRhoHistory = np.zeros((stepN, nParticles, 1))\n",
    "xyDistributionOld = np.copy(xyDistribution)\n",
    "\n",
    "# Force history\n",
    "forceHistory = np.zeros((stepN, 3))\n",
    "for i in range(stepN):\n",
    "    if i % 1 == 0:\n",
    "        print \"Time step\", i\n",
    "    if i == 2:\n",
    "        rhoOld = np.copy(rhoDistribution)\n",
    "    deltaVf = np.zeros_like(xyDistribution, dtype = np.float)\n",
    "    \n",
    "    t += 1\n",
    "    ParticlePositionHistory[i,:,:] = xyDistribution\n",
    "    \n",
    "    deltaVf += nb_gravity(xyDistribution) \n",
    "#    print \"\\nAvg gravity\", np.mean(deltaVf)\n",
    "    forceHistory[i,0] = np.mean(abs(deltaVf))\n",
    "    \n",
    "    deltaVf -= -gradP()/rhoDistribution[:,np.newaxis]\n",
    "#    print \"Avg gravity + pressure\", np.mean(deltaVf)\n",
    "    forceHistory[i,1] = np.mean(abs(deltaVf))\n",
    "\n",
    "    deltaVf +=  -v*velocityDistribution**1\n",
    "#    print \"Avg damping:\", np.mean(velocityDistribution)    \n",
    "    forceHistory[i,2] = np.mean(-v*velocityDistribution**1)\n",
    "\n",
    "    \n",
    "    velocityDistribution += dt*deltaVf    \n",
    "    xyDistribution += dt*velocityDistribution\n",
    "    \n",
    "    densityUpdate()\n",
    "    ParticleRhoHistory[i,:,:] = rhoDistribution[:,np.newaxis]\n",
    "    pressureDistribution = K*rhoDistribution**2\n",
    "\n",
    "print(time.time()-t0)\n",
    "#print(rhoDistribution-rhoOld)\n",
    "#print(xyDistribution-xyDistributionOld) \n"
   ]
  },
  {
   "cell_type": "code",
   "execution_count": 149,
   "metadata": {
    "collapsed": false,
    "scrolled": false,
    "slideshow": {
     "slide_type": "slide"
    }
   },
   "outputs": [
    {
     "data": {
      "image/png": "[encoded data removed]",
      "text/plain": [
       "<matplotlib.figure.Figure at 0x15eeaba8>"
      ]
     },
     "metadata": {},
     "output_type": "display_data"
    }
   ],
   "source": [
    "slider = FloatSlider(description='Time', min=1, max=stepN, step=1)\n",
    "\n",
    "def update_plot():\n",
    "    time=slider.value\n",
    "    x = ParticlePositionHistory[time-1,:,0]\n",
    "    y = ParticlePositionHistory[time-1,:,1]\n",
    "    fig = plt.figure(figsize=(10,10))\n",
    "    plt.scatter(x, y, c=ParticleRhoHistory[time-1,:,:])\n",
    "    plt.xlim(-2e10, 2e10)\n",
    "    plt.ylim(-2e10, 2e10)\n",
    "#    plt.colorbar()\n",
    "\n",
    "    clear_output(True)\n",
    "\n",
    "slider.on_trait_change(update_plot, 'value')\n",
    "\n",
    "\n",
    "display(slider)\n",
    "update_plot()"
   ]
  },
  {
   "cell_type": "code",
   "execution_count": 150,
   "metadata": {
    "collapsed": false,
    "slideshow": {
     "slide_type": "slide"
    }
   },
   "outputs": [
    {
     "data": {
      "text/plain": [
       "[]"
      ]
     },
     "execution_count": 150,
     "metadata": {},
     "output_type": "execute_result"
    },
    {
     "data": {
      "image/png": "[encoded data removed]",
      "text/plain": [
       "<matplotlib.figure.Figure at 0x17ba6860>"
      ]
     },
     "metadata": {},
     "output_type": "display_data"
    }
   ],
   "source": [
    "plt.figure(figsize=(8,8))\n",
    "plt.plot(range(stepN), forceHistory[:,0], label='gravity')\n",
    "plt.plot(range(stepN), forceHistory[:,1] - forceHistory[:,0], label='pressure')\n",
    "plt.plot(range(stepN), forceHistory[:,2], label='damping')\n",
    "#plt.plot(range(stepN), forceHistory[:,1] + forceHistory[:,2], label='net')\n",
    "plt.legend()\n",
    "plt.plot()"
   ]
  },
  {
   "cell_type": "code",
   "execution_count": null,
   "metadata": {
    "collapsed": true,
    "slideshow": {
     "slide_type": "slide"
    }
   },
   "outputs": [],
   "source": []
  }
 ],
 "metadata": {
  "kernelspec": {
   "display_name": "Python 2",
   "language": "python",
   "name": "python2"
  },
  "language_info": {
   "codemirror_mode": {
    "name": "ipython",
    "version": 2
   },
   "file_extension": ".py",
   "mimetype": "text/x-python",
   "name": "python",
   "nbconvert_exporter": "python",
   "pygments_lexer": "ipython2",
   "version": "2.7.10"
  }
 },
 "nbformat": 4,
 "nbformat_minor": 0
}
