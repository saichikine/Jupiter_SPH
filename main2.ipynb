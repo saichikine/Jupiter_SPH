{
 "cells": [
  {
   "cell_type": "markdown",
   "metadata": {},
   "source": [
    "### Initialize libraries"
   ]
  },
  {
   "cell_type": "code",
   "execution_count": 1,
   "metadata": {
    "collapsed": true
   },
   "outputs": [],
   "source": [
    "%matplotlib inline\n",
    "\n",
    "from __future__ import division\n",
    "\n",
    "import numpy as np\n",
    "import matplotlib.pyplot as plt\n",
    "from matplotlib import animation\n",
    "from matplotlib.collections import PatchCollection\n",
    "from scipy.spatial.distance import cdist\n",
    "\n",
    "from ipywidgets import interact, HTML, FloatSlider\n",
    "from IPython.display import clear_output, display\n",
    "\n",
    "import numba as nb\n",
    "import time"
   ]
  },
  {
   "cell_type": "markdown",
   "metadata": {},
   "source": [
    "### Initialize Model Constants"
   ]
  },
  {
   "cell_type": "code",
   "execution_count": 3,
   "metadata": {
    "collapsed": true
   },
   "outputs": [],
   "source": [
    "RJupiter = 6.99e9    # cm\n",
    "\n",
    "gamma = 2\n",
    "G = 6.67e-8    # dyne*cm^2/g^2\n",
    "\n",
    "rhoC = 5    # g/cm^3, central density\n",
    "PC = 6.5e13    # dyne/cm^2\n",
    "TC = 22000    # K\n",
    "\n",
    "K = 2.6e12    # dyne*cm^4/g^2\n",
    "\n",
    "alpha = np.sqrt(K/(2*np.pi*G))"
   ]
  },
  {
   "cell_type": "markdown",
   "metadata": {},
   "source": [
    "### Initialize Position of Planets"
   ]
  },
  {
   "cell_type": "code",
   "execution_count": 4,
   "metadata": {
    "collapsed": false
   },
   "outputs": [
    {
     "name": "stderr",
     "output_type": "stream",
     "text": [
      "c:\\users\\oromi_000\\anaconda\\lib\\site-packages\\ipykernel\\__main__.py:22: DeprecationWarning: using a non-integer number instead of an integer will result in an error in the future\n"
     ]
    }
   ],
   "source": [
    "N1 = 1000        # Particles in planet 1\n",
    "\n",
    "# Use partition to give initial radial positions of particles\n",
    "partitionNum = 5     \n",
    "rSpace = np.linspace(0, RJupiter, partitionNum)\n",
    "zetaSpace = rSpace/alpha\n",
    "\n",
    "# Establish number of particles in each region of delta(zeta)\n",
    "NDistribution = []    \n",
    "for i in range(1,len(zetaSpace)):\n",
    "    zeta2 = zetaSpace[i]\n",
    "    zeta1 = zetaSpace[i-1]\n",
    "    NDistribution.append((np.sin(zeta2) - zeta2*np.cos(zeta2) - np.sin(zeta1) + zeta1*np.cos(zeta1))\\\n",
    "                         *N1/np.pi)\n",
    "    \n",
    "NDistribution = np.array(NDistribution)\n",
    "NDistribution = np.round(NDistribution)\n",
    "\n",
    "# Create radial distribution\n",
    "radiusDistribution = []\n",
    "i = 0\n",
    "for N in NDistribution:\n",
    "    radiusDistribution.append(np.random.uniform(rSpace[i], rSpace[i+1], size=N))\n",
    "    i += 1\n",
    "    \n",
    "# Flatten radial array\n",
    "radiusDistribution = [item for sublist in radiusDistribution for item in sublist]\n",
    "radiusDistribution = np.array(radiusDistribution)\n",
    "\n",
    "# Create angle distribution\n",
    "thetaDistribution = np.random.uniform(0, 2*np.pi, size=len(radiusDistribution))"
   ]
  },
  {
   "cell_type": "markdown",
   "metadata": {},
   "source": [
    "### Smoothing function"
   ]
  },
  {
   "cell_type": "code",
   "execution_count": 17,
   "metadata": {
    "collapsed": true
   },
   "outputs": [],
   "source": [
    "def W(dist, h):\n",
    "    if dist < h:\n",
    "        return 10/(7*np.pi*h**2) * \\\n",
    "               (1/4*(2-dist/h)**3 - (1-dist/h)**3)\n",
    "    elif dist > 2 * h:\n",
    "        return 0\n",
    "    else:\n",
    "        return 10/(7*np.pi*h**2) * (1/4*(2-dist/h)**3)"
   ]
  },
  {
   "cell_type": "code",
   "execution_count": 42,
   "metadata": {
    "collapsed": false
   },
   "outputs": [],
   "source": [
    "def gradW(xyDist, h):\n",
    "    '''\n",
    "    Inputs:\n",
    "        xyDist: a [2,1] array containing the difference in [x,y] position\n",
    "            between two particles\n",
    "        h: smoothing length\n",
    "    Outputs:\n",
    "        a [2,1] array containing the [x,y] component of gradW\n",
    "    '''\n",
    "    \n",
    "    dist = np.sqrt(xyDist[0]**2 + xyDist[1]**2)\n",
    "    \n",
    "    if dist < h:\n",
    "        print \"Less than 1!\"\n",
    "        return np.array(\n",
    "              [15*xyDist[0]*(3*dist - 4*h)/(14 * np.pi * h**5),\n",
    "               15*xyDist[1]*(3*dist - 4*h)/(14 * np.pi * h**5)])\n",
    "    \n",
    "    elif dist > 2 * h:\n",
    "        print \"more than 2!\"\n",
    "        return np.array([0,0])\n",
    "    \n",
    "    else:\n",
    "        print \"In between!\"\n",
    "        return np.array(\n",
    "                [-15*xyDist[0]*(2*h - dist)**2/(14*h**5*np.pi*dist),\n",
    "                 -15*xyDist[1]*(2*h - dist)**2/(14*h**5*np.pi*dist)] )"
   ]
  },
  {
   "cell_type": "code",
   "execution_count": 43,
   "metadata": {
    "collapsed": false
   },
   "outputs": [
    {
     "name": "stdout",
     "output_type": "stream",
     "text": [
      "False\n",
      "In between!\n",
      "[ -3.35977104e-29  -3.35977104e-28]\n"
     ]
    }
   ],
   "source": [
    "arr = np.array([1e8,1e9])\n",
    "mg =  np.sqrt(arr[0]**2 + arr[1]**2)\n",
    "print mg < 1e9\n",
    "print gradW(arr, 1e9)"
   ]
  },
  {
   "cell_type": "code",
   "execution_count": 23,
   "metadata": {
    "collapsed": false
   },
   "outputs": [
    {
     "name": "stdout",
     "output_type": "stream",
     "text": [
      "(2L,)\n"
     ]
    }
   ],
   "source": []
  },
  {
   "cell_type": "code",
   "execution_count": null,
   "metadata": {
    "collapsed": true
   },
   "outputs": [],
   "source": []
  }
 ],
 "metadata": {
  "kernelspec": {
   "display_name": "Python 2",
   "language": "python",
   "name": "python2"
  },
  "language_info": {
   "codemirror_mode": {
    "name": "ipython",
    "version": 2
   },
   "file_extension": ".py",
   "mimetype": "text/x-python",
   "name": "python",
   "nbconvert_exporter": "python",
   "pygments_lexer": "ipython2",
   "version": "2.7.10"
  }
 },
 "nbformat": 4,
 "nbformat_minor": 0
}
