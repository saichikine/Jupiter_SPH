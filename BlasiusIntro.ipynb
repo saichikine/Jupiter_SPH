{
 "cells": [
  {
   "cell_type": "markdown",
   "metadata": {},
   "source": [
    "# Blasius Flow\n",
    "\n",
    "* Soltuion to PDE: $\\psi_{YYY} + \\psi_X \\psi_{YY} -\\psi_Y \\psi_{XY} = 0$, where X goes from (-inf, inf) and Y goes from (0, inf).\n",
    "* $\\psi(X,Y)$ is the streamfunction\n",
    "* After simplifications, solution to $2f_{xxx} + ff_{xx} = 0$ on the interval where x goes from 0 to infinity.\n",
    "* $f(0) = f_x(0) = 0$ , $f_x(\\inf) = 1$\n",
    "\n",
    "Continuing on through the Intro Paper:"
   ]
  },
  {
   "cell_type": "markdown",
   "metadata": {},
   "source": [
    "### Symmetry Reductions\n",
    "Define\n",
    "\n",
    "\\begin{equation}\n",
    "x = \\frac{Y}{\\sqrt{X}}\n",
    "\\end{equation}"
   ]
  },
  {
   "cell_type": "code",
   "execution_count": null,
   "metadata": {
    "collapsed": true
   },
   "outputs": [],
   "source": []
  }
 ],
 "metadata": {
  "kernelspec": {
   "display_name": "Python 2",
   "language": "python",
   "name": "python2"
  },
  "language_info": {
   "codemirror_mode": {
    "name": "ipython",
    "version": 2
   },
   "file_extension": ".py",
   "mimetype": "text/x-python",
   "name": "python",
   "nbconvert_exporter": "python",
   "pygments_lexer": "ipython2",
   "version": "2.7.10"
  }
 },
 "nbformat": 4,
 "nbformat_minor": 0
}
