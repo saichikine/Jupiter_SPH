{
 "cells": [
  {
   "cell_type": "code",
   "execution_count": 1,
   "metadata": {
    "collapsed": false
   },
   "outputs": [],
   "source": [
    "from __future__ import division\n",
    "\n",
    "import numpy as np\n",
    "import matplotlib.pyplot as plt\n",
    "from mpl_toolkits.mplot3d import Axes3D\n",
    "\n",
    "import matplotlib.animation as animation"
   ]
  },
  {
   "cell_type": "code",
   "execution_count": 9,
   "metadata": {
    "collapsed": false
   },
   "outputs": [
    {
     "ename": "IndexError",
     "evalue": "too many indices for array",
     "output_type": "error",
     "traceback": [
      "\u001b[1;31m---------------------------------------------------------------------------\u001b[0m",
      "\u001b[1;31mIndexError\u001b[0m                                Traceback (most recent call last)",
      "\u001b[1;32m<ipython-input-9-436f6d3fc134>\u001b[0m in \u001b[0;36m<module>\u001b[1;34m()\u001b[0m\n\u001b[0;32m     33\u001b[0m     \u001b[0mx\u001b[0m \u001b[1;33m=\u001b[0m \u001b[0mParticlePositionHistory\u001b[0m\u001b[1;33m[\u001b[0m\u001b[0mi\u001b[0m\u001b[1;33m,\u001b[0m\u001b[1;33m:\u001b[0m\u001b[1;33m,\u001b[0m\u001b[1;36m0\u001b[0m\u001b[1;33m]\u001b[0m\u001b[1;33m\u001b[0m\u001b[0m\n\u001b[0;32m     34\u001b[0m     \u001b[0my\u001b[0m \u001b[1;33m=\u001b[0m \u001b[0mParticlePositionHistory\u001b[0m\u001b[1;33m[\u001b[0m\u001b[0mi\u001b[0m\u001b[1;33m,\u001b[0m\u001b[1;33m:\u001b[0m\u001b[1;33m,\u001b[0m\u001b[1;36m1\u001b[0m\u001b[1;33m]\u001b[0m\u001b[1;33m\u001b[0m\u001b[0m\n\u001b[1;32m---> 35\u001b[1;33m     \u001b[0mc\u001b[0m \u001b[1;33m=\u001b[0m \u001b[0mParticleRhoHistory\u001b[0m\u001b[1;33m[\u001b[0m\u001b[0mi\u001b[0m\u001b[1;33m,\u001b[0m\u001b[1;33m:\u001b[0m\u001b[1;33m]\u001b[0m\u001b[1;33m\u001b[0m\u001b[0m\n\u001b[0m\u001b[0;32m     36\u001b[0m     \u001b[0mscat\u001b[0m \u001b[1;33m=\u001b[0m \u001b[0mplt\u001b[0m\u001b[1;33m.\u001b[0m\u001b[0mscatter\u001b[0m\u001b[1;33m(\u001b[0m\u001b[0mx\u001b[0m\u001b[1;33m,\u001b[0m \u001b[0my\u001b[0m\u001b[1;33m,\u001b[0m \u001b[0mc\u001b[0m\u001b[1;33m=\u001b[0m\u001b[0mc\u001b[0m\u001b[1;33m)\u001b[0m\u001b[1;33m\u001b[0m\u001b[0m\n\u001b[0;32m     37\u001b[0m     \u001b[0mscats\u001b[0m\u001b[1;33m.\u001b[0m\u001b[0mappend\u001b[0m\u001b[1;33m(\u001b[0m\u001b[1;33m[\u001b[0m\u001b[0mscat\u001b[0m\u001b[1;33m]\u001b[0m\u001b[1;33m)\u001b[0m\u001b[1;33m\u001b[0m\u001b[0m\n",
      "\u001b[1;31mIndexError\u001b[0m: too many indices for array"
     ]
    }
   ],
   "source": [
    "ParticlePositionHistory = np.load('3d_equilibrium_position.npy')\n",
    "ParticleRhoHistory = np.load('3d_equilibrium_density.npy')\n",
    "\n",
    "# stepN = 700\n",
    "\n",
    "# time1 = 1\n",
    "# x1 = ParticlePositionHistory[time1-1,:,0]\n",
    "# y1 = ParticlePositionHistory[time1-1,:,1]\n",
    "# z1 = ParticlePositionHistory[time1-1,:,2]\n",
    "# figf = plt.figure(figsize=(10,10))\n",
    "# axf = figf.add_subplot(111, projection='3d')\n",
    "# axf.scatter(x1, y1, z1)\n",
    "# plt.xlim(-2e10,2e10)\n",
    "# plt.ylim(-2e10,2e10)\n",
    "# axf.set_zlim(-2e10,2e10)\n",
    "# axf.azim=30\n",
    "\n",
    "\n",
    "\n",
    "# plt.show()\n",
    "\n",
    "\n",
    "####\n",
    "\n",
    "# Plot the evolution of 2d equilibrium\n",
    "\n",
    "fig = plt.figure(figsize=(10,10))\n",
    "axf = fig.add_subplot(111, projection='3d')\n",
    "\n",
    "scats = []\n",
    "\n",
    "for i in range(len(ParticlePositionHistory)):\n",
    "    x = ParticlePositionHistory[i,:,0]\n",
    "    y = ParticlePositionHistory[i,:,1]\n",
    "    c = ParticleRhoHistory[i,:]\n",
    "    scat = plt.scatter(x, y, c=c)\n",
    "    scats.append([scat])\n",
    "\n",
    "ani = animation.ArtistAnimation(fig, scats, interval=5)\n",
    "\n",
    "plt.show()"
   ]
  },
  {
   "cell_type": "code",
   "execution_count": null,
   "metadata": {
    "collapsed": true
   },
   "outputs": [],
   "source": []
  },
  {
   "cell_type": "code",
   "execution_count": null,
   "metadata": {
    "collapsed": true
   },
   "outputs": [],
   "source": []
  },
  {
   "cell_type": "code",
   "execution_count": null,
   "metadata": {
    "collapsed": true
   },
   "outputs": [],
   "source": []
  },
  {
   "cell_type": "code",
   "execution_count": 3,
   "metadata": {
    "collapsed": false
   },
   "outputs": [],
   "source": [
    "# Plot the evolution of 2d equilibrium\n",
    "\n",
    "def plot_2d_eqb():\n",
    "    ParticlePositionHistory = np.load('2d_equilibrium_position2.npy')\n",
    "    ParticleRhoHistory = np.load('2d_equilibrium_density2.npy')\n",
    "\n",
    "    fig = plt.figure(figsize=(10,10))\n",
    "\n",
    "    scats = []\n",
    "\n",
    "    for i in range(len(ParticlePositionHistory)):\n",
    "        x = ParticlePositionHistory[i,:,0]\n",
    "        y = ParticlePositionHistory[i,:,1]\n",
    "        c = ParticleRhoHistory[i,:]\n",
    "        scat = plt.scatter(x, y, c=c)\n",
    "        scats.append([scat])\n",
    "\n",
    "    ani = animation.ArtistAnimation(fig, scats, interval=5)\n",
    "\n",
    "    plt.show()"
   ]
  },
  {
   "cell_type": "code",
   "execution_count": null,
   "metadata": {
    "collapsed": true
   },
   "outputs": [],
   "source": [
    "# def update_plot(time, fig, scat):\n",
    "#     x = ParticlePositionHistory[time-1,:,0]\n",
    "#     y = ParticlePositionHistory[time-1,:,1]\n",
    "# #    fig = plt.figure(figsize=(10,10))\n",
    "#     plt.scatter(x, y, c=ParticleRhoHistory[time-1,:,:])\n",
    "#     plt.xlim(-5e10, 5e10)\n",
    "#     plt.ylim(-5e10, 5e10)\n",
    "#     return scat,"
   ]
  },
  {
   "cell_type": "code",
   "execution_count": null,
   "metadata": {
    "collapsed": true
   },
   "outputs": [],
   "source": [
    "# fig = plt.figure(figsize=(10,10))"
   ]
  },
  {
   "cell_type": "code",
   "execution_count": null,
   "metadata": {
    "collapsed": false
   },
   "outputs": [],
   "source": [
    "# scat = plt.scatter(ParticlePositionHistory[0,:,0], ParticlePositionHistory[0,:,1],\\\n",
    "#                   c=ParticleRhoHistory[0,:])\n",
    "\n",
    "# anim = animation.FuncAnimation(fig, update_plot, fargs=(fig,scat), \\\n",
    "#                               frames=400, interval=1, blit=False)\n",
    "# plt.show()"
   ]
  },
  {
   "cell_type": "code",
   "execution_count": null,
   "metadata": {
    "collapsed": false
   },
   "outputs": [],
   "source": [
    "# def main():\n",
    "#     numframes = 100\n",
    "    \n",
    "#     x = ParticlePositionHistory[0,:,0]\n",
    "#     y = ParticlePositionHistory[0,:,1]\n",
    "#     c = ParticleRhoHistory[0,:]\n",
    "    \n",
    "#     fig = plt.figure(figsize=(10,10))\n",
    "#     scat = plt.scatter(x,y,c=c, s=100)\n",
    "    \n",
    "#     ani = animation.FuncAnimation(fig, update_plot, frames=xrange(numframes),\n",
    "#                                   fargs=scat)\n",
    "#     plt.show()\n",
    "    \n",
    "# def update_plot(i, scat):\n",
    "#     scat.set_array(data[i])\n",
    "#     return scat,\n",
    "\n",
    "# main()"
   ]
  },
  {
   "cell_type": "code",
   "execution_count": null,
   "metadata": {
    "collapsed": true
   },
   "outputs": [],
   "source": []
  }
 ],
 "metadata": {
  "kernelspec": {
   "display_name": "Python 2",
   "language": "python",
   "name": "python2"
  },
  "language_info": {
   "codemirror_mode": {
    "name": "ipython",
    "version": 2
   },
   "file_extension": ".py",
   "mimetype": "text/x-python",
   "name": "python",
   "nbconvert_exporter": "python",
   "pygments_lexer": "ipython2",
   "version": "2.7.10"
  }
 },
 "nbformat": 4,
 "nbformat_minor": 0
}
