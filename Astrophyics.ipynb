{
 "cells": [
  {
   "cell_type": "markdown",
   "metadata": {},
   "source": [
    "# Sai Chikine & Alex Rybchuk\n",
    "\n",
    "# Project Prompt\n",
    " \n",
    "Steps to get started:\n",
    "\n",
    "identify whether a single person project or two person project (identify members and roles for 2 person projects).\n",
    "identity project topic; the scope has to be equivalent to the triple pendulum project Prof. Wolf showed in class or Simulated Wave Machine (http://engfac.cooper.edu/wolf/58) for a single person project. Two person projects should be double the size in scope.\n",
    "determine contributions related to Ph 235  topics – each member’s contribution should be clearly specified for teams.\n",
    "determine deliverables: code, maintain a project website, demo, evaluations, documentation.\n",
    "Initial version of your proposal requires Sections 1 and 2 below (although you may include other sections as well) and should be a hard copy handed to me in class on October 23, 2015(1 submission per project)\n",
    "\n",
    "The final version of the 2-3 page  proposal to be uploaded to moodle by November 2, 2015 (1 submission per student) should include the following sections:\n",
    "\n",
    "1.     Describe your project, project members, roles and  each member’s contribution should be clearly specified for teams.\n",
    "\n",
    "2.     Enumerate the Ph 235 related topics (questions and solution approaches) each individual will contribute to the project.\n",
    "\n",
    "3.     Describe what you plan to demo on the final exam date and other deliverables (project webpage is required).\n",
    "\n",
    "4.     Describe your plan to evaluate the project.\n",
    "\n",
    "5.     Identify expected low hanging fruit, challenges and contingency plans where possible.  \n",
    "\n",
    "6.     Provide a schedule/timeline for your progress for November and December including following mandatory key dates:\n",
    "\n",
    "a.      everyone should plan to present their project proposal to the class on November 6  (5 minutes per project).\n",
    "\n",
    "b.     upload  a one page update via moodle on November 23, 2015.\n",
    "\n",
    "c.      voluntary in-class updates on December 4, 2015.\n",
    "\n",
    "d.   upload Final project deliverables by 11:30pm December 18, 2015\n",
    "\n",
    "e.       Final presentations will be scheduled for December 11, 2015 and December 18, 2015 (the university assigned final exam date will be used as a overflow date)."
   ]
  },
  {
   "cell_type": "markdown",
   "metadata": {},
   "source": [
    "# Project Proposal\n",
    "\n",
    "Sai Chikine and I would like to tackle the problem of modeling a supernova for our Ph235 Final Project. Both the inspiration and the approach for addressing the problem come from the textbook <u>Numerical Methods in Astrophysics: An Introduction</u>, which can be found in Chapter 6 [here](http://iate.oac.uncor.edu/~manuel/astrofisica_numerica/Numerical%20Methods%20in%20Astrophysics.pdf). \n",
    "\n",
    "### Part 1\n",
    "The project comes from Chpater 6 of the aforementioned textbook. The textbook describes that modeling the supernova can be neatly split into three subsections. In the first part, the evolution of a star is modeled, begining  at the main sequence, and ending when a large iron core of radius $3.9 x 10^{12}cm$ appears. In the second phase, the iron core collapses to form a neutron star. The third phase follows the shock wave beyond the radius of the initial star. For our final project, we plan to model the first two stages of this process, each tackling one subsection. \n",
    "\n",
    "Before Chapter 6, the textbook covers different topics like Smoother paricle Hydrodynamics and Stellar Evolution which are necessary for this project. We would also split up the reading as needed.\n",
    "\n",
    "\n",
    "### Part 2\n",
    "#### Stellar Evolution\n",
    "In order to model the life of an average star, the authors of the textbook assume hydrostatic equilibrium and spherical symmetry. Three equilibrium equations are used: hydrostatic equilibrium, mass conservation, and energy conservation. These equations are first order differential. A fourth order differential equation describing energy transport is also used.\n",
    "\n",
    "#### Neutron Star\n",
    "In order to model the collapse to a neutron star, grid-based methods will be used. These methods are described in the early part of Chapter 6.\n",
    "\n"
   ]
  },
  {
   "cell_type": "code",
   "execution_count": null,
   "metadata": {
    "collapsed": true
   },
   "outputs": [],
   "source": []
  }
 ],
 "metadata": {
  "kernelspec": {
   "display_name": "Python 2",
   "language": "python",
   "name": "python2"
  },
  "language_info": {
   "codemirror_mode": {
    "name": "ipython",
    "version": 2
   },
   "file_extension": ".py",
   "mimetype": "text/x-python",
   "name": "python",
   "nbconvert_exporter": "python",
   "pygments_lexer": "ipython2",
   "version": "2.7.10"
  }
 },
 "nbformat": 4,
 "nbformat_minor": 0
}
